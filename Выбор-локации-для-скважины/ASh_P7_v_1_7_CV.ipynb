{
 "cells": [
  {
   "cell_type": "markdown",
   "metadata": {},
   "source": [
    "# Выбор локации для скважины"
   ]
  },
  {
   "cell_type": "markdown",
   "metadata": {},
   "source": [
    "Нужно решить, где бурить новую скважину.\n",
    "\n",
    "Имеются пробы нефти в трёх регионах: в каждом 10 000 месторождений, где измерили качество нефти и объём её запасов. Нужно построить модель машинного обучения, которая поможет определить регион, где добыча принесёт наибольшую прибыль. Также нужно проанализировать возможную прибыль и риски техникой *Bootstrap.*"
   ]
  },
  {
   "cell_type": "markdown",
   "metadata": {},
   "source": [
    "## Загрузка и подготовка данных"
   ]
  },
  {
   "cell_type": "code",
   "execution_count": 1,
   "metadata": {},
   "outputs": [],
   "source": [
    "import pandas as pd\n",
    "from sklearn.model_selection import train_test_split\n",
    "from sklearn.model_selection import GridSearchCV\n",
    "from sklearn.linear_model import LinearRegression\n",
    "from sklearn.metrics import make_scorer, mean_absolute_error, mean_squared_error, r2_score\n",
    "import numpy as np\n",
    "from scipy import stats as st\n",
    "import matplotlib.pyplot as plt\n",
    "from sklearn.preprocessing import StandardScaler"
   ]
  },
  {
   "cell_type": "code",
   "execution_count": 2,
   "metadata": {},
   "outputs": [],
   "source": [
    "data_0 = pd.read_csv('datasets/geo_data_0.csv')\n",
    "data_1 = pd.read_csv('datasets/geo_data_1.csv')\n",
    "data_2 = pd.read_csv('datasets/geo_data_2.csv')"
   ]
  },
  {
   "cell_type": "markdown",
   "metadata": {},
   "source": [
    "## Описание данных"
   ]
  },
  {
   "cell_type": "markdown",
   "metadata": {},
   "source": [
    "f0, f1, f2 — три признака точек (неважно, что они означают, но сами признаки значимы);"
   ]
  },
  {
   "cell_type": "code",
   "execution_count": 3,
   "metadata": {},
   "outputs": [
    {
     "data": {
      "text/html": [
       "<div>\n",
       "<style scoped>\n",
       "    .dataframe tbody tr th:only-of-type {\n",
       "        vertical-align: middle;\n",
       "    }\n",
       "\n",
       "    .dataframe tbody tr th {\n",
       "        vertical-align: top;\n",
       "    }\n",
       "\n",
       "    .dataframe thead th {\n",
       "        text-align: right;\n",
       "    }\n",
       "</style>\n",
       "<table border=\"1\" class=\"dataframe\">\n",
       "  <thead>\n",
       "    <tr style=\"text-align: right;\">\n",
       "      <th></th>\n",
       "      <th>id</th>\n",
       "      <th>f0</th>\n",
       "      <th>f1</th>\n",
       "      <th>f2</th>\n",
       "      <th>product</th>\n",
       "    </tr>\n",
       "  </thead>\n",
       "  <tbody>\n",
       "    <tr>\n",
       "      <th>0</th>\n",
       "      <td>txEyH</td>\n",
       "      <td>0.705745</td>\n",
       "      <td>-0.497823</td>\n",
       "      <td>1.221170</td>\n",
       "      <td>105.280062</td>\n",
       "    </tr>\n",
       "    <tr>\n",
       "      <th>1</th>\n",
       "      <td>2acmU</td>\n",
       "      <td>1.334711</td>\n",
       "      <td>-0.340164</td>\n",
       "      <td>4.365080</td>\n",
       "      <td>73.037750</td>\n",
       "    </tr>\n",
       "    <tr>\n",
       "      <th>2</th>\n",
       "      <td>409Wp</td>\n",
       "      <td>1.022732</td>\n",
       "      <td>0.151990</td>\n",
       "      <td>1.419926</td>\n",
       "      <td>85.265647</td>\n",
       "    </tr>\n",
       "    <tr>\n",
       "      <th>3</th>\n",
       "      <td>iJLyR</td>\n",
       "      <td>-0.032172</td>\n",
       "      <td>0.139033</td>\n",
       "      <td>2.978566</td>\n",
       "      <td>168.620776</td>\n",
       "    </tr>\n",
       "    <tr>\n",
       "      <th>4</th>\n",
       "      <td>Xdl7t</td>\n",
       "      <td>1.988431</td>\n",
       "      <td>0.155413</td>\n",
       "      <td>4.751769</td>\n",
       "      <td>154.036647</td>\n",
       "    </tr>\n",
       "  </tbody>\n",
       "</table>\n",
       "</div>"
      ],
      "text/plain": [
       "      id        f0        f1        f2     product\n",
       "0  txEyH  0.705745 -0.497823  1.221170  105.280062\n",
       "1  2acmU  1.334711 -0.340164  4.365080   73.037750\n",
       "2  409Wp  1.022732  0.151990  1.419926   85.265647\n",
       "3  iJLyR -0.032172  0.139033  2.978566  168.620776\n",
       "4  Xdl7t  1.988431  0.155413  4.751769  154.036647"
      ]
     },
     "execution_count": 3,
     "metadata": {},
     "output_type": "execute_result"
    }
   ],
   "source": [
    "data_0.head()"
   ]
  },
  {
   "cell_type": "code",
   "execution_count": 4,
   "metadata": {},
   "outputs": [
    {
     "data": {
      "text/html": [
       "<div>\n",
       "<style scoped>\n",
       "    .dataframe tbody tr th:only-of-type {\n",
       "        vertical-align: middle;\n",
       "    }\n",
       "\n",
       "    .dataframe tbody tr th {\n",
       "        vertical-align: top;\n",
       "    }\n",
       "\n",
       "    .dataframe thead th {\n",
       "        text-align: right;\n",
       "    }\n",
       "</style>\n",
       "<table border=\"1\" class=\"dataframe\">\n",
       "  <thead>\n",
       "    <tr style=\"text-align: right;\">\n",
       "      <th></th>\n",
       "      <th>id</th>\n",
       "      <th>f0</th>\n",
       "      <th>f1</th>\n",
       "      <th>f2</th>\n",
       "      <th>product</th>\n",
       "    </tr>\n",
       "  </thead>\n",
       "  <tbody>\n",
       "    <tr>\n",
       "      <th>0</th>\n",
       "      <td>kBEdx</td>\n",
       "      <td>-15.001348</td>\n",
       "      <td>-8.276000</td>\n",
       "      <td>-0.005876</td>\n",
       "      <td>3.179103</td>\n",
       "    </tr>\n",
       "    <tr>\n",
       "      <th>1</th>\n",
       "      <td>62mP7</td>\n",
       "      <td>14.272088</td>\n",
       "      <td>-3.475083</td>\n",
       "      <td>0.999183</td>\n",
       "      <td>26.953261</td>\n",
       "    </tr>\n",
       "    <tr>\n",
       "      <th>2</th>\n",
       "      <td>vyE1P</td>\n",
       "      <td>6.263187</td>\n",
       "      <td>-5.948386</td>\n",
       "      <td>5.001160</td>\n",
       "      <td>134.766305</td>\n",
       "    </tr>\n",
       "    <tr>\n",
       "      <th>3</th>\n",
       "      <td>KcrkZ</td>\n",
       "      <td>-13.081196</td>\n",
       "      <td>-11.506057</td>\n",
       "      <td>4.999415</td>\n",
       "      <td>137.945408</td>\n",
       "    </tr>\n",
       "    <tr>\n",
       "      <th>4</th>\n",
       "      <td>AHL4O</td>\n",
       "      <td>12.702195</td>\n",
       "      <td>-8.147433</td>\n",
       "      <td>5.004363</td>\n",
       "      <td>134.766305</td>\n",
       "    </tr>\n",
       "  </tbody>\n",
       "</table>\n",
       "</div>"
      ],
      "text/plain": [
       "      id         f0         f1        f2     product\n",
       "0  kBEdx -15.001348  -8.276000 -0.005876    3.179103\n",
       "1  62mP7  14.272088  -3.475083  0.999183   26.953261\n",
       "2  vyE1P   6.263187  -5.948386  5.001160  134.766305\n",
       "3  KcrkZ -13.081196 -11.506057  4.999415  137.945408\n",
       "4  AHL4O  12.702195  -8.147433  5.004363  134.766305"
      ]
     },
     "execution_count": 4,
     "metadata": {},
     "output_type": "execute_result"
    }
   ],
   "source": [
    "data_1.head()"
   ]
  },
  {
   "cell_type": "code",
   "execution_count": 5,
   "metadata": {
    "scrolled": true
   },
   "outputs": [
    {
     "data": {
      "text/html": [
       "<div>\n",
       "<style scoped>\n",
       "    .dataframe tbody tr th:only-of-type {\n",
       "        vertical-align: middle;\n",
       "    }\n",
       "\n",
       "    .dataframe tbody tr th {\n",
       "        vertical-align: top;\n",
       "    }\n",
       "\n",
       "    .dataframe thead th {\n",
       "        text-align: right;\n",
       "    }\n",
       "</style>\n",
       "<table border=\"1\" class=\"dataframe\">\n",
       "  <thead>\n",
       "    <tr style=\"text-align: right;\">\n",
       "      <th></th>\n",
       "      <th>id</th>\n",
       "      <th>f0</th>\n",
       "      <th>f1</th>\n",
       "      <th>f2</th>\n",
       "      <th>product</th>\n",
       "    </tr>\n",
       "  </thead>\n",
       "  <tbody>\n",
       "    <tr>\n",
       "      <th>0</th>\n",
       "      <td>fwXo0</td>\n",
       "      <td>-1.146987</td>\n",
       "      <td>0.963328</td>\n",
       "      <td>-0.828965</td>\n",
       "      <td>27.758673</td>\n",
       "    </tr>\n",
       "    <tr>\n",
       "      <th>1</th>\n",
       "      <td>WJtFt</td>\n",
       "      <td>0.262778</td>\n",
       "      <td>0.269839</td>\n",
       "      <td>-2.530187</td>\n",
       "      <td>56.069697</td>\n",
       "    </tr>\n",
       "    <tr>\n",
       "      <th>2</th>\n",
       "      <td>ovLUW</td>\n",
       "      <td>0.194587</td>\n",
       "      <td>0.289035</td>\n",
       "      <td>-5.586433</td>\n",
       "      <td>62.871910</td>\n",
       "    </tr>\n",
       "    <tr>\n",
       "      <th>3</th>\n",
       "      <td>q6cA6</td>\n",
       "      <td>2.236060</td>\n",
       "      <td>-0.553760</td>\n",
       "      <td>0.930038</td>\n",
       "      <td>114.572842</td>\n",
       "    </tr>\n",
       "    <tr>\n",
       "      <th>4</th>\n",
       "      <td>WPMUX</td>\n",
       "      <td>-0.515993</td>\n",
       "      <td>1.716266</td>\n",
       "      <td>5.899011</td>\n",
       "      <td>149.600746</td>\n",
       "    </tr>\n",
       "  </tbody>\n",
       "</table>\n",
       "</div>"
      ],
      "text/plain": [
       "      id        f0        f1        f2     product\n",
       "0  fwXo0 -1.146987  0.963328 -0.828965   27.758673\n",
       "1  WJtFt  0.262778  0.269839 -2.530187   56.069697\n",
       "2  ovLUW  0.194587  0.289035 -5.586433   62.871910\n",
       "3  q6cA6  2.236060 -0.553760  0.930038  114.572842\n",
       "4  WPMUX -0.515993  1.716266  5.899011  149.600746"
      ]
     },
     "execution_count": 5,
     "metadata": {},
     "output_type": "execute_result"
    }
   ],
   "source": [
    "data_2.head()"
   ]
  },
  {
   "cell_type": "markdown",
   "metadata": {},
   "source": [
    "Для начала любопытно посмотреть на целевой признак в регионах \"глазами\"."
   ]
  },
  {
   "cell_type": "code",
   "execution_count": 6,
   "metadata": {},
   "outputs": [],
   "source": [
    "# Функция для вычисления перцентиля\n",
    "def get_percentile(df, column_name, percentile_rank):\n",
    "    \n",
    "    # Удалим NaN в столбце, отсортируем df, сбросим индексы\n",
    "    try:\n",
    "        # Если на входе - dataframe\n",
    "        df = df.dropna(subset=[column_name]).sort_values(by=column_name).reset_index()\n",
    "    except:\n",
    "        # Если на входе - series\n",
    "        df = df.dropna().sort_values().reset_index()\n",
    "    # Найдём индекс перцентиля\n",
    "    index = (len(df.index)-1) * percentile_rank / 100.0\n",
    "    index = int(index)\n",
    "    value = df.at[index, column_name]\n",
    "    # Вернём элемент с этим индексом\n",
    "    return value"
   ]
  },
  {
   "cell_type": "code",
   "execution_count": 7,
   "metadata": {},
   "outputs": [],
   "source": [
    "# Функция для вычисления интерквартильного размаха.\n",
    "def interquartile_range(df, column_name):\n",
    "    \n",
    "    p75 = get_percentile(df, column_name, 75)  # 75-й перцентиль\n",
    "    p25 = get_percentile(df, column_name, 25)  # 25-й перцентиль\n",
    "    iqr = p75 - p25  # интерквартильный размах\n",
    "    return iqr"
   ]
  },
  {
   "cell_type": "code",
   "execution_count": 8,
   "metadata": {},
   "outputs": [],
   "source": [
    "# Функция для вычисления левого уса.\n",
    "def left_mustache(df, column_name):\n",
    "    p25 = get_percentile(df, column_name, 25)\n",
    "    iqr = interquartile_range(df, column_name)\n",
    "    p0 = get_percentile(df, column_name, 0)\n",
    "    if p25 - iqr*1.5 < p0:\n",
    "        return (p0)\n",
    "    return(p25 - iqr*1.5)"
   ]
  },
  {
   "cell_type": "code",
   "execution_count": 9,
   "metadata": {},
   "outputs": [],
   "source": [
    "# Функция для вычисления правого уса\n",
    "def right_mustache(df, column_name):\n",
    "    p75 = get_percentile(df, column_name, 75)\n",
    "    iqr = interquartile_range(df, column_name)\n",
    "    p100 = get_percentile(df, column_name, 100)\n",
    "    if p75 + iqr*1.5 > p100:\n",
    "        return (p100)\n",
    "    return(p75 + iqr*1.5)"
   ]
  },
  {
   "cell_type": "code",
   "execution_count": 10,
   "metadata": {},
   "outputs": [],
   "source": [
    "# Функция для построения гистограммы по значениям, входящим в ящик с усами.\n",
    "def box_mustache_hist(df, column_name, bins, title=False):\n",
    "    \n",
    "    # Отсортируем df, сбросим индексы\n",
    "    df = df.sort_values(by=column_name).reset_index()\n",
    "    split = df.loc[(df.loc[:, column_name] >= left_mustache(df, column_name))\\\n",
    "                  &(df.loc[:, column_name] <= right_mustache(df, column_name))][column_name]\n",
    "    plt.figure(figsize=(9,5))\n",
    "    plt.hist(split, bins=bins)\n",
    "    if title == False:\n",
    "        plt.title(column_name)\n",
    "    else:\n",
    "        plt.title(title)\n",
    "    # Вертикальные линии для каждого перцентиля\n",
    "    plt.axvline(get_percentile(df, column_name, 25), linestyle='--', color='red')\n",
    "    plt.axvline(get_percentile(df, column_name, 50), linestyle='-',  color='red')\n",
    "    plt.axvline(get_percentile(df, column_name, 75), linestyle='--', color='red')\n",
    "    plt.show()\n",
    "    print('Среднее значение: ', round(df[column_name].mean(),2))\n",
    "    print('Стандартное отклонение: ', round(df[column_name].std(),2))\n",
    "    print('Медиана: ', get_percentile(df, column_name, 50))"
   ]
  },
  {
   "cell_type": "code",
   "execution_count": 11,
   "metadata": {},
   "outputs": [
    {
     "data": {
      "image/png": "[encoded data removed]",
      "text/plain": [
       "<Figure size 648x360 with 1 Axes>"
      ]
     },
     "metadata": {
      "needs_background": "light"
     },
     "output_type": "display_data"
    },
    {
     "name": "stdout",
     "output_type": "stream",
     "text": [
      "Среднее значение:  92.5\n",
      "Стандартное отклонение:  44.29\n",
      "Медиана:  91.84963194547692\n"
     ]
    }
   ],
   "source": [
    "box_mustache_hist(data_0, 'product', 100, \"data_0['product']\")"
   ]
  },
  {
   "cell_type": "code",
   "execution_count": 12,
   "metadata": {},
   "outputs": [
    {
     "data": {
      "image/png": "[encoded data removed]",
      "text/plain": [
       "<Figure size 648x360 with 1 Axes>"
      ]
     },
     "metadata": {
      "needs_background": "light"
     },
     "output_type": "display_data"
    },
    {
     "name": "stdout",
     "output_type": "stream",
     "text": [
      "Среднее значение:  68.82\n",
      "Стандартное отклонение:  45.94\n",
      "Медиана:  57.08562464628662\n"
     ]
    }
   ],
   "source": [
    "box_mustache_hist(data_1, 'product', 20, \"data_1['product']\")"
   ]
  },
  {
   "cell_type": "code",
   "execution_count": 13,
   "metadata": {},
   "outputs": [
    {
     "data": {
      "image/png": "[encoded data removed]",
      "text/plain": [
       "<Figure size 648x360 with 1 Axes>"
      ]
     },
     "metadata": {
      "needs_background": "light"
     },
     "output_type": "display_data"
    },
    {
     "name": "stdout",
     "output_type": "stream",
     "text": [
      "Среднее значение:  95.0\n",
      "Стандартное отклонение:  44.75\n",
      "Медиана:  94.92547018881879\n"
     ]
    }
   ],
   "source": [
    "box_mustache_hist(data_2, 'product', 100, \"data_2['product']\")"
   ]
  },
  {
   "cell_type": "markdown",
   "metadata": {},
   "source": [
    "Данные в регионе 1 подозрительно отличаются. Бросается в глаза большое количество абсолютно одинаковых значений целевого признака."
   ]
  },
  {
   "cell_type": "markdown",
   "metadata": {},
   "source": [
    "## Обучение и проверка модели"
   ]
  },
  {
   "cell_type": "markdown",
   "metadata": {},
   "source": [
    "Сохраним имена признаков в переменной."
   ]
  },
  {
   "cell_type": "code",
   "execution_count": 14,
   "metadata": {},
   "outputs": [],
   "source": [
    "features_list = ['f0','f1','f2']"
   ]
  },
  {
   "cell_type": "code",
   "execution_count": 15,
   "metadata": {},
   "outputs": [],
   "source": [
    "# Функция возвращает features и target для датафрейма\n",
    "def xy_prepare(df, features_list, target_name):\n",
    "    features = df[features_list]\n",
    "    target = df[target_name]\n",
    "    return features, target"
   ]
  },
  {
   "cell_type": "markdown",
   "metadata": {},
   "source": [
    "Создадим сетку гиперпараметров для линейной регрессии."
   ]
  },
  {
   "cell_type": "code",
   "execution_count": 16,
   "metadata": {},
   "outputs": [
    {
     "data": {
      "text/plain": [
       "{'fit_intercept': [False, True],\n",
       " 'normalize': [False, True],\n",
       " 'n_jobs': [-1, None]}"
      ]
     },
     "execution_count": 16,
     "metadata": {},
     "output_type": "execute_result"
    }
   ],
   "source": [
    "param_grid = {'fit_intercept': [False, True],\n",
    "              'normalize': [False, True],\n",
    "             'n_jobs': [-1, None]}  \n",
    "param_grid"
   ]
  },
  {
   "cell_type": "markdown",
   "metadata": {},
   "source": [
    "Используем мтод GridSearchCV для выбора лучшей модели.\n",
    "\n",
    "Преимущества этого метода:\n",
    "\n",
    "- использование кросс-валидации,\n",
    "- подбор гиперпараметров,\n",
    "- выбор лучшей модели по заданной метрике."
   ]
  },
  {
   "cell_type": "code",
   "execution_count": 17,
   "metadata": {},
   "outputs": [],
   "source": [
    "# Функция возвращает предсказания лучшей модели и target_valid\n",
    "def best_LR_model(df, features_list, target_name, param_grid, cv, refit):\n",
    "    features, target = xy_prepare(df, features_list, target_name)\n",
    "    features_train, features_valid, target_train, target_valid = \\\n",
    "        train_test_split(features, target, test_size=0.25, random_state=12345)\n",
    "    \n",
    "    pd.options.mode.chained_assignment = None\n",
    "    scaler = StandardScaler()\n",
    "    scaler.fit(features_train[features_list])\n",
    "    features_train.loc[:,features_list] = scaler.transform(features_train.loc[:,features_list])\n",
    "    features_valid.loc[:,features_list] = scaler.transform(features_valid.loc[:,features_list])\n",
    "       \n",
    "    scoring = {'RMSE': make_scorer(mean_squared_error), \n",
    "               'MAE': make_scorer(mean_absolute_error),\n",
    "               'R2': make_scorer(r2_score)}\n",
    "    model = LinearRegression()\n",
    "    grid = GridSearchCV(model, \n",
    "                        param_grid, \n",
    "                        cv=cv, \n",
    "                        #verbose = 3, \n",
    "                        refit=refit, \n",
    "                        scoring=scoring) \n",
    "    grid_result = grid.fit(features_train, target_train)\n",
    "    best_model = grid.best_estimator_\n",
    "    best_score = grid_result.best_score_\n",
    "    if refit == 'RMSE':\n",
    "        best_score = best_score**0.5\n",
    "    best_params = grid.best_params_\n",
    "    predictions_valid = pd.Series(best_model.predict(features_valid), index=features_valid.index)\n",
    "    RMSE = mean_squared_error(target_valid, predictions_valid)**0.5\n",
    "    print(refit,\"Best: %f using %s\" % (best_score, best_params))\n",
    "    print(\"\\t Mean Prediction: {:.3f}\".format(predictions_valid.mean()))\n",
    "    print(\"\\t RMSE: {:.3f}\".format(RMSE))\n",
    "    return(best_model, predictions_valid, target_valid)"
   ]
  },
  {
   "cell_type": "markdown",
   "metadata": {},
   "source": [
    "Сохраним в переменных лучшие модели по коэффиценту детерминизации для каждого региона:"
   ]
  },
  {
   "cell_type": "code",
   "execution_count": 18,
   "metadata": {},
   "outputs": [
    {
     "name": "stdout",
     "output_type": "stream",
     "text": [
      "R2 Best: 0.274087 using {'fit_intercept': True, 'n_jobs': -1, 'normalize': False}\n",
      "\t Mean Prediction: 92.593\n",
      "\t RMSE: 37.579\n"
     ]
    }
   ],
   "source": [
    "model_0, predicted_valid_0, target_valid_0 = best_LR_model(data_0, features_list, 'product', param_grid, 5, 'R2')"
   ]
  },
  {
   "cell_type": "code",
   "execution_count": 19,
   "metadata": {},
   "outputs": [
    {
     "name": "stdout",
     "output_type": "stream",
     "text": [
      "R2 Best: 0.999625 using {'fit_intercept': True, 'n_jobs': -1, 'normalize': False}\n",
      "\t Mean Prediction: 68.729\n",
      "\t RMSE: 0.893\n"
     ]
    }
   ],
   "source": [
    "model_1, predicted_valid_1, target_valid_1 = best_LR_model(data_1, features_list, 'product', param_grid, 5, 'R2')"
   ]
  },
  {
   "cell_type": "code",
   "execution_count": 20,
   "metadata": {},
   "outputs": [
    {
     "name": "stdout",
     "output_type": "stream",
     "text": [
      "R2 Best: 0.196482 using {'fit_intercept': True, 'n_jobs': -1, 'normalize': True}\n",
      "\t Mean Prediction: 94.965\n",
      "\t RMSE: 40.030\n"
     ]
    }
   ],
   "source": [
    "model_2, predicted_valid_2, target_valid_2 = best_LR_model(data_2, features_list, 'product', param_grid, 5, 'R2')"
   ]
  },
  {
   "cell_type": "markdown",
   "metadata": {},
   "source": [
    "Для датасета `data_1` значение средней квадратичной ошибки меньше всего. Но и предсказанное среднее меньше. Регион 0 лучше по метрике R2, а среднее почти такое же, как у региона 2."
   ]
  },
  {
   "cell_type": "markdown",
   "metadata": {},
   "source": [
    "## Подготовка к расчёту прибыли"
   ]
  },
  {
   "cell_type": "markdown",
   "metadata": {},
   "source": [
    "Условия задачи:\n",
    "\n",
    "- Для обучения модели подходит только линейная регрессия (остальные — недостаточно предсказуемые).\n",
    "- При разведке региона исследуют 500 точек, из которых с помощью машинного обучения выбирают 200 лучших для разработки.\n",
    "- Бюджет на разработку скважин в регионе — 10 млрд рублей.\n",
    "- При нынешних ценах один баррель сырья приносит 450 рублей дохода. Доход с каждой единицы продукта составляет 450 тыс. рублей, поскольку объём указан в тысячах баррелей.\n",
    "- После оценки рисков нужно оставить лишь те регионы, в которых вероятность убытков меньше 2.5%. Среди них выбирают регион с наибольшей средней прибылью.\n",
    "\n",
    "Данные синтетические: детали контрактов и характеристики месторождений не разглашаются."
   ]
  },
  {
   "cell_type": "markdown",
   "metadata": {},
   "source": [
    "**Рассчитаем достаточный объём сырья для безубыточной разработки новой скважины.**"
   ]
  },
  {
   "cell_type": "markdown",
   "metadata": {},
   "source": [
    "- Себестоимость разработки 200 скважин:"
   ]
  },
  {
   "cell_type": "code",
   "execution_count": 21,
   "metadata": {},
   "outputs": [],
   "source": [
    "COST_PRICE = 10**10"
   ]
  },
  {
   "cell_type": "markdown",
   "metadata": {},
   "source": [
    "- Стоимость одной тысячи баррелей:"
   ]
  },
  {
   "cell_type": "code",
   "execution_count": 22,
   "metadata": {},
   "outputs": [
    {
     "name": "stdout",
     "output_type": "stream",
     "text": [
      "450000 рублей\n"
     ]
    }
   ],
   "source": [
    "BARREL1000 = 450*1000\n",
    "print(BARREL1000, \"рублей\")"
   ]
  },
  {
   "cell_type": "markdown",
   "metadata": {},
   "source": [
    "- Стоимость разработки 1-й скважины:"
   ]
  },
  {
   "cell_type": "code",
   "execution_count": 23,
   "metadata": {},
   "outputs": [
    {
     "name": "stdout",
     "output_type": "stream",
     "text": [
      "50000000.0 рублей\n"
     ]
    }
   ],
   "source": [
    "HOLE_COST = COST_PRICE/200\n",
    "print(HOLE_COST, \"рублей\")"
   ]
  },
  {
   "cell_type": "markdown",
   "metadata": {},
   "source": [
    "- Объем сырья для безубыточной разработки одной скважины:"
   ]
  },
  {
   "cell_type": "code",
   "execution_count": 24,
   "metadata": {},
   "outputs": [
    {
     "name": "stdout",
     "output_type": "stream",
     "text": [
      "111.11111111111111 тысяч баррелей\n"
     ]
    }
   ],
   "source": [
    "HOLE_PRODUCT_MIN = HOLE_COST/450000\n",
    "print(HOLE_PRODUCT_MIN, \"тысяч баррелей\")"
   ]
  },
  {
   "cell_type": "markdown",
   "metadata": {},
   "source": [
    "- Суммарное количество сырья для безубыточной разработки:"
   ]
  },
  {
   "cell_type": "code",
   "execution_count": 25,
   "metadata": {},
   "outputs": [
    {
     "name": "stdout",
     "output_type": "stream",
     "text": [
      "22222.222222222223 тысяч баррелей\n"
     ]
    }
   ],
   "source": [
    "print(HOLE_PRODUCT_MIN*200, \"тысяч баррелей\")"
   ]
  },
  {
   "cell_type": "markdown",
   "metadata": {},
   "source": [
    "Для безубыточной разработки новой скважины требуется, чтобы на одну скважину приходилось 111.11 тысяч баррелей."
   ]
  },
  {
   "cell_type": "code",
   "execution_count": 26,
   "metadata": {},
   "outputs": [
    {
     "name": "stdout",
     "output_type": "stream",
     "text": [
      "Регион 0\n",
      "\t Средний запас в регионе: 92.500 тысяч баррелей\n",
      "Регион 1\n",
      "\t Средний запас в регионе: 68.825 тысяч баррелей\n",
      "Регион 2\n",
      "\t Средний запас в регионе: 95.000 тысяч баррелей\n"
     ]
    }
   ],
   "source": [
    "i = 0\n",
    "for product in [data_0['product'], data_1['product'], data_2['product']]:\n",
    "    print(\"Регион\", i)\n",
    "    product_mean = product.mean()\n",
    "    print(\"\\t Средний запас в регионе: {:.3f}\".format(product_mean), \"тысяч баррелей\")\n",
    "    i += 1"
   ]
  },
  {
   "cell_type": "markdown",
   "metadata": {},
   "source": [
    "Как видно из результатов, в каждом регионе средний запас сырья на скважину меньше, чем необходимо для безубыточной разработки новой скважины."
   ]
  },
  {
   "cell_type": "code",
   "execution_count": 27,
   "metadata": {},
   "outputs": [],
   "source": [
    "# Функция возвращает общую прибыль\n",
    "def revenue (predicted_valid, target_valid, cost_price):\n",
    "    \n",
    "    model_top200_predictions = predicted_valid.sort_values(ascending=False).head(200)\n",
    "    model_top200_target = target_valid[model_top200_predictions.index]\n",
    "    \n",
    "    proceeds = model_top200_target.sum()*BARREL1000\n",
    "    \n",
    "    revenue = proceeds - cost_price # Валовая прибыль\n",
    "    \n",
    "    return revenue"
   ]
  },
  {
   "cell_type": "code",
   "execution_count": 28,
   "metadata": {},
   "outputs": [],
   "source": [
    "model_dict = pd.DataFrame({1: [predicted_valid_0, target_valid_0],\n",
    "              2: [predicted_valid_1, target_valid_1],\n",
    "             3: [predicted_valid_2, target_valid_2]})"
   ]
  },
  {
   "cell_type": "markdown",
   "metadata": {},
   "source": [
    "На валидационной выборке модель показала следующие результаты:"
   ]
  },
  {
   "cell_type": "code",
   "execution_count": 29,
   "metadata": {},
   "outputs": [
    {
     "name": "stdout",
     "output_type": "stream",
     "text": [
      "Регион 0\n",
      "\tВаловая прибыль:  3320826043 рублей\n",
      "Регион 1\n",
      "\tВаловая прибыль:  2415086697 рублей\n",
      "Регион 2\n",
      "\tВаловая прибыль:  2710349964 рублей\n"
     ]
    }
   ],
   "source": [
    "i = 0\n",
    "model_top200_revenue = []\n",
    "for row in model_dict:\n",
    "    print(\"Регион\", i)\n",
    "    model_top200_revenue.append(revenue(model_dict[row][0], model_dict[row][1], COST_PRICE))\n",
    "    print(\"\\tВаловая прибыль:  {:.0f}\".format(revenue(model_dict[row][0], model_dict[row][1], COST_PRICE)), \"рублей\")\n",
    "    i += 1"
   ]
  },
  {
   "cell_type": "markdown",
   "metadata": {},
   "source": [
    "## Расчёт прибыли и рисков "
   ]
  },
  {
   "cell_type": "markdown",
   "metadata": {},
   "source": [
    "Посмотрим, как наши модели работают на всём объёме данных по каждому из регионов.\n",
    "Сохраним предсказания в переменных."
   ]
  },
  {
   "cell_type": "code",
   "execution_count": 30,
   "metadata": {
    "scrolled": true
   },
   "outputs": [],
   "source": [
    "data_0_features, data_0_target = xy_prepare(data_0, features_list, 'product')\n",
    "data_0_predictions = pd.Series(model_0.predict(data_0_features), index=data_0_features.index)\n",
    "\n",
    "data_1_features, data_1_target = xy_prepare(data_1, features_list, 'product')\n",
    "data_1_predictions = pd.Series(model_1.predict(data_1_features), index=data_1_features.index)\n",
    "\n",
    "data_2_features, data_2_target = xy_prepare(data_2, features_list, 'product')\n",
    "data_2_predictions = pd.Series(model_2.predict(data_2_features), index=data_2_features.index)"
   ]
  },
  {
   "cell_type": "code",
   "execution_count": 31,
   "metadata": {},
   "outputs": [],
   "source": [
    "# Функция возвращает средние значения прибылей, полученные bootstrap\n",
    "state = np.random.RandomState(12345)\n",
    "def bootstrap(target, predictions, n, volume, setpoint1, setpoint2):\n",
    "    values = []\n",
    "    loss = 0\n",
    "    for i in range(volume):\n",
    "    \n",
    "        target_subsample = target.sample(n, replace=True, random_state=state) \n",
    "        probs_subsample = predictions[target_subsample.index]\n",
    "        value = revenue(probs_subsample, target_subsample, COST_PRICE)\n",
    "        if value < 0:\n",
    "            loss +=1\n",
    "        values.append(value)\n",
    "        \n",
    "    values = pd.Series(values)\n",
    "\n",
    "    lower = values.quantile(setpoint1)\n",
    "    upper = values.quantile(setpoint2)\n",
    "    print('lower: {:.0f}'.format(lower))\n",
    "    print('mean: {:.0f}'.format(values.mean()))\n",
    "    print('upper: {:.0f}'.format(upper))\n",
    "    print('risk: {:.2%}'.format(loss/len(values)) )\n",
    "    return values"
   ]
  },
  {
   "cell_type": "code",
   "execution_count": 32,
   "metadata": {},
   "outputs": [],
   "source": [
    "import seaborn as sns\n",
    "# Функция строит распределение плотностей вероятности\n",
    "def probability_density(series, column_name, title, setpoint1, setpoint2):\n",
    "    plt.figure(figsize=(12,6))\n",
    "    plt.title(title)\n",
    "    sns.kdeplot(series, color='r', shade=True, label='ultra')\n",
    "    plt.xlabel(column_name) \n",
    "    plt.ylabel('probability density')\n",
    "    plt.axvline(series.quantile(setpoint1), linestyle='-', color='red')\n",
    "    plt.axvline(series.mean(), linestyle='--', color='green')\n",
    "    plt.axvline(series.quantile(setpoint2), linestyle='-', color='blue')\n",
    "    plt.show()"
   ]
  },
  {
   "cell_type": "code",
   "execution_count": 33,
   "metadata": {},
   "outputs": [
    {
     "name": "stdout",
     "output_type": "stream",
     "text": [
      "lower: -160494317\n",
      "mean: 386642504\n",
      "upper: 998678751\n",
      "risk: 8.20%\n"
     ]
    },
    {
     "data": {
      "image/png": "[encoded data removed]",
      "text/plain": [
       "<Figure size 864x432 with 1 Axes>"
      ]
     },
     "metadata": {
      "needs_background": "light"
     },
     "output_type": "display_data"
    }
   ],
   "source": [
    "revenue_0_bootstraped = bootstrap(data_0_target, data_0_predictions, 500, 1000, 0.025, 0.975)\n",
    "probability_density(revenue_0_bootstraped, 'Прибыль', 'Регион_0', 0.025, 0.975)"
   ]
  },
  {
   "cell_type": "code",
   "execution_count": 34,
   "metadata": {},
   "outputs": [
    {
     "name": "stdout",
     "output_type": "stream",
     "text": [
      "lower: 59532365\n",
      "mean: 487596655\n",
      "upper: 919413959\n",
      "risk: 0.80%\n"
     ]
    },
    {
     "data": {
      "image/png": "[encoded data removed]",
      "text/plain": [
       "<Figure size 864x432 with 1 Axes>"
      ]
     },
     "metadata": {
      "needs_background": "light"
     },
     "output_type": "display_data"
    }
   ],
   "source": [
    "revenue_1_bootstraped = bootstrap(data_1_target, data_1_predictions, 500, 1000, 0.025, 0.975)\n",
    "probability_density(revenue_1_bootstraped, 'Прибыль', 'Регион_1', 0.025, 0.975)"
   ]
  },
  {
   "cell_type": "code",
   "execution_count": 35,
   "metadata": {
    "scrolled": false
   },
   "outputs": [
    {
     "name": "stdout",
     "output_type": "stream",
     "text": [
      "lower: -106542114\n",
      "mean: 437313191\n",
      "upper: 981639924\n",
      "risk: 7.10%\n"
     ]
    },
    {
     "data": {
      "image/png": "[encoded data removed]",
      "text/plain": [
       "<Figure size 864x432 with 1 Axes>"
      ]
     },
     "metadata": {
      "needs_background": "light"
     },
     "output_type": "display_data"
    }
   ],
   "source": [
    "revenue_2_bootstraped = bootstrap(data_2_target, data_2_predictions, 500, 1000, 0.025, 0.975)\n",
    "probability_density(revenue_2_bootstraped, 'Прибыль', 'Регион_2', 0.025, 0.975)"
   ]
  },
  {
   "cell_type": "markdown",
   "metadata": {},
   "source": [
    "# Вывод\n",
    "\n",
    "- Для региона 1 вероятность более высокой прибыли выше, при меньшем риске получить убыток менее 2.5%.\n",
    "\n",
    "- Регионы 0 и 2 не подходят, т.к. в них риск убытка более 2.5%."
   ]
  },
  {
   "cell_type": "code",
   "execution_count": null,
   "metadata": {},
   "outputs": [],
   "source": []
  }
 ],
 "metadata": {
  "kernelspec": {
   "display_name": "Python 3",
   "language": "python",
   "name": "python3"
  },
  "language_info": {
   "codemirror_mode": {
    "name": "ipython",
    "version": 3
   },
   "file_extension": ".py",
   "mimetype": "text/x-python",
   "name": "python",
   "nbconvert_exporter": "python",
   "pygments_lexer": "ipython3",
   "version": "3.8.5"
  },
  "toc": {
   "base_numbering": 1,
   "nav_menu": {},
   "number_sections": true,
   "sideBar": true,
   "skip_h1_title": true,
   "title_cell": "Table of Contents",
   "title_sidebar": "Contents",
   "toc_cell": false,
   "toc_position": {},
   "toc_section_display": true,
   "toc_window_display": false
  }
 },
 "nbformat": 4,
 "nbformat_minor": 2
}
