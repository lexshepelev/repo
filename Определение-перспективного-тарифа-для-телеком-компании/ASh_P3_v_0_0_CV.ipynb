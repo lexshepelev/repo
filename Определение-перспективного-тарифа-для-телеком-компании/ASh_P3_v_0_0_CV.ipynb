{
 "cells": [
  {
   "cell_type": "markdown",
   "metadata": {},
   "source": [
    "# Определение перспективного тарифа для телеком компании"
   ]
  },
  {
   "cell_type": "markdown",
   "metadata": {},
   "source": [
    "### Описание проекта\n",
    "\n",
    "Клиентам предлагают два тарифных плана. Чтобы скорректировать рекламный бюджет, коммерческий департамент хочет понять, какой тариф приносит больше денег.\n",
    "\n",
    "В нашем распоряжении данные 500 пользователей компании: кто они, откуда, каким тарифом пользуются, сколько звонков и сообщений каждый отправил за год. Нужно проанализировать поведение клиентов и сделать вывод — какой тариф лучше.\n"
   ]
  },
  {
   "cell_type": "markdown",
   "metadata": {},
   "source": [
    "# Оглавление\n",
    "\n",
    "* [Шаг 1. Общая информация](#chapter1)\n",
    "    * [Описание данных](#section_1_1)\n",
    "* [Шаг 2. Предобработка данных](#chapter2)\n",
    "    * [2.1. Анализ общей информации](#section_2_1)\n",
    "    * [2.2. Столбцы с датой-временем](#section_2_2)\n",
    "    * [2.3. Гистограммы по сырым данным](#section_2_3)\n",
    "        * [2.3.1. Таблица users](#section_2_3_1)\n",
    "        * [2.3.2. Таблица calls](#section_2_3_2)\n",
    "        * [2.3.3. Таблица messages](#section_2_3_3)\n",
    "        * [2.3.4. Таблица internet](#section_2_3_4)\n",
    "        * [2.3.5. Помесячная выручка](#section_2_3_5)\n",
    "        \n",
    "* [Шаг 3. Анализ данных](#chapter3)\n",
    "* [Шаг 4. Проверка гипотез](#chapter4)\n",
    "    * [4.1. Гипотеза 1](#section_4_1)\n",
    "    * [4.2. Гипотеза 2](#section_4_2)\n",
    "* [Шаг 5. Общий вывод](#chapter5)"
   ]
  },
  {
   "cell_type": "markdown",
   "metadata": {},
   "source": [
    "# Шаг 1. Общая информация <a class=\"anchor\" id=\"chapter1\"></a>"
   ]
  },
  {
   "cell_type": "code",
   "execution_count": 1,
   "metadata": {},
   "outputs": [],
   "source": [
    "import pandas as pd\n",
    "import matplotlib.pyplot as plt \n",
    "import numpy as np\n",
    "from scipy import stats as st\n",
    "import math\n",
    "import seaborn as sns\n",
    "from scipy.stats import levene"
   ]
  },
  {
   "cell_type": "markdown",
   "metadata": {},
   "source": [
    "## Описание данных <a class=\"anchor\" id=\"section_1_1\"></a>"
   ]
  },
  {
   "cell_type": "markdown",
   "metadata": {},
   "source": [
    "Откроем файлы с данными и изучим общую информацию."
   ]
  },
  {
   "cell_type": "code",
   "execution_count": 2,
   "metadata": {},
   "outputs": [],
   "source": [
    "calls = pd.read_csv('datasets/calls.csv')\n",
    "internet = pd.read_csv('datasets/internet.csv')\n",
    "messages = pd.read_csv('datasets/messages.csv')\n",
    "tariffs = pd.read_csv('datasets/tariffs.csv')\n",
    "users = pd.read_csv('datasets/users.csv')"
   ]
  },
  {
   "cell_type": "markdown",
   "metadata": {},
   "source": [
    "Таблица **users** (информация о пользователях):"
   ]
  },
  {
   "cell_type": "code",
   "execution_count": 3,
   "metadata": {},
   "outputs": [
    {
     "data": {
      "text/html": [
       "<div>\n",
       "<style scoped>\n",
       "    .dataframe tbody tr th:only-of-type {\n",
       "        vertical-align: middle;\n",
       "    }\n",
       "\n",
       "    .dataframe tbody tr th {\n",
       "        vertical-align: top;\n",
       "    }\n",
       "\n",
       "    .dataframe thead th {\n",
       "        text-align: right;\n",
       "    }\n",
       "</style>\n",
       "<table border=\"1\" class=\"dataframe\">\n",
       "  <thead>\n",
       "    <tr style=\"text-align: right;\">\n",
       "      <th></th>\n",
       "      <th>user_id</th>\n",
       "      <th>age</th>\n",
       "      <th>churn_date</th>\n",
       "      <th>city</th>\n",
       "      <th>first_name</th>\n",
       "      <th>last_name</th>\n",
       "      <th>reg_date</th>\n",
       "      <th>tariff</th>\n",
       "    </tr>\n",
       "  </thead>\n",
       "  <tbody>\n",
       "    <tr>\n",
       "      <th>0</th>\n",
       "      <td>1000</td>\n",
       "      <td>52</td>\n",
       "      <td>NaN</td>\n",
       "      <td>Краснодар</td>\n",
       "      <td>Рафаил</td>\n",
       "      <td>Верещагин</td>\n",
       "      <td>2018-05-25</td>\n",
       "      <td>ultra</td>\n",
       "    </tr>\n",
       "    <tr>\n",
       "      <th>1</th>\n",
       "      <td>1001</td>\n",
       "      <td>41</td>\n",
       "      <td>NaN</td>\n",
       "      <td>Москва</td>\n",
       "      <td>Иван</td>\n",
       "      <td>Ежов</td>\n",
       "      <td>2018-11-01</td>\n",
       "      <td>smart</td>\n",
       "    </tr>\n",
       "    <tr>\n",
       "      <th>2</th>\n",
       "      <td>1002</td>\n",
       "      <td>59</td>\n",
       "      <td>NaN</td>\n",
       "      <td>Стерлитамак</td>\n",
       "      <td>Евгений</td>\n",
       "      <td>Абрамович</td>\n",
       "      <td>2018-06-17</td>\n",
       "      <td>smart</td>\n",
       "    </tr>\n",
       "    <tr>\n",
       "      <th>3</th>\n",
       "      <td>1003</td>\n",
       "      <td>23</td>\n",
       "      <td>NaN</td>\n",
       "      <td>Москва</td>\n",
       "      <td>Белла</td>\n",
       "      <td>Белякова</td>\n",
       "      <td>2018-08-17</td>\n",
       "      <td>ultra</td>\n",
       "    </tr>\n",
       "    <tr>\n",
       "      <th>4</th>\n",
       "      <td>1004</td>\n",
       "      <td>68</td>\n",
       "      <td>NaN</td>\n",
       "      <td>Новокузнецк</td>\n",
       "      <td>Татьяна</td>\n",
       "      <td>Авдеенко</td>\n",
       "      <td>2018-05-14</td>\n",
       "      <td>ultra</td>\n",
       "    </tr>\n",
       "  </tbody>\n",
       "</table>\n",
       "</div>"
      ],
      "text/plain": [
       "   user_id  age churn_date         city first_name  last_name    reg_date  \\\n",
       "0     1000   52        NaN    Краснодар     Рафаил  Верещагин  2018-05-25   \n",
       "1     1001   41        NaN       Москва       Иван       Ежов  2018-11-01   \n",
       "2     1002   59        NaN  Стерлитамак    Евгений  Абрамович  2018-06-17   \n",
       "3     1003   23        NaN       Москва      Белла   Белякова  2018-08-17   \n",
       "4     1004   68        NaN  Новокузнецк    Татьяна   Авдеенко  2018-05-14   \n",
       "\n",
       "  tariff  \n",
       "0  ultra  \n",
       "1  smart  \n",
       "2  smart  \n",
       "3  ultra  \n",
       "4  ultra  "
      ]
     },
     "execution_count": 3,
     "metadata": {},
     "output_type": "execute_result"
    }
   ],
   "source": [
    "users.head()"
   ]
  },
  {
   "cell_type": "code",
   "execution_count": 4,
   "metadata": {},
   "outputs": [
    {
     "data": {
      "text/plain": [
       "500"
      ]
     },
     "execution_count": 4,
     "metadata": {},
     "output_type": "execute_result"
    }
   ],
   "source": [
    "users.shape[0]"
   ]
  },
  {
   "cell_type": "markdown",
   "metadata": {},
   "source": [
    "- *user_id* — уникальный идентификатор пользователя\n",
    "- *first_name* — имя пользователя\n",
    "- *last_name* — фамилия пользователя\n",
    "- *age* — возраст пользователя (годы)\n",
    "- *reg_date* — дата подключения тарифа (день, месяц, год)\n",
    "- *churn_date* — дата прекращения пользования тарифом (если значение пропущено, то тариф ещё действовал на момент выгрузки данных)\n",
    "- *city* — город проживания пользователя\n",
    "- *tariff* — название тарифного плана"
   ]
  },
  {
   "cell_type": "markdown",
   "metadata": {},
   "source": [
    "Таблица **calls** (информация о звонках):"
   ]
  },
  {
   "cell_type": "code",
   "execution_count": 5,
   "metadata": {},
   "outputs": [
    {
     "data": {
      "text/html": [
       "<div>\n",
       "<style scoped>\n",
       "    .dataframe tbody tr th:only-of-type {\n",
       "        vertical-align: middle;\n",
       "    }\n",
       "\n",
       "    .dataframe tbody tr th {\n",
       "        vertical-align: top;\n",
       "    }\n",
       "\n",
       "    .dataframe thead th {\n",
       "        text-align: right;\n",
       "    }\n",
       "</style>\n",
       "<table border=\"1\" class=\"dataframe\">\n",
       "  <thead>\n",
       "    <tr style=\"text-align: right;\">\n",
       "      <th></th>\n",
       "      <th>id</th>\n",
       "      <th>call_date</th>\n",
       "      <th>duration</th>\n",
       "      <th>user_id</th>\n",
       "    </tr>\n",
       "  </thead>\n",
       "  <tbody>\n",
       "    <tr>\n",
       "      <th>0</th>\n",
       "      <td>1000_0</td>\n",
       "      <td>2018-07-25</td>\n",
       "      <td>0.00</td>\n",
       "      <td>1000</td>\n",
       "    </tr>\n",
       "    <tr>\n",
       "      <th>1</th>\n",
       "      <td>1000_1</td>\n",
       "      <td>2018-08-17</td>\n",
       "      <td>0.00</td>\n",
       "      <td>1000</td>\n",
       "    </tr>\n",
       "    <tr>\n",
       "      <th>2</th>\n",
       "      <td>1000_2</td>\n",
       "      <td>2018-06-11</td>\n",
       "      <td>2.85</td>\n",
       "      <td>1000</td>\n",
       "    </tr>\n",
       "    <tr>\n",
       "      <th>3</th>\n",
       "      <td>1000_3</td>\n",
       "      <td>2018-09-21</td>\n",
       "      <td>13.80</td>\n",
       "      <td>1000</td>\n",
       "    </tr>\n",
       "    <tr>\n",
       "      <th>4</th>\n",
       "      <td>1000_4</td>\n",
       "      <td>2018-12-15</td>\n",
       "      <td>5.18</td>\n",
       "      <td>1000</td>\n",
       "    </tr>\n",
       "  </tbody>\n",
       "</table>\n",
       "</div>"
      ],
      "text/plain": [
       "       id   call_date  duration  user_id\n",
       "0  1000_0  2018-07-25      0.00     1000\n",
       "1  1000_1  2018-08-17      0.00     1000\n",
       "2  1000_2  2018-06-11      2.85     1000\n",
       "3  1000_3  2018-09-21     13.80     1000\n",
       "4  1000_4  2018-12-15      5.18     1000"
      ]
     },
     "execution_count": 5,
     "metadata": {},
     "output_type": "execute_result"
    }
   ],
   "source": [
    "calls.head()"
   ]
  },
  {
   "cell_type": "code",
   "execution_count": 6,
   "metadata": {},
   "outputs": [
    {
     "data": {
      "text/plain": [
       "202607"
      ]
     },
     "execution_count": 6,
     "metadata": {},
     "output_type": "execute_result"
    }
   ],
   "source": [
    "calls.shape[0]"
   ]
  },
  {
   "cell_type": "markdown",
   "metadata": {},
   "source": [
    "- *id* — уникальный номер звонка\n",
    "- *call_date* — дата звонка\n",
    "- *duration* — длительность звонка в минутах\n",
    "- *user_id* — идентификатор пользователя, сделавшего звонок"
   ]
  },
  {
   "cell_type": "markdown",
   "metadata": {},
   "source": [
    "Таблица **messages** (информация о сообщениях):"
   ]
  },
  {
   "cell_type": "code",
   "execution_count": 7,
   "metadata": {},
   "outputs": [
    {
     "data": {
      "text/html": [
       "<div>\n",
       "<style scoped>\n",
       "    .dataframe tbody tr th:only-of-type {\n",
       "        vertical-align: middle;\n",
       "    }\n",
       "\n",
       "    .dataframe tbody tr th {\n",
       "        vertical-align: top;\n",
       "    }\n",
       "\n",
       "    .dataframe thead th {\n",
       "        text-align: right;\n",
       "    }\n",
       "</style>\n",
       "<table border=\"1\" class=\"dataframe\">\n",
       "  <thead>\n",
       "    <tr style=\"text-align: right;\">\n",
       "      <th></th>\n",
       "      <th>id</th>\n",
       "      <th>message_date</th>\n",
       "      <th>user_id</th>\n",
       "    </tr>\n",
       "  </thead>\n",
       "  <tbody>\n",
       "    <tr>\n",
       "      <th>0</th>\n",
       "      <td>1000_0</td>\n",
       "      <td>2018-06-27</td>\n",
       "      <td>1000</td>\n",
       "    </tr>\n",
       "    <tr>\n",
       "      <th>1</th>\n",
       "      <td>1000_1</td>\n",
       "      <td>2018-10-08</td>\n",
       "      <td>1000</td>\n",
       "    </tr>\n",
       "    <tr>\n",
       "      <th>2</th>\n",
       "      <td>1000_2</td>\n",
       "      <td>2018-08-04</td>\n",
       "      <td>1000</td>\n",
       "    </tr>\n",
       "    <tr>\n",
       "      <th>3</th>\n",
       "      <td>1000_3</td>\n",
       "      <td>2018-06-16</td>\n",
       "      <td>1000</td>\n",
       "    </tr>\n",
       "    <tr>\n",
       "      <th>4</th>\n",
       "      <td>1000_4</td>\n",
       "      <td>2018-12-05</td>\n",
       "      <td>1000</td>\n",
       "    </tr>\n",
       "  </tbody>\n",
       "</table>\n",
       "</div>"
      ],
      "text/plain": [
       "       id message_date  user_id\n",
       "0  1000_0   2018-06-27     1000\n",
       "1  1000_1   2018-10-08     1000\n",
       "2  1000_2   2018-08-04     1000\n",
       "3  1000_3   2018-06-16     1000\n",
       "4  1000_4   2018-12-05     1000"
      ]
     },
     "execution_count": 7,
     "metadata": {},
     "output_type": "execute_result"
    }
   ],
   "source": [
    "messages.head()"
   ]
  },
  {
   "cell_type": "code",
   "execution_count": 8,
   "metadata": {},
   "outputs": [
    {
     "data": {
      "text/plain": [
       "123036"
      ]
     },
     "execution_count": 8,
     "metadata": {},
     "output_type": "execute_result"
    }
   ],
   "source": [
    "messages.shape[0]"
   ]
  },
  {
   "cell_type": "markdown",
   "metadata": {},
   "source": [
    "- *id* — уникальный номер сообщения\n",
    "- *message_date* — дата сообщения\n",
    "- *user_id* — идентификатор пользователя, отправившего сообщение"
   ]
  },
  {
   "cell_type": "markdown",
   "metadata": {},
   "source": [
    "Таблица **internet** (информация об интернет-сессиях):"
   ]
  },
  {
   "cell_type": "code",
   "execution_count": 9,
   "metadata": {},
   "outputs": [
    {
     "data": {
      "text/html": [
       "<div>\n",
       "<style scoped>\n",
       "    .dataframe tbody tr th:only-of-type {\n",
       "        vertical-align: middle;\n",
       "    }\n",
       "\n",
       "    .dataframe tbody tr th {\n",
       "        vertical-align: top;\n",
       "    }\n",
       "\n",
       "    .dataframe thead th {\n",
       "        text-align: right;\n",
       "    }\n",
       "</style>\n",
       "<table border=\"1\" class=\"dataframe\">\n",
       "  <thead>\n",
       "    <tr style=\"text-align: right;\">\n",
       "      <th></th>\n",
       "      <th>Unnamed: 0</th>\n",
       "      <th>id</th>\n",
       "      <th>mb_used</th>\n",
       "      <th>session_date</th>\n",
       "      <th>user_id</th>\n",
       "    </tr>\n",
       "  </thead>\n",
       "  <tbody>\n",
       "    <tr>\n",
       "      <th>0</th>\n",
       "      <td>0</td>\n",
       "      <td>1000_0</td>\n",
       "      <td>112.95</td>\n",
       "      <td>2018-11-25</td>\n",
       "      <td>1000</td>\n",
       "    </tr>\n",
       "    <tr>\n",
       "      <th>1</th>\n",
       "      <td>1</td>\n",
       "      <td>1000_1</td>\n",
       "      <td>1052.81</td>\n",
       "      <td>2018-09-07</td>\n",
       "      <td>1000</td>\n",
       "    </tr>\n",
       "    <tr>\n",
       "      <th>2</th>\n",
       "      <td>2</td>\n",
       "      <td>1000_2</td>\n",
       "      <td>1197.26</td>\n",
       "      <td>2018-06-25</td>\n",
       "      <td>1000</td>\n",
       "    </tr>\n",
       "    <tr>\n",
       "      <th>3</th>\n",
       "      <td>3</td>\n",
       "      <td>1000_3</td>\n",
       "      <td>550.27</td>\n",
       "      <td>2018-08-22</td>\n",
       "      <td>1000</td>\n",
       "    </tr>\n",
       "    <tr>\n",
       "      <th>4</th>\n",
       "      <td>4</td>\n",
       "      <td>1000_4</td>\n",
       "      <td>302.56</td>\n",
       "      <td>2018-09-24</td>\n",
       "      <td>1000</td>\n",
       "    </tr>\n",
       "  </tbody>\n",
       "</table>\n",
       "</div>"
      ],
      "text/plain": [
       "   Unnamed: 0      id  mb_used session_date  user_id\n",
       "0           0  1000_0   112.95   2018-11-25     1000\n",
       "1           1  1000_1  1052.81   2018-09-07     1000\n",
       "2           2  1000_2  1197.26   2018-06-25     1000\n",
       "3           3  1000_3   550.27   2018-08-22     1000\n",
       "4           4  1000_4   302.56   2018-09-24     1000"
      ]
     },
     "execution_count": 9,
     "metadata": {},
     "output_type": "execute_result"
    }
   ],
   "source": [
    "internet.head()"
   ]
  },
  {
   "cell_type": "code",
   "execution_count": 10,
   "metadata": {},
   "outputs": [
    {
     "data": {
      "text/plain": [
       "149396"
      ]
     },
     "execution_count": 10,
     "metadata": {},
     "output_type": "execute_result"
    }
   ],
   "source": [
    "internet.shape[0]"
   ]
  },
  {
   "cell_type": "markdown",
   "metadata": {},
   "source": [
    "- *id* — уникальный номер сессии\n",
    "- *mb_used* — объём потраченного за сессию интернет-трафика (в мегабайтах)\n",
    "- *session_date* — дата интернет-сессии\n",
    "- *user_id* — идентификатор пользователя"
   ]
  },
  {
   "cell_type": "markdown",
   "metadata": {},
   "source": [
    "Таблица **tariffs** (информация о тарифах):"
   ]
  },
  {
   "cell_type": "code",
   "execution_count": 11,
   "metadata": {},
   "outputs": [
    {
     "data": {
      "text/html": [
       "<div>\n",
       "<style scoped>\n",
       "    .dataframe tbody tr th:only-of-type {\n",
       "        vertical-align: middle;\n",
       "    }\n",
       "\n",
       "    .dataframe tbody tr th {\n",
       "        vertical-align: top;\n",
       "    }\n",
       "\n",
       "    .dataframe thead th {\n",
       "        text-align: right;\n",
       "    }\n",
       "</style>\n",
       "<table border=\"1\" class=\"dataframe\">\n",
       "  <thead>\n",
       "    <tr style=\"text-align: right;\">\n",
       "      <th></th>\n",
       "      <th>messages_included</th>\n",
       "      <th>mb_per_month_included</th>\n",
       "      <th>minutes_included</th>\n",
       "      <th>rub_monthly_fee</th>\n",
       "      <th>rub_per_gb</th>\n",
       "      <th>rub_per_message</th>\n",
       "      <th>rub_per_minute</th>\n",
       "      <th>tariff_name</th>\n",
       "    </tr>\n",
       "  </thead>\n",
       "  <tbody>\n",
       "    <tr>\n",
       "      <th>0</th>\n",
       "      <td>50</td>\n",
       "      <td>15360</td>\n",
       "      <td>500</td>\n",
       "      <td>550</td>\n",
       "      <td>200</td>\n",
       "      <td>3</td>\n",
       "      <td>3</td>\n",
       "      <td>smart</td>\n",
       "    </tr>\n",
       "    <tr>\n",
       "      <th>1</th>\n",
       "      <td>1000</td>\n",
       "      <td>30720</td>\n",
       "      <td>3000</td>\n",
       "      <td>1950</td>\n",
       "      <td>150</td>\n",
       "      <td>1</td>\n",
       "      <td>1</td>\n",
       "      <td>ultra</td>\n",
       "    </tr>\n",
       "  </tbody>\n",
       "</table>\n",
       "</div>"
      ],
      "text/plain": [
       "   messages_included  mb_per_month_included  minutes_included  \\\n",
       "0                 50                  15360               500   \n",
       "1               1000                  30720              3000   \n",
       "\n",
       "   rub_monthly_fee  rub_per_gb  rub_per_message  rub_per_minute tariff_name  \n",
       "0              550         200                3               3       smart  \n",
       "1             1950         150                1               1       ultra  "
      ]
     },
     "execution_count": 11,
     "metadata": {},
     "output_type": "execute_result"
    }
   ],
   "source": [
    "tariffs.head()"
   ]
  },
  {
   "cell_type": "markdown",
   "metadata": {},
   "source": [
    "- *tariff_name* — название тарифа\n",
    "- *rub_monthly_fee* — ежемесячная абонентская плата в рублях\n",
    "- *minutes_included* — количество минут разговора в месяц, включённых в абонентскую плату\n",
    "- *messages_included* — количество сообщений в месяц, включённых в абонентскую плату\n",
    "- *mb_per_month_included* — объём интернет-трафика, включённого в абонентскую плату (в мегабайтах)\n",
    "- *rub_per_minute* — стоимость минуты разговора сверх тарифного пакета (например, если в тарифе 100 минут разговора в месяц, то со 101 минуты будет взиматься плата)\n",
    "- *rub_per_message* — стоимость отправки сообщения сверх тарифного пакета\n",
    "- *rub_per_gb* — стоимость дополнительного гигабайта интернет-трафика сверх тарифного пакета (1 гигабайт = 1024 мегабайта)"
   ]
  },
  {
   "cell_type": "markdown",
   "metadata": {},
   "source": [
    "# Шаг 2. Предобработка данных <a class=\"anchor\" id=\"chapter2\"></a>"
   ]
  },
  {
   "cell_type": "markdown",
   "metadata": {},
   "source": [
    "## 2.1. Анализ общей информации <a class=\"anchor\" id=\"section_2_1\"></a>"
   ]
  },
  {
   "cell_type": "code",
   "execution_count": 12,
   "metadata": {},
   "outputs": [],
   "source": [
    "tables = [\n",
    "    users\n",
    "    ,calls \n",
    "    ,internet\n",
    "    ,messages\n",
    "    ,tariffs]"
   ]
  },
  {
   "cell_type": "markdown",
   "metadata": {},
   "source": [
    "Проанализируем общую информацию о датафреймах."
   ]
  },
  {
   "cell_type": "code",
   "execution_count": 13,
   "metadata": {},
   "outputs": [],
   "source": [
    "# Функция возвращает имя датафрейма\n",
    "def get_df_name(df):\n",
    "    name =[x for x in globals() if globals()[x] is df][0]\n",
    "    return name"
   ]
  },
  {
   "cell_type": "code",
   "execution_count": 14,
   "metadata": {},
   "outputs": [],
   "source": [
    "# Функция возвращает информацию по каждому датафрейму из списка.\n",
    "def pre_check(df_list):\n",
    "    for df in df_list:\n",
    "        print('=================================')\n",
    "        print(get_df_name(df))\n",
    "        print('_________________________________')\n",
    "        print(df.info())\n",
    "        print('Количество дубликатов: ', df.duplicated().sum())\n",
    "        print('_________________________________')"
   ]
  },
  {
   "cell_type": "code",
   "execution_count": 15,
   "metadata": {
    "scrolled": false
   },
   "outputs": [
    {
     "name": "stdout",
     "output_type": "stream",
     "text": [
      "=================================\n",
      "users\n",
      "_________________________________\n",
      "<class 'pandas.core.frame.DataFrame'>\n",
      "RangeIndex: 500 entries, 0 to 499\n",
      "Data columns (total 8 columns):\n",
      " #   Column      Non-Null Count  Dtype \n",
      "---  ------      --------------  ----- \n",
      " 0   user_id     500 non-null    int64 \n",
      " 1   age         500 non-null    int64 \n",
      " 2   churn_date  38 non-null     object\n",
      " 3   city        500 non-null    object\n",
      " 4   first_name  500 non-null    object\n",
      " 5   last_name   500 non-null    object\n",
      " 6   reg_date    500 non-null    object\n",
      " 7   tariff      500 non-null    object\n",
      "dtypes: int64(2), object(6)\n",
      "memory usage: 31.4+ KB\n",
      "None\n",
      "Количество дубликатов:  0\n",
      "_________________________________\n",
      "=================================\n",
      "calls\n",
      "_________________________________\n",
      "<class 'pandas.core.frame.DataFrame'>\n",
      "RangeIndex: 202607 entries, 0 to 202606\n",
      "Data columns (total 4 columns):\n",
      " #   Column     Non-Null Count   Dtype  \n",
      "---  ------     --------------   -----  \n",
      " 0   id         202607 non-null  object \n",
      " 1   call_date  202607 non-null  object \n",
      " 2   duration   202607 non-null  float64\n",
      " 3   user_id    202607 non-null  int64  \n",
      "dtypes: float64(1), int64(1), object(2)\n",
      "memory usage: 6.2+ MB\n",
      "None\n",
      "Количество дубликатов:  0\n",
      "_________________________________\n",
      "=================================\n",
      "internet\n",
      "_________________________________\n",
      "<class 'pandas.core.frame.DataFrame'>\n",
      "RangeIndex: 149396 entries, 0 to 149395\n",
      "Data columns (total 5 columns):\n",
      " #   Column        Non-Null Count   Dtype  \n",
      "---  ------        --------------   -----  \n",
      " 0   Unnamed: 0    149396 non-null  int64  \n",
      " 1   id            149396 non-null  object \n",
      " 2   mb_used       149396 non-null  float64\n",
      " 3   session_date  149396 non-null  object \n",
      " 4   user_id       149396 non-null  int64  \n",
      "dtypes: float64(1), int64(2), object(2)\n",
      "memory usage: 5.7+ MB\n",
      "None\n",
      "Количество дубликатов:  0\n",
      "_________________________________\n",
      "=================================\n",
      "messages\n",
      "_________________________________\n",
      "<class 'pandas.core.frame.DataFrame'>\n",
      "RangeIndex: 123036 entries, 0 to 123035\n",
      "Data columns (total 3 columns):\n",
      " #   Column        Non-Null Count   Dtype \n",
      "---  ------        --------------   ----- \n",
      " 0   id            123036 non-null  object\n",
      " 1   message_date  123036 non-null  object\n",
      " 2   user_id       123036 non-null  int64 \n",
      "dtypes: int64(1), object(2)\n",
      "memory usage: 2.8+ MB\n",
      "None\n",
      "Количество дубликатов:  0\n",
      "_________________________________\n",
      "=================================\n",
      "tariffs\n",
      "_________________________________\n",
      "<class 'pandas.core.frame.DataFrame'>\n",
      "RangeIndex: 2 entries, 0 to 1\n",
      "Data columns (total 8 columns):\n",
      " #   Column                 Non-Null Count  Dtype \n",
      "---  ------                 --------------  ----- \n",
      " 0   messages_included      2 non-null      int64 \n",
      " 1   mb_per_month_included  2 non-null      int64 \n",
      " 2   minutes_included       2 non-null      int64 \n",
      " 3   rub_monthly_fee        2 non-null      int64 \n",
      " 4   rub_per_gb             2 non-null      int64 \n",
      " 5   rub_per_message        2 non-null      int64 \n",
      " 6   rub_per_minute         2 non-null      int64 \n",
      " 7   tariff_name            2 non-null      object\n",
      "dtypes: int64(7), object(1)\n",
      "memory usage: 256.0+ bytes\n",
      "None\n",
      "Количество дубликатов:  0\n",
      "_________________________________\n"
     ]
    }
   ],
   "source": [
    "pre_check(tables)"
   ]
  },
  {
   "cell_type": "markdown",
   "metadata": {},
   "source": [
    "В таблице **calls** округлим продолжительность звонков до минут в большую сторону, чтобы далее правильно посчитать выручку."
   ]
  },
  {
   "cell_type": "code",
   "execution_count": 16,
   "metadata": {},
   "outputs": [],
   "source": [
    "calls['duration'] =  calls['duration'].apply(math.ceil)"
   ]
  },
  {
   "cell_type": "markdown",
   "metadata": {},
   "source": [
    "## 2.2. Столбцы с датой-временем <a class=\"anchor\" id=\"section_2_2\"></a>"
   ]
  },
  {
   "cell_type": "markdown",
   "metadata": {},
   "source": [
    "В каждой из таблиц есть поле с датой в строковом формате \"Год-Месяц-День\". Переведём их в Unix time и добавам в каждый датафрейм сооответствующие столбцы."
   ]
  },
  {
   "cell_type": "code",
   "execution_count": 17,
   "metadata": {},
   "outputs": [],
   "source": [
    "date_format='%Y-%m-%d'"
   ]
  },
  {
   "cell_type": "code",
   "execution_count": 18,
   "metadata": {},
   "outputs": [],
   "source": [
    "# Функция возвращает Series с годом\n",
    "def create_year_column(df, column, format):\n",
    "    unix_time = pd.to_datetime(df[column], format=format)\n",
    "    year_column = unix_time.dt.year\n",
    "    return(year_column)"
   ]
  },
  {
   "cell_type": "code",
   "execution_count": 19,
   "metadata": {},
   "outputs": [],
   "source": [
    "# Функция возвращает Series с месяцем\n",
    "def create_month_column(df, column, format):\n",
    "    unix_time = pd.to_datetime(df[column], format=format)\n",
    "    month_column = unix_time.dt.month\n",
    "    return(month_column)"
   ]
  },
  {
   "cell_type": "code",
   "execution_count": 20,
   "metadata": {},
   "outputs": [],
   "source": [
    "# Функция возвращает Series с днём\n",
    "def create_day_column(df, column, format):\n",
    "    unix_time = pd.to_datetime(df[column], format=format)\n",
    "    day_column = unix_time.dt.day\n",
    "    return(day_column)"
   ]
  },
  {
   "cell_type": "code",
   "execution_count": 21,
   "metadata": {},
   "outputs": [],
   "source": [
    "# Функция возвращает Series с днём недели\n",
    "def create_weekday_column(df, column, format):\n",
    "    unix_time = pd.to_datetime(df[column], format=format)\n",
    "    weekday_column = unix_time.dt.weekday\n",
    "    return(weekday_column)"
   ]
  },
  {
   "cell_type": "code",
   "execution_count": 22,
   "metadata": {},
   "outputs": [],
   "source": [
    "# Функция, которая вставляет в датафрейм колонки с годом, месяцем, числом месяца и днём недели \n",
    "\n",
    "def add_ymdwd_columns(df, prefix, datetime_str_columnname, format):\n",
    "    \"\"\"\n",
    "    df - датафрейм, в который нужно вставить колонки\n",
    "    prefix - префикс для имени новой колонки\n",
    "    datetime_str_columnname - имя колонки, где лежит дата-время в строковом формате\n",
    "    format - строка с форматом колонки datetime_str_columnname        \n",
    "    \"\"\"\n",
    "    year_name = prefix + \"year\"\n",
    "    df[year_name] = create_year_column(df, datetime_str_columnname, format)\n",
    "    month_name = prefix + \"month\"\n",
    "    df[month_name] = create_month_column(df, datetime_str_columnname, format)\n",
    "    day_name = prefix + \"day\"\n",
    "    df[day_name] = create_day_column(df, datetime_str_columnname, format)\n",
    "    weekday_name = prefix + \"weekday\"\n",
    "    df[weekday_name] = create_weekday_column(df, datetime_str_columnname, format)"
   ]
  },
  {
   "cell_type": "markdown",
   "metadata": {},
   "source": [
    "Создадим словарь для нашей функции."
   ]
  },
  {
   "cell_type": "code",
   "execution_count": 88,
   "metadata": {},
   "outputs": [],
   "source": [
    "fields_dict = pd.DataFrame({\n",
    "    'df': [users,calls,internet,messages],\n",
    "    'prefix': ['reg_','call_','session_','message_'],\n",
    "    'field': ['reg_date','call_date','session_date','message_date']\n",
    "})"
   ]
  },
  {
   "cell_type": "code",
   "execution_count": 89,
   "metadata": {},
   "outputs": [
    {
     "data": {
      "text/html": [
       "<div>\n",
       "<style scoped>\n",
       "    .dataframe tbody tr th:only-of-type {\n",
       "        vertical-align: middle;\n",
       "    }\n",
       "\n",
       "    .dataframe tbody tr th {\n",
       "        vertical-align: top;\n",
       "    }\n",
       "\n",
       "    .dataframe thead th {\n",
       "        text-align: right;\n",
       "    }\n",
       "</style>\n",
       "<table border=\"1\" class=\"dataframe\">\n",
       "  <thead>\n",
       "    <tr style=\"text-align: right;\">\n",
       "      <th></th>\n",
       "      <th>df</th>\n",
       "      <th>prefix</th>\n",
       "      <th>field</th>\n",
       "    </tr>\n",
       "  </thead>\n",
       "  <tbody>\n",
       "    <tr>\n",
       "      <th>0</th>\n",
       "      <td>user_id  age  churn_date         city fir...</td>\n",
       "      <td>reg_</td>\n",
       "      <td>reg_date</td>\n",
       "    </tr>\n",
       "    <tr>\n",
       "      <th>1</th>\n",
       "      <td>id   call_date  duration  user_i...</td>\n",
       "      <td>call_</td>\n",
       "      <td>call_date</td>\n",
       "    </tr>\n",
       "    <tr>\n",
       "      <th>2</th>\n",
       "      <td>Unnamed: 0        id  mb_used session_...</td>\n",
       "      <td>session_</td>\n",
       "      <td>session_date</td>\n",
       "    </tr>\n",
       "    <tr>\n",
       "      <th>3</th>\n",
       "      <td>id message_date  user_id  messag...</td>\n",
       "      <td>message_</td>\n",
       "      <td>message_date</td>\n",
       "    </tr>\n",
       "  </tbody>\n",
       "</table>\n",
       "</div>"
      ],
      "text/plain": [
       "                                                  df    prefix         field\n",
       "0       user_id  age  churn_date         city fir...      reg_      reg_date\n",
       "1                id   call_date  duration  user_i...     call_     call_date\n",
       "2          Unnamed: 0        id  mb_used session_...  session_  session_date\n",
       "3                id message_date  user_id  messag...  message_  message_date"
      ]
     },
     "execution_count": 89,
     "metadata": {},
     "output_type": "execute_result"
    }
   ],
   "source": [
    "fields_dict"
   ]
  },
  {
   "cell_type": "markdown",
   "metadata": {},
   "source": [
    "Прогоним в цикле функцию, создающую поля с годом, месяцем, числом месяца и днём недели."
   ]
  },
  {
   "cell_type": "code",
   "execution_count": 24,
   "metadata": {},
   "outputs": [],
   "source": [
    "for row in range(0, len(fields_dict)):\n",
    "    add_ymdwd_columns(fields_dict.loc[row]['df'], \\\n",
    "                    fields_dict.loc[row]['prefix'], \\\n",
    "                    fields_dict.loc[row]['field'], \\\n",
    "                    date_format)"
   ]
  },
  {
   "cell_type": "code",
   "execution_count": 25,
   "metadata": {
    "scrolled": false
   },
   "outputs": [
    {
     "name": "stdout",
     "output_type": "stream",
     "text": [
      "=================================\n",
      "users\n",
      "_________________________________\n",
      "<class 'pandas.core.frame.DataFrame'>\n",
      "RangeIndex: 500 entries, 0 to 499\n",
      "Data columns (total 12 columns):\n",
      " #   Column       Non-Null Count  Dtype \n",
      "---  ------       --------------  ----- \n",
      " 0   user_id      500 non-null    int64 \n",
      " 1   age          500 non-null    int64 \n",
      " 2   churn_date   38 non-null     object\n",
      " 3   city         500 non-null    object\n",
      " 4   first_name   500 non-null    object\n",
      " 5   last_name    500 non-null    object\n",
      " 6   reg_date     500 non-null    object\n",
      " 7   tariff       500 non-null    object\n",
      " 8   reg_year     500 non-null    int64 \n",
      " 9   reg_month    500 non-null    int64 \n",
      " 10  reg_day      500 non-null    int64 \n",
      " 11  reg_weekday  500 non-null    int64 \n",
      "dtypes: int64(6), object(6)\n",
      "memory usage: 47.0+ KB\n",
      "None\n",
      "Количество дубликатов:  0\n",
      "_________________________________\n",
      "=================================\n",
      "calls\n",
      "_________________________________\n",
      "<class 'pandas.core.frame.DataFrame'>\n",
      "RangeIndex: 202607 entries, 0 to 202606\n",
      "Data columns (total 8 columns):\n",
      " #   Column        Non-Null Count   Dtype \n",
      "---  ------        --------------   ----- \n",
      " 0   id            202607 non-null  object\n",
      " 1   call_date     202607 non-null  object\n",
      " 2   duration      202607 non-null  int64 \n",
      " 3   user_id       202607 non-null  int64 \n",
      " 4   call_year     202607 non-null  int64 \n",
      " 5   call_month    202607 non-null  int64 \n",
      " 6   call_day      202607 non-null  int64 \n",
      " 7   call_weekday  202607 non-null  int64 \n",
      "dtypes: int64(6), object(2)\n",
      "memory usage: 12.4+ MB\n",
      "None\n",
      "Количество дубликатов:  0\n",
      "_________________________________\n",
      "=================================\n",
      "internet\n",
      "_________________________________\n",
      "<class 'pandas.core.frame.DataFrame'>\n",
      "RangeIndex: 149396 entries, 0 to 149395\n",
      "Data columns (total 9 columns):\n",
      " #   Column           Non-Null Count   Dtype  \n",
      "---  ------           --------------   -----  \n",
      " 0   Unnamed: 0       149396 non-null  int64  \n",
      " 1   id               149396 non-null  object \n",
      " 2   mb_used          149396 non-null  float64\n",
      " 3   session_date     149396 non-null  object \n",
      " 4   user_id          149396 non-null  int64  \n",
      " 5   session_year     149396 non-null  int64  \n",
      " 6   session_month    149396 non-null  int64  \n",
      " 7   session_day      149396 non-null  int64  \n",
      " 8   session_weekday  149396 non-null  int64  \n",
      "dtypes: float64(1), int64(6), object(2)\n",
      "memory usage: 10.3+ MB\n",
      "None\n",
      "Количество дубликатов:  0\n",
      "_________________________________\n",
      "=================================\n",
      "messages\n",
      "_________________________________\n",
      "<class 'pandas.core.frame.DataFrame'>\n",
      "RangeIndex: 123036 entries, 0 to 123035\n",
      "Data columns (total 7 columns):\n",
      " #   Column           Non-Null Count   Dtype \n",
      "---  ------           --------------   ----- \n",
      " 0   id               123036 non-null  object\n",
      " 1   message_date     123036 non-null  object\n",
      " 2   user_id          123036 non-null  int64 \n",
      " 3   message_year     123036 non-null  int64 \n",
      " 4   message_month    123036 non-null  int64 \n",
      " 5   message_day      123036 non-null  int64 \n",
      " 6   message_weekday  123036 non-null  int64 \n",
      "dtypes: int64(5), object(2)\n",
      "memory usage: 6.6+ MB\n",
      "None\n",
      "Количество дубликатов:  0\n",
      "_________________________________\n",
      "=================================\n",
      "tariffs\n",
      "_________________________________\n",
      "<class 'pandas.core.frame.DataFrame'>\n",
      "RangeIndex: 2 entries, 0 to 1\n",
      "Data columns (total 8 columns):\n",
      " #   Column                 Non-Null Count  Dtype \n",
      "---  ------                 --------------  ----- \n",
      " 0   messages_included      2 non-null      int64 \n",
      " 1   mb_per_month_included  2 non-null      int64 \n",
      " 2   minutes_included       2 non-null      int64 \n",
      " 3   rub_monthly_fee        2 non-null      int64 \n",
      " 4   rub_per_gb             2 non-null      int64 \n",
      " 5   rub_per_message        2 non-null      int64 \n",
      " 6   rub_per_minute         2 non-null      int64 \n",
      " 7   tariff_name            2 non-null      object\n",
      "dtypes: int64(7), object(1)\n",
      "memory usage: 256.0+ bytes\n",
      "None\n",
      "Количество дубликатов:  0\n",
      "_________________________________\n"
     ]
    }
   ],
   "source": [
    "pre_check(tables)"
   ]
  },
  {
   "cell_type": "markdown",
   "metadata": {},
   "source": [
    "Мы создали из столбцов с датой-временем отдельные колонки с годом, месяцем, числом месяца и днём недели."
   ]
  },
  {
   "cell_type": "markdown",
   "metadata": {},
   "source": [
    "## 2.3. Гистограммы по сырым данным <a class=\"anchor\" id=\"section_2_3\"></a>"
   ]
  },
  {
   "cell_type": "markdown",
   "metadata": {},
   "source": [
    "### 2.3.1. Таблица *users*<a class=\"anchor\" id=\"section_2_3_1\"></a>"
   ]
  },
  {
   "cell_type": "markdown",
   "metadata": {},
   "source": [
    "- Откуда большинство пользователей в выборке? Какими тарифами они пользуются?"
   ]
  },
  {
   "cell_type": "code",
   "execution_count": 26,
   "metadata": {},
   "outputs": [],
   "source": [
    "cities_smart = users[users['tariff'] == 'smart']['city'].value_counts()\n",
    "cities_ultra = users[users['tariff'] == 'ultra']['city'].value_counts()"
   ]
  },
  {
   "cell_type": "code",
   "execution_count": 27,
   "metadata": {},
   "outputs": [
    {
     "name": "stdout",
     "output_type": "stream",
     "text": [
      "Всего пользователей тарифа SMART: 351\n"
     ]
    },
    {
     "data": {
      "image/png": "[encoded data removed]",
      "text/plain": [
       "<Figure size 792x720 with 1 Axes>"
      ]
     },
     "metadata": {
      "needs_background": "light"
     },
     "output_type": "display_data"
    },
    {
     "name": "stdout",
     "output_type": "stream",
     "text": [
      "Всего пользователей тарифа ULTRA: 149\n"
     ]
    },
    {
     "data": {
      "image/png": "[encoded data removed]",
      "text/plain": [
       "<Figure size 381.6x720 with 1 Axes>"
      ]
     },
     "metadata": {
      "needs_background": "light"
     },
     "output_type": "display_data"
    }
   ],
   "source": [
    "plt.title('Пользователи тарифа SMART')\n",
    "cities_smart.head(50).plot(kind='barh',linewidth=5, color='blue',figsize=(11, 10), grid=True)\n",
    "print('Всего пользователей тарифа SMART:', cities_smart.sum())\n",
    "plt.show()\n",
    "plt.title('Пользователи тарифа ULTRA')\n",
    "cities_ultra.head(50).plot(kind='barh',linewidth=5, color='red',figsize=(5.3, 10), grid=True)\n",
    "print('Всего пользователей тарифа ULTRA:', cities_ultra.sum())"
   ]
  },
  {
   "cell_type": "markdown",
   "metadata": {},
   "source": [
    "Большинство пользователей в нашей выборке из Москвы и Санкт-Петербурга. При этом в нашей выборке пользователей тарифа SMART в 2.3 раза больше, чем пользователей тарифа ULTRA."
   ]
  },
  {
   "cell_type": "code",
   "execution_count": 28,
   "metadata": {},
   "outputs": [
    {
     "data": {
      "text/html": [
       "<div>\n",
       "<style scoped>\n",
       "    .dataframe tbody tr th:only-of-type {\n",
       "        vertical-align: middle;\n",
       "    }\n",
       "\n",
       "    .dataframe tbody tr th {\n",
       "        vertical-align: top;\n",
       "    }\n",
       "\n",
       "    .dataframe thead th {\n",
       "        text-align: right;\n",
       "    }\n",
       "</style>\n",
       "<table border=\"1\" class=\"dataframe\">\n",
       "  <thead>\n",
       "    <tr style=\"text-align: right;\">\n",
       "      <th></th>\n",
       "      <th>user_id</th>\n",
       "      <th>age</th>\n",
       "      <th>churn_date</th>\n",
       "      <th>city</th>\n",
       "      <th>first_name</th>\n",
       "      <th>last_name</th>\n",
       "      <th>reg_date</th>\n",
       "      <th>tariff</th>\n",
       "      <th>reg_year</th>\n",
       "      <th>reg_month</th>\n",
       "      <th>reg_day</th>\n",
       "      <th>reg_weekday</th>\n",
       "    </tr>\n",
       "  </thead>\n",
       "  <tbody>\n",
       "    <tr>\n",
       "      <th>0</th>\n",
       "      <td>1000</td>\n",
       "      <td>52</td>\n",
       "      <td>NaN</td>\n",
       "      <td>Краснодар</td>\n",
       "      <td>Рафаил</td>\n",
       "      <td>Верещагин</td>\n",
       "      <td>2018-05-25</td>\n",
       "      <td>ultra</td>\n",
       "      <td>2018</td>\n",
       "      <td>5</td>\n",
       "      <td>25</td>\n",
       "      <td>4</td>\n",
       "    </tr>\n",
       "    <tr>\n",
       "      <th>1</th>\n",
       "      <td>1001</td>\n",
       "      <td>41</td>\n",
       "      <td>NaN</td>\n",
       "      <td>Москва</td>\n",
       "      <td>Иван</td>\n",
       "      <td>Ежов</td>\n",
       "      <td>2018-11-01</td>\n",
       "      <td>smart</td>\n",
       "      <td>2018</td>\n",
       "      <td>11</td>\n",
       "      <td>1</td>\n",
       "      <td>3</td>\n",
       "    </tr>\n",
       "    <tr>\n",
       "      <th>2</th>\n",
       "      <td>1002</td>\n",
       "      <td>59</td>\n",
       "      <td>NaN</td>\n",
       "      <td>Стерлитамак</td>\n",
       "      <td>Евгений</td>\n",
       "      <td>Абрамович</td>\n",
       "      <td>2018-06-17</td>\n",
       "      <td>smart</td>\n",
       "      <td>2018</td>\n",
       "      <td>6</td>\n",
       "      <td>17</td>\n",
       "      <td>6</td>\n",
       "    </tr>\n",
       "    <tr>\n",
       "      <th>3</th>\n",
       "      <td>1003</td>\n",
       "      <td>23</td>\n",
       "      <td>NaN</td>\n",
       "      <td>Москва</td>\n",
       "      <td>Белла</td>\n",
       "      <td>Белякова</td>\n",
       "      <td>2018-08-17</td>\n",
       "      <td>ultra</td>\n",
       "      <td>2018</td>\n",
       "      <td>8</td>\n",
       "      <td>17</td>\n",
       "      <td>4</td>\n",
       "    </tr>\n",
       "    <tr>\n",
       "      <th>4</th>\n",
       "      <td>1004</td>\n",
       "      <td>68</td>\n",
       "      <td>NaN</td>\n",
       "      <td>Новокузнецк</td>\n",
       "      <td>Татьяна</td>\n",
       "      <td>Авдеенко</td>\n",
       "      <td>2018-05-14</td>\n",
       "      <td>ultra</td>\n",
       "      <td>2018</td>\n",
       "      <td>5</td>\n",
       "      <td>14</td>\n",
       "      <td>0</td>\n",
       "    </tr>\n",
       "  </tbody>\n",
       "</table>\n",
       "</div>"
      ],
      "text/plain": [
       "   user_id  age churn_date         city first_name  last_name    reg_date  \\\n",
       "0     1000   52        NaN    Краснодар     Рафаил  Верещагин  2018-05-25   \n",
       "1     1001   41        NaN       Москва       Иван       Ежов  2018-11-01   \n",
       "2     1002   59        NaN  Стерлитамак    Евгений  Абрамович  2018-06-17   \n",
       "3     1003   23        NaN       Москва      Белла   Белякова  2018-08-17   \n",
       "4     1004   68        NaN  Новокузнецк    Татьяна   Авдеенко  2018-05-14   \n",
       "\n",
       "  tariff  reg_year  reg_month  reg_day  reg_weekday  \n",
       "0  ultra      2018          5       25            4  \n",
       "1  smart      2018         11        1            3  \n",
       "2  smart      2018          6       17            6  \n",
       "3  ultra      2018          8       17            4  \n",
       "4  ultra      2018          5       14            0  "
      ]
     },
     "execution_count": 28,
     "metadata": {},
     "output_type": "execute_result"
    }
   ],
   "source": [
    "users.head()"
   ]
  },
  {
   "cell_type": "markdown",
   "metadata": {},
   "source": [
    "- Когда пользователи подключали тарифы?"
   ]
  },
  {
   "cell_type": "code",
   "execution_count": 29,
   "metadata": {},
   "outputs": [
    {
     "data": {
      "text/plain": [
       "<matplotlib.legend.Legend at 0x1c16b8f7190>"
      ]
     },
     "execution_count": 29,
     "metadata": {},
     "output_type": "execute_result"
    },
    {
     "data": {
      "image/png": "[encoded data removed]",
      "text/plain": [
       "<Figure size 720x432 with 1 Axes>"
      ]
     },
     "metadata": {
      "needs_background": "light"
     },
     "output_type": "display_data"
    }
   ],
   "source": [
    "plt.figure(figsize=(10,6))\n",
    "plt.title('Количество подключивших тариф пользователей по месяцам')\n",
    "ax0 = users[users['tariff'] == 'smart']['reg_month']\\\n",
    ".plot(kind='hist', bins=12, linewidth=5, histtype='step', label='SMART')\n",
    "ax1 = users[users['tariff'] == 'ultra']['reg_month']\\\n",
    ".plot(kind='hist', bins=12, linewidth=5, histtype='step', label='ULTRA')\n",
    "ax0.legend()"
   ]
  },
  {
   "cell_type": "code",
   "execution_count": 30,
   "metadata": {},
   "outputs": [
    {
     "data": {
      "image/png": "[encoded data removed]",
      "text/plain": [
       "<Figure size 720x432 with 1 Axes>"
      ]
     },
     "metadata": {
      "needs_background": "light"
     },
     "output_type": "display_data"
    }
   ],
   "source": [
    "plt.figure(figsize=(10,6))\n",
    "plt.title('Количество подключивших тариф пользователей по дням недели')\n",
    "ax0 = users[users['tariff'] == 'smart']['reg_weekday']\\\n",
    ".plot(kind='hist', bins=7, linewidth=5, histtype='step', label='SMART')\n",
    "ax1 = users[users['tariff'] == 'ultra']['reg_weekday']\\\n",
    ".plot(kind='hist', bins=7, linewidth=5, histtype='step', label='ULTRA')\n",
    "ax0.legend();"
   ]
  },
  {
   "cell_type": "markdown",
   "metadata": {},
   "source": [
    "Количество новфх пользователей тарифа SMART резко подскочило в июле, а количество новых пользователей тарифа ULTRA напротив, упало в этом же месяце. "
   ]
  },
  {
   "cell_type": "code",
   "execution_count": 31,
   "metadata": {},
   "outputs": [],
   "source": [
    "def age_group(age):\n",
    "        \"\"\"\n",
    "        Возвращает id возрастной группы по значению возраста age, используя правила:\n",
    "        - 'молодые' при значении age <= 35 лет\n",
    "        - 'взрослые' при значениии age более 35 и менее 64, включая 64\n",
    "        - 'пожилые' во всех остальных случаях\n",
    "        \"\"\"\n",
    "\n",
    "        if age <= 20:\n",
    "                return  10 #'молодые'\n",
    "        if age <= 30:\n",
    "                return  20 \n",
    "        if age <= 40:\n",
    "                return  30 \n",
    "        if age <= 50:\n",
    "                return  40\n",
    "        if age <= 60:\n",
    "                return  50        \n",
    "        if age <= 70:\n",
    "                return  60\n",
    "        if age <= 80:\n",
    "                return  70    \n",
    "            #'взрослые'\n",
    "        return 80 #'пожилые' "
   ]
  },
  {
   "cell_type": "code",
   "execution_count": 32,
   "metadata": {},
   "outputs": [],
   "source": [
    "users['age_group_id'] = users['age'].apply(age_group)"
   ]
  },
  {
   "cell_type": "markdown",
   "metadata": {},
   "source": [
    "- Какими тарифами пользуются разные возрастные группы?"
   ]
  },
  {
   "cell_type": "code",
   "execution_count": 33,
   "metadata": {},
   "outputs": [
    {
     "data": {
      "text/plain": [
       "<matplotlib.legend.Legend at 0x1c169aff760>"
      ]
     },
     "execution_count": 33,
     "metadata": {},
     "output_type": "execute_result"
    },
    {
     "data": {
      "image/png": "[encoded data removed]",
      "text/plain": [
       "<Figure size 576x432 with 1 Axes>"
      ]
     },
     "metadata": {
      "needs_background": "light"
     },
     "output_type": "display_data"
    }
   ],
   "source": [
    "plt.figure(figsize=(8,6))\n",
    "plt.title('Количество подключивших тариф пользователей по возрасту')\n",
    "ax0 = users[users['tariff'] == 'smart']['age_group_id']\\\n",
    ".plot(kind='hist', bins=7, label='SMART')\n",
    "ax1 = users[users['tariff'] == 'ultra']['age_group_id']\\\n",
    ".plot(kind='hist', bins=7, label='ULTRA')\n",
    "ax0.legend()"
   ]
  },
  {
   "cell_type": "markdown",
   "metadata": {},
   "source": [
    "В нашей выборке тариф не зависит от возрастной группы."
   ]
  },
  {
   "cell_type": "markdown",
   "metadata": {},
   "source": [
    "### Функции для построения графиков"
   ]
  },
  {
   "cell_type": "code",
   "execution_count": 34,
   "metadata": {},
   "outputs": [],
   "source": [
    "# Функция для вычисления перцентиля\n",
    "def get_percentile(df, column_name, percentile_rank):\n",
    "    \n",
    "    # Удалим NaN в столбце, отсортируем df, сбросим индексы\n",
    "    try:\n",
    "        # Если на входе - dataframe\n",
    "        df = df.dropna(subset=[column_name]).sort_values(by=column_name).reset_index()\n",
    "    except:\n",
    "        # Если на входе - series\n",
    "        df = df.dropna().sort_values().reset_index()\n",
    "    # Найдём индекс перцентиля\n",
    "    index = (len(df.index)-1) * percentile_rank / 100.0\n",
    "    index = int(index)\n",
    "    value = df.at[index, column_name]\n",
    "    # Вернём элемент с этим индексом\n",
    "    return value"
   ]
  },
  {
   "cell_type": "code",
   "execution_count": 35,
   "metadata": {},
   "outputs": [],
   "source": [
    "# Функция для вычисления интерквартильного размаха.\n",
    "def interquartile_range(df, column_name):\n",
    "    \n",
    "    p75 = get_percentile(df, column_name, 75)  # 75-й перцентиль\n",
    "    p25 = get_percentile(df, column_name, 25)  # 25-й перцентиль\n",
    "    iqr = p75 - p25  # интерквартильный размах\n",
    "    return iqr"
   ]
  },
  {
   "cell_type": "code",
   "execution_count": 36,
   "metadata": {},
   "outputs": [],
   "source": [
    "# Функция для вычисления левого уса.\n",
    "def left_mustache(df, column_name):\n",
    "    p25 = get_percentile(df, column_name, 25)\n",
    "    iqr = interquartile_range(df, column_name)\n",
    "    p0 = get_percentile(df, column_name, 0)\n",
    "    if p25 - iqr*1.5 < p0:\n",
    "        return (p0)\n",
    "    return(p25 - iqr*1.5)"
   ]
  },
  {
   "cell_type": "code",
   "execution_count": 37,
   "metadata": {},
   "outputs": [],
   "source": [
    "# Функция для вычисления правого уса\n",
    "def right_mustache(df, column_name):\n",
    "    p75 = get_percentile(df, column_name, 75)\n",
    "    iqr = interquartile_range(df, column_name)\n",
    "    p100 = get_percentile(df, column_name, 100)\n",
    "    if p75 + iqr*1.5 > p100:\n",
    "        return (p100)\n",
    "    return(p75 + iqr*1.5)"
   ]
  },
  {
   "cell_type": "code",
   "execution_count": 38,
   "metadata": {},
   "outputs": [],
   "source": [
    "# Функция для построения гистограммы по значениям, входящим в ящик с усами.\n",
    "def box_mustache_hist(df, column_name, bins, title=False):\n",
    "    \n",
    "    # Отсортируем df, сбросим индексы\n",
    "    df = df.sort_values(by=column_name).reset_index()\n",
    "    split = df.loc[(df.loc[:, column_name] >= left_mustache(df, column_name))\\\n",
    "                  &(df.loc[:, column_name] <= right_mustache(df, column_name))][column_name]\n",
    "    plt.figure(figsize=(9,5))\n",
    "    plt.hist(split, bins=bins)\n",
    "    if title == False:\n",
    "        plt.title(column_name)\n",
    "    else:\n",
    "        plt.title(title)\n",
    "    # Вертикальные линии для каждого перцентиля\n",
    "    plt.axvline(get_percentile(df, column_name, 25), linestyle='--', color='red')\n",
    "    plt.axvline(get_percentile(df, column_name, 50), linestyle='-',  color='red')\n",
    "    plt.axvline(get_percentile(df, column_name, 75), linestyle='--', color='red')\n",
    "    plt.show()\n",
    "    print('Среднее значение: ', round(df[column_name].mean(),2))\n",
    "    print('Стандартное отклонение: ', round(df[column_name].std(),2))\n",
    "    print('Медиана: ', get_percentile(df, column_name, 50))"
   ]
  },
  {
   "cell_type": "markdown",
   "metadata": {},
   "source": [
    "### Функция для аггрегации по по второй из двух группировок"
   ]
  },
  {
   "cell_type": "code",
   "execution_count": 39,
   "metadata": {},
   "outputs": [],
   "source": [
    "# Функция для аггрегации значений по сгруппированным на двух уровнях значениям\n",
    "# Возвращает таблицу с тремя столбцами: первым и вторым уровнями группировки и аггрегированным значением\n",
    "def agg_by_2lvls(df, first_level, second_level, value, aggfunc):\n",
    "    pivot = df.pivot_table(index=(first_level,second_level),values=value, aggfunc=aggfunc)\n",
    "    pivot_rstd = pivot.reset_index()\n",
    "    name_aggregated = get_df_name(df) +\"_\" + value + \"_\" + aggfunc\n",
    "    pivot_rstd.columns = [first_level,second_level,name_aggregated]\n",
    "    return pivot_rstd"
   ]
  },
  {
   "cell_type": "markdown",
   "metadata": {},
   "source": [
    "### 2.3.2. Таблица *calls*<a class=\"anchor\" id=\"section_2_3_2\"></a>"
   ]
  },
  {
   "cell_type": "code",
   "execution_count": 40,
   "metadata": {},
   "outputs": [
    {
     "data": {
      "text/html": [
       "<div>\n",
       "<style scoped>\n",
       "    .dataframe tbody tr th:only-of-type {\n",
       "        vertical-align: middle;\n",
       "    }\n",
       "\n",
       "    .dataframe tbody tr th {\n",
       "        vertical-align: top;\n",
       "    }\n",
       "\n",
       "    .dataframe thead th {\n",
       "        text-align: right;\n",
       "    }\n",
       "</style>\n",
       "<table border=\"1\" class=\"dataframe\">\n",
       "  <thead>\n",
       "    <tr style=\"text-align: right;\">\n",
       "      <th></th>\n",
       "      <th>id</th>\n",
       "      <th>call_date</th>\n",
       "      <th>duration</th>\n",
       "      <th>user_id</th>\n",
       "      <th>call_year</th>\n",
       "      <th>call_month</th>\n",
       "      <th>call_day</th>\n",
       "      <th>call_weekday</th>\n",
       "    </tr>\n",
       "  </thead>\n",
       "  <tbody>\n",
       "    <tr>\n",
       "      <th>0</th>\n",
       "      <td>1000_0</td>\n",
       "      <td>2018-07-25</td>\n",
       "      <td>0</td>\n",
       "      <td>1000</td>\n",
       "      <td>2018</td>\n",
       "      <td>7</td>\n",
       "      <td>25</td>\n",
       "      <td>2</td>\n",
       "    </tr>\n",
       "    <tr>\n",
       "      <th>1</th>\n",
       "      <td>1000_1</td>\n",
       "      <td>2018-08-17</td>\n",
       "      <td>0</td>\n",
       "      <td>1000</td>\n",
       "      <td>2018</td>\n",
       "      <td>8</td>\n",
       "      <td>17</td>\n",
       "      <td>4</td>\n",
       "    </tr>\n",
       "    <tr>\n",
       "      <th>2</th>\n",
       "      <td>1000_2</td>\n",
       "      <td>2018-06-11</td>\n",
       "      <td>3</td>\n",
       "      <td>1000</td>\n",
       "      <td>2018</td>\n",
       "      <td>6</td>\n",
       "      <td>11</td>\n",
       "      <td>0</td>\n",
       "    </tr>\n",
       "    <tr>\n",
       "      <th>3</th>\n",
       "      <td>1000_3</td>\n",
       "      <td>2018-09-21</td>\n",
       "      <td>14</td>\n",
       "      <td>1000</td>\n",
       "      <td>2018</td>\n",
       "      <td>9</td>\n",
       "      <td>21</td>\n",
       "      <td>4</td>\n",
       "    </tr>\n",
       "    <tr>\n",
       "      <th>4</th>\n",
       "      <td>1000_4</td>\n",
       "      <td>2018-12-15</td>\n",
       "      <td>6</td>\n",
       "      <td>1000</td>\n",
       "      <td>2018</td>\n",
       "      <td>12</td>\n",
       "      <td>15</td>\n",
       "      <td>5</td>\n",
       "    </tr>\n",
       "  </tbody>\n",
       "</table>\n",
       "</div>"
      ],
      "text/plain": [
       "       id   call_date  duration  user_id  call_year  call_month  call_day  \\\n",
       "0  1000_0  2018-07-25         0     1000       2018           7        25   \n",
       "1  1000_1  2018-08-17         0     1000       2018           8        17   \n",
       "2  1000_2  2018-06-11         3     1000       2018           6        11   \n",
       "3  1000_3  2018-09-21        14     1000       2018           9        21   \n",
       "4  1000_4  2018-12-15         6     1000       2018          12        15   \n",
       "\n",
       "   call_weekday  \n",
       "0             2  \n",
       "1             4  \n",
       "2             0  \n",
       "3             4  \n",
       "4             5  "
      ]
     },
     "execution_count": 40,
     "metadata": {},
     "output_type": "execute_result"
    }
   ],
   "source": [
    "calls.head()"
   ]
  },
  {
   "cell_type": "code",
   "execution_count": 41,
   "metadata": {},
   "outputs": [
    {
     "data": {
      "text/plain": [
       "202607"
      ]
     },
     "execution_count": 41,
     "metadata": {},
     "output_type": "execute_result"
    }
   ],
   "source": [
    "calls.shape[0]"
   ]
  },
  {
   "cell_type": "code",
   "execution_count": 42,
   "metadata": {},
   "outputs": [
    {
     "data": {
      "image/png": "[encoded data removed]",
      "text/plain": [
       "<Figure size 648x360 with 1 Axes>"
      ]
     },
     "metadata": {
      "needs_background": "light"
     },
     "output_type": "display_data"
    },
    {
     "name": "stdout",
     "output_type": "stream",
     "text": [
      "Среднее значение:  7.16\n",
      "Стандартное отклонение:  5.96\n",
      "Медиана:  6\n"
     ]
    }
   ],
   "source": [
    "box_mustache_hist(calls, 'duration', 100, 'Сырые данные по продолжительности звонков пользователей')"
   ]
  },
  {
   "cell_type": "markdown",
   "metadata": {},
   "source": [
    "Длительность многих звонков - 0.0 минут. Скорее всего, это пропущенные звонки. Для нашего исследования они не репрезентативны, однако мы всё равно выделим их в отдельный датафрейм на всякий случай, чтобы исследовать. Посмотрим, когда было больше всего пропущенных вызовов."
   ]
  },
  {
   "cell_type": "code",
   "execution_count": 43,
   "metadata": {},
   "outputs": [],
   "source": [
    "missed_calls = calls[calls['duration'] == 0]"
   ]
  },
  {
   "cell_type": "code",
   "execution_count": 44,
   "metadata": {},
   "outputs": [
    {
     "name": "stdout",
     "output_type": "stream",
     "text": [
      "Выбрасываем  39613  нерепрезентативных строк из выборки в  202607  строк.\n"
     ]
    }
   ],
   "source": [
    "print('Выбрасываем ', missed_calls.shape[0], ' нерепрезентативных строк из выборки в ', calls.shape[0], ' строк.')"
   ]
  },
  {
   "cell_type": "markdown",
   "metadata": {},
   "source": [
    "Оставим в **calls** только звонки ненулевой длительности."
   ]
  },
  {
   "cell_type": "code",
   "execution_count": 45,
   "metadata": {},
   "outputs": [],
   "source": [
    "calls = calls[calls['duration'] > 0]"
   ]
  },
  {
   "cell_type": "code",
   "execution_count": 46,
   "metadata": {},
   "outputs": [
    {
     "data": {
      "image/png": "[encoded data removed]",
      "text/plain": [
       "<Figure size 648x360 with 1 Axes>"
      ]
     },
     "metadata": {
      "needs_background": "light"
     },
     "output_type": "display_data"
    },
    {
     "name": "stdout",
     "output_type": "stream",
     "text": [
      "Среднее значение:  8.9\n",
      "Стандартное отклонение:  5.35\n",
      "Медиана:  8\n"
     ]
    }
   ],
   "source": [
    "box_mustache_hist(calls, 'duration', 100, 'Данные по продолжительности звонков пользователей')"
   ]
  },
  {
   "cell_type": "markdown",
   "metadata": {},
   "source": [
    "Среднее и медиана увеличились относительно сырых данных, а стандартное отклонение уменьшилось."
   ]
  },
  {
   "cell_type": "markdown",
   "metadata": {},
   "source": [
    "- Посчитаем количество сделанных звонков для каждого пользователя по месяцам. Положим результат в таблицу **calls_count_by_month**."
   ]
  },
  {
   "cell_type": "code",
   "execution_count": 47,
   "metadata": {
    "scrolled": false
   },
   "outputs": [
    {
     "data": {
      "text/html": [
       "<div>\n",
       "<style scoped>\n",
       "    .dataframe tbody tr th:only-of-type {\n",
       "        vertical-align: middle;\n",
       "    }\n",
       "\n",
       "    .dataframe tbody tr th {\n",
       "        vertical-align: top;\n",
       "    }\n",
       "\n",
       "    .dataframe thead th {\n",
       "        text-align: right;\n",
       "    }\n",
       "</style>\n",
       "<table border=\"1\" class=\"dataframe\">\n",
       "  <thead>\n",
       "    <tr style=\"text-align: right;\">\n",
       "      <th></th>\n",
       "      <th>call_month</th>\n",
       "      <th>user_id</th>\n",
       "      <th>calls_id_count</th>\n",
       "    </tr>\n",
       "  </thead>\n",
       "  <tbody>\n",
       "    <tr>\n",
       "      <th>0</th>\n",
       "      <td>1</td>\n",
       "      <td>1005</td>\n",
       "      <td>11</td>\n",
       "    </tr>\n",
       "    <tr>\n",
       "      <th>1</th>\n",
       "      <td>1</td>\n",
       "      <td>1032</td>\n",
       "      <td>44</td>\n",
       "    </tr>\n",
       "    <tr>\n",
       "      <th>2</th>\n",
       "      <td>1</td>\n",
       "      <td>1045</td>\n",
       "      <td>1</td>\n",
       "    </tr>\n",
       "    <tr>\n",
       "      <th>3</th>\n",
       "      <td>1</td>\n",
       "      <td>1055</td>\n",
       "      <td>47</td>\n",
       "    </tr>\n",
       "    <tr>\n",
       "      <th>4</th>\n",
       "      <td>1</td>\n",
       "      <td>1071</td>\n",
       "      <td>18</td>\n",
       "    </tr>\n",
       "    <tr>\n",
       "      <th>...</th>\n",
       "      <td>...</td>\n",
       "      <td>...</td>\n",
       "      <td>...</td>\n",
       "    </tr>\n",
       "    <tr>\n",
       "      <th>3163</th>\n",
       "      <td>12</td>\n",
       "      <td>1494</td>\n",
       "      <td>54</td>\n",
       "    </tr>\n",
       "    <tr>\n",
       "      <th>3164</th>\n",
       "      <td>12</td>\n",
       "      <td>1495</td>\n",
       "      <td>120</td>\n",
       "    </tr>\n",
       "    <tr>\n",
       "      <th>3165</th>\n",
       "      <td>12</td>\n",
       "      <td>1496</td>\n",
       "      <td>65</td>\n",
       "    </tr>\n",
       "    <tr>\n",
       "      <th>3166</th>\n",
       "      <td>12</td>\n",
       "      <td>1497</td>\n",
       "      <td>58</td>\n",
       "    </tr>\n",
       "    <tr>\n",
       "      <th>3167</th>\n",
       "      <td>12</td>\n",
       "      <td>1499</td>\n",
       "      <td>56</td>\n",
       "    </tr>\n",
       "  </tbody>\n",
       "</table>\n",
       "<p>3168 rows × 3 columns</p>\n",
       "</div>"
      ],
      "text/plain": [
       "      call_month  user_id  calls_id_count\n",
       "0              1     1005              11\n",
       "1              1     1032              44\n",
       "2              1     1045               1\n",
       "3              1     1055              47\n",
       "4              1     1071              18\n",
       "...          ...      ...             ...\n",
       "3163          12     1494              54\n",
       "3164          12     1495             120\n",
       "3165          12     1496              65\n",
       "3166          12     1497              58\n",
       "3167          12     1499              56\n",
       "\n",
       "[3168 rows x 3 columns]"
      ]
     },
     "execution_count": 47,
     "metadata": {},
     "output_type": "execute_result"
    }
   ],
   "source": [
    "calls_count_by_month = agg_by_2lvls(calls, 'call_month', 'user_id', 'id', 'count')\n",
    "calls_count_by_month"
   ]
  },
  {
   "cell_type": "markdown",
   "metadata": {},
   "source": [
    "Заменим имя колонки с месяцем на *month* "
   ]
  },
  {
   "cell_type": "code",
   "execution_count": 48,
   "metadata": {},
   "outputs": [
    {
     "data": {
      "text/plain": [
       "Index(['month', 'user_id', 'calls_id_count'], dtype='object')"
      ]
     },
     "execution_count": 48,
     "metadata": {},
     "output_type": "execute_result"
    }
   ],
   "source": [
    "calls_count_by_month.columns = ['month', 'user_id', 'calls_id_count']\n",
    "calls_count_by_month.columns"
   ]
  },
  {
   "cell_type": "markdown",
   "metadata": {},
   "source": [
    "- Посчитаем количество израсходованных минут для каждого пользователя по месяцам. Положим результат в таблицу **calls_duration_by_month**."
   ]
  },
  {
   "cell_type": "code",
   "execution_count": 49,
   "metadata": {
    "scrolled": false
   },
   "outputs": [
    {
     "data": {
      "text/html": [
       "<div>\n",
       "<style scoped>\n",
       "    .dataframe tbody tr th:only-of-type {\n",
       "        vertical-align: middle;\n",
       "    }\n",
       "\n",
       "    .dataframe tbody tr th {\n",
       "        vertical-align: top;\n",
       "    }\n",
       "\n",
       "    .dataframe thead th {\n",
       "        text-align: right;\n",
       "    }\n",
       "</style>\n",
       "<table border=\"1\" class=\"dataframe\">\n",
       "  <thead>\n",
       "    <tr style=\"text-align: right;\">\n",
       "      <th></th>\n",
       "      <th>call_month</th>\n",
       "      <th>user_id</th>\n",
       "      <th>calls_duration_sum</th>\n",
       "    </tr>\n",
       "  </thead>\n",
       "  <tbody>\n",
       "    <tr>\n",
       "      <th>0</th>\n",
       "      <td>1</td>\n",
       "      <td>1005</td>\n",
       "      <td>95</td>\n",
       "    </tr>\n",
       "    <tr>\n",
       "      <th>1</th>\n",
       "      <td>1</td>\n",
       "      <td>1032</td>\n",
       "      <td>380</td>\n",
       "    </tr>\n",
       "    <tr>\n",
       "      <th>2</th>\n",
       "      <td>1</td>\n",
       "      <td>1045</td>\n",
       "      <td>9</td>\n",
       "    </tr>\n",
       "    <tr>\n",
       "      <th>3</th>\n",
       "      <td>1</td>\n",
       "      <td>1055</td>\n",
       "      <td>551</td>\n",
       "    </tr>\n",
       "    <tr>\n",
       "      <th>4</th>\n",
       "      <td>1</td>\n",
       "      <td>1071</td>\n",
       "      <td>194</td>\n",
       "    </tr>\n",
       "    <tr>\n",
       "      <th>...</th>\n",
       "      <td>...</td>\n",
       "      <td>...</td>\n",
       "      <td>...</td>\n",
       "    </tr>\n",
       "    <tr>\n",
       "      <th>3163</th>\n",
       "      <td>12</td>\n",
       "      <td>1494</td>\n",
       "      <td>418</td>\n",
       "    </tr>\n",
       "    <tr>\n",
       "      <th>3164</th>\n",
       "      <td>12</td>\n",
       "      <td>1495</td>\n",
       "      <td>1031</td>\n",
       "    </tr>\n",
       "    <tr>\n",
       "      <th>3165</th>\n",
       "      <td>12</td>\n",
       "      <td>1496</td>\n",
       "      <td>518</td>\n",
       "    </tr>\n",
       "    <tr>\n",
       "      <th>3166</th>\n",
       "      <td>12</td>\n",
       "      <td>1497</td>\n",
       "      <td>545</td>\n",
       "    </tr>\n",
       "    <tr>\n",
       "      <th>3167</th>\n",
       "      <td>12</td>\n",
       "      <td>1499</td>\n",
       "      <td>492</td>\n",
       "    </tr>\n",
       "  </tbody>\n",
       "</table>\n",
       "<p>3168 rows × 3 columns</p>\n",
       "</div>"
      ],
      "text/plain": [
       "      call_month  user_id  calls_duration_sum\n",
       "0              1     1005                  95\n",
       "1              1     1032                 380\n",
       "2              1     1045                   9\n",
       "3              1     1055                 551\n",
       "4              1     1071                 194\n",
       "...          ...      ...                 ...\n",
       "3163          12     1494                 418\n",
       "3164          12     1495                1031\n",
       "3165          12     1496                 518\n",
       "3166          12     1497                 545\n",
       "3167          12     1499                 492\n",
       "\n",
       "[3168 rows x 3 columns]"
      ]
     },
     "execution_count": 49,
     "metadata": {},
     "output_type": "execute_result"
    }
   ],
   "source": [
    "calls_duration_by_month = agg_by_2lvls(calls, 'call_month', 'user_id', 'duration', 'sum')\n",
    "calls_duration_by_month"
   ]
  },
  {
   "cell_type": "markdown",
   "metadata": {},
   "source": [
    "Заменим имя колонки с месяцем на *month* "
   ]
  },
  {
   "cell_type": "code",
   "execution_count": 50,
   "metadata": {},
   "outputs": [
    {
     "data": {
      "text/plain": [
       "Index(['month', 'user_id', 'calls_duration_sum'], dtype='object')"
      ]
     },
     "execution_count": 50,
     "metadata": {},
     "output_type": "execute_result"
    }
   ],
   "source": [
    "calls_duration_by_month.columns = ['month', 'user_id', 'calls_duration_sum']\n",
    "calls_duration_by_month.columns"
   ]
  },
  {
   "cell_type": "markdown",
   "metadata": {},
   "source": [
    "### 2.3.3. Таблица *messages*<a class=\"anchor\" id=\"section_2_3_3\"></a>"
   ]
  },
  {
   "cell_type": "code",
   "execution_count": 51,
   "metadata": {
    "scrolled": true
   },
   "outputs": [
    {
     "data": {
      "text/html": [
       "<div>\n",
       "<style scoped>\n",
       "    .dataframe tbody tr th:only-of-type {\n",
       "        vertical-align: middle;\n",
       "    }\n",
       "\n",
       "    .dataframe tbody tr th {\n",
       "        vertical-align: top;\n",
       "    }\n",
       "\n",
       "    .dataframe thead th {\n",
       "        text-align: right;\n",
       "    }\n",
       "</style>\n",
       "<table border=\"1\" class=\"dataframe\">\n",
       "  <thead>\n",
       "    <tr style=\"text-align: right;\">\n",
       "      <th></th>\n",
       "      <th>id</th>\n",
       "      <th>message_date</th>\n",
       "      <th>user_id</th>\n",
       "      <th>message_year</th>\n",
       "      <th>message_month</th>\n",
       "      <th>message_day</th>\n",
       "      <th>message_weekday</th>\n",
       "    </tr>\n",
       "  </thead>\n",
       "  <tbody>\n",
       "    <tr>\n",
       "      <th>0</th>\n",
       "      <td>1000_0</td>\n",
       "      <td>2018-06-27</td>\n",
       "      <td>1000</td>\n",
       "      <td>2018</td>\n",
       "      <td>6</td>\n",
       "      <td>27</td>\n",
       "      <td>2</td>\n",
       "    </tr>\n",
       "    <tr>\n",
       "      <th>1</th>\n",
       "      <td>1000_1</td>\n",
       "      <td>2018-10-08</td>\n",
       "      <td>1000</td>\n",
       "      <td>2018</td>\n",
       "      <td>10</td>\n",
       "      <td>8</td>\n",
       "      <td>0</td>\n",
       "    </tr>\n",
       "    <tr>\n",
       "      <th>2</th>\n",
       "      <td>1000_2</td>\n",
       "      <td>2018-08-04</td>\n",
       "      <td>1000</td>\n",
       "      <td>2018</td>\n",
       "      <td>8</td>\n",
       "      <td>4</td>\n",
       "      <td>5</td>\n",
       "    </tr>\n",
       "    <tr>\n",
       "      <th>3</th>\n",
       "      <td>1000_3</td>\n",
       "      <td>2018-06-16</td>\n",
       "      <td>1000</td>\n",
       "      <td>2018</td>\n",
       "      <td>6</td>\n",
       "      <td>16</td>\n",
       "      <td>5</td>\n",
       "    </tr>\n",
       "    <tr>\n",
       "      <th>4</th>\n",
       "      <td>1000_4</td>\n",
       "      <td>2018-12-05</td>\n",
       "      <td>1000</td>\n",
       "      <td>2018</td>\n",
       "      <td>12</td>\n",
       "      <td>5</td>\n",
       "      <td>2</td>\n",
       "    </tr>\n",
       "  </tbody>\n",
       "</table>\n",
       "</div>"
      ],
      "text/plain": [
       "       id message_date  user_id  message_year  message_month  message_day  \\\n",
       "0  1000_0   2018-06-27     1000          2018              6           27   \n",
       "1  1000_1   2018-10-08     1000          2018             10            8   \n",
       "2  1000_2   2018-08-04     1000          2018              8            4   \n",
       "3  1000_3   2018-06-16     1000          2018              6           16   \n",
       "4  1000_4   2018-12-05     1000          2018             12            5   \n",
       "\n",
       "   message_weekday  \n",
       "0                2  \n",
       "1                0  \n",
       "2                5  \n",
       "3                5  \n",
       "4                2  "
      ]
     },
     "execution_count": 51,
     "metadata": {},
     "output_type": "execute_result"
    }
   ],
   "source": [
    "messages.head()"
   ]
  },
  {
   "cell_type": "markdown",
   "metadata": {},
   "source": [
    "- Посчитаем количество отправленных каждым пользователем сообщений по месяцам. Положим результат в таблицу **messages_count_by_month**."
   ]
  },
  {
   "cell_type": "code",
   "execution_count": 52,
   "metadata": {
    "scrolled": false
   },
   "outputs": [
    {
     "data": {
      "text/html": [
       "<div>\n",
       "<style scoped>\n",
       "    .dataframe tbody tr th:only-of-type {\n",
       "        vertical-align: middle;\n",
       "    }\n",
       "\n",
       "    .dataframe tbody tr th {\n",
       "        vertical-align: top;\n",
       "    }\n",
       "\n",
       "    .dataframe thead th {\n",
       "        text-align: right;\n",
       "    }\n",
       "</style>\n",
       "<table border=\"1\" class=\"dataframe\">\n",
       "  <thead>\n",
       "    <tr style=\"text-align: right;\">\n",
       "      <th></th>\n",
       "      <th>message_month</th>\n",
       "      <th>user_id</th>\n",
       "      <th>messages_id_count</th>\n",
       "    </tr>\n",
       "  </thead>\n",
       "  <tbody>\n",
       "    <tr>\n",
       "      <th>0</th>\n",
       "      <td>1</td>\n",
       "      <td>1005</td>\n",
       "      <td>7</td>\n",
       "    </tr>\n",
       "    <tr>\n",
       "      <th>1</th>\n",
       "      <td>1</td>\n",
       "      <td>1032</td>\n",
       "      <td>38</td>\n",
       "    </tr>\n",
       "    <tr>\n",
       "      <th>2</th>\n",
       "      <td>1</td>\n",
       "      <td>1045</td>\n",
       "      <td>5</td>\n",
       "    </tr>\n",
       "    <tr>\n",
       "      <th>3</th>\n",
       "      <td>1</td>\n",
       "      <td>1055</td>\n",
       "      <td>30</td>\n",
       "    </tr>\n",
       "    <tr>\n",
       "      <th>4</th>\n",
       "      <td>1</td>\n",
       "      <td>1071</td>\n",
       "      <td>16</td>\n",
       "    </tr>\n",
       "    <tr>\n",
       "      <th>...</th>\n",
       "      <td>...</td>\n",
       "      <td>...</td>\n",
       "      <td>...</td>\n",
       "    </tr>\n",
       "    <tr>\n",
       "      <th>2712</th>\n",
       "      <td>12</td>\n",
       "      <td>1493</td>\n",
       "      <td>78</td>\n",
       "    </tr>\n",
       "    <tr>\n",
       "      <th>2713</th>\n",
       "      <td>12</td>\n",
       "      <td>1495</td>\n",
       "      <td>84</td>\n",
       "    </tr>\n",
       "    <tr>\n",
       "      <th>2714</th>\n",
       "      <td>12</td>\n",
       "      <td>1496</td>\n",
       "      <td>51</td>\n",
       "    </tr>\n",
       "    <tr>\n",
       "      <th>2715</th>\n",
       "      <td>12</td>\n",
       "      <td>1497</td>\n",
       "      <td>17</td>\n",
       "    </tr>\n",
       "    <tr>\n",
       "      <th>2716</th>\n",
       "      <td>12</td>\n",
       "      <td>1499</td>\n",
       "      <td>66</td>\n",
       "    </tr>\n",
       "  </tbody>\n",
       "</table>\n",
       "<p>2717 rows × 3 columns</p>\n",
       "</div>"
      ],
      "text/plain": [
       "      message_month  user_id  messages_id_count\n",
       "0                 1     1005                  7\n",
       "1                 1     1032                 38\n",
       "2                 1     1045                  5\n",
       "3                 1     1055                 30\n",
       "4                 1     1071                 16\n",
       "...             ...      ...                ...\n",
       "2712             12     1493                 78\n",
       "2713             12     1495                 84\n",
       "2714             12     1496                 51\n",
       "2715             12     1497                 17\n",
       "2716             12     1499                 66\n",
       "\n",
       "[2717 rows x 3 columns]"
      ]
     },
     "execution_count": 52,
     "metadata": {},
     "output_type": "execute_result"
    }
   ],
   "source": [
    "messages_count_by_month = agg_by_2lvls(messages, 'message_month', 'user_id', 'id', 'count')\n",
    "messages_count_by_month"
   ]
  },
  {
   "cell_type": "markdown",
   "metadata": {},
   "source": [
    "Заменим имя колонки с месяцем на *month* "
   ]
  },
  {
   "cell_type": "code",
   "execution_count": 53,
   "metadata": {},
   "outputs": [
    {
     "data": {
      "text/plain": [
       "Index(['month', 'user_id', 'messages_id_count'], dtype='object')"
      ]
     },
     "execution_count": 53,
     "metadata": {},
     "output_type": "execute_result"
    }
   ],
   "source": [
    "messages_count_by_month.columns = ['month', 'user_id', 'messages_id_count']\n",
    "messages_count_by_month.columns"
   ]
  },
  {
   "cell_type": "markdown",
   "metadata": {},
   "source": [
    "### 2.3.4. Таблица *internet*<a class=\"anchor\" id=\"section_2_3_4\"></a>"
   ]
  },
  {
   "cell_type": "code",
   "execution_count": 54,
   "metadata": {
    "scrolled": true
   },
   "outputs": [
    {
     "data": {
      "text/html": [
       "<div>\n",
       "<style scoped>\n",
       "    .dataframe tbody tr th:only-of-type {\n",
       "        vertical-align: middle;\n",
       "    }\n",
       "\n",
       "    .dataframe tbody tr th {\n",
       "        vertical-align: top;\n",
       "    }\n",
       "\n",
       "    .dataframe thead th {\n",
       "        text-align: right;\n",
       "    }\n",
       "</style>\n",
       "<table border=\"1\" class=\"dataframe\">\n",
       "  <thead>\n",
       "    <tr style=\"text-align: right;\">\n",
       "      <th></th>\n",
       "      <th>Unnamed: 0</th>\n",
       "      <th>id</th>\n",
       "      <th>mb_used</th>\n",
       "      <th>session_date</th>\n",
       "      <th>user_id</th>\n",
       "      <th>session_year</th>\n",
       "      <th>session_month</th>\n",
       "      <th>session_day</th>\n",
       "      <th>session_weekday</th>\n",
       "    </tr>\n",
       "  </thead>\n",
       "  <tbody>\n",
       "    <tr>\n",
       "      <th>0</th>\n",
       "      <td>0</td>\n",
       "      <td>1000_0</td>\n",
       "      <td>112.95</td>\n",
       "      <td>2018-11-25</td>\n",
       "      <td>1000</td>\n",
       "      <td>2018</td>\n",
       "      <td>11</td>\n",
       "      <td>25</td>\n",
       "      <td>6</td>\n",
       "    </tr>\n",
       "    <tr>\n",
       "      <th>1</th>\n",
       "      <td>1</td>\n",
       "      <td>1000_1</td>\n",
       "      <td>1052.81</td>\n",
       "      <td>2018-09-07</td>\n",
       "      <td>1000</td>\n",
       "      <td>2018</td>\n",
       "      <td>9</td>\n",
       "      <td>7</td>\n",
       "      <td>4</td>\n",
       "    </tr>\n",
       "    <tr>\n",
       "      <th>2</th>\n",
       "      <td>2</td>\n",
       "      <td>1000_2</td>\n",
       "      <td>1197.26</td>\n",
       "      <td>2018-06-25</td>\n",
       "      <td>1000</td>\n",
       "      <td>2018</td>\n",
       "      <td>6</td>\n",
       "      <td>25</td>\n",
       "      <td>0</td>\n",
       "    </tr>\n",
       "    <tr>\n",
       "      <th>3</th>\n",
       "      <td>3</td>\n",
       "      <td>1000_3</td>\n",
       "      <td>550.27</td>\n",
       "      <td>2018-08-22</td>\n",
       "      <td>1000</td>\n",
       "      <td>2018</td>\n",
       "      <td>8</td>\n",
       "      <td>22</td>\n",
       "      <td>2</td>\n",
       "    </tr>\n",
       "    <tr>\n",
       "      <th>4</th>\n",
       "      <td>4</td>\n",
       "      <td>1000_4</td>\n",
       "      <td>302.56</td>\n",
       "      <td>2018-09-24</td>\n",
       "      <td>1000</td>\n",
       "      <td>2018</td>\n",
       "      <td>9</td>\n",
       "      <td>24</td>\n",
       "      <td>0</td>\n",
       "    </tr>\n",
       "  </tbody>\n",
       "</table>\n",
       "</div>"
      ],
      "text/plain": [
       "   Unnamed: 0      id  mb_used session_date  user_id  session_year  \\\n",
       "0           0  1000_0   112.95   2018-11-25     1000          2018   \n",
       "1           1  1000_1  1052.81   2018-09-07     1000          2018   \n",
       "2           2  1000_2  1197.26   2018-06-25     1000          2018   \n",
       "3           3  1000_3   550.27   2018-08-22     1000          2018   \n",
       "4           4  1000_4   302.56   2018-09-24     1000          2018   \n",
       "\n",
       "   session_month  session_day  session_weekday  \n",
       "0             11           25                6  \n",
       "1              9            7                4  \n",
       "2              6           25                0  \n",
       "3              8           22                2  \n",
       "4              9           24                0  "
      ]
     },
     "execution_count": 54,
     "metadata": {},
     "output_type": "execute_result"
    }
   ],
   "source": [
    "internet.head()"
   ]
  },
  {
   "cell_type": "markdown",
   "metadata": {},
   "source": [
    "Оценим сырые данные по трафику с точки зрения выбросов."
   ]
  },
  {
   "cell_type": "code",
   "execution_count": 55,
   "metadata": {},
   "outputs": [
    {
     "data": {
      "image/png": "[encoded data removed]",
      "text/plain": [
       "<Figure size 648x360 with 1 Axes>"
      ]
     },
     "metadata": {
      "needs_background": "light"
     },
     "output_type": "display_data"
    },
    {
     "name": "stdout",
     "output_type": "stream",
     "text": [
      "Среднее значение:  370.19\n",
      "Стандартное отклонение:  278.3\n",
      "Медиана:  348.01\n"
     ]
    }
   ],
   "source": [
    "box_mustache_hist(internet, 'mb_used', 100, 'Сырые данные по интернет-трафику пользователей')"
   ]
  },
  {
   "cell_type": "markdown",
   "metadata": {},
   "source": [
    "Как и в случае со звонками, отбросим данные, где трафик сессии равен 0.0 Мб. Данные о таких сессиях ничего не репрезентативны и влияют на среднее, тандартное отклонение и медиану."
   ]
  },
  {
   "cell_type": "code",
   "execution_count": 56,
   "metadata": {},
   "outputs": [],
   "source": [
    "missed_sessions = internet[internet['mb_used'] == 0]"
   ]
  },
  {
   "cell_type": "code",
   "execution_count": 57,
   "metadata": {},
   "outputs": [
    {
     "name": "stdout",
     "output_type": "stream",
     "text": [
      "Выбрасываем  19598  нерепрезентативных строк из выборки в  149396  строк.\n"
     ]
    }
   ],
   "source": [
    "print('Выбрасываем ', missed_sessions.shape[0], ' нерепрезентативных строк из выборки в ', internet.shape[0], ' строк.')"
   ]
  },
  {
   "cell_type": "markdown",
   "metadata": {},
   "source": [
    "Оставим в **internet** только сессии с ненулевым трафиком."
   ]
  },
  {
   "cell_type": "code",
   "execution_count": 58,
   "metadata": {},
   "outputs": [],
   "source": [
    "internet = internet[internet['mb_used'] > 0]"
   ]
  },
  {
   "cell_type": "code",
   "execution_count": 59,
   "metadata": {},
   "outputs": [
    {
     "data": {
      "image/png": "[encoded data removed]",
      "text/plain": [
       "<Figure size 648x360 with 1 Axes>"
      ]
     },
     "metadata": {
      "needs_background": "light"
     },
     "output_type": "display_data"
    },
    {
     "name": "stdout",
     "output_type": "stream",
     "text": [
      "Среднее значение:  426.09\n",
      "Стандартное отклонение:  255.6\n",
      "Медиана:  400.54\n"
     ]
    }
   ],
   "source": [
    "box_mustache_hist(internet, 'mb_used', 100, 'Данные по интернет-трафику пользователей')"
   ]
  },
  {
   "cell_type": "markdown",
   "metadata": {},
   "source": [
    "- Посчитаем суммарный трафик каждого пользователя по месяцам. Положим результат в таблицу **internet_sum_by_month**."
   ]
  },
  {
   "cell_type": "code",
   "execution_count": 60,
   "metadata": {
    "scrolled": false
   },
   "outputs": [
    {
     "data": {
      "text/html": [
       "<div>\n",
       "<style scoped>\n",
       "    .dataframe tbody tr th:only-of-type {\n",
       "        vertical-align: middle;\n",
       "    }\n",
       "\n",
       "    .dataframe tbody tr th {\n",
       "        vertical-align: top;\n",
       "    }\n",
       "\n",
       "    .dataframe thead th {\n",
       "        text-align: right;\n",
       "    }\n",
       "</style>\n",
       "<table border=\"1\" class=\"dataframe\">\n",
       "  <thead>\n",
       "    <tr style=\"text-align: right;\">\n",
       "      <th></th>\n",
       "      <th>session_month</th>\n",
       "      <th>user_id</th>\n",
       "      <th>internet_mb_used_sum</th>\n",
       "    </tr>\n",
       "  </thead>\n",
       "  <tbody>\n",
       "    <tr>\n",
       "      <th>0</th>\n",
       "      <td>1</td>\n",
       "      <td>1005</td>\n",
       "      <td>2727.97</td>\n",
       "    </tr>\n",
       "    <tr>\n",
       "      <th>1</th>\n",
       "      <td>1</td>\n",
       "      <td>1032</td>\n",
       "      <td>24127.69</td>\n",
       "    </tr>\n",
       "    <tr>\n",
       "      <th>2</th>\n",
       "      <td>1</td>\n",
       "      <td>1045</td>\n",
       "      <td>2346.71</td>\n",
       "    </tr>\n",
       "    <tr>\n",
       "      <th>3</th>\n",
       "      <td>1</td>\n",
       "      <td>1055</td>\n",
       "      <td>17090.88</td>\n",
       "    </tr>\n",
       "    <tr>\n",
       "      <th>4</th>\n",
       "      <td>1</td>\n",
       "      <td>1071</td>\n",
       "      <td>15604.34</td>\n",
       "    </tr>\n",
       "    <tr>\n",
       "      <th>...</th>\n",
       "      <td>...</td>\n",
       "      <td>...</td>\n",
       "      <td>...</td>\n",
       "    </tr>\n",
       "    <tr>\n",
       "      <th>3196</th>\n",
       "      <td>12</td>\n",
       "      <td>1494</td>\n",
       "      <td>17621.21</td>\n",
       "    </tr>\n",
       "    <tr>\n",
       "      <th>3197</th>\n",
       "      <td>12</td>\n",
       "      <td>1495</td>\n",
       "      <td>23426.76</td>\n",
       "    </tr>\n",
       "    <tr>\n",
       "      <th>3198</th>\n",
       "      <td>12</td>\n",
       "      <td>1496</td>\n",
       "      <td>20736.15</td>\n",
       "    </tr>\n",
       "    <tr>\n",
       "      <th>3199</th>\n",
       "      <td>12</td>\n",
       "      <td>1497</td>\n",
       "      <td>19918.60</td>\n",
       "    </tr>\n",
       "    <tr>\n",
       "      <th>3200</th>\n",
       "      <td>12</td>\n",
       "      <td>1499</td>\n",
       "      <td>13055.58</td>\n",
       "    </tr>\n",
       "  </tbody>\n",
       "</table>\n",
       "<p>3201 rows × 3 columns</p>\n",
       "</div>"
      ],
      "text/plain": [
       "      session_month  user_id  internet_mb_used_sum\n",
       "0                 1     1005               2727.97\n",
       "1                 1     1032              24127.69\n",
       "2                 1     1045               2346.71\n",
       "3                 1     1055              17090.88\n",
       "4                 1     1071              15604.34\n",
       "...             ...      ...                   ...\n",
       "3196             12     1494              17621.21\n",
       "3197             12     1495              23426.76\n",
       "3198             12     1496              20736.15\n",
       "3199             12     1497              19918.60\n",
       "3200             12     1499              13055.58\n",
       "\n",
       "[3201 rows x 3 columns]"
      ]
     },
     "execution_count": 60,
     "metadata": {},
     "output_type": "execute_result"
    }
   ],
   "source": [
    "internet_sum_by_month = agg_by_2lvls(internet, 'session_month', 'user_id', 'mb_used', 'sum')\n",
    "internet_sum_by_month"
   ]
  },
  {
   "cell_type": "markdown",
   "metadata": {},
   "source": [
    "Заменим имя колонки с месяцем на *month* "
   ]
  },
  {
   "cell_type": "code",
   "execution_count": 61,
   "metadata": {},
   "outputs": [
    {
     "data": {
      "text/plain": [
       "Index(['month', 'user_id', 'internet_mb_used_sum'], dtype='object')"
      ]
     },
     "execution_count": 61,
     "metadata": {},
     "output_type": "execute_result"
    }
   ],
   "source": [
    "internet_sum_by_month.columns = ['month', 'user_id', 'internet_mb_used_sum']\n",
    "internet_sum_by_month.columns"
   ]
  },
  {
   "cell_type": "markdown",
   "metadata": {},
   "source": [
    "### 2.3.5.  Помесячная выручка<a class=\"anchor\" id=\"section_2_3_5\"></a>"
   ]
  },
  {
   "cell_type": "markdown",
   "metadata": {},
   "source": [
    "Посмотрим еще раз на размеры полученных таблиц. Так как тарифом не ограничено количество звонков, а только количество потраченных минут, то нам не понадобится сейчас таблица calls_count_by_month."
   ]
  },
  {
   "cell_type": "code",
   "execution_count": 62,
   "metadata": {},
   "outputs": [
    {
     "name": "stdout",
     "output_type": "stream",
     "text": [
      "3201 3168 2717\n"
     ]
    }
   ],
   "source": [
    "print(internet_sum_by_month.shape[0],\n",
    "      calls_duration_by_month.shape[0],\n",
    "      messages_count_by_month.shape[0])"
   ]
  },
  {
   "cell_type": "markdown",
   "metadata": {},
   "source": [
    "Объединим эти таблицы c таблицей **users**."
   ]
  },
  {
   "cell_type": "code",
   "execution_count": 63,
   "metadata": {},
   "outputs": [
    {
     "data": {
      "text/plain": [
       "3204"
      ]
     },
     "execution_count": 63,
     "metadata": {},
     "output_type": "execute_result"
    }
   ],
   "source": [
    "users_data = users.merge(internet_sum_by_month, on='user_id', how='outer')\n",
    "users_data.shape[0]"
   ]
  },
  {
   "cell_type": "code",
   "execution_count": 64,
   "metadata": {},
   "outputs": [
    {
     "data": {
      "text/plain": [
       "3204"
      ]
     },
     "execution_count": 64,
     "metadata": {},
     "output_type": "execute_result"
    }
   ],
   "source": [
    "users_data['calls_duration_sum'] = users_data.merge(calls_duration_by_month, on='user_id', how='outer')['calls_duration_sum']\n",
    "users_data.shape[0]"
   ]
  },
  {
   "cell_type": "code",
   "execution_count": 65,
   "metadata": {
    "scrolled": true
   },
   "outputs": [
    {
     "data": {
      "text/html": [
       "<div>\n",
       "<style scoped>\n",
       "    .dataframe tbody tr th:only-of-type {\n",
       "        vertical-align: middle;\n",
       "    }\n",
       "\n",
       "    .dataframe tbody tr th {\n",
       "        vertical-align: top;\n",
       "    }\n",
       "\n",
       "    .dataframe thead th {\n",
       "        text-align: right;\n",
       "    }\n",
       "</style>\n",
       "<table border=\"1\" class=\"dataframe\">\n",
       "  <thead>\n",
       "    <tr style=\"text-align: right;\">\n",
       "      <th></th>\n",
       "      <th>user_id</th>\n",
       "      <th>age</th>\n",
       "      <th>churn_date</th>\n",
       "      <th>city</th>\n",
       "      <th>first_name</th>\n",
       "      <th>last_name</th>\n",
       "      <th>reg_date</th>\n",
       "      <th>tariff</th>\n",
       "      <th>reg_year</th>\n",
       "      <th>reg_month</th>\n",
       "      <th>reg_day</th>\n",
       "      <th>reg_weekday</th>\n",
       "      <th>age_group_id</th>\n",
       "      <th>month</th>\n",
       "      <th>internet_mb_used_sum</th>\n",
       "      <th>calls_duration_sum</th>\n",
       "      <th>messages_id_count</th>\n",
       "    </tr>\n",
       "  </thead>\n",
       "  <tbody>\n",
       "    <tr>\n",
       "      <th>0</th>\n",
       "      <td>1000</td>\n",
       "      <td>52</td>\n",
       "      <td>NaN</td>\n",
       "      <td>Краснодар</td>\n",
       "      <td>Рафаил</td>\n",
       "      <td>Верещагин</td>\n",
       "      <td>2018-05-25</td>\n",
       "      <td>ultra</td>\n",
       "      <td>2018</td>\n",
       "      <td>5</td>\n",
       "      <td>25</td>\n",
       "      <td>4</td>\n",
       "      <td>50</td>\n",
       "      <td>5.0</td>\n",
       "      <td>2253.49</td>\n",
       "      <td>159.0</td>\n",
       "      <td>22.0</td>\n",
       "    </tr>\n",
       "    <tr>\n",
       "      <th>1</th>\n",
       "      <td>1000</td>\n",
       "      <td>52</td>\n",
       "      <td>NaN</td>\n",
       "      <td>Краснодар</td>\n",
       "      <td>Рафаил</td>\n",
       "      <td>Верещагин</td>\n",
       "      <td>2018-05-25</td>\n",
       "      <td>ultra</td>\n",
       "      <td>2018</td>\n",
       "      <td>5</td>\n",
       "      <td>25</td>\n",
       "      <td>4</td>\n",
       "      <td>50</td>\n",
       "      <td>6.0</td>\n",
       "      <td>23233.77</td>\n",
       "      <td>172.0</td>\n",
       "      <td>60.0</td>\n",
       "    </tr>\n",
       "    <tr>\n",
       "      <th>2</th>\n",
       "      <td>1000</td>\n",
       "      <td>52</td>\n",
       "      <td>NaN</td>\n",
       "      <td>Краснодар</td>\n",
       "      <td>Рафаил</td>\n",
       "      <td>Верещагин</td>\n",
       "      <td>2018-05-25</td>\n",
       "      <td>ultra</td>\n",
       "      <td>2018</td>\n",
       "      <td>5</td>\n",
       "      <td>25</td>\n",
       "      <td>4</td>\n",
       "      <td>50</td>\n",
       "      <td>7.0</td>\n",
       "      <td>14003.64</td>\n",
       "      <td>340.0</td>\n",
       "      <td>75.0</td>\n",
       "    </tr>\n",
       "    <tr>\n",
       "      <th>3</th>\n",
       "      <td>1000</td>\n",
       "      <td>52</td>\n",
       "      <td>NaN</td>\n",
       "      <td>Краснодар</td>\n",
       "      <td>Рафаил</td>\n",
       "      <td>Верещагин</td>\n",
       "      <td>2018-05-25</td>\n",
       "      <td>ultra</td>\n",
       "      <td>2018</td>\n",
       "      <td>5</td>\n",
       "      <td>25</td>\n",
       "      <td>4</td>\n",
       "      <td>50</td>\n",
       "      <td>8.0</td>\n",
       "      <td>14055.93</td>\n",
       "      <td>408.0</td>\n",
       "      <td>81.0</td>\n",
       "    </tr>\n",
       "    <tr>\n",
       "      <th>4</th>\n",
       "      <td>1000</td>\n",
       "      <td>52</td>\n",
       "      <td>NaN</td>\n",
       "      <td>Краснодар</td>\n",
       "      <td>Рафаил</td>\n",
       "      <td>Верещагин</td>\n",
       "      <td>2018-05-25</td>\n",
       "      <td>ultra</td>\n",
       "      <td>2018</td>\n",
       "      <td>5</td>\n",
       "      <td>25</td>\n",
       "      <td>4</td>\n",
       "      <td>50</td>\n",
       "      <td>9.0</td>\n",
       "      <td>14568.91</td>\n",
       "      <td>466.0</td>\n",
       "      <td>57.0</td>\n",
       "    </tr>\n",
       "    <tr>\n",
       "      <th>...</th>\n",
       "      <td>...</td>\n",
       "      <td>...</td>\n",
       "      <td>...</td>\n",
       "      <td>...</td>\n",
       "      <td>...</td>\n",
       "      <td>...</td>\n",
       "      <td>...</td>\n",
       "      <td>...</td>\n",
       "      <td>...</td>\n",
       "      <td>...</td>\n",
       "      <td>...</td>\n",
       "      <td>...</td>\n",
       "      <td>...</td>\n",
       "      <td>...</td>\n",
       "      <td>...</td>\n",
       "      <td>...</td>\n",
       "      <td>...</td>\n",
       "    </tr>\n",
       "    <tr>\n",
       "      <th>3199</th>\n",
       "      <td>1498</td>\n",
       "      <td>68</td>\n",
       "      <td>2018-10-25</td>\n",
       "      <td>Владикавказ</td>\n",
       "      <td>Всеволод</td>\n",
       "      <td>Акимчин</td>\n",
       "      <td>2018-07-19</td>\n",
       "      <td>smart</td>\n",
       "      <td>2018</td>\n",
       "      <td>7</td>\n",
       "      <td>19</td>\n",
       "      <td>3</td>\n",
       "      <td>60</td>\n",
       "      <td>10.0</td>\n",
       "      <td>20579.36</td>\n",
       "      <td>313.0</td>\n",
       "      <td>20.0</td>\n",
       "    </tr>\n",
       "    <tr>\n",
       "      <th>3200</th>\n",
       "      <td>1499</td>\n",
       "      <td>35</td>\n",
       "      <td>NaN</td>\n",
       "      <td>Пермь</td>\n",
       "      <td>Гектор</td>\n",
       "      <td>Корнилов</td>\n",
       "      <td>2018-09-27</td>\n",
       "      <td>smart</td>\n",
       "      <td>2018</td>\n",
       "      <td>9</td>\n",
       "      <td>27</td>\n",
       "      <td>3</td>\n",
       "      <td>30</td>\n",
       "      <td>9.0</td>\n",
       "      <td>1845.75</td>\n",
       "      <td>402.0</td>\n",
       "      <td>22.0</td>\n",
       "    </tr>\n",
       "    <tr>\n",
       "      <th>3201</th>\n",
       "      <td>1499</td>\n",
       "      <td>35</td>\n",
       "      <td>NaN</td>\n",
       "      <td>Пермь</td>\n",
       "      <td>Гектор</td>\n",
       "      <td>Корнилов</td>\n",
       "      <td>2018-09-27</td>\n",
       "      <td>smart</td>\n",
       "      <td>2018</td>\n",
       "      <td>9</td>\n",
       "      <td>27</td>\n",
       "      <td>3</td>\n",
       "      <td>30</td>\n",
       "      <td>10.0</td>\n",
       "      <td>17788.51</td>\n",
       "      <td>479.0</td>\n",
       "      <td>19.0</td>\n",
       "    </tr>\n",
       "    <tr>\n",
       "      <th>3202</th>\n",
       "      <td>1499</td>\n",
       "      <td>35</td>\n",
       "      <td>NaN</td>\n",
       "      <td>Пермь</td>\n",
       "      <td>Гектор</td>\n",
       "      <td>Корнилов</td>\n",
       "      <td>2018-09-27</td>\n",
       "      <td>smart</td>\n",
       "      <td>2018</td>\n",
       "      <td>9</td>\n",
       "      <td>27</td>\n",
       "      <td>3</td>\n",
       "      <td>30</td>\n",
       "      <td>11.0</td>\n",
       "      <td>17963.31</td>\n",
       "      <td>277.0</td>\n",
       "      <td>24.0</td>\n",
       "    </tr>\n",
       "    <tr>\n",
       "      <th>3203</th>\n",
       "      <td>1499</td>\n",
       "      <td>35</td>\n",
       "      <td>NaN</td>\n",
       "      <td>Пермь</td>\n",
       "      <td>Гектор</td>\n",
       "      <td>Корнилов</td>\n",
       "      <td>2018-09-27</td>\n",
       "      <td>smart</td>\n",
       "      <td>2018</td>\n",
       "      <td>9</td>\n",
       "      <td>27</td>\n",
       "      <td>3</td>\n",
       "      <td>30</td>\n",
       "      <td>12.0</td>\n",
       "      <td>13055.58</td>\n",
       "      <td>479.0</td>\n",
       "      <td>20.0</td>\n",
       "    </tr>\n",
       "  </tbody>\n",
       "</table>\n",
       "<p>3204 rows × 17 columns</p>\n",
       "</div>"
      ],
      "text/plain": [
       "      user_id  age  churn_date         city first_name  last_name    reg_date  \\\n",
       "0        1000   52         NaN    Краснодар     Рафаил  Верещагин  2018-05-25   \n",
       "1        1000   52         NaN    Краснодар     Рафаил  Верещагин  2018-05-25   \n",
       "2        1000   52         NaN    Краснодар     Рафаил  Верещагин  2018-05-25   \n",
       "3        1000   52         NaN    Краснодар     Рафаил  Верещагин  2018-05-25   \n",
       "4        1000   52         NaN    Краснодар     Рафаил  Верещагин  2018-05-25   \n",
       "...       ...  ...         ...          ...        ...        ...         ...   \n",
       "3199     1498   68  2018-10-25  Владикавказ   Всеволод    Акимчин  2018-07-19   \n",
       "3200     1499   35         NaN        Пермь     Гектор   Корнилов  2018-09-27   \n",
       "3201     1499   35         NaN        Пермь     Гектор   Корнилов  2018-09-27   \n",
       "3202     1499   35         NaN        Пермь     Гектор   Корнилов  2018-09-27   \n",
       "3203     1499   35         NaN        Пермь     Гектор   Корнилов  2018-09-27   \n",
       "\n",
       "     tariff  reg_year  reg_month  reg_day  reg_weekday  age_group_id  month  \\\n",
       "0     ultra      2018          5       25            4            50    5.0   \n",
       "1     ultra      2018          5       25            4            50    6.0   \n",
       "2     ultra      2018          5       25            4            50    7.0   \n",
       "3     ultra      2018          5       25            4            50    8.0   \n",
       "4     ultra      2018          5       25            4            50    9.0   \n",
       "...     ...       ...        ...      ...          ...           ...    ...   \n",
       "3199  smart      2018          7       19            3            60   10.0   \n",
       "3200  smart      2018          9       27            3            30    9.0   \n",
       "3201  smart      2018          9       27            3            30   10.0   \n",
       "3202  smart      2018          9       27            3            30   11.0   \n",
       "3203  smart      2018          9       27            3            30   12.0   \n",
       "\n",
       "      internet_mb_used_sum  calls_duration_sum  messages_id_count  \n",
       "0                  2253.49               159.0               22.0  \n",
       "1                 23233.77               172.0               60.0  \n",
       "2                 14003.64               340.0               75.0  \n",
       "3                 14055.93               408.0               81.0  \n",
       "4                 14568.91               466.0               57.0  \n",
       "...                    ...                 ...                ...  \n",
       "3199              20579.36               313.0               20.0  \n",
       "3200               1845.75               402.0               22.0  \n",
       "3201              17788.51               479.0               19.0  \n",
       "3202              17963.31               277.0               24.0  \n",
       "3203              13055.58               479.0               20.0  \n",
       "\n",
       "[3204 rows x 17 columns]"
      ]
     },
     "execution_count": 65,
     "metadata": {},
     "output_type": "execute_result"
    }
   ],
   "source": [
    "users_data['messages_id_count'] = users_data.merge(messages_count_by_month, on='user_id', how='outer')['messages_id_count']\n",
    "users_data"
   ]
  },
  {
   "cell_type": "code",
   "execution_count": 66,
   "metadata": {
    "scrolled": false
   },
   "outputs": [
    {
     "name": "stdout",
     "output_type": "stream",
     "text": [
      "<class 'pandas.core.frame.DataFrame'>\n",
      "Int64Index: 3204 entries, 0 to 3203\n",
      "Data columns (total 17 columns):\n",
      " #   Column                Non-Null Count  Dtype  \n",
      "---  ------                --------------  -----  \n",
      " 0   user_id               3204 non-null   int64  \n",
      " 1   age                   3204 non-null   int64  \n",
      " 2   churn_date            188 non-null    object \n",
      " 3   city                  3204 non-null   object \n",
      " 4   first_name            3204 non-null   object \n",
      " 5   last_name             3204 non-null   object \n",
      " 6   reg_date              3204 non-null   object \n",
      " 7   tariff                3204 non-null   object \n",
      " 8   reg_year              3204 non-null   int64  \n",
      " 9   reg_month             3204 non-null   int64  \n",
      " 10  reg_day               3204 non-null   int64  \n",
      " 11  reg_weekday           3204 non-null   int64  \n",
      " 12  age_group_id          3204 non-null   int64  \n",
      " 13  month                 3201 non-null   float64\n",
      " 14  internet_mb_used_sum  3201 non-null   float64\n",
      " 15  calls_duration_sum    3204 non-null   float64\n",
      " 16  messages_id_count     3145 non-null   float64\n",
      "dtypes: float64(4), int64(7), object(6)\n",
      "memory usage: 450.6+ KB\n"
     ]
    }
   ],
   "source": [
    "users_data.info()"
   ]
  },
  {
   "cell_type": "markdown",
   "metadata": {},
   "source": [
    "Мы получили таблицу **users_data**, в которой есть интересующая нас информация - сгруппированные по месяцам и пользователям количество израсходованных минут, сообщений и трафика. Заменим все NaN нулями."
   ]
  },
  {
   "cell_type": "code",
   "execution_count": 67,
   "metadata": {},
   "outputs": [],
   "source": [
    "users_data = users_data.fillna(0)"
   ]
  },
  {
   "cell_type": "markdown",
   "metadata": {},
   "source": [
    "Создадим по таблице **tariffs** словарь, в котором ключами будут названия тарифов."
   ]
  },
  {
   "cell_type": "code",
   "execution_count": 68,
   "metadata": {},
   "outputs": [
    {
     "data": {
      "text/plain": [
       "{'smart': [50, 15360, 500, 550, 200, 3, 3],\n",
       " 'ultra': [1000, 30720, 3000, 1950, 150, 1, 1]}"
      ]
     },
     "execution_count": 68,
     "metadata": {},
     "output_type": "execute_result"
    }
   ],
   "source": [
    "tariff_dict = tariffs.set_index('tariff_name').T.to_dict('list')\n",
    "tariff_dict"
   ]
  },
  {
   "cell_type": "markdown",
   "metadata": {},
   "source": [
    "Напишем функцию для расчёта дохода с каждого пользователя."
   ]
  },
  {
   "cell_type": "code",
   "execution_count": 69,
   "metadata": {},
   "outputs": [],
   "source": [
    "# Функция для вычисления дохода с каждого пользователя\n",
    "def income(row):\n",
    "    tariff = row['tariff']\n",
    "    if row['tariff'] in tariff_dict.keys():\n",
    "        messages_included = tariff_dict[tariff][0]\n",
    "        mb_per_month_included = tariff_dict[tariff][1]\n",
    "        minutes_included = tariff_dict[tariff][2]\n",
    "        rub_monthly_fee = tariff_dict[tariff][3]\n",
    "        rub_per_gb = tariff_dict[tariff][4]\n",
    "        rub_per_message = tariff_dict[tariff][5]\n",
    "        rub_per_minute = tariff_dict[tariff][6]\n",
    "    else:\n",
    "         return(print('Нет такого тарифа в tariffs'))\n",
    "    #  Минуты:   \n",
    "    differance_min = row['calls_duration_sum'] - minutes_included\n",
    "    if differance_min <= 0:\n",
    "        income = rub_monthly_fee\n",
    "    else:\n",
    "        income = rub_monthly_fee + differance_min * rub_per_minute\n",
    "    # Сообщения:    \n",
    "    differance_mes = row['messages_id_count'] - messages_included\n",
    "    if differance_mes <= 0:\n",
    "        income = income \n",
    "    else:\n",
    "        income = income + differance_mes * rub_per_message        \n",
    "    # Трафик:\n",
    "    differance_int = row['internet_mb_used_sum'] - mb_per_month_included\n",
    "    if differance_int <= 0:\n",
    "        income = income \n",
    "    else:\n",
    "        income = income + math.ceil(differance_int/1024) * rub_per_gb\n",
    "    \n",
    "    return (income)"
   ]
  },
  {
   "cell_type": "markdown",
   "metadata": {},
   "source": [
    "Применим нашу функцию к датафрейму **users_data**."
   ]
  },
  {
   "cell_type": "code",
   "execution_count": 70,
   "metadata": {},
   "outputs": [],
   "source": [
    "users_data['income'] = users_data.apply(income, axis=1)"
   ]
  },
  {
   "cell_type": "code",
   "execution_count": 71,
   "metadata": {},
   "outputs": [
    {
     "data": {
      "text/html": [
       "<div>\n",
       "<style scoped>\n",
       "    .dataframe tbody tr th:only-of-type {\n",
       "        vertical-align: middle;\n",
       "    }\n",
       "\n",
       "    .dataframe tbody tr th {\n",
       "        vertical-align: top;\n",
       "    }\n",
       "\n",
       "    .dataframe thead th {\n",
       "        text-align: right;\n",
       "    }\n",
       "</style>\n",
       "<table border=\"1\" class=\"dataframe\">\n",
       "  <thead>\n",
       "    <tr style=\"text-align: right;\">\n",
       "      <th></th>\n",
       "      <th>user_id</th>\n",
       "      <th>age</th>\n",
       "      <th>churn_date</th>\n",
       "      <th>city</th>\n",
       "      <th>first_name</th>\n",
       "      <th>last_name</th>\n",
       "      <th>reg_date</th>\n",
       "      <th>tariff</th>\n",
       "      <th>reg_year</th>\n",
       "      <th>reg_month</th>\n",
       "      <th>reg_day</th>\n",
       "      <th>reg_weekday</th>\n",
       "      <th>age_group_id</th>\n",
       "      <th>month</th>\n",
       "      <th>internet_mb_used_sum</th>\n",
       "      <th>calls_duration_sum</th>\n",
       "      <th>messages_id_count</th>\n",
       "      <th>income</th>\n",
       "    </tr>\n",
       "  </thead>\n",
       "  <tbody>\n",
       "    <tr>\n",
       "      <th>0</th>\n",
       "      <td>1000</td>\n",
       "      <td>52</td>\n",
       "      <td>0</td>\n",
       "      <td>Краснодар</td>\n",
       "      <td>Рафаил</td>\n",
       "      <td>Верещагин</td>\n",
       "      <td>2018-05-25</td>\n",
       "      <td>ultra</td>\n",
       "      <td>2018</td>\n",
       "      <td>5</td>\n",
       "      <td>25</td>\n",
       "      <td>4</td>\n",
       "      <td>50</td>\n",
       "      <td>5.0</td>\n",
       "      <td>2253.49</td>\n",
       "      <td>159.0</td>\n",
       "      <td>22.0</td>\n",
       "      <td>1950.0</td>\n",
       "    </tr>\n",
       "    <tr>\n",
       "      <th>1</th>\n",
       "      <td>1000</td>\n",
       "      <td>52</td>\n",
       "      <td>0</td>\n",
       "      <td>Краснодар</td>\n",
       "      <td>Рафаил</td>\n",
       "      <td>Верещагин</td>\n",
       "      <td>2018-05-25</td>\n",
       "      <td>ultra</td>\n",
       "      <td>2018</td>\n",
       "      <td>5</td>\n",
       "      <td>25</td>\n",
       "      <td>4</td>\n",
       "      <td>50</td>\n",
       "      <td>6.0</td>\n",
       "      <td>23233.77</td>\n",
       "      <td>172.0</td>\n",
       "      <td>60.0</td>\n",
       "      <td>1950.0</td>\n",
       "    </tr>\n",
       "    <tr>\n",
       "      <th>2</th>\n",
       "      <td>1000</td>\n",
       "      <td>52</td>\n",
       "      <td>0</td>\n",
       "      <td>Краснодар</td>\n",
       "      <td>Рафаил</td>\n",
       "      <td>Верещагин</td>\n",
       "      <td>2018-05-25</td>\n",
       "      <td>ultra</td>\n",
       "      <td>2018</td>\n",
       "      <td>5</td>\n",
       "      <td>25</td>\n",
       "      <td>4</td>\n",
       "      <td>50</td>\n",
       "      <td>7.0</td>\n",
       "      <td>14003.64</td>\n",
       "      <td>340.0</td>\n",
       "      <td>75.0</td>\n",
       "      <td>1950.0</td>\n",
       "    </tr>\n",
       "    <tr>\n",
       "      <th>3</th>\n",
       "      <td>1000</td>\n",
       "      <td>52</td>\n",
       "      <td>0</td>\n",
       "      <td>Краснодар</td>\n",
       "      <td>Рафаил</td>\n",
       "      <td>Верещагин</td>\n",
       "      <td>2018-05-25</td>\n",
       "      <td>ultra</td>\n",
       "      <td>2018</td>\n",
       "      <td>5</td>\n",
       "      <td>25</td>\n",
       "      <td>4</td>\n",
       "      <td>50</td>\n",
       "      <td>8.0</td>\n",
       "      <td>14055.93</td>\n",
       "      <td>408.0</td>\n",
       "      <td>81.0</td>\n",
       "      <td>1950.0</td>\n",
       "    </tr>\n",
       "    <tr>\n",
       "      <th>4</th>\n",
       "      <td>1000</td>\n",
       "      <td>52</td>\n",
       "      <td>0</td>\n",
       "      <td>Краснодар</td>\n",
       "      <td>Рафаил</td>\n",
       "      <td>Верещагин</td>\n",
       "      <td>2018-05-25</td>\n",
       "      <td>ultra</td>\n",
       "      <td>2018</td>\n",
       "      <td>5</td>\n",
       "      <td>25</td>\n",
       "      <td>4</td>\n",
       "      <td>50</td>\n",
       "      <td>9.0</td>\n",
       "      <td>14568.91</td>\n",
       "      <td>466.0</td>\n",
       "      <td>57.0</td>\n",
       "      <td>1950.0</td>\n",
       "    </tr>\n",
       "    <tr>\n",
       "      <th>...</th>\n",
       "      <td>...</td>\n",
       "      <td>...</td>\n",
       "      <td>...</td>\n",
       "      <td>...</td>\n",
       "      <td>...</td>\n",
       "      <td>...</td>\n",
       "      <td>...</td>\n",
       "      <td>...</td>\n",
       "      <td>...</td>\n",
       "      <td>...</td>\n",
       "      <td>...</td>\n",
       "      <td>...</td>\n",
       "      <td>...</td>\n",
       "      <td>...</td>\n",
       "      <td>...</td>\n",
       "      <td>...</td>\n",
       "      <td>...</td>\n",
       "      <td>...</td>\n",
       "    </tr>\n",
       "    <tr>\n",
       "      <th>3199</th>\n",
       "      <td>1498</td>\n",
       "      <td>68</td>\n",
       "      <td>2018-10-25</td>\n",
       "      <td>Владикавказ</td>\n",
       "      <td>Всеволод</td>\n",
       "      <td>Акимчин</td>\n",
       "      <td>2018-07-19</td>\n",
       "      <td>smart</td>\n",
       "      <td>2018</td>\n",
       "      <td>7</td>\n",
       "      <td>19</td>\n",
       "      <td>3</td>\n",
       "      <td>60</td>\n",
       "      <td>10.0</td>\n",
       "      <td>20579.36</td>\n",
       "      <td>313.0</td>\n",
       "      <td>20.0</td>\n",
       "      <td>1750.0</td>\n",
       "    </tr>\n",
       "    <tr>\n",
       "      <th>3200</th>\n",
       "      <td>1499</td>\n",
       "      <td>35</td>\n",
       "      <td>0</td>\n",
       "      <td>Пермь</td>\n",
       "      <td>Гектор</td>\n",
       "      <td>Корнилов</td>\n",
       "      <td>2018-09-27</td>\n",
       "      <td>smart</td>\n",
       "      <td>2018</td>\n",
       "      <td>9</td>\n",
       "      <td>27</td>\n",
       "      <td>3</td>\n",
       "      <td>30</td>\n",
       "      <td>9.0</td>\n",
       "      <td>1845.75</td>\n",
       "      <td>402.0</td>\n",
       "      <td>22.0</td>\n",
       "      <td>550.0</td>\n",
       "    </tr>\n",
       "    <tr>\n",
       "      <th>3201</th>\n",
       "      <td>1499</td>\n",
       "      <td>35</td>\n",
       "      <td>0</td>\n",
       "      <td>Пермь</td>\n",
       "      <td>Гектор</td>\n",
       "      <td>Корнилов</td>\n",
       "      <td>2018-09-27</td>\n",
       "      <td>smart</td>\n",
       "      <td>2018</td>\n",
       "      <td>9</td>\n",
       "      <td>27</td>\n",
       "      <td>3</td>\n",
       "      <td>30</td>\n",
       "      <td>10.0</td>\n",
       "      <td>17788.51</td>\n",
       "      <td>479.0</td>\n",
       "      <td>19.0</td>\n",
       "      <td>1150.0</td>\n",
       "    </tr>\n",
       "    <tr>\n",
       "      <th>3202</th>\n",
       "      <td>1499</td>\n",
       "      <td>35</td>\n",
       "      <td>0</td>\n",
       "      <td>Пермь</td>\n",
       "      <td>Гектор</td>\n",
       "      <td>Корнилов</td>\n",
       "      <td>2018-09-27</td>\n",
       "      <td>smart</td>\n",
       "      <td>2018</td>\n",
       "      <td>9</td>\n",
       "      <td>27</td>\n",
       "      <td>3</td>\n",
       "      <td>30</td>\n",
       "      <td>11.0</td>\n",
       "      <td>17963.31</td>\n",
       "      <td>277.0</td>\n",
       "      <td>24.0</td>\n",
       "      <td>1150.0</td>\n",
       "    </tr>\n",
       "    <tr>\n",
       "      <th>3203</th>\n",
       "      <td>1499</td>\n",
       "      <td>35</td>\n",
       "      <td>0</td>\n",
       "      <td>Пермь</td>\n",
       "      <td>Гектор</td>\n",
       "      <td>Корнилов</td>\n",
       "      <td>2018-09-27</td>\n",
       "      <td>smart</td>\n",
       "      <td>2018</td>\n",
       "      <td>9</td>\n",
       "      <td>27</td>\n",
       "      <td>3</td>\n",
       "      <td>30</td>\n",
       "      <td>12.0</td>\n",
       "      <td>13055.58</td>\n",
       "      <td>479.0</td>\n",
       "      <td>20.0</td>\n",
       "      <td>550.0</td>\n",
       "    </tr>\n",
       "  </tbody>\n",
       "</table>\n",
       "<p>3204 rows × 18 columns</p>\n",
       "</div>"
      ],
      "text/plain": [
       "      user_id  age  churn_date         city first_name  last_name    reg_date  \\\n",
       "0        1000   52           0    Краснодар     Рафаил  Верещагин  2018-05-25   \n",
       "1        1000   52           0    Краснодар     Рафаил  Верещагин  2018-05-25   \n",
       "2        1000   52           0    Краснодар     Рафаил  Верещагин  2018-05-25   \n",
       "3        1000   52           0    Краснодар     Рафаил  Верещагин  2018-05-25   \n",
       "4        1000   52           0    Краснодар     Рафаил  Верещагин  2018-05-25   \n",
       "...       ...  ...         ...          ...        ...        ...         ...   \n",
       "3199     1498   68  2018-10-25  Владикавказ   Всеволод    Акимчин  2018-07-19   \n",
       "3200     1499   35           0        Пермь     Гектор   Корнилов  2018-09-27   \n",
       "3201     1499   35           0        Пермь     Гектор   Корнилов  2018-09-27   \n",
       "3202     1499   35           0        Пермь     Гектор   Корнилов  2018-09-27   \n",
       "3203     1499   35           0        Пермь     Гектор   Корнилов  2018-09-27   \n",
       "\n",
       "     tariff  reg_year  reg_month  reg_day  reg_weekday  age_group_id  month  \\\n",
       "0     ultra      2018          5       25            4            50    5.0   \n",
       "1     ultra      2018          5       25            4            50    6.0   \n",
       "2     ultra      2018          5       25            4            50    7.0   \n",
       "3     ultra      2018          5       25            4            50    8.0   \n",
       "4     ultra      2018          5       25            4            50    9.0   \n",
       "...     ...       ...        ...      ...          ...           ...    ...   \n",
       "3199  smart      2018          7       19            3            60   10.0   \n",
       "3200  smart      2018          9       27            3            30    9.0   \n",
       "3201  smart      2018          9       27            3            30   10.0   \n",
       "3202  smart      2018          9       27            3            30   11.0   \n",
       "3203  smart      2018          9       27            3            30   12.0   \n",
       "\n",
       "      internet_mb_used_sum  calls_duration_sum  messages_id_count  income  \n",
       "0                  2253.49               159.0               22.0  1950.0  \n",
       "1                 23233.77               172.0               60.0  1950.0  \n",
       "2                 14003.64               340.0               75.0  1950.0  \n",
       "3                 14055.93               408.0               81.0  1950.0  \n",
       "4                 14568.91               466.0               57.0  1950.0  \n",
       "...                    ...                 ...                ...     ...  \n",
       "3199              20579.36               313.0               20.0  1750.0  \n",
       "3200               1845.75               402.0               22.0   550.0  \n",
       "3201              17788.51               479.0               19.0  1150.0  \n",
       "3202              17963.31               277.0               24.0  1150.0  \n",
       "3203              13055.58               479.0               20.0   550.0  \n",
       "\n",
       "[3204 rows x 18 columns]"
      ]
     },
     "execution_count": 71,
     "metadata": {},
     "output_type": "execute_result"
    }
   ],
   "source": [
    "users_data"
   ]
  },
  {
   "cell_type": "markdown",
   "metadata": {},
   "source": [
    "Получили колонку *income*, в которой лежит выручка с каждого пользователя за месяц."
   ]
  },
  {
   "cell_type": "markdown",
   "metadata": {},
   "source": [
    "# Шаг 3. Анализ данных <a class=\"anchor\" id=\"chapter3\"></a>"
   ]
  },
  {
   "cell_type": "markdown",
   "metadata": {},
   "source": [
    "Напишем функцию для построения графиков плотностей вероятности."
   ]
  },
  {
   "cell_type": "code",
   "execution_count": 72,
   "metadata": {},
   "outputs": [],
   "source": [
    "df1 = users_data.loc[(users_data['tariff']=='ultra')]\n",
    "df2 = users_data.loc[(users_data['tariff']=='smart')]\n",
    "def pd_tariffs_compare(df1, df2, column, title, setpoint1, setpoint2):\n",
    "    ultra = df1[column]\n",
    "    smart = df2[column]\n",
    "\n",
    "    plt.figure(figsize=(12,6))\n",
    "    plt.title(title)\n",
    "    sns.kdeplot(ultra, color='r', shade=True, Label='ultra')\n",
    "    sns.kdeplot(smart, color='b', shade=True, Label='smart')\n",
    "    plt.xlabel(column) \n",
    "    plt.ylabel('Probability Density')\n",
    "    plt.axvline(setpoint1, linestyle='-', color='red')\n",
    "    plt.axvline(setpoint2, linestyle='-', color='blue')\n",
    "    plt.show()\n",
    "    print(\"Медиана ultra: \", \"p50 =\", int(get_percentile(ultra, column, 50)))\n",
    "    print(\"Медиана smart: \", \"p50 =\", int(get_percentile(smart, column, 50)))\n",
    "    print(\"Среднее ultra: \", \"μ =\", round(ultra.mean()))\n",
    "    print(\"Среднее smart: \", \"μ =\", round(smart.mean()))\n",
    "    print(\"Дисперсия ultra: \", \"s^2 =\", round(np.var(ultra, ddof=1)))\n",
    "    print(\"Дисперсия smart: \", \"s^2 =\", round(np.var(smart, ddof=1)))\n",
    "    print(\"Стандартное отклонение ultra: \", \"s =\", round(np.std(ultra, ddof=1)))\n",
    "    print(\"Стандартное отклонение smart: \", \"s =\", round(np.std(smart, ddof=1)))    "
   ]
  },
  {
   "cell_type": "code",
   "execution_count": 73,
   "metadata": {},
   "outputs": [
    {
     "name": "stderr",
     "output_type": "stream",
     "text": [
      "C:\\Users\\shepelev.ao\\Anaconda3\\lib\\site-packages\\seaborn\\distributions.py:948: MatplotlibDeprecationWarning: Case-insensitive properties were deprecated in 3.3 and support will be removed two minor releases later\n",
      "  scout = self.ax.fill_between([], [], **plot_kws)\n",
      "C:\\Users\\shepelev.ao\\Anaconda3\\lib\\site-packages\\seaborn\\distributions.py:991: MatplotlibDeprecationWarning: Case-insensitive properties were deprecated in 3.3 and support will be removed two minor releases later\n",
      "  artist = ax.fill_between(\n",
      "C:\\Users\\shepelev.ao\\Anaconda3\\lib\\site-packages\\seaborn\\distributions.py:948: MatplotlibDeprecationWarning: Case-insensitive properties were deprecated in 3.3 and support will be removed two minor releases later\n",
      "  scout = self.ax.fill_between([], [], **plot_kws)\n",
      "C:\\Users\\shepelev.ao\\Anaconda3\\lib\\site-packages\\seaborn\\distributions.py:991: MatplotlibDeprecationWarning: Case-insensitive properties were deprecated in 3.3 and support will be removed two minor releases later\n",
      "  artist = ax.fill_between(\n"
     ]
    },
    {
     "data": {
      "image/png": "[encoded data removed]",
      "text/plain": [
       "<Figure size 864x432 with 1 Axes>"
      ]
     },
     "metadata": {
      "needs_background": "light"
     },
     "output_type": "display_data"
    },
    {
     "name": "stdout",
     "output_type": "stream",
     "text": [
      "Медиана ultra:  p50 = 420\n",
      "Медиана smart:  p50 = 437\n",
      "Среднее ultra:  μ = 449\n",
      "Среднее smart:  μ = 452\n",
      "Дисперсия ultra:  s^2 = 52311\n",
      "Дисперсия smart:  s^2 = 48329\n",
      "Стандартное отклонение ultra:  s = 229\n",
      "Стандартное отклонение smart:  s = 220\n"
     ]
    }
   ],
   "source": [
    "pd_tariffs_compare(df1, df2, 'calls_duration_sum', 'Продолжительность звонков', 3000, 500)"
   ]
  },
  {
   "cell_type": "code",
   "execution_count": 74,
   "metadata": {
    "scrolled": false
   },
   "outputs": [
    {
     "name": "stderr",
     "output_type": "stream",
     "text": [
      "C:\\Users\\shepelev.ao\\Anaconda3\\lib\\site-packages\\seaborn\\distributions.py:948: MatplotlibDeprecationWarning: Case-insensitive properties were deprecated in 3.3 and support will be removed two minor releases later\n",
      "  scout = self.ax.fill_between([], [], **plot_kws)\n",
      "C:\\Users\\shepelev.ao\\Anaconda3\\lib\\site-packages\\seaborn\\distributions.py:991: MatplotlibDeprecationWarning: Case-insensitive properties were deprecated in 3.3 and support will be removed two minor releases later\n",
      "  artist = ax.fill_between(\n",
      "C:\\Users\\shepelev.ao\\Anaconda3\\lib\\site-packages\\seaborn\\distributions.py:948: MatplotlibDeprecationWarning: Case-insensitive properties were deprecated in 3.3 and support will be removed two minor releases later\n",
      "  scout = self.ax.fill_between([], [], **plot_kws)\n",
      "C:\\Users\\shepelev.ao\\Anaconda3\\lib\\site-packages\\seaborn\\distributions.py:991: MatplotlibDeprecationWarning: Case-insensitive properties were deprecated in 3.3 and support will be removed two minor releases later\n",
      "  artist = ax.fill_between(\n"
     ]
    },
    {
     "data": {
      "image/png": "[encoded data removed]",
      "text/plain": [
       "<Figure size 864x432 with 1 Axes>"
      ]
     },
     "metadata": {
      "needs_background": "light"
     },
     "output_type": "display_data"
    },
    {
     "name": "stdout",
     "output_type": "stream",
     "text": [
      "Медиана ultra:  p50 = 35\n",
      "Медиана smart:  p50 = 31\n",
      "Среднее ultra:  μ = 42\n",
      "Среднее smart:  μ = 40\n",
      "Дисперсия ultra:  s^2 = 975\n",
      "Дисперсия smart:  s^2 = 1097\n",
      "Стандартное отклонение ultra:  s = 31\n",
      "Стандартное отклонение smart:  s = 33\n"
     ]
    }
   ],
   "source": [
    "pd_tariffs_compare(df1, df2, 'messages_id_count', 'Количество сообщений', 1000, 50)"
   ]
  },
  {
   "cell_type": "code",
   "execution_count": 75,
   "metadata": {},
   "outputs": [
    {
     "name": "stderr",
     "output_type": "stream",
     "text": [
      "C:\\Users\\shepelev.ao\\Anaconda3\\lib\\site-packages\\seaborn\\distributions.py:948: MatplotlibDeprecationWarning: Case-insensitive properties were deprecated in 3.3 and support will be removed two minor releases later\n",
      "  scout = self.ax.fill_between([], [], **plot_kws)\n",
      "C:\\Users\\shepelev.ao\\Anaconda3\\lib\\site-packages\\seaborn\\distributions.py:991: MatplotlibDeprecationWarning: Case-insensitive properties were deprecated in 3.3 and support will be removed two minor releases later\n",
      "  artist = ax.fill_between(\n",
      "C:\\Users\\shepelev.ao\\Anaconda3\\lib\\site-packages\\seaborn\\distributions.py:948: MatplotlibDeprecationWarning: Case-insensitive properties were deprecated in 3.3 and support will be removed two minor releases later\n",
      "  scout = self.ax.fill_between([], [], **plot_kws)\n",
      "C:\\Users\\shepelev.ao\\Anaconda3\\lib\\site-packages\\seaborn\\distributions.py:991: MatplotlibDeprecationWarning: Case-insensitive properties were deprecated in 3.3 and support will be removed two minor releases later\n",
      "  artist = ax.fill_between(\n"
     ]
    },
    {
     "data": {
      "image/png": "[encoded data removed]",
      "text/plain": [
       "<Figure size 864x432 with 1 Axes>"
      ]
     },
     "metadata": {
      "needs_background": "light"
     },
     "output_type": "display_data"
    },
    {
     "name": "stdout",
     "output_type": "stream",
     "text": [
      "Медиана ultra:  p50 = 19376\n",
      "Медиана smart:  p50 = 16506\n",
      "Среднее ultra:  μ = 19648\n",
      "Среднее smart:  μ = 16216\n",
      "Дисперсия ultra:  s^2 = 99159212\n",
      "Дисперсия smart:  s^2 = 34359952\n",
      "Стандартное отклонение ultra:  s = 9958\n",
      "Стандартное отклонение smart:  s = 5862\n"
     ]
    }
   ],
   "source": [
    "pd_tariffs_compare(df1, df2, 'internet_mb_used_sum', 'Трафик', 30720, 15360)"
   ]
  },
  {
   "cell_type": "markdown",
   "metadata": {},
   "source": [
    "**Вывод.**\n",
    "\n",
    "В случае минут разговора и сообщений мы имеем похожие картины для обоих тарифов. Оба распределения похожи на нормальное, скошенное вправо. Об этом говорит и сравнение их медиан со средними значениями: в обоих случаях среднее больше.\n",
    "\n",
    "Пользователи тарифа \"smart\" в нашей выборке в среднем на 3 минуты дольше разговаривают, а пользователи тарифа \"ultra\" пишут на 2 смс больше. При этом их дисперсии отличаются не слишком сильно.\n",
    "\n",
    "А вот различия в пользовании интернетом значительно более существенные.\n",
    "Оба распределения похожи на нормальное, причем у \"ultra\" есть небольшой скос вправо, а у \"smart\" - влево. Пользователи тарифа \"smart\" в нашей выборке с большей вероятностью тратят от 10 до 25 Гб в месяц, чем пользователи тарифа \"ultra\". При этом больше половины пользователей тарифа \"smart\" используют дополнительные пакеты интернета (сверх 15 Гб). Большинство пользователей тарифа \"ultra\" напротив, укладываются в ограничение своего тарифа (30Гб). Они с большей вероятностью могут как использовать больше 25 Гб, так и меньше 7 Гб по сравнению с пользователями тарифа \"smart\"."
   ]
  },
  {
   "cell_type": "markdown",
   "metadata": {},
   "source": [
    "# Шаг 4. Проверка гипотез <a class=\"anchor\" id=\"chapter4\"></a>"
   ]
  },
  {
   "cell_type": "markdown",
   "metadata": {},
   "source": [
    "## 4.1. Гипотеза 1 <a class=\"anchor\" id=\"section_4_1\"></a>"
   ]
  },
  {
   "cell_type": "markdown",
   "metadata": {},
   "source": [
    "*Гипотеза: средняя выручка пользователей тарифов «Ультра» и «Смарт» различается.*\n",
    "\n",
    "H₀ - в нашей выборке средняя выручка пользователей тарифа «Ультра» равна средней выручке пользователей тарифа «Смарт».\n",
    "\n",
    "H₁ - в нашей выборке средняя выручка пользователей тарифа «Ультра» НЕ равна средней выручке пользователей тарифа «Смарт»."
   ]
  },
  {
   "cell_type": "markdown",
   "metadata": {},
   "source": [
    "Сначала посмотрим, как распределена плотность вероятности дохода компании по каждому пользователю."
   ]
  },
  {
   "cell_type": "code",
   "execution_count": 76,
   "metadata": {},
   "outputs": [
    {
     "data": {
      "image/png": "[encoded data removed]",
      "text/plain": [
       "<Figure size 720x432 with 1 Axes>"
      ]
     },
     "metadata": {
      "needs_background": "light"
     },
     "output_type": "display_data"
    },
    {
     "name": "stdout",
     "output_type": "stream",
     "text": [
      "Среднее ultra:  2071\n",
      "Среднее smart:  1373\n",
      "Дисперсия ultra:  s^2 = 142689\n",
      "Дисперсия smart:  s^2 = 653570\n"
     ]
    }
   ],
   "source": [
    "plt.figure(figsize=(10,6))\n",
    "plt.title('Прибыль с каждого пользователя')\n",
    "smart = users_data[users_data['tariff'] == 'smart']['income']\n",
    "ultra = users_data[users_data['tariff'] == 'ultra']['income']\n",
    "ax0 = smart.plot(kind='hist', bins=50, linewidth=5, label='smart', density = True, alpha=0.7)\n",
    "ax1 = ultra.plot(kind='hist', bins=50, linewidth=5, label='ultra', density = True, alpha=0.7)\n",
    "ax0.legend()\n",
    "plt.show()\n",
    "print(\"Среднее ultra: \", round(ultra.mean()))\n",
    "print(\"Среднее smart: \", round(smart.mean()))\n",
    "print(\"Дисперсия ultra: \", \"s^2 =\", round(np.var(ultra, ddof=1)))\n",
    "print(\"Дисперсия smart: \", \"s^2 =\", round(np.var(smart, ddof=1)))"
   ]
  },
  {
   "cell_type": "markdown",
   "metadata": {},
   "source": [
    "По гистограмме плотностей видно, что пользователи тарифа «Ультра» из нашей выборки тратят в среднем больше, чем пользователи тарифа «Смарт». Для трат пользователей тарифа «Смарт» дисперсия в несколько раз больше, чем для трат пользователей тарифа «Ультра». Поэтому и график более скошенный."
   ]
  },
  {
   "cell_type": "markdown",
   "metadata": {},
   "source": [
    "Создадим две выборки одинакового размера. "
   ]
  },
  {
   "cell_type": "code",
   "execution_count": 77,
   "metadata": {},
   "outputs": [],
   "source": [
    "ultra_data = users_data.loc[(users_data['tariff']=='ultra')]['income']\n",
    "smart_data = users_data.loc[(users_data['tariff']=='smart')]['income']"
   ]
  },
  {
   "cell_type": "code",
   "execution_count": 78,
   "metadata": {
    "scrolled": true
   },
   "outputs": [
    {
     "name": "stdout",
     "output_type": "stream",
     "text": [
      "976\n",
      "2228\n"
     ]
    }
   ],
   "source": [
    "print(ultra_data.shape[0])\n",
    "print(smart_data.shape[0])"
   ]
  },
  {
   "cell_type": "markdown",
   "metadata": {},
   "source": [
    "Сравним дисперсии выборок."
   ]
  },
  {
   "cell_type": "code",
   "execution_count": 79,
   "metadata": {},
   "outputs": [
    {
     "data": {
      "text/plain": [
       "[142688.5639974796, 653569.756339489]"
      ]
     },
     "execution_count": 79,
     "metadata": {},
     "output_type": "execute_result"
    }
   ],
   "source": [
    "[np.var(x, ddof=1) for x in [ultra_data, smart_data]]"
   ]
  },
  {
   "cell_type": "markdown",
   "metadata": {},
   "source": [
    "Похоже, что дисперсии выборок сильно отличаются. Проверим это. Так как для выборок из существенно ненормальных популяций тест Левена более надежен, чем тест Бартлетта, будем использовать тест Левена:\n",
    "    \n",
    "H₀ - выборки взяты из популяций с равной дисперсией.\n",
    "    \n",
    "H₁ - выборки взяты из популяций с НЕ равной дисперсией."
   ]
  },
  {
   "cell_type": "code",
   "execution_count": 80,
   "metadata": {},
   "outputs": [
    {
     "name": "stdout",
     "output_type": "stream",
     "text": [
      "stat_p_median = LeveneResult(statistic=702.765706625037, pvalue=3.60540424833377e-140)\n"
     ]
    }
   ],
   "source": [
    "stat_p_median = levene(ultra_data, smart_data, center='median')\n",
    "print('stat_p_median =', stat_p_median)"
   ]
  },
  {
   "cell_type": "markdown",
   "metadata": {},
   "source": [
    "Мы провели тест Левене относительно медианы (рекомендованному в случае искаженных распределений), и получили очень маленькое pvalue. \n",
    "\n",
    "Мы не можем принять нулевую гипотезу о равенстве дисперсий популяций, из которых взяты выборки.\n",
    "Поэтому при проверке гипотезы через Т-критерий Стьюдента мы будем использовать параметр `equal_var = False` в методе `ttest_ind`."
   ]
  },
  {
   "cell_type": "markdown",
   "metadata": {},
   "source": [
    "Проверим гипотезу о равенстве среднего двух генеральных совокупностей (выручка от пользователей «Смарт», выручка от пользователей «Ультра») по взятым из них выборкам. Воспользуемся t-критерием Стьюдента. Так как выборки довольно большие (больше 100), положим уровень статистической значимости равным 1%."
   ]
  },
  {
   "cell_type": "code",
   "execution_count": 81,
   "metadata": {},
   "outputs": [
    {
     "name": "stdout",
     "output_type": "stream",
     "text": [
      "p-значение: 6.793343590198285e-209\n",
      "Отвергаем нулевую гипотезу\n"
     ]
    }
   ],
   "source": [
    "alpha = .01 # критический уровень статистической значимости\n",
    "            # если p-value окажется меньше него - отвергнем гипотезу\n",
    "\n",
    "results = st.ttest_ind(\n",
    "    ultra_data, \n",
    "    smart_data,\n",
    "    equal_var = False)\n",
    "\n",
    "print('p-значение:', results.pvalue)\n",
    "\n",
    "if (results.pvalue < alpha):\n",
    "    print(\"Отвергаем нулевую гипотезу\")\n",
    "else:\n",
    "    print(\"Не получилось отвергнуть нулевую гипотезу\") "
   ]
  },
  {
   "cell_type": "markdown",
   "metadata": {},
   "source": [
    "**Вывод.**\n",
    "Мы отвергаем гипотезу о том, что средняя выручка пользователей тарифа «Ультра» РАВНА средней выручки пользователей тарифа «Смарт»."
   ]
  },
  {
   "cell_type": "markdown",
   "metadata": {},
   "source": [
    "*Гипотеза: средняя выручка пользователей тарифов «Ультра» и «Смарт» различается.*\n",
    "\n",
    "H₀ - в нашей выборке средняя выручка пользователей тарифа «Ультра» равна средней выручке пользователей тарифа «Смарт».\n",
    "\n",
    "H₁ - в нашей выборке средняя выручка пользователей тарифа «Ультра» БОЛЬШЕ средней выручки пользователей тарифа «Смарт»."
   ]
  },
  {
   "cell_type": "code",
   "execution_count": 82,
   "metadata": {},
   "outputs": [
    {
     "name": "stdout",
     "output_type": "stream",
     "text": [
      "p-значение:  3.9075677e-317\n",
      "Отвергаем нулевую гипотезу\n"
     ]
    }
   ],
   "source": [
    "smart_mean = smart_data.mean()\n",
    "\n",
    "alpha = .01 # критический уровень статистической значимости\n",
    "\n",
    "results = st.ttest_1samp(\n",
    "    ultra_data, \n",
    "    smart_mean)\n",
    "\n",
    "# тест односторонний: p-value будет в два раза меньше\n",
    "print('p-значение: ', results.pvalue / 2)\n",
    "\n",
    "# тест односторонний влево:\n",
    "# отвергаем гипотезу только если выборочное среднее значимо меньше предполагаемого значения\n",
    "if (results.pvalue / 2 < alpha) and (ultra_data.mean() > smart_mean):\n",
    "    print(\"Отвергаем нулевую гипотезу\")\n",
    "else:\n",
    "    print(\"Не получилось отвергнуть нулевую гипотезу\") "
   ]
  },
  {
   "cell_type": "markdown",
   "metadata": {},
   "source": [
    "**Вывод.**\n",
    "Таким образом, мы принимаем альтернативную гипотезу о том, что тариф «Ультра» приносит больше денег."
   ]
  },
  {
   "cell_type": "markdown",
   "metadata": {},
   "source": [
    "## 4.2. Гипотеза 2 <a class=\"anchor\" id=\"section_4_2\"></a>"
   ]
  },
  {
   "cell_type": "markdown",
   "metadata": {},
   "source": [
    "*Гипотеза: средняя выручка пользователей из Москвы отличается от выручки пользователей из других регионов.*\n",
    "\n",
    "H₀ - в нашей выборке средняя выручка пользователей из Москвы равна средней выручке от пользователей из других регионов.\n",
    "\n",
    "H₁ - в нашей выборке средняя выручка пользователей из Москвы НЕ равна средней выручке от пользователей из других регионов."
   ]
  },
  {
   "cell_type": "code",
   "execution_count": 83,
   "metadata": {},
   "outputs": [],
   "source": [
    "moskow_data = users_data.loc[(users_data['city']=='Москва')]['income']\n",
    "russia_data = users_data.loc[(users_data['city'] !='Москва')]['income']"
   ]
  },
  {
   "cell_type": "code",
   "execution_count": 84,
   "metadata": {},
   "outputs": [
    {
     "name": "stdout",
     "output_type": "stream",
     "text": [
      "611\n",
      "2593\n"
     ]
    }
   ],
   "source": [
    "print(moskow_data.shape[0])\n",
    "print(russia_data.shape[0])"
   ]
  },
  {
   "cell_type": "markdown",
   "metadata": {},
   "source": [
    "Сравним дисперсии выборок."
   ]
  },
  {
   "cell_type": "code",
   "execution_count": 85,
   "metadata": {},
   "outputs": [
    {
     "data": {
      "text/plain": [
       "[570476.291760347, 608278.5620357894]"
      ]
     },
     "execution_count": 85,
     "metadata": {},
     "output_type": "execute_result"
    }
   ],
   "source": [
    "[np.var(x, ddof=1) for x in [moskow_data, russia_data]]"
   ]
  },
  {
   "cell_type": "markdown",
   "metadata": {},
   "source": [
    "Похоже, что дисперсии выборок не слишком сильно отличаются. Проверим это. Так как для выборок из существенно ненормальных популяций тест Левена более надежен, чем тест Бартлетта, будем использовать тест Левена:\n",
    "    \n",
    "H₀ - выборки взяты из популяций с равной дисперсией.\n",
    "    \n",
    "H₁ - выборки взяты из популяций с НЕ равной дисперсией."
   ]
  },
  {
   "cell_type": "code",
   "execution_count": 86,
   "metadata": {},
   "outputs": [
    {
     "name": "stdout",
     "output_type": "stream",
     "text": [
      "stat_p_mean = LeveneResult(statistic=0.1825690356954749, pvalue=0.6692034146503055)\n",
      "stat_p_median = LeveneResult(statistic=2.1932973492568104, pvalue=0.13871068975348072)\n"
     ]
    }
   ],
   "source": [
    "stat_p_mean = levene(moskow_data, russia_data, center='mean')\n",
    "stat_p_median = levene(moskow_data, russia_data, center='median')\n",
    "print('stat_p_mean =', stat_p_mean)\n",
    "print('stat_p_median =', stat_p_median)"
   ]
  },
  {
   "cell_type": "markdown",
   "metadata": {},
   "source": [
    "    \n",
    "- При проведении теста Левене относительно среднего мы получили pvalue=0.67. То есть в случае, если наше распределение нормальное с умеренным хвостом, то мы точно не можем считать, что дисперсии популяций, из которых взяты наши выборки, не равны. \n",
    "\n",
    "- При проведении теста Левене относительно медианы мы получили pvalue=0.14. То есть даже в случае, если распределение искаженное (не нормальное), то мы не можем считать, что дисперсии популяций, из которых взяты наши выборки, не равны. \n",
    "\n",
    "Мы не можем отвергнуть нулевую гипотезу о равенстве дисперсий популяций, из которых взяты выборки.\n",
    "Поэтому при проверке гипотезы через Т-критерий Стьюдента мы будем использовать параметр `equal_var = True` в методе `ttest_ind` (по дефолту True)."
   ]
  },
  {
   "cell_type": "markdown",
   "metadata": {},
   "source": [
    "Проверим гипотезу о равенстве среднего двух генеральных совокупностей (выручка от пользователей Москвы, выручка от пользователей из других регионов) по взятым из них выборкам. Воспользуемся t-критерием Стьюдента. Так как выборки довольно большие (больше 100), положим уровень статистической значимости равным 1%."
   ]
  },
  {
   "cell_type": "code",
   "execution_count": 87,
   "metadata": {
    "scrolled": true
   },
   "outputs": [
    {
     "name": "stdout",
     "output_type": "stream",
     "text": [
      "p-значение: 0.2864595601837309\n",
      "Не получилось отвергнуть нулевую гипотезу\n"
     ]
    }
   ],
   "source": [
    "alpha = .01 # критический уровень статистической значимости\n",
    "            # если p-value окажется меньше него - отвергнем гипотезу\n",
    "\n",
    "results = st.ttest_ind(\n",
    "    moskow_data, \n",
    "    russia_data)\n",
    "\n",
    "print('p-значение:', results.pvalue)\n",
    "\n",
    "if (results.pvalue < alpha):\n",
    "    print(\"Отвергаем нулевую гипотезу\")\n",
    "else:\n",
    "    print(\"Не получилось отвергнуть нулевую гипотезу\") "
   ]
  },
  {
   "cell_type": "markdown",
   "metadata": {},
   "source": [
    "**Вывод.**\n",
    "Мы не можем отвергнуть гипотезу о том, что средняя выручка пользователей пользователей из Москвы равна средней выручке от пользователей из других регионов."
   ]
  },
  {
   "cell_type": "markdown",
   "metadata": {},
   "source": [
    "# Шаг 5. Общий вывод <a class=\"anchor\" id=\"chapter5\"></a>"
   ]
  },
  {
   "cell_type": "markdown",
   "metadata": {},
   "source": [
    "- Предварительный анализ на небольшой выборке клиентов показал, что приносит больше денег тариф «Ультра». Вероятно, это связано с тем, что абонентская плата за этот тарифный план значительно выше, чем у «Смарт».\n",
    "\n",
    "- В нашей выборке при этом среди 500 пользователей более популярен тариф «Смарт» - 351 пользователь отдаёт предпочтение ему, вероятно, из-за более низкой стоимости абонентской платы. \n",
    "\n",
    "- Значительной части пользователей тарифа «Смарт» не хватает 500 минут, которые включены в их тариф. Поэтому они платят поминутно сверх тарифа. То же самое с смс. Пользователи тарифа «Ультра» не успевают выговорить столько минут, и послать столько сообщений, чтобы приблизиться к ограничениям, установленным этим тарифом.\n",
    "\n",
    "- Значительной части пользователей тарифа «Смарт» не хватает 15Гб трафика в месяц, поэтому они также подключают дополнительные пакеты. Но и части пользователей тарифа «Ультра» не хватает интернета.\n",
    "\n",
    "- Возможно, компании \"Мегалайн\" стоит подумать над тем чтобы, уменьшить количество ненужных минут и смс в тарифе «Ультра», и вместо этого включить в тариф больше Гб интернета, и немного уменьшить стоимость тарифа. Тогда, вероятно, он стал бы более популярен среди пользователей."
   ]
  }
 ],
 "metadata": {
  "kernelspec": {
   "display_name": "Python 3",
   "language": "python",
   "name": "python3"
  },
  "language_info": {
   "codemirror_mode": {
    "name": "ipython",
    "version": 3
   },
   "file_extension": ".py",
   "mimetype": "text/x-python",
   "name": "python",
   "nbconvert_exporter": "python",
   "pygments_lexer": "ipython3",
   "version": "3.8.5"
  }
 },
 "nbformat": 4,
 "nbformat_minor": 4
}
