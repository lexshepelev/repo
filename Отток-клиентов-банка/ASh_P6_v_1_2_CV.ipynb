{
 "cells": [
  {
   "cell_type": "markdown",
   "metadata": {},
   "source": [
    "# Отток клиентов"
   ]
  },
  {
   "cell_type": "markdown",
   "metadata": {},
   "source": [
    "Нужно спрогнозировать, уйдёт клиент из банка в ближайшее время или нет. Вам предоставлены исторические данные о поведении клиентов и расторжении договоров с банком. "
   ]
  },
  {
   "cell_type": "markdown",
   "metadata": {},
   "source": [
    "# Оглавление\n",
    "\n",
    "* [Описание данных](#chapter0)\n",
    "* [1. Подготовка данных](#chapter1)\n",
    "* [2. Исследование задачи](#chapter2)\n",
    "* [3. Борьба с дисбалансом](#chapter3)\n",
    "    * [3.1. Взвешивание классов](#section_3_1)\n",
    "    * [3.2. Увеличение выборки](#section_3_2)\n",
    "    * [3.3. Изменение порога классификации](#section_3_3)\n",
    "* [4. Тестирование моделей](#chapter4)\n",
    "* [Итог](#chapter5)"
   ]
  },
  {
   "cell_type": "markdown",
   "metadata": {},
   "source": [
    "# Описание данных <a class=\"anchor\" id=\"chapter0\"></a>"
   ]
  },
  {
   "cell_type": "code",
   "execution_count": 1,
   "metadata": {},
   "outputs": [],
   "source": [
    "import pandas as pd\n",
    "from sklearn.preprocessing import StandardScaler\n",
    "from sklearn.model_selection import train_test_split, cross_val_score\n",
    "from sklearn.tree import DecisionTreeClassifier\n",
    "from sklearn.ensemble import RandomForestClassifier\n",
    "from sklearn.linear_model import LogisticRegression\n",
    "from sklearn.metrics import accuracy_score, precision_score, recall_score, f1_score, roc_curve, roc_auc_score\n",
    "import matplotlib.pyplot as plt\n",
    "from sklearn.utils import shuffle\n",
    "import numpy as np\n",
    "import timeit"
   ]
  },
  {
   "cell_type": "code",
   "execution_count": 2,
   "metadata": {},
   "outputs": [],
   "source": [
    "df = pd.read_csv('datasets/Churn.csv')"
   ]
  },
  {
   "cell_type": "code",
   "execution_count": 3,
   "metadata": {},
   "outputs": [
    {
     "data": {
      "text/html": [
       "<div>\n",
       "<style scoped>\n",
       "    .dataframe tbody tr th:only-of-type {\n",
       "        vertical-align: middle;\n",
       "    }\n",
       "\n",
       "    .dataframe tbody tr th {\n",
       "        vertical-align: top;\n",
       "    }\n",
       "\n",
       "    .dataframe thead th {\n",
       "        text-align: right;\n",
       "    }\n",
       "</style>\n",
       "<table border=\"1\" class=\"dataframe\">\n",
       "  <thead>\n",
       "    <tr style=\"text-align: right;\">\n",
       "      <th></th>\n",
       "      <th>RowNumber</th>\n",
       "      <th>CustomerId</th>\n",
       "      <th>Surname</th>\n",
       "      <th>CreditScore</th>\n",
       "      <th>Geography</th>\n",
       "      <th>Gender</th>\n",
       "      <th>Age</th>\n",
       "      <th>Tenure</th>\n",
       "      <th>Balance</th>\n",
       "      <th>NumOfProducts</th>\n",
       "      <th>HasCrCard</th>\n",
       "      <th>IsActiveMember</th>\n",
       "      <th>EstimatedSalary</th>\n",
       "      <th>Exited</th>\n",
       "    </tr>\n",
       "  </thead>\n",
       "  <tbody>\n",
       "    <tr>\n",
       "      <th>0</th>\n",
       "      <td>1</td>\n",
       "      <td>15634602</td>\n",
       "      <td>Hargrave</td>\n",
       "      <td>619</td>\n",
       "      <td>France</td>\n",
       "      <td>Female</td>\n",
       "      <td>42</td>\n",
       "      <td>2.0</td>\n",
       "      <td>0.00</td>\n",
       "      <td>1</td>\n",
       "      <td>1</td>\n",
       "      <td>1</td>\n",
       "      <td>101348.88</td>\n",
       "      <td>1</td>\n",
       "    </tr>\n",
       "    <tr>\n",
       "      <th>1</th>\n",
       "      <td>2</td>\n",
       "      <td>15647311</td>\n",
       "      <td>Hill</td>\n",
       "      <td>608</td>\n",
       "      <td>Spain</td>\n",
       "      <td>Female</td>\n",
       "      <td>41</td>\n",
       "      <td>1.0</td>\n",
       "      <td>83807.86</td>\n",
       "      <td>1</td>\n",
       "      <td>0</td>\n",
       "      <td>1</td>\n",
       "      <td>112542.58</td>\n",
       "      <td>0</td>\n",
       "    </tr>\n",
       "    <tr>\n",
       "      <th>2</th>\n",
       "      <td>3</td>\n",
       "      <td>15619304</td>\n",
       "      <td>Onio</td>\n",
       "      <td>502</td>\n",
       "      <td>France</td>\n",
       "      <td>Female</td>\n",
       "      <td>42</td>\n",
       "      <td>8.0</td>\n",
       "      <td>159660.80</td>\n",
       "      <td>3</td>\n",
       "      <td>1</td>\n",
       "      <td>0</td>\n",
       "      <td>113931.57</td>\n",
       "      <td>1</td>\n",
       "    </tr>\n",
       "    <tr>\n",
       "      <th>3</th>\n",
       "      <td>4</td>\n",
       "      <td>15701354</td>\n",
       "      <td>Boni</td>\n",
       "      <td>699</td>\n",
       "      <td>France</td>\n",
       "      <td>Female</td>\n",
       "      <td>39</td>\n",
       "      <td>1.0</td>\n",
       "      <td>0.00</td>\n",
       "      <td>2</td>\n",
       "      <td>0</td>\n",
       "      <td>0</td>\n",
       "      <td>93826.63</td>\n",
       "      <td>0</td>\n",
       "    </tr>\n",
       "    <tr>\n",
       "      <th>4</th>\n",
       "      <td>5</td>\n",
       "      <td>15737888</td>\n",
       "      <td>Mitchell</td>\n",
       "      <td>850</td>\n",
       "      <td>Spain</td>\n",
       "      <td>Female</td>\n",
       "      <td>43</td>\n",
       "      <td>2.0</td>\n",
       "      <td>125510.82</td>\n",
       "      <td>1</td>\n",
       "      <td>1</td>\n",
       "      <td>1</td>\n",
       "      <td>79084.10</td>\n",
       "      <td>0</td>\n",
       "    </tr>\n",
       "  </tbody>\n",
       "</table>\n",
       "</div>"
      ],
      "text/plain": [
       "   RowNumber  CustomerId   Surname  CreditScore Geography  Gender  Age  \\\n",
       "0          1    15634602  Hargrave          619    France  Female   42   \n",
       "1          2    15647311      Hill          608     Spain  Female   41   \n",
       "2          3    15619304      Onio          502    France  Female   42   \n",
       "3          4    15701354      Boni          699    France  Female   39   \n",
       "4          5    15737888  Mitchell          850     Spain  Female   43   \n",
       "\n",
       "   Tenure    Balance  NumOfProducts  HasCrCard  IsActiveMember  \\\n",
       "0     2.0       0.00              1          1               1   \n",
       "1     1.0   83807.86              1          0               1   \n",
       "2     8.0  159660.80              3          1               0   \n",
       "3     1.0       0.00              2          0               0   \n",
       "4     2.0  125510.82              1          1               1   \n",
       "\n",
       "   EstimatedSalary  Exited  \n",
       "0        101348.88       1  \n",
       "1        112542.58       0  \n",
       "2        113931.57       1  \n",
       "3         93826.63       0  \n",
       "4         79084.10       0  "
      ]
     },
     "execution_count": 3,
     "metadata": {},
     "output_type": "execute_result"
    }
   ],
   "source": [
    "df.head()"
   ]
  },
  {
   "cell_type": "markdown",
   "metadata": {},
   "source": [
    "Признаки\n",
    "\n",
    "- RowNumber — индекс строки в данных\n",
    "- CustomerId — уникальный идентификатор клиента\n",
    "- Surname — фамилия\n",
    "- CreditScore — кредитный рейтинг\n",
    "- Geography — страна проживания\n",
    "- Gender — пол\n",
    "- Age — возраст\n",
    "- Tenure — количество недвижимости у клиента\n",
    "- Balance — баланс на счёте\n",
    "- NumOfProducts — количество продуктов банка, используемых клиентом\n",
    "- HasCrCard — наличие кредитной карты\n",
    "- IsActiveMember — активность клиента\n",
    "- EstimatedSalary — предполагаемая зарплата\n",
    "\n",
    "Целевой признак\n",
    "\n",
    "- Exited — факт ухода клиента"
   ]
  },
  {
   "cell_type": "markdown",
   "metadata": {},
   "source": [
    "# 1. Подготовка данных <a class=\"anchor\" id=\"chapter2\"></a>"
   ]
  },
  {
   "cell_type": "markdown",
   "metadata": {},
   "source": [
    "Проанализируем общую информацию о датафрейме."
   ]
  },
  {
   "cell_type": "code",
   "execution_count": 4,
   "metadata": {},
   "outputs": [],
   "source": [
    "# Функция возвращает имя датафрейма\n",
    "def get_df_name(df):\n",
    "    name =[x for x in globals() if globals()[x] is df][0]\n",
    "    return name"
   ]
  },
  {
   "cell_type": "code",
   "execution_count": 5,
   "metadata": {},
   "outputs": [],
   "source": [
    "# Функция возвращает информацию по каждому датафрейму из списка.\n",
    "def pre_check(df_list):\n",
    "    for df in df_list:\n",
    "        print('=================================')\n",
    "        print(get_df_name(df))\n",
    "        print('_________________________________')\n",
    "        print(df.info())\n",
    "        print('Количество дубликатов: ', df.duplicated().sum())\n",
    "        print('_________________________________')"
   ]
  },
  {
   "cell_type": "code",
   "execution_count": 6,
   "metadata": {
    "scrolled": false
   },
   "outputs": [
    {
     "name": "stdout",
     "output_type": "stream",
     "text": [
      "=================================\n",
      "df\n",
      "_________________________________\n",
      "<class 'pandas.core.frame.DataFrame'>\n",
      "RangeIndex: 10000 entries, 0 to 9999\n",
      "Data columns (total 14 columns):\n",
      " #   Column           Non-Null Count  Dtype  \n",
      "---  ------           --------------  -----  \n",
      " 0   RowNumber        10000 non-null  int64  \n",
      " 1   CustomerId       10000 non-null  int64  \n",
      " 2   Surname          10000 non-null  object \n",
      " 3   CreditScore      10000 non-null  int64  \n",
      " 4   Geography        10000 non-null  object \n",
      " 5   Gender           10000 non-null  object \n",
      " 6   Age              10000 non-null  int64  \n",
      " 7   Tenure           9091 non-null   float64\n",
      " 8   Balance          10000 non-null  float64\n",
      " 9   NumOfProducts    10000 non-null  int64  \n",
      " 10  HasCrCard        10000 non-null  int64  \n",
      " 11  IsActiveMember   10000 non-null  int64  \n",
      " 12  EstimatedSalary  10000 non-null  float64\n",
      " 13  Exited           10000 non-null  int64  \n",
      "dtypes: float64(3), int64(8), object(3)\n",
      "memory usage: 1.1+ MB\n",
      "None\n",
      "Количество дубликатов:  0\n",
      "_________________________________\n"
     ]
    }
   ],
   "source": [
    "pre_check([df])"
   ]
  },
  {
   "cell_type": "markdown",
   "metadata": {},
   "source": [
    "Чтобы обучить модель нам не понадобятся колонки 'RowNumber', 'CustomerId' и 'Surname'."
   ]
  },
  {
   "cell_type": "code",
   "execution_count": 7,
   "metadata": {},
   "outputs": [],
   "source": [
    "df = df.drop(['RowNumber', 'CustomerId', 'Surname'], axis=1)"
   ]
  },
  {
   "cell_type": "markdown",
   "metadata": {},
   "source": [
    "Предположим, что отсутствие значения связано с отсутствием недвижимости."
   ]
  },
  {
   "cell_type": "markdown",
   "metadata": {},
   "source": [
    "Заполним пропуски в колонке 'Tenure' значением `0`."
   ]
  },
  {
   "cell_type": "code",
   "execution_count": 8,
   "metadata": {},
   "outputs": [],
   "source": [
    "df['Tenure'] = df['Tenure'].fillna('0')"
   ]
  },
  {
   "cell_type": "markdown",
   "metadata": {},
   "source": [
    "Преобразуем категориальные переменные методом прямого кодирования OHE (One-Hot Encoding), так как она работает со всеми моделями, в отличие от порядкового кодирования (Ordinal Encoding), которая не работает в случае логистической регрессии.\n",
    "\n",
    "Чтобы не попасть в дамми-ловушку, воспользумся аргументом `drop_first=True`"
   ]
  },
  {
   "cell_type": "code",
   "execution_count": 9,
   "metadata": {},
   "outputs": [],
   "source": [
    "data_ohe = pd.get_dummies(df, drop_first=True)"
   ]
  },
  {
   "cell_type": "code",
   "execution_count": 10,
   "metadata": {
    "scrolled": false
   },
   "outputs": [
    {
     "name": "stdout",
     "output_type": "stream",
     "text": [
      "=================================\n",
      "data_ohe\n",
      "_________________________________\n",
      "<class 'pandas.core.frame.DataFrame'>\n",
      "RangeIndex: 10000 entries, 0 to 9999\n",
      "Data columns (total 22 columns):\n",
      " #   Column             Non-Null Count  Dtype  \n",
      "---  ------             --------------  -----  \n",
      " 0   CreditScore        10000 non-null  int64  \n",
      " 1   Age                10000 non-null  int64  \n",
      " 2   Balance            10000 non-null  float64\n",
      " 3   NumOfProducts      10000 non-null  int64  \n",
      " 4   HasCrCard          10000 non-null  int64  \n",
      " 5   IsActiveMember     10000 non-null  int64  \n",
      " 6   EstimatedSalary    10000 non-null  float64\n",
      " 7   Exited             10000 non-null  int64  \n",
      " 8   Geography_Germany  10000 non-null  uint8  \n",
      " 9   Geography_Spain    10000 non-null  uint8  \n",
      " 10  Gender_Male        10000 non-null  uint8  \n",
      " 11  Tenure_1.0         10000 non-null  uint8  \n",
      " 12  Tenure_2.0         10000 non-null  uint8  \n",
      " 13  Tenure_3.0         10000 non-null  uint8  \n",
      " 14  Tenure_4.0         10000 non-null  uint8  \n",
      " 15  Tenure_5.0         10000 non-null  uint8  \n",
      " 16  Tenure_6.0         10000 non-null  uint8  \n",
      " 17  Tenure_7.0         10000 non-null  uint8  \n",
      " 18  Tenure_8.0         10000 non-null  uint8  \n",
      " 19  Tenure_9.0         10000 non-null  uint8  \n",
      " 20  Tenure_10.0        10000 non-null  uint8  \n",
      " 21  Tenure_0           10000 non-null  uint8  \n",
      "dtypes: float64(2), int64(6), uint8(14)\n",
      "memory usage: 761.8 KB\n",
      "None\n",
      "Количество дубликатов:  0\n",
      "_________________________________\n"
     ]
    }
   ],
   "source": [
    "pre_check([data_ohe])"
   ]
  },
  {
   "cell_type": "code",
   "execution_count": 11,
   "metadata": {},
   "outputs": [
    {
     "data": {
      "text/html": [
       "<div>\n",
       "<style scoped>\n",
       "    .dataframe tbody tr th:only-of-type {\n",
       "        vertical-align: middle;\n",
       "    }\n",
       "\n",
       "    .dataframe tbody tr th {\n",
       "        vertical-align: top;\n",
       "    }\n",
       "\n",
       "    .dataframe thead th {\n",
       "        text-align: right;\n",
       "    }\n",
       "</style>\n",
       "<table border=\"1\" class=\"dataframe\">\n",
       "  <thead>\n",
       "    <tr style=\"text-align: right;\">\n",
       "      <th></th>\n",
       "      <th>CreditScore</th>\n",
       "      <th>Age</th>\n",
       "      <th>Balance</th>\n",
       "      <th>NumOfProducts</th>\n",
       "      <th>HasCrCard</th>\n",
       "      <th>IsActiveMember</th>\n",
       "      <th>EstimatedSalary</th>\n",
       "      <th>Exited</th>\n",
       "      <th>Geography_Germany</th>\n",
       "      <th>Geography_Spain</th>\n",
       "      <th>...</th>\n",
       "      <th>Tenure_2.0</th>\n",
       "      <th>Tenure_3.0</th>\n",
       "      <th>Tenure_4.0</th>\n",
       "      <th>Tenure_5.0</th>\n",
       "      <th>Tenure_6.0</th>\n",
       "      <th>Tenure_7.0</th>\n",
       "      <th>Tenure_8.0</th>\n",
       "      <th>Tenure_9.0</th>\n",
       "      <th>Tenure_10.0</th>\n",
       "      <th>Tenure_0</th>\n",
       "    </tr>\n",
       "  </thead>\n",
       "  <tbody>\n",
       "    <tr>\n",
       "      <th>0</th>\n",
       "      <td>619</td>\n",
       "      <td>42</td>\n",
       "      <td>0.00</td>\n",
       "      <td>1</td>\n",
       "      <td>1</td>\n",
       "      <td>1</td>\n",
       "      <td>101348.88</td>\n",
       "      <td>1</td>\n",
       "      <td>0</td>\n",
       "      <td>0</td>\n",
       "      <td>...</td>\n",
       "      <td>1</td>\n",
       "      <td>0</td>\n",
       "      <td>0</td>\n",
       "      <td>0</td>\n",
       "      <td>0</td>\n",
       "      <td>0</td>\n",
       "      <td>0</td>\n",
       "      <td>0</td>\n",
       "      <td>0</td>\n",
       "      <td>0</td>\n",
       "    </tr>\n",
       "    <tr>\n",
       "      <th>1</th>\n",
       "      <td>608</td>\n",
       "      <td>41</td>\n",
       "      <td>83807.86</td>\n",
       "      <td>1</td>\n",
       "      <td>0</td>\n",
       "      <td>1</td>\n",
       "      <td>112542.58</td>\n",
       "      <td>0</td>\n",
       "      <td>0</td>\n",
       "      <td>1</td>\n",
       "      <td>...</td>\n",
       "      <td>0</td>\n",
       "      <td>0</td>\n",
       "      <td>0</td>\n",
       "      <td>0</td>\n",
       "      <td>0</td>\n",
       "      <td>0</td>\n",
       "      <td>0</td>\n",
       "      <td>0</td>\n",
       "      <td>0</td>\n",
       "      <td>0</td>\n",
       "    </tr>\n",
       "    <tr>\n",
       "      <th>2</th>\n",
       "      <td>502</td>\n",
       "      <td>42</td>\n",
       "      <td>159660.80</td>\n",
       "      <td>3</td>\n",
       "      <td>1</td>\n",
       "      <td>0</td>\n",
       "      <td>113931.57</td>\n",
       "      <td>1</td>\n",
       "      <td>0</td>\n",
       "      <td>0</td>\n",
       "      <td>...</td>\n",
       "      <td>0</td>\n",
       "      <td>0</td>\n",
       "      <td>0</td>\n",
       "      <td>0</td>\n",
       "      <td>0</td>\n",
       "      <td>0</td>\n",
       "      <td>1</td>\n",
       "      <td>0</td>\n",
       "      <td>0</td>\n",
       "      <td>0</td>\n",
       "    </tr>\n",
       "    <tr>\n",
       "      <th>3</th>\n",
       "      <td>699</td>\n",
       "      <td>39</td>\n",
       "      <td>0.00</td>\n",
       "      <td>2</td>\n",
       "      <td>0</td>\n",
       "      <td>0</td>\n",
       "      <td>93826.63</td>\n",
       "      <td>0</td>\n",
       "      <td>0</td>\n",
       "      <td>0</td>\n",
       "      <td>...</td>\n",
       "      <td>0</td>\n",
       "      <td>0</td>\n",
       "      <td>0</td>\n",
       "      <td>0</td>\n",
       "      <td>0</td>\n",
       "      <td>0</td>\n",
       "      <td>0</td>\n",
       "      <td>0</td>\n",
       "      <td>0</td>\n",
       "      <td>0</td>\n",
       "    </tr>\n",
       "    <tr>\n",
       "      <th>4</th>\n",
       "      <td>850</td>\n",
       "      <td>43</td>\n",
       "      <td>125510.82</td>\n",
       "      <td>1</td>\n",
       "      <td>1</td>\n",
       "      <td>1</td>\n",
       "      <td>79084.10</td>\n",
       "      <td>0</td>\n",
       "      <td>0</td>\n",
       "      <td>1</td>\n",
       "      <td>...</td>\n",
       "      <td>1</td>\n",
       "      <td>0</td>\n",
       "      <td>0</td>\n",
       "      <td>0</td>\n",
       "      <td>0</td>\n",
       "      <td>0</td>\n",
       "      <td>0</td>\n",
       "      <td>0</td>\n",
       "      <td>0</td>\n",
       "      <td>0</td>\n",
       "    </tr>\n",
       "  </tbody>\n",
       "</table>\n",
       "<p>5 rows × 22 columns</p>\n",
       "</div>"
      ],
      "text/plain": [
       "   CreditScore  Age    Balance  NumOfProducts  HasCrCard  IsActiveMember  \\\n",
       "0          619   42       0.00              1          1               1   \n",
       "1          608   41   83807.86              1          0               1   \n",
       "2          502   42  159660.80              3          1               0   \n",
       "3          699   39       0.00              2          0               0   \n",
       "4          850   43  125510.82              1          1               1   \n",
       "\n",
       "   EstimatedSalary  Exited  Geography_Germany  Geography_Spain  ...  \\\n",
       "0        101348.88       1                  0                0  ...   \n",
       "1        112542.58       0                  0                1  ...   \n",
       "2        113931.57       1                  0                0  ...   \n",
       "3         93826.63       0                  0                0  ...   \n",
       "4         79084.10       0                  0                1  ...   \n",
       "\n",
       "   Tenure_2.0  Tenure_3.0  Tenure_4.0  Tenure_5.0  Tenure_6.0  Tenure_7.0  \\\n",
       "0           1           0           0           0           0           0   \n",
       "1           0           0           0           0           0           0   \n",
       "2           0           0           0           0           0           0   \n",
       "3           0           0           0           0           0           0   \n",
       "4           1           0           0           0           0           0   \n",
       "\n",
       "   Tenure_8.0  Tenure_9.0  Tenure_10.0  Tenure_0  \n",
       "0           0           0            0         0  \n",
       "1           0           0            0         0  \n",
       "2           1           0            0         0  \n",
       "3           0           0            0         0  \n",
       "4           0           0            0         0  \n",
       "\n",
       "[5 rows x 22 columns]"
      ]
     },
     "execution_count": 11,
     "metadata": {},
     "output_type": "execute_result"
    }
   ],
   "source": [
    "data_ohe.head()"
   ]
  },
  {
   "cell_type": "markdown",
   "metadata": {},
   "source": [
    "Разделим датафрейм на цели и признаки."
   ]
  },
  {
   "cell_type": "code",
   "execution_count": 12,
   "metadata": {},
   "outputs": [],
   "source": [
    "target = data_ohe['Exited']\n",
    "features = data_ohe.drop('Exited', axis=1)"
   ]
  },
  {
   "cell_type": "markdown",
   "metadata": {},
   "source": [
    "Оценим баланс классов в исходном датасете."
   ]
  },
  {
   "cell_type": "code",
   "execution_count": 17,
   "metadata": {},
   "outputs": [
    {
     "data": {
      "text/plain": [
       "0.25580811252040686"
      ]
     },
     "execution_count": 17,
     "metadata": {},
     "output_type": "execute_result"
    }
   ],
   "source": [
    "target.value_counts()[1]/target.value_counts()[0]"
   ]
  },
  {
   "cell_type": "markdown",
   "metadata": {},
   "source": [
    "Баланс классов меньше 0.5, поэтому при разделении на выборки будем использовать стратификацию.\n",
    "Разделим исходный датасет на обучающую и тестовую выборки, применив стратификацию."
   ]
  },
  {
   "cell_type": "code",
   "execution_count": 19,
   "metadata": {},
   "outputs": [],
   "source": [
    "\"\"\"\n",
    "Функция возвращает обучающую, валидационную и тестовую выборки.\n",
    "val_size - часть от исходной выборки\n",
    "test_size - часть от исходной выборки\n",
    "\"\"\"\n",
    "def train_val_test_split(X, y, val_size=0.2, test_size=0.2, random_state=None):\n",
    "    X_train, X_test, y_train, y_test = \\\n",
    "    train_test_split(X, y, test_size=test_size, random_state=random_state, stratify=y) \n",
    "    \n",
    "    val_size = val_size/(1-test_size)\n",
    "    \n",
    "    X_train, X_val, y_train, y_val = \\\n",
    "    train_test_split(X_train, y_train, test_size=val_size, random_state=random_state, stratify=y_train) # 0.25 x 0.8 = 0.2\n",
    "    \n",
    "    return (X_train, X_val, X_test, y_train, y_val, y_test)"
   ]
  },
  {
   "cell_type": "markdown",
   "metadata": {},
   "source": [
    "Сохраним результат выполнения функции `train_val_test_split` в соответствующих переменных."
   ]
  },
  {
   "cell_type": "code",
   "execution_count": 20,
   "metadata": {},
   "outputs": [],
   "source": [
    "features_train, features_val, features_test, target_train, target_val, target_test = \\\n",
    "train_val_test_split(features, target, random_state=12345)"
   ]
  },
  {
   "cell_type": "code",
   "execution_count": 21,
   "metadata": {},
   "outputs": [
    {
     "name": "stdout",
     "output_type": "stream",
     "text": [
      "Соотношение:\n",
      "--> тренировка 0.6\n",
      "--> валидация 0.2\n",
      "--> тест 0.2\n"
     ]
    }
   ],
   "source": [
    "print('Соотношение:')\n",
    "print('--> тренировка', round(features_train.shape[0] / df.shape[0], 2))\n",
    "print('--> валидация', round(features_val.shape[0] / df.shape[0], 2))\n",
    "print('--> тест', round(features_test.shape[0] / df.shape[0], 2))"
   ]
  },
  {
   "cell_type": "markdown",
   "metadata": {},
   "source": [
    "Проверим, что баланс классов в обучающей, валидационной и тестовой выборках приблизительно одинаковый:"
   ]
  },
  {
   "cell_type": "code",
   "execution_count": 22,
   "metadata": {},
   "outputs": [
    {
     "data": {
      "text/plain": [
       "0.25601842160351684"
      ]
     },
     "execution_count": 22,
     "metadata": {},
     "output_type": "execute_result"
    }
   ],
   "source": [
    "target_train.value_counts()[1]/target_train.value_counts()[0]"
   ]
  },
  {
   "cell_type": "code",
   "execution_count": 23,
   "metadata": {},
   "outputs": [
    {
     "data": {
      "text/plain": [
       "0.25549278091650973"
      ]
     },
     "execution_count": 23,
     "metadata": {},
     "output_type": "execute_result"
    }
   ],
   "source": [
    "target_val.value_counts()[1]/target_val.value_counts()[0]"
   ]
  },
  {
   "cell_type": "code",
   "execution_count": 24,
   "metadata": {},
   "outputs": [
    {
     "data": {
      "text/plain": [
       "0.25549278091650973"
      ]
     },
     "execution_count": 24,
     "metadata": {},
     "output_type": "execute_result"
    }
   ],
   "source": [
    "target_test.value_counts()[1]/target_test.value_counts()[0]"
   ]
  },
  {
   "cell_type": "markdown",
   "metadata": {},
   "source": [
    "Отмасштабируем числовые признаки."
   ]
  },
  {
   "cell_type": "code",
   "execution_count": 25,
   "metadata": {},
   "outputs": [],
   "source": [
    "numeric = ['CreditScore', 'Age', 'Balance', 'NumOfProducts', 'EstimatedSalary']"
   ]
  },
  {
   "cell_type": "code",
   "execution_count": 26,
   "metadata": {},
   "outputs": [],
   "source": [
    "pd.options.mode.chained_assignment = None\n",
    "scaler = StandardScaler()\n",
    "scaler.fit(features_train[numeric])\n",
    "features_train.loc[:,numeric] = scaler.transform(features_train.loc[:,numeric])\n",
    "features_val.loc[:,numeric] = scaler.transform(features_val.loc[:,numeric])\n",
    "features_test.loc[:,numeric] = scaler.transform(features_test.loc[:,numeric])"
   ]
  },
  {
   "cell_type": "code",
   "execution_count": 27,
   "metadata": {},
   "outputs": [
    {
     "data": {
      "text/html": [
       "<div>\n",
       "<style scoped>\n",
       "    .dataframe tbody tr th:only-of-type {\n",
       "        vertical-align: middle;\n",
       "    }\n",
       "\n",
       "    .dataframe tbody tr th {\n",
       "        vertical-align: top;\n",
       "    }\n",
       "\n",
       "    .dataframe thead th {\n",
       "        text-align: right;\n",
       "    }\n",
       "</style>\n",
       "<table border=\"1\" class=\"dataframe\">\n",
       "  <thead>\n",
       "    <tr style=\"text-align: right;\">\n",
       "      <th></th>\n",
       "      <th>CreditScore</th>\n",
       "      <th>Age</th>\n",
       "      <th>Balance</th>\n",
       "      <th>NumOfProducts</th>\n",
       "      <th>HasCrCard</th>\n",
       "      <th>IsActiveMember</th>\n",
       "      <th>EstimatedSalary</th>\n",
       "      <th>Geography_Germany</th>\n",
       "      <th>Geography_Spain</th>\n",
       "      <th>Gender_Male</th>\n",
       "      <th>...</th>\n",
       "      <th>Tenure_2.0</th>\n",
       "      <th>Tenure_3.0</th>\n",
       "      <th>Tenure_4.0</th>\n",
       "      <th>Tenure_5.0</th>\n",
       "      <th>Tenure_6.0</th>\n",
       "      <th>Tenure_7.0</th>\n",
       "      <th>Tenure_8.0</th>\n",
       "      <th>Tenure_9.0</th>\n",
       "      <th>Tenure_10.0</th>\n",
       "      <th>Tenure_0</th>\n",
       "    </tr>\n",
       "  </thead>\n",
       "  <tbody>\n",
       "    <tr>\n",
       "      <th>5536</th>\n",
       "      <td>-0.143332</td>\n",
       "      <td>0.577533</td>\n",
       "      <td>-1.220573</td>\n",
       "      <td>0.797767</td>\n",
       "      <td>1</td>\n",
       "      <td>1</td>\n",
       "      <td>1.029613</td>\n",
       "      <td>0</td>\n",
       "      <td>1</td>\n",
       "      <td>1</td>\n",
       "      <td>...</td>\n",
       "      <td>0</td>\n",
       "      <td>0</td>\n",
       "      <td>0</td>\n",
       "      <td>0</td>\n",
       "      <td>0</td>\n",
       "      <td>0</td>\n",
       "      <td>0</td>\n",
       "      <td>0</td>\n",
       "      <td>0</td>\n",
       "      <td>1</td>\n",
       "    </tr>\n",
       "    <tr>\n",
       "      <th>8530</th>\n",
       "      <td>1.632702</td>\n",
       "      <td>-0.564119</td>\n",
       "      <td>0.435807</td>\n",
       "      <td>-0.916018</td>\n",
       "      <td>1</td>\n",
       "      <td>0</td>\n",
       "      <td>0.237986</td>\n",
       "      <td>0</td>\n",
       "      <td>0</td>\n",
       "      <td>0</td>\n",
       "      <td>...</td>\n",
       "      <td>1</td>\n",
       "      <td>0</td>\n",
       "      <td>0</td>\n",
       "      <td>0</td>\n",
       "      <td>0</td>\n",
       "      <td>0</td>\n",
       "      <td>0</td>\n",
       "      <td>0</td>\n",
       "      <td>0</td>\n",
       "      <td>0</td>\n",
       "    </tr>\n",
       "  </tbody>\n",
       "</table>\n",
       "<p>2 rows × 21 columns</p>\n",
       "</div>"
      ],
      "text/plain": [
       "      CreditScore       Age   Balance  NumOfProducts  HasCrCard  \\\n",
       "5536    -0.143332  0.577533 -1.220573       0.797767          1   \n",
       "8530     1.632702 -0.564119  0.435807      -0.916018          1   \n",
       "\n",
       "      IsActiveMember  EstimatedSalary  Geography_Germany  Geography_Spain  \\\n",
       "5536               1         1.029613                  0                1   \n",
       "8530               0         0.237986                  0                0   \n",
       "\n",
       "      Gender_Male  ...  Tenure_2.0  Tenure_3.0  Tenure_4.0  Tenure_5.0  \\\n",
       "5536            1  ...           0           0           0           0   \n",
       "8530            0  ...           1           0           0           0   \n",
       "\n",
       "      Tenure_6.0  Tenure_7.0  Tenure_8.0  Tenure_9.0  Tenure_10.0  Tenure_0  \n",
       "5536           0           0           0           0            0         1  \n",
       "8530           0           0           0           0            0         0  \n",
       "\n",
       "[2 rows x 21 columns]"
      ]
     },
     "execution_count": 27,
     "metadata": {},
     "output_type": "execute_result"
    }
   ],
   "source": [
    "features_train.head(2)"
   ]
  },
  {
   "cell_type": "code",
   "execution_count": 28,
   "metadata": {},
   "outputs": [
    {
     "data": {
      "text/html": [
       "<div>\n",
       "<style scoped>\n",
       "    .dataframe tbody tr th:only-of-type {\n",
       "        vertical-align: middle;\n",
       "    }\n",
       "\n",
       "    .dataframe tbody tr th {\n",
       "        vertical-align: top;\n",
       "    }\n",
       "\n",
       "    .dataframe thead th {\n",
       "        text-align: right;\n",
       "    }\n",
       "</style>\n",
       "<table border=\"1\" class=\"dataframe\">\n",
       "  <thead>\n",
       "    <tr style=\"text-align: right;\">\n",
       "      <th></th>\n",
       "      <th>CreditScore</th>\n",
       "      <th>Age</th>\n",
       "      <th>Balance</th>\n",
       "      <th>NumOfProducts</th>\n",
       "      <th>HasCrCard</th>\n",
       "      <th>IsActiveMember</th>\n",
       "      <th>EstimatedSalary</th>\n",
       "      <th>Geography_Germany</th>\n",
       "      <th>Geography_Spain</th>\n",
       "      <th>Gender_Male</th>\n",
       "      <th>...</th>\n",
       "      <th>Tenure_2.0</th>\n",
       "      <th>Tenure_3.0</th>\n",
       "      <th>Tenure_4.0</th>\n",
       "      <th>Tenure_5.0</th>\n",
       "      <th>Tenure_6.0</th>\n",
       "      <th>Tenure_7.0</th>\n",
       "      <th>Tenure_8.0</th>\n",
       "      <th>Tenure_9.0</th>\n",
       "      <th>Tenure_10.0</th>\n",
       "      <th>Tenure_0</th>\n",
       "    </tr>\n",
       "  </thead>\n",
       "  <tbody>\n",
       "    <tr>\n",
       "      <th>9375</th>\n",
       "      <td>0.094161</td>\n",
       "      <td>0.862946</td>\n",
       "      <td>0.757050</td>\n",
       "      <td>0.797767</td>\n",
       "      <td>1</td>\n",
       "      <td>0</td>\n",
       "      <td>-0.308325</td>\n",
       "      <td>1</td>\n",
       "      <td>0</td>\n",
       "      <td>1</td>\n",
       "      <td>...</td>\n",
       "      <td>0</td>\n",
       "      <td>0</td>\n",
       "      <td>1</td>\n",
       "      <td>0</td>\n",
       "      <td>0</td>\n",
       "      <td>0</td>\n",
       "      <td>0</td>\n",
       "      <td>0</td>\n",
       "      <td>0</td>\n",
       "      <td>0</td>\n",
       "    </tr>\n",
       "    <tr>\n",
       "      <th>9536</th>\n",
       "      <td>-1.031349</td>\n",
       "      <td>0.292120</td>\n",
       "      <td>0.838881</td>\n",
       "      <td>-0.916018</td>\n",
       "      <td>1</td>\n",
       "      <td>0</td>\n",
       "      <td>-0.645029</td>\n",
       "      <td>1</td>\n",
       "      <td>0</td>\n",
       "      <td>0</td>\n",
       "      <td>...</td>\n",
       "      <td>0</td>\n",
       "      <td>0</td>\n",
       "      <td>0</td>\n",
       "      <td>0</td>\n",
       "      <td>0</td>\n",
       "      <td>0</td>\n",
       "      <td>0</td>\n",
       "      <td>0</td>\n",
       "      <td>1</td>\n",
       "      <td>0</td>\n",
       "    </tr>\n",
       "  </tbody>\n",
       "</table>\n",
       "<p>2 rows × 21 columns</p>\n",
       "</div>"
      ],
      "text/plain": [
       "      CreditScore       Age   Balance  NumOfProducts  HasCrCard  \\\n",
       "9375     0.094161  0.862946  0.757050       0.797767          1   \n",
       "9536    -1.031349  0.292120  0.838881      -0.916018          1   \n",
       "\n",
       "      IsActiveMember  EstimatedSalary  Geography_Germany  Geography_Spain  \\\n",
       "9375               0        -0.308325                  1                0   \n",
       "9536               0        -0.645029                  1                0   \n",
       "\n",
       "      Gender_Male  ...  Tenure_2.0  Tenure_3.0  Tenure_4.0  Tenure_5.0  \\\n",
       "9375            1  ...           0           0           1           0   \n",
       "9536            0  ...           0           0           0           0   \n",
       "\n",
       "      Tenure_6.0  Tenure_7.0  Tenure_8.0  Tenure_9.0  Tenure_10.0  Tenure_0  \n",
       "9375           0           0           0           0            0         0  \n",
       "9536           0           0           0           0            1         0  \n",
       "\n",
       "[2 rows x 21 columns]"
      ]
     },
     "execution_count": 28,
     "metadata": {},
     "output_type": "execute_result"
    }
   ],
   "source": [
    "features_val.head(2)"
   ]
  },
  {
   "cell_type": "code",
   "execution_count": 29,
   "metadata": {},
   "outputs": [
    {
     "data": {
      "text/html": [
       "<div>\n",
       "<style scoped>\n",
       "    .dataframe tbody tr th:only-of-type {\n",
       "        vertical-align: middle;\n",
       "    }\n",
       "\n",
       "    .dataframe tbody tr th {\n",
       "        vertical-align: top;\n",
       "    }\n",
       "\n",
       "    .dataframe thead th {\n",
       "        text-align: right;\n",
       "    }\n",
       "</style>\n",
       "<table border=\"1\" class=\"dataframe\">\n",
       "  <thead>\n",
       "    <tr style=\"text-align: right;\">\n",
       "      <th></th>\n",
       "      <th>CreditScore</th>\n",
       "      <th>Age</th>\n",
       "      <th>Balance</th>\n",
       "      <th>NumOfProducts</th>\n",
       "      <th>HasCrCard</th>\n",
       "      <th>IsActiveMember</th>\n",
       "      <th>EstimatedSalary</th>\n",
       "      <th>Geography_Germany</th>\n",
       "      <th>Geography_Spain</th>\n",
       "      <th>Gender_Male</th>\n",
       "      <th>...</th>\n",
       "      <th>Tenure_2.0</th>\n",
       "      <th>Tenure_3.0</th>\n",
       "      <th>Tenure_4.0</th>\n",
       "      <th>Tenure_5.0</th>\n",
       "      <th>Tenure_6.0</th>\n",
       "      <th>Tenure_7.0</th>\n",
       "      <th>Tenure_8.0</th>\n",
       "      <th>Tenure_9.0</th>\n",
       "      <th>Tenure_10.0</th>\n",
       "      <th>Tenure_0</th>\n",
       "    </tr>\n",
       "  </thead>\n",
       "  <tbody>\n",
       "    <tr>\n",
       "      <th>7837</th>\n",
       "      <td>2.066384</td>\n",
       "      <td>0.862946</td>\n",
       "      <td>-1.220573</td>\n",
       "      <td>-0.916018</td>\n",
       "      <td>1</td>\n",
       "      <td>0</td>\n",
       "      <td>1.202714</td>\n",
       "      <td>0</td>\n",
       "      <td>1</td>\n",
       "      <td>1</td>\n",
       "      <td>...</td>\n",
       "      <td>1</td>\n",
       "      <td>0</td>\n",
       "      <td>0</td>\n",
       "      <td>0</td>\n",
       "      <td>0</td>\n",
       "      <td>0</td>\n",
       "      <td>0</td>\n",
       "      <td>0</td>\n",
       "      <td>0</td>\n",
       "      <td>0</td>\n",
       "    </tr>\n",
       "    <tr>\n",
       "      <th>9505</th>\n",
       "      <td>0.011555</td>\n",
       "      <td>-1.039807</td>\n",
       "      <td>0.052520</td>\n",
       "      <td>-0.916018</td>\n",
       "      <td>1</td>\n",
       "      <td>1</td>\n",
       "      <td>-0.443548</td>\n",
       "      <td>0</td>\n",
       "      <td>0</td>\n",
       "      <td>1</td>\n",
       "      <td>...</td>\n",
       "      <td>0</td>\n",
       "      <td>0</td>\n",
       "      <td>0</td>\n",
       "      <td>0</td>\n",
       "      <td>0</td>\n",
       "      <td>0</td>\n",
       "      <td>0</td>\n",
       "      <td>0</td>\n",
       "      <td>1</td>\n",
       "      <td>0</td>\n",
       "    </tr>\n",
       "  </tbody>\n",
       "</table>\n",
       "<p>2 rows × 21 columns</p>\n",
       "</div>"
      ],
      "text/plain": [
       "      CreditScore       Age   Balance  NumOfProducts  HasCrCard  \\\n",
       "7837     2.066384  0.862946 -1.220573      -0.916018          1   \n",
       "9505     0.011555 -1.039807  0.052520      -0.916018          1   \n",
       "\n",
       "      IsActiveMember  EstimatedSalary  Geography_Germany  Geography_Spain  \\\n",
       "7837               0         1.202714                  0                1   \n",
       "9505               1        -0.443548                  0                0   \n",
       "\n",
       "      Gender_Male  ...  Tenure_2.0  Tenure_3.0  Tenure_4.0  Tenure_5.0  \\\n",
       "7837            1  ...           1           0           0           0   \n",
       "9505            1  ...           0           0           0           0   \n",
       "\n",
       "      Tenure_6.0  Tenure_7.0  Tenure_8.0  Tenure_9.0  Tenure_10.0  Tenure_0  \n",
       "7837           0           0           0           0            0         0  \n",
       "9505           0           0           0           0            1         0  \n",
       "\n",
       "[2 rows x 21 columns]"
      ]
     },
     "execution_count": 29,
     "metadata": {},
     "output_type": "execute_result"
    }
   ],
   "source": [
    "features_test.head(2)"
   ]
  },
  {
   "cell_type": "markdown",
   "metadata": {},
   "source": [
    "Данные подготовлены."
   ]
  },
  {
   "cell_type": "markdown",
   "metadata": {},
   "source": [
    "# 2. Исследование задачи <a class=\"anchor\" id=\"chapter2\"></a>"
   ]
  },
  {
   "cell_type": "markdown",
   "metadata": {},
   "source": [
    "Для решения задачи классификации нам понадобятся модели случайного леса и логистической регрессии.\n",
    "Найдём лучшую по f1 модель случайного леса деревьев и сравним её с моделью логистической регрессии."
   ]
  },
  {
   "cell_type": "code",
   "execution_count": 30,
   "metadata": {},
   "outputs": [],
   "source": [
    "# Функция возвращает значение выбранной метрики\n",
    "def aprf1(metric, y_val, predictions):\n",
    "    if metric == 'accuracy':\n",
    "        result = accuracy_score(y_val, predictions) \n",
    "        # Доля правильных ответов модели \n",
    "        \"\"\"\n",
    "        accuracy = [количество правильных ответов] / [всего вопросов]\n",
    "        \"\"\"\n",
    "    elif metric == 'precision':\n",
    "        result = precision_score(y_val, predictions)\n",
    "        # Точность \n",
    "        \"\"\"\n",
    "        The precision is the ratio tp / (tp + fp) where tp is the number of true positives \n",
    "        and fp the number of false positives. The precision is intuitively the ability \n",
    "        of the classifier not to label as positive a sample that is negative.\n",
    "        The best value is 1 and the worst value is 0.\n",
    "        \"\"\"\n",
    "    elif metric == 'recall':\n",
    "        result = recall_score(y_val, predictions)\n",
    "        # Полнота \n",
    "        \"\"\"\n",
    "        The recall is the ratio tp / (tp + fn) where tp is the number of true \n",
    "        positives and fn the number of false negatives. The recall is intuitively the ability \n",
    "        of the classifier to find all the positive samples\n",
    "        \"\"\"\n",
    "    elif metric == 'f1':\n",
    "        result = f1_score(y_val, predictions)\n",
    "        # F1\n",
    "        \"\"\"\n",
    "        The F1 score can be interpreted as a weighted average of the precision and recall, \n",
    "        where an F1 score reaches its best value at 1 and worst score at 0. \n",
    "        The relative contribution of precision and recall to the F1 score are equal. \n",
    "        The formula for the F1 score is:\n",
    "        F1 = 2 * (precision * recall) / (precision + recall)\n",
    "        \"\"\"\n",
    "        result = f1_score(y_val, predictions)\n",
    "    return result"
   ]
  },
  {
   "cell_type": "code",
   "execution_count": 31,
   "metadata": {},
   "outputs": [],
   "source": [
    "# Функция возвращает лучшую обученную модель по выбранной метрике и значение метрики\n",
    "def best_model_on_metric(model, # RandomForestClassifier, LogisticRegression, DecisionTreeClassifier\n",
    "                         X_train, \n",
    "                         y_train, \n",
    "                         X_val, \n",
    "                         y_val, \n",
    "                         metric, # accuracy, precision, recall, f1\n",
    "                         random_state=12345, \n",
    "                         n_estimators=100, # параметр num в np.logspace (только для RandomForestClassifier)\n",
    "                         max_depth=10, # только для RandomForestClassifier\n",
    "                         class_weight=None, # None, balanced\n",
    "                         method='predict' # predict (Predicted class label per sample), \\\n",
    "                                         # predict_proba (Returns the probability of the sample)\n",
    "                        ):  \n",
    "    best_model = None\n",
    "    best_result = 0\n",
    "    best_est = 0\n",
    "    best_depth = 0 \n",
    "    best_threshold = 0\n",
    "    if model == 'RandomForestClassifier':\n",
    "        for est in np.logspace(0, 3, n_estimators, endpoint=True, dtype = 'int'):\n",
    "            for depth in range(1, max_depth):\n",
    "                model = RandomForestClassifier(random_state=random_state, n_estimators=est, max_depth=depth, class_weight=class_weight) # Создаём объект структуры данных\n",
    "                model.fit(X_train, y_train) # Обучаем модель                \n",
    "                if method == 'predict':\n",
    "                    predictions = model.predict(X_val) # Передаём модели признаки валидационной выборки \n",
    "                    result = aprf1(metric, y_val, predictions)\n",
    "                    if result > best_result:\n",
    "                        best_model = model\n",
    "                        best_result = result\n",
    "                        best_est = est\n",
    "                        best_depth = depth\n",
    "                elif method == 'predict_proba':\n",
    "                    probabilities_valid = model.predict_proba(X_val)\n",
    "                    probabilities_one_valid = probabilities_valid[:, 1]\n",
    "                    for threshold in np.arange(0, 0.98, 0.02):\n",
    "                        predicted_valid = probabilities_one_valid > threshold\n",
    "                        result = aprf1(metric, y_val, predicted_valid)\n",
    "                        if result > best_result:\n",
    "                            best_model = model\n",
    "                            best_result = result\n",
    "                            best_est = est\n",
    "                            best_depth = depth\n",
    "                            best_threshold = threshold\n",
    "    elif model == 'LogisticRegression':\n",
    "        model = LogisticRegression(random_state=random_state, solver='liblinear', class_weight=class_weight) # Создаём объект структуры данных\n",
    "        model.fit(X_train, y_train) # Обучаем модель\n",
    "        if method == 'predict':\n",
    "            predictions = model.predict(X_val) # Передаём модели признаки валидационной выборки \n",
    "            result = aprf1(metric, y_val, predictions)\n",
    "            best_model = model\n",
    "            best_result = result\n",
    "        elif method == 'predict_proba':\n",
    "            probabilities_valid = model.predict_proba(X_val)\n",
    "            probabilities_one_valid = probabilities_valid[:, 1]\n",
    "            for threshold in np.arange(0, 0.98, 0.02):\n",
    "                predicted_valid = probabilities_one_valid > threshold\n",
    "                result = aprf1(metric, y_val, predicted_valid)\n",
    "                if result > best_result:\n",
    "                    best_model = model\n",
    "                    best_result = result\n",
    "                    best_threshold = threshold\n",
    "    elif model == 'DecisionTreeClassifier':\n",
    "        for depth in range(1, max_depth):\n",
    "            model = DecisionTreeClassifier(random_state=random_state, max_depth=depth, class_weight=class_weight) # Создаём объект структуры данных\n",
    "            model.fit(X_train, y_train) # Обучаем модель\n",
    "            if method == 'predict':\n",
    "                predictions = model.predict(X_val) # Передаём модели признаки валидационной выборки \n",
    "                result = aprf1(metric, y_val, predictions)\n",
    "                if result > best_result:\n",
    "                    best_model = model\n",
    "                    best_result = result\n",
    "                    best_depth = depth\n",
    "            elif method == 'predict_proba':\n",
    "                    probabilities_valid = model.predict_proba(X_val)\n",
    "                    probabilities_one_valid = probabilities_valid[:, 1]\n",
    "                    for threshold in np.arange(0, 0.98, 0.02):\n",
    "                        predicted_valid = probabilities_one_valid > threshold\n",
    "                        result = aprf1(metric, y_val, predicted_valid)\n",
    "                        if result > best_result:\n",
    "                            best_model = model\n",
    "                            best_result = result\n",
    "                            best_depth = depth\n",
    "                            best_threshold = threshold\n",
    "    print(metric, \"лучшей модели:\", best_result)\n",
    "    if best_est != 0:\n",
    "        print(\"количество деревьев лучшей модели:\", best_est)\n",
    "    if best_depth != 0:    \n",
    "        print(\"максимальная глубина дерева лучшей модели:\", best_depth)\n",
    "    if best_threshold != 0:    \n",
    "        print(\"вероятность класса 1 для модели с лучшей\",metric, \":\", best_threshold)\n",
    "    return best_model, best_result;"
   ]
  },
  {
   "cell_type": "code",
   "execution_count": 32,
   "metadata": {},
   "outputs": [
    {
     "name": "stdout",
     "output_type": "stream",
     "text": [
      "f1 лучшей модели: 0.5400516795865633\n",
      "количество деревьев лучшей модели: 1\n",
      "максимальная глубина дерева лучшей модели: 6\n",
      "Wall time: 1min 42s\n"
     ]
    }
   ],
   "source": [
    "%%time\n",
    "model_RF_1, f1_RF_1 = best_model_on_metric('RandomForestClassifier',\n",
    "                                features_train, \n",
    "                                target_train, \n",
    "                                features_val, \n",
    "                                target_val, \n",
    "                                'f1',\n",
    "                                n_estimators=20, \n",
    "                                max_depth=10)"
   ]
  },
  {
   "cell_type": "code",
   "execution_count": 33,
   "metadata": {
    "scrolled": true
   },
   "outputs": [
    {
     "name": "stdout",
     "output_type": "stream",
     "text": [
      "f1 лучшей модели: 0.3333333333333333\n",
      "Wall time: 34.9 ms\n"
     ]
    }
   ],
   "source": [
    "%%time\n",
    "model_LR_1, f1_LR_1 = best_model_on_metric('LogisticRegression',\n",
    "                                        features_train, \n",
    "                                        target_train, \n",
    "                                        features_val, \n",
    "                                        target_val, \n",
    "                                        'f1')"
   ]
  },
  {
   "cell_type": "code",
   "execution_count": 34,
   "metadata": {},
   "outputs": [
    {
     "name": "stdout",
     "output_type": "stream",
     "text": [
      "f1 лучшей модели: 0.5763688760806917\n",
      "максимальная глубина дерева лучшей модели: 8\n",
      "Wall time: 3.57 s\n"
     ]
    }
   ],
   "source": [
    "%%time\n",
    "model_DT_1, f1_DT_1 = best_model_on_metric('DecisionTreeClassifier',\n",
    "                                features_train, \n",
    "                                target_train, \n",
    "                                features_val, \n",
    "                                target_val, \n",
    "                                'f1',\n",
    "                                max_depth=100)"
   ]
  },
  {
   "cell_type": "code",
   "execution_count": 35,
   "metadata": {},
   "outputs": [],
   "source": [
    "# Функция строит ROC-кривую нашей модели и ROC-кривую случайной модели \n",
    "def roc_plot(model, features_train, target_train, features_valid, target_valid, model_name='', metric_name='none', metric_value=0):\n",
    "    model.fit(features_train, target_train)\n",
    "    probabilities_valid = model.predict_proba(features_valid)\n",
    "    probabilities_one_valid = probabilities_valid[:, 1]\n",
    "    \"\"\"\n",
    "    Функция roc_curve() на вход принимает значения целевого признака\n",
    "    и вероятности положительного класса. Перебирает разные пороги и \n",
    "    возвращает три списка: значения FPR, значения TPR и рассмотренные пороги.\n",
    "    \"\"\"\n",
    "    fpr, tpr, thresholds = roc_curve(target_valid, probabilities_one_valid)\n",
    "    \"\"\"\n",
    "    Чтобы выявить, как сильно наша модель отличается от случайной, посчитаем \n",
    "    площадь под ROC-кривой — AUC-ROC (от англ. Area Under Curve ROC, \n",
    "    «площадь под ROC-кривой»). Это метрика качества, которая изменяется \n",
    "    от 0 до 1. AUC-ROC случайной модели равна 0.5.\n",
    "    \"\"\"\n",
    "    auc_roc = roc_auc_score(target_valid, probabilities_one_valid)\n",
    "    \n",
    "    plt.figure()\n",
    "    plt.plot(fpr, tpr)\n",
    "    # ROC-кривая случайной модели (выглядит как прямая)\n",
    "    plt.plot([0, 1], [0, 1], linestyle='--')\n",
    "    # границы осей от 0 до 1\n",
    "    plt.xlim([0.0, 1.0])\n",
    "    plt.ylim([0.0, 1.0])\n",
    "    plt.xlabel('False Positive Rate')\n",
    "    plt.ylabel('True Positive Rate')\n",
    "    plt.title(model_name + 'ROC-кривая')\n",
    "    plt.show()\n",
    "    print('AUC-ROC:', auc_roc)\n",
    "    if metric_value != 0:\n",
    "        print(metric_name,':', metric_value)"
   ]
  },
  {
   "cell_type": "code",
   "execution_count": 36,
   "metadata": {
    "scrolled": false
   },
   "outputs": [
    {
     "data": {
      "image/png": "[encoded data removed]",
      "text/plain": [
       "<Figure size 432x288 with 1 Axes>"
      ]
     },
     "metadata": {
      "needs_background": "light"
     },
     "output_type": "display_data"
    },
    {
     "name": "stdout",
     "output_type": "stream",
     "text": [
      "AUC-ROC: 0.794576548813837\n",
      "f1 : 0.5400516795865633\n"
     ]
    },
    {
     "data": {
      "image/png": "[encoded data removed]",
      "text/plain": [
       "<Figure size 432x288 with 1 Axes>"
      ]
     },
     "metadata": {
      "needs_background": "light"
     },
     "output_type": "display_data"
    },
    {
     "name": "stdout",
     "output_type": "stream",
     "text": [
      "AUC-ROC: 0.7860371928168539\n",
      "f1 : 0.3333333333333333\n"
     ]
    },
    {
     "data": {
      "image/png": "[encoded data removed]",
      "text/plain": [
       "<Figure size 432x288 with 1 Axes>"
      ]
     },
     "metadata": {
      "needs_background": "light"
     },
     "output_type": "display_data"
    },
    {
     "name": "stdout",
     "output_type": "stream",
     "text": [
      "AUC-ROC: 0.8081694946101727\n",
      "f1 : 0.5763688760806917\n"
     ]
    }
   ],
   "source": [
    "roc_plot(model_RF_1, features_train, target_train, features_val, target_val, \\\n",
    "         'Случайный лес. ', 'f1', f1_RF_1)\n",
    "roc_plot(model_LR_1, features_train, target_train, features_val, target_val, \\\n",
    "         'Логистическая регрессия. ', 'f1', f1_LR_1)\n",
    "roc_plot(model_DT_1, features_train, target_train, features_val, target_val, \\\n",
    "         'Решающее дерево. ', 'f1', f1_DT_1)"
   ]
  },
  {
   "cell_type": "markdown",
   "metadata": {},
   "source": [
    "Лучшей по метрикам f1 и AUC-ROC является модель случайного леса:\n",
    "\n",
    "- f1 лучшей модели: 0.5732484076433121\n",
    "- количество деревьев лучшей модели: 39\n",
    "- максимальная глубина дерева лучшей модели: 20"
   ]
  },
  {
   "cell_type": "markdown",
   "metadata": {},
   "source": [
    "F1-мера меньше 0.59, задача не выполнена."
   ]
  },
  {
   "cell_type": "markdown",
   "metadata": {},
   "source": [
    "# 3. Борьба с дисбалансом <a class=\"anchor\" id=\"chapter3\"></a>"
   ]
  },
  {
   "cell_type": "markdown",
   "metadata": {},
   "source": [
    "## 3.1. Взвешивание классов <a class=\"anchor\" id=\"section_3_1\"></a>"
   ]
  },
  {
   "cell_type": "markdown",
   "metadata": {},
   "source": [
    "Укажем `class_weight='balanced'`, чтобы алгоритм посчитал, во сколько раз класс «0» встречается чаще класса «1» и присвоил больший вес редкому классу."
   ]
  },
  {
   "cell_type": "code",
   "execution_count": 37,
   "metadata": {},
   "outputs": [
    {
     "name": "stdout",
     "output_type": "stream",
     "text": [
      "f1 лучшей модели: 0.64\n",
      "количество деревьев лучшей модели: 162\n",
      "максимальная глубина дерева лучшей модели: 9\n",
      "Wall time: 1min 42s\n"
     ]
    }
   ],
   "source": [
    "%%time\n",
    "model_RF_2, f1_RF_2 = best_model_on_metric('RandomForestClassifier',\n",
    "                                features_train, \n",
    "                                target_train, \n",
    "                                features_val, \n",
    "                                target_val, \n",
    "                                'f1',\n",
    "                                n_estimators=20, \n",
    "                                max_depth=10,\n",
    "                                class_weight='balanced')"
   ]
  },
  {
   "cell_type": "code",
   "execution_count": 38,
   "metadata": {},
   "outputs": [
    {
     "name": "stdout",
     "output_type": "stream",
     "text": [
      "f1 лучшей модели: 0.5215889464594127\n",
      "Wall time: 28.5 ms\n"
     ]
    }
   ],
   "source": [
    "%%time\n",
    "model_LR_2, f1_LR_2 = best_model_on_metric('LogisticRegression',\n",
    "                                       features_train, \n",
    "                                       target_train, \n",
    "                                       features_val, \n",
    "                                       target_val, \n",
    "                                       'f1',\n",
    "                                       class_weight='balanced'\n",
    "                                      )"
   ]
  },
  {
   "cell_type": "code",
   "execution_count": 39,
   "metadata": {},
   "outputs": [
    {
     "name": "stdout",
     "output_type": "stream",
     "text": [
      "f1 лучшей модели: 0.5735159817351598\n",
      "максимальная глубина дерева лучшей модели: 7\n",
      "Wall time: 3.54 s\n"
     ]
    }
   ],
   "source": [
    "%%time\n",
    "model_DT_2, f1_DT_2 = best_model_on_metric('DecisionTreeClassifier',\n",
    "                                features_train, \n",
    "                                target_train, \n",
    "                                features_val, \n",
    "                                target_val, \n",
    "                                'f1',\n",
    "                                max_depth=100,\n",
    "                                class_weight='balanced')"
   ]
  },
  {
   "cell_type": "code",
   "execution_count": 40,
   "metadata": {},
   "outputs": [
    {
     "data": {
      "image/png": "[encoded data removed]",
      "text/plain": [
       "<Figure size 432x288 with 1 Axes>"
      ]
     },
     "metadata": {
      "needs_background": "light"
     },
     "output_type": "display_data"
    },
    {
     "name": "stdout",
     "output_type": "stream",
     "text": [
      "AUC-ROC: 0.8719058041091939\n",
      "f1 : 0.64\n"
     ]
    },
    {
     "data": {
      "image/png": "[encoded data removed]",
      "text/plain": [
       "<Figure size 432x288 with 1 Axes>"
      ]
     },
     "metadata": {
      "needs_background": "light"
     },
     "output_type": "display_data"
    },
    {
     "name": "stdout",
     "output_type": "stream",
     "text": [
      "AUC-ROC: 0.7904530107919939\n",
      "f1 : 0.5215889464594127\n"
     ]
    },
    {
     "data": {
      "image/png": "[encoded data removed]",
      "text/plain": [
       "<Figure size 432x288 with 1 Axes>"
      ]
     },
     "metadata": {
      "needs_background": "light"
     },
     "output_type": "display_data"
    },
    {
     "name": "stdout",
     "output_type": "stream",
     "text": [
      "AUC-ROC: 0.8085712831475544\n",
      "f1 : 0.5735159817351598\n"
     ]
    }
   ],
   "source": [
    "roc_plot(model_RF_2, features_train, target_train, features_val, target_val, \\\n",
    "         \"Случайный лес (balanced). \", 'f1', f1_RF_2)\n",
    "roc_plot(model_LR_2, features_train, target_train, features_val, target_val, \\\n",
    "         \"Логистическая регрессия (balanced). \", 'f1', f1_LR_2)\n",
    "roc_plot(model_DT_2, features_train, target_train, features_val, target_val, \\\n",
    "         \"Решающее дерево (balanced). \", 'f1', f1_DT_2)"
   ]
  },
  {
   "cell_type": "markdown",
   "metadata": {},
   "source": [
    "Все модели показали более лучшие результаты, чем в предыдущем эксперименте. Модель случайного леса решает поставленную задачу (F1 > 0.59):\n",
    "- f1 лучшей модели: 0.608\n",
    "- количество деревьев лучшей модели: 22\n",
    "- максимальная глубина дерева лучшей модели: 12\n",
    "- Wall time: 2min 6s\n",
    "\n",
    "Единственный недочет - время обучения."
   ]
  },
  {
   "cell_type": "markdown",
   "metadata": {},
   "source": [
    "## 3.2. Увеличение выборки <a class=\"anchor\" id=\"section_3_2\"></a>"
   ]
  },
  {
   "cell_type": "markdown",
   "metadata": {},
   "source": [
    "Посчитаем количество объектов каждого класса."
   ]
  },
  {
   "cell_type": "code",
   "execution_count": 41,
   "metadata": {},
   "outputs": [
    {
     "name": "stdout",
     "output_type": "stream",
     "text": [
      "Количество объектов для признаков отрицательного класса: 4777\n",
      "Количество объектов для признаков положительнгого класса: 1223\n",
      "Количество объектов для целей отрицательного класса: 4777\n",
      "Количество объектов для целей положительнгого класса: 1223\n"
     ]
    }
   ],
   "source": [
    "features_zeros = features_train[target_train == 0] \n",
    "features_ones  = features_train[target_train == 1] \n",
    "target_zeros = target_train[target_train == 0] \n",
    "target_ones  = target_train[target_train == 1] \n",
    "\n",
    "print('Количество объектов для признаков отрицательного класса:', features_zeros.shape[0])\n",
    "print('Количество объектов для признаков положительнгого класса:',features_ones.shape[0])\n",
    "print('Количество объектов для целей отрицательного класса:',target_zeros.shape[0])\n",
    "print('Количество объектов для целей положительнгого класса:',target_ones.shape[0])"
   ]
  },
  {
   "cell_type": "markdown",
   "metadata": {},
   "source": [
    "Объектов положительного класса примерно в 4 раза меньше объектов отрицательного класса. Увеличим количество объектов положительного класса  так, чтобы оно было примерно равно количеству объектов отрицательного класса."
   ]
  },
  {
   "cell_type": "code",
   "execution_count": 42,
   "metadata": {},
   "outputs": [],
   "source": [
    "def upsample(features, target, repeat):\n",
    "    features_zeros = features[target == 0] #  признаки объектов с ответом «0»;\n",
    "    features_ones = features[target == 1] # признаки объектов с ответом «1»;\n",
    "    target_zeros = target[target == 0] # целевой признак объектов, у которых ответы только «0»;\n",
    "    repeat = repeat # количество повторений\n",
    "    features_upsampled = pd.concat([features_zeros] + [features_ones] * repeat)\n",
    "    target_upsampled = pd.concat([target_zeros] + [target_ones] * repeat)\n",
    "    features_upsampled, target_upsampled = shuffle(\n",
    "    features_upsampled, target_upsampled, random_state=12345) # перемешиваем данные\n",
    "    return features_upsampled, target_upsampled"
   ]
  },
  {
   "cell_type": "code",
   "execution_count": 43,
   "metadata": {
    "scrolled": false
   },
   "outputs": [
    {
     "name": "stdout",
     "output_type": "stream",
     "text": [
      "(9669, 21)\n",
      "(9669,)\n"
     ]
    }
   ],
   "source": [
    "features_upsampled, target_upsampled = upsample(features_train, target_train, 4)\n",
    "\n",
    "print(features_upsampled.shape)\n",
    "print(target_upsampled.shape)"
   ]
  },
  {
   "cell_type": "code",
   "execution_count": 44,
   "metadata": {},
   "outputs": [
    {
     "name": "stdout",
     "output_type": "stream",
     "text": [
      "f1 лучшей модели: 0.6350210970464134\n",
      "количество деревьев лучшей модели: 483\n",
      "максимальная глубина дерева лучшей модели: 9\n",
      "Wall time: 2min 22s\n"
     ]
    }
   ],
   "source": [
    "%%time\n",
    "model_RF_3, f1_RF_3 = best_model_on_metric('RandomForestClassifier',\n",
    "                                features_upsampled, \n",
    "                                target_upsampled, \n",
    "                                features_val, \n",
    "                                target_val, \n",
    "                                'f1',\n",
    "                                n_estimators=20, \n",
    "                                max_depth=10,\n",
    "                                class_weight='balanced')"
   ]
  },
  {
   "cell_type": "code",
   "execution_count": 45,
   "metadata": {},
   "outputs": [
    {
     "name": "stdout",
     "output_type": "stream",
     "text": [
      "f1 лучшей модели: 0.5215889464594127\n",
      "Wall time: 48.3 ms\n"
     ]
    }
   ],
   "source": [
    "%%time\n",
    "model_LR_3, f1_LR_3 = best_model_on_metric('LogisticRegression',\n",
    "                                        features_upsampled, \n",
    "                                        target_upsampled, \n",
    "                                        features_val, \n",
    "                                        target_val, \n",
    "                                        'f1',\n",
    "                                        class_weight='balanced')"
   ]
  },
  {
   "cell_type": "code",
   "execution_count": 46,
   "metadata": {
    "scrolled": true
   },
   "outputs": [
    {
     "name": "stdout",
     "output_type": "stream",
     "text": [
      "f1 лучшей модели: 0.5722120658135283\n",
      "максимальная глубина дерева лучшей модели: 7\n",
      "Wall time: 4.73 s\n"
     ]
    }
   ],
   "source": [
    "%%time\n",
    "model_DT_3, f1_DT_3 = best_model_on_metric('DecisionTreeClassifier',\n",
    "                                features_upsampled, \n",
    "                                target_upsampled, \n",
    "                                features_val, \n",
    "                                target_val, \n",
    "                                'f1',\n",
    "                                max_depth=100,\n",
    "                                class_weight='balanced')"
   ]
  },
  {
   "cell_type": "code",
   "execution_count": 47,
   "metadata": {},
   "outputs": [
    {
     "data": {
      "image/png": "[encoded data removed]",
      "text/plain": [
       "<Figure size 432x288 with 1 Axes>"
      ]
     },
     "metadata": {
      "needs_background": "light"
     },
     "output_type": "display_data"
    },
    {
     "name": "stdout",
     "output_type": "stream",
     "text": [
      "AUC-ROC: 0.872294482463974\n",
      "f1 : 0.6350210970464134\n"
     ]
    },
    {
     "data": {
      "image/png": "[encoded data removed]",
      "text/plain": [
       "<Figure size 432x288 with 1 Axes>"
      ]
     },
     "metadata": {
      "needs_background": "light"
     },
     "output_type": "display_data"
    },
    {
     "name": "stdout",
     "output_type": "stream",
     "text": [
      "AUC-ROC: 0.7903990276871633\n",
      "f1 : 0.5215889464594127\n"
     ]
    },
    {
     "data": {
      "image/png": "[encoded data removed]",
      "text/plain": [
       "<Figure size 432x288 with 1 Axes>"
      ]
     },
     "metadata": {
      "needs_background": "light"
     },
     "output_type": "display_data"
    },
    {
     "name": "stdout",
     "output_type": "stream",
     "text": [
      "AUC-ROC: 0.8060495009647551\n",
      "f1 : 0.5722120658135283\n"
     ]
    }
   ],
   "source": [
    "roc_plot(model_RF_3, features_upsampled, target_upsampled, features_val, target_val, \\\n",
    "         \"Случайный лес (upsampled | balanced). \", 'f1', f1_RF_3)\n",
    "roc_plot(model_LR_3, features_upsampled, target_upsampled, features_val, target_val, \\\n",
    "         \"Логистическая регрессия (upsampled | balanced). \", 'f1', f1_LR_3)\n",
    "roc_plot(model_DT_3, features_upsampled, target_upsampled, features_val, target_val, \\\n",
    "         \"Решающее дерево (upsampled | balanced). \", 'f1', f1_DT_3)"
   ]
  },
  {
   "cell_type": "markdown",
   "metadata": {},
   "source": [
    "## 3.3. Изменение порога классификации <a class=\"anchor\" id=\"section_3_3\"></a>"
   ]
  },
  {
   "cell_type": "markdown",
   "metadata": {},
   "source": [
    "Посмотрим, удастся ли добиться лучших результатов F1, если изменить порог классификации в различных моделях."
   ]
  },
  {
   "cell_type": "code",
   "execution_count": 48,
   "metadata": {},
   "outputs": [
    {
     "name": "stdout",
     "output_type": "stream",
     "text": [
      "f1 лучшей модели: 0.6556213017751479\n",
      "количество деревьев лучшей модели: 54\n",
      "максимальная глубина дерева лучшей модели: 8\n",
      "вероятность класса 1 для модели с лучшей f1 : 0.56\n",
      "Wall time: 2min 47s\n"
     ]
    }
   ],
   "source": [
    "%%time\n",
    "model_RF_4, f1_RF_4 = best_model_on_metric('RandomForestClassifier',\n",
    "                                features_upsampled, \n",
    "                                target_upsampled, \n",
    "                                features_val, \n",
    "                                target_val, \n",
    "                                'f1',\n",
    "                                n_estimators=20, \n",
    "                                max_depth=10,\n",
    "                                class_weight='balanced',\n",
    "                                method='predict_proba')"
   ]
  },
  {
   "cell_type": "code",
   "execution_count": 49,
   "metadata": {},
   "outputs": [
    {
     "name": "stdout",
     "output_type": "stream",
     "text": [
      "f1 лучшей модели: 0.530938123752495\n",
      "вероятность класса 1 для модели с лучшей f1 : 0.56\n",
      "Wall time: 212 ms\n"
     ]
    }
   ],
   "source": [
    "%%time\n",
    "model_LR_4, f1_LR_4 = best_model_on_metric('LogisticRegression',\n",
    "                                        features_upsampled, \n",
    "                                        target_upsampled, \n",
    "                                        features_val, \n",
    "                                        target_val, \n",
    "                                        'f1',\n",
    "                                        class_weight='balanced',\n",
    "                                        method='predict_proba')"
   ]
  },
  {
   "cell_type": "code",
   "execution_count": 50,
   "metadata": {},
   "outputs": [
    {
     "name": "stdout",
     "output_type": "stream",
     "text": [
      "f1 лучшей модели: 0.5917525773195876\n",
      "максимальная глубина дерева лучшей модели: 6\n",
      "вероятность класса 1 для модели с лучшей f1 : 0.6\n",
      "Wall time: 16.3 s\n"
     ]
    }
   ],
   "source": [
    "%%time\n",
    "model_DT_4, f1_DT_4 = best_model_on_metric('DecisionTreeClassifier',\n",
    "                                features_upsampled, \n",
    "                                target_upsampled, \n",
    "                                features_val, \n",
    "                                target_val, \n",
    "                                'f1',\n",
    "                                max_depth=100,\n",
    "                                class_weight='balanced',\n",
    "                                method='predict_proba')"
   ]
  },
  {
   "cell_type": "code",
   "execution_count": 51,
   "metadata": {},
   "outputs": [
    {
     "data": {
      "image/png": "[encoded data removed]",
      "text/plain": [
       "<Figure size 432x288 with 1 Axes>"
      ]
     },
     "metadata": {
      "needs_background": "light"
     },
     "output_type": "display_data"
    },
    {
     "name": "stdout",
     "output_type": "stream",
     "text": [
      "AUC-ROC: 0.8730456188083306\n",
      "f1 : 0.6556213017751479\n"
     ]
    },
    {
     "data": {
      "image/png": "[encoded data removed]",
      "text/plain": [
       "<Figure size 432x288 with 1 Axes>"
      ]
     },
     "metadata": {
      "needs_background": "light"
     },
     "output_type": "display_data"
    },
    {
     "name": "stdout",
     "output_type": "stream",
     "text": [
      "AUC-ROC: 0.7903990276871633\n",
      "f1 : 0.530938123752495\n"
     ]
    },
    {
     "data": {
      "image/png": "[encoded data removed]",
      "text/plain": [
       "<Figure size 432x288 with 1 Axes>"
      ]
     },
     "metadata": {
      "needs_background": "light"
     },
     "output_type": "display_data"
    },
    {
     "name": "stdout",
     "output_type": "stream",
     "text": [
      "AUC-ROC: 0.8337212405009015\n",
      "f1 : 0.5917525773195876\n"
     ]
    }
   ],
   "source": [
    "roc_plot(model_RF_4, features_upsampled, target_upsampled, features_val, target_val, \\\n",
    "         \"Случайный лес (upsampled | balanced | predict_proba). \", 'f1', f1_RF_4)\n",
    "roc_plot(model_LR_4, features_upsampled, target_upsampled, features_val, target_val, \\\n",
    "         \"Логистическая регрессия (upsampled | balanced | predict_proba). \", 'f1', f1_LR_4)\n",
    "roc_plot(model_DT_4, features_upsampled, target_upsampled, features_val, target_val, \\\n",
    "         \"Решающее дерево (upsampled | balanced | predict_proba). \", 'f1', f1_DT_4)"
   ]
  },
  {
   "cell_type": "markdown",
   "metadata": {},
   "source": [
    "И, напоследок, попробуем метод 'predict_proba' для моделей не по увеличенной выборке:"
   ]
  },
  {
   "cell_type": "code",
   "execution_count": 56,
   "metadata": {},
   "outputs": [
    {
     "name": "stdout",
     "output_type": "stream",
     "text": [
      "f1 лучшей модели: 0.6496350364963503\n",
      "количество деревьев лучшей модели: 483\n",
      "максимальная глубина дерева лучшей модели: 8\n",
      "вероятность класса 1 для модели с лучшей f1 : 0.54\n",
      "Wall time: 2min 8s\n"
     ]
    }
   ],
   "source": [
    "%%time\n",
    "model_RF_5, f1_RF_5 = best_model_on_metric('RandomForestClassifier',\n",
    "                                features_train, \n",
    "                                target_train, \n",
    "                                features_val, \n",
    "                                target_val, \n",
    "                                'f1',\n",
    "                                n_estimators=20, \n",
    "                                max_depth=10,\n",
    "                                class_weight='balanced',\n",
    "                                method='predict_proba')"
   ]
  },
  {
   "cell_type": "code",
   "execution_count": 53,
   "metadata": {},
   "outputs": [
    {
     "name": "stdout",
     "output_type": "stream",
     "text": [
      "f1 лучшей модели: 0.530938123752495\n",
      "вероятность класса 1 для модели с лучшей f1 : 0.56\n",
      "Wall time: 190 ms\n"
     ]
    }
   ],
   "source": [
    "%%time\n",
    "model_LR_5, f1_LR_5 = best_model_on_metric('LogisticRegression',\n",
    "                                        features_train, \n",
    "                                        target_train, \n",
    "                                        features_val, \n",
    "                                        target_val, \n",
    "                                        'f1',\n",
    "                                        class_weight='balanced',\n",
    "                                        method='predict_proba')"
   ]
  },
  {
   "cell_type": "code",
   "execution_count": 54,
   "metadata": {},
   "outputs": [
    {
     "name": "stdout",
     "output_type": "stream",
     "text": [
      "f1 лучшей модели: 0.5911431513903191\n",
      "максимальная глубина дерева лучшей модели: 6\n",
      "вероятность класса 1 для модели с лучшей f1 : 0.6\n",
      "Wall time: 15.3 s\n"
     ]
    }
   ],
   "source": [
    "%%time\n",
    "model_DT_5, f1_DT_5 = best_model_on_metric('DecisionTreeClassifier',\n",
    "                                features_train, \n",
    "                                target_train, \n",
    "                                features_val, \n",
    "                                target_val, \n",
    "                                'f1',\n",
    "                                max_depth=100,\n",
    "                                class_weight='balanced',\n",
    "                                method='predict_proba')"
   ]
  },
  {
   "cell_type": "code",
   "execution_count": 57,
   "metadata": {},
   "outputs": [
    {
     "data": {
      "image/png": "[encoded data removed]",
      "text/plain": [
       "<Figure size 432x288 with 1 Axes>"
      ]
     },
     "metadata": {
      "needs_background": "light"
     },
     "output_type": "display_data"
    },
    {
     "name": "stdout",
     "output_type": "stream",
     "text": [
      "AUC-ROC: 0.8729361102242459\n",
      "f1 : 0.6496350364963503\n"
     ]
    },
    {
     "data": {
      "image/png": "[encoded data removed]",
      "text/plain": [
       "<Figure size 432x288 with 1 Axes>"
      ]
     },
     "metadata": {
      "needs_background": "light"
     },
     "output_type": "display_data"
    },
    {
     "name": "stdout",
     "output_type": "stream",
     "text": [
      "AUC-ROC: 0.7903990276871633\n",
      "f1 : 0.530938123752495\n"
     ]
    },
    {
     "data": {
      "image/png": "[encoded data removed]",
      "text/plain": [
       "<Figure size 432x288 with 1 Axes>"
      ]
     },
     "metadata": {
      "needs_background": "light"
     },
     "output_type": "display_data"
    },
    {
     "name": "stdout",
     "output_type": "stream",
     "text": [
      "AUC-ROC: 0.8337212405009015\n",
      "f1 : 0.5911431513903191\n"
     ]
    }
   ],
   "source": [
    "roc_plot(model_RF_5, features_upsampled, target_upsampled, features_val, target_val, \\\n",
    "         \"Случайный лес (balanced | predict_proba). \", 'f1', f1_RF_5)\n",
    "roc_plot(model_LR_5, features_upsampled, target_upsampled, features_val, target_val, \\\n",
    "         \"Логистическая регрессия (balanced | predict_proba). \", 'f1', f1_LR_5)\n",
    "roc_plot(model_DT_5, features_upsampled, target_upsampled, features_val, target_val, \\\n",
    "         \"Решающее дерево (balanced | predict_proba). \", 'f1', f1_DT_5)"
   ]
  },
  {
   "cell_type": "markdown",
   "metadata": {},
   "source": [
    "На валидационной выборке лучше всего результаты получились, если увеличить выборку, сбалансировать классы и поиграться с порогом классификации - модель `model_RF_4`."
   ]
  },
  {
   "cell_type": "markdown",
   "metadata": {},
   "source": [
    "# 4. Тестирование модели <a class=\"anchor\" id=\"chapter4\"></a>"
   ]
  },
  {
   "cell_type": "markdown",
   "metadata": {},
   "source": [
    "Поместим результаты предсказаний наших трёх моделей в переменные."
   ]
  },
  {
   "cell_type": "code",
   "execution_count": 73,
   "metadata": {},
   "outputs": [],
   "source": [
    "model_RF_4_predictions = model_RF_4.predict(features_test)\n",
    "#model_LR_4_predictions = model_LR_4.predict(features_test)\n",
    "#model_DT_4_predictions = model_DT_4.predict(features_test)"
   ]
  },
  {
   "cell_type": "code",
   "execution_count": 74,
   "metadata": {},
   "outputs": [],
   "source": [
    "# Функция для подсчёта ошибочных предсказаний\n",
    "def error_count(answers, predictions):\n",
    "    errors = 0\n",
    "    for row in range(0, len(predictions)):\n",
    "        if answers[row] != predictions[row]:\n",
    "                     errors += 1\n",
    "    return errors"
   ]
  },
  {
   "cell_type": "code",
   "execution_count": 75,
   "metadata": {},
   "outputs": [],
   "source": [
    "# Функция для подсчёта доли правильных ответов\n",
    "def accuracy(answers, predictions):\n",
    "    accuracy = (len(answers) - error_count(answers, predictions))/len(answers)\n",
    "    return accuracy"
   ]
  },
  {
   "cell_type": "code",
   "execution_count": 76,
   "metadata": {},
   "outputs": [],
   "source": [
    "def check_models(test_target, test_predictions, model_name):\n",
    "    print(model_name, \"Errors:\",error_count(test_target.reset_index(drop=True), test_predictions))\n",
    "    print(model_name, \"Accuracy:\", accuracy(test_target.reset_index(drop=True), test_predictions))"
   ]
  },
  {
   "cell_type": "markdown",
   "metadata": {},
   "source": [
    "Посмотрим на количество ошибок и точность по итогам тестирования разных моделей:"
   ]
  },
  {
   "cell_type": "code",
   "execution_count": 77,
   "metadata": {},
   "outputs": [
    {
     "name": "stdout",
     "output_type": "stream",
     "text": [
      "Best Forest Errors: 372\n",
      "Best Forest Accuracy: 0.814\n"
     ]
    }
   ],
   "source": [
    "check_models(target_test, model_RF_4_predictions, 'Best Forest')"
   ]
  },
  {
   "cell_type": "code",
   "execution_count": 63,
   "metadata": {},
   "outputs": [
    {
     "name": "stdout",
     "output_type": "stream",
     "text": [
      "Logistic Regression Errors: 583\n",
      "Logistic Regression Accuracy: 0.7085\n"
     ]
    }
   ],
   "source": [
    "#check_models(target_test, model_LR_4_predictions, 'Logistic Regression')"
   ]
  },
  {
   "cell_type": "code",
   "execution_count": 64,
   "metadata": {},
   "outputs": [
    {
     "name": "stdout",
     "output_type": "stream",
     "text": [
      "Best Tree Errors: 487\n",
      "Best Tree Accuracy: 0.7565\n"
     ]
    }
   ],
   "source": [
    "#check_models(target_test, model_DT_4_predictions, 'Best Tree')"
   ]
  },
  {
   "cell_type": "markdown",
   "metadata": {},
   "source": [
    "Посмотрим, какие значения F1 получатся на тестовой выборке для различных моделей."
   ]
  },
  {
   "cell_type": "code",
   "execution_count": 78,
   "metadata": {},
   "outputs": [
    {
     "data": {
      "text/plain": [
       "0.6204081632653061"
      ]
     },
     "execution_count": 78,
     "metadata": {},
     "output_type": "execute_result"
    }
   ],
   "source": [
    "aprf1('f1', target_test, model_RF_4_predictions)"
   ]
  },
  {
   "cell_type": "code",
   "execution_count": 66,
   "metadata": {},
   "outputs": [
    {
     "data": {
      "text/plain": [
       "0.507185122569738"
      ]
     },
     "execution_count": 66,
     "metadata": {},
     "output_type": "execute_result"
    }
   ],
   "source": [
    "#aprf1('f1', target_test, model_LR_4_predictions)"
   ]
  },
  {
   "cell_type": "code",
   "execution_count": 67,
   "metadata": {},
   "outputs": [
    {
     "data": {
      "text/plain": [
       "0.5671111111111111"
      ]
     },
     "execution_count": 67,
     "metadata": {},
     "output_type": "execute_result"
    }
   ],
   "source": [
    "#aprf1('f1', target_test, model_DT_4_predictions)"
   ]
  },
  {
   "cell_type": "markdown",
   "metadata": {},
   "source": [
    "# Итог <a class=\"anchor\" id=\"chapter5\"></a>\n",
    "\n",
    "Нам удалось получить F1 > 0.59 для нескольких моделей случайного леса с разными параметрами. Победила модель `model_RF_4`."
   ]
  }
 ],
 "metadata": {
  "kernelspec": {
   "display_name": "Python 3",
   "language": "python",
   "name": "python3"
  },
  "language_info": {
   "codemirror_mode": {
    "name": "ipython",
    "version": 3
   },
   "file_extension": ".py",
   "mimetype": "text/x-python",
   "name": "python",
   "nbconvert_exporter": "python",
   "pygments_lexer": "ipython3",
   "version": "3.8.5"
  },
  "toc": {
   "base_numbering": 1,
   "nav_menu": {},
   "number_sections": true,
   "sideBar": true,
   "skip_h1_title": true,
   "title_cell": "Table of Contents",
   "title_sidebar": "Contents",
   "toc_cell": false,
   "toc_position": {},
   "toc_section_display": true,
   "toc_window_display": false
  }
 },
 "nbformat": 4,
 "nbformat_minor": 4
}
