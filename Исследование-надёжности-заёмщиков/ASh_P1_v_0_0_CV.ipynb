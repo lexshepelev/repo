{
 "cells": [
  {
   "cell_type": "markdown",
   "metadata": {},
   "source": [
    "# Исследование надёжности заёмщиков\n",
    "\n",
    "Заказчик — кредитный отдел банка. Нужно разобраться, влияет ли семейное положение и количество детей клиента на факт погашения кредита в срок. Входные данные от банка — статистика о платёжеспособности клиентов.\n",
    "\n",
    "Результаты исследования будут учтены при построении модели **кредитного скоринга** — специальной системы, которая оценивает способность потенциального заёмщика вернуть кредит банку."
   ]
  },
  {
   "cell_type": "markdown",
   "metadata": {},
   "source": [
    "\n",
    "# Этап 1. Получение данных"
   ]
  },
  {
   "cell_type": "markdown",
   "metadata": {},
   "source": [
    "Посмотрим на данные, предоставленные банком."
   ]
  },
  {
   "cell_type": "code",
   "execution_count": 1,
   "metadata": {},
   "outputs": [
    {
     "data": {
      "text/html": [
       "<div>\n",
       "<style scoped>\n",
       "    .dataframe tbody tr th:only-of-type {\n",
       "        vertical-align: middle;\n",
       "    }\n",
       "\n",
       "    .dataframe tbody tr th {\n",
       "        vertical-align: top;\n",
       "    }\n",
       "\n",
       "    .dataframe thead th {\n",
       "        text-align: right;\n",
       "    }\n",
       "</style>\n",
       "<table border=\"1\" class=\"dataframe\">\n",
       "  <thead>\n",
       "    <tr style=\"text-align: right;\">\n",
       "      <th></th>\n",
       "      <th>children</th>\n",
       "      <th>days_employed</th>\n",
       "      <th>dob_years</th>\n",
       "      <th>education</th>\n",
       "      <th>education_id</th>\n",
       "      <th>family_status</th>\n",
       "      <th>family_status_id</th>\n",
       "      <th>gender</th>\n",
       "      <th>income_type</th>\n",
       "      <th>debt</th>\n",
       "      <th>total_income</th>\n",
       "      <th>purpose</th>\n",
       "    </tr>\n",
       "  </thead>\n",
       "  <tbody>\n",
       "    <tr>\n",
       "      <td>0</td>\n",
       "      <td>1</td>\n",
       "      <td>-8437.673028</td>\n",
       "      <td>42</td>\n",
       "      <td>высшее</td>\n",
       "      <td>0</td>\n",
       "      <td>женат / замужем</td>\n",
       "      <td>0</td>\n",
       "      <td>F</td>\n",
       "      <td>сотрудник</td>\n",
       "      <td>0</td>\n",
       "      <td>253875.639453</td>\n",
       "      <td>покупка жилья</td>\n",
       "    </tr>\n",
       "    <tr>\n",
       "      <td>1</td>\n",
       "      <td>1</td>\n",
       "      <td>-4024.803754</td>\n",
       "      <td>36</td>\n",
       "      <td>среднее</td>\n",
       "      <td>1</td>\n",
       "      <td>женат / замужем</td>\n",
       "      <td>0</td>\n",
       "      <td>F</td>\n",
       "      <td>сотрудник</td>\n",
       "      <td>0</td>\n",
       "      <td>112080.014102</td>\n",
       "      <td>приобретение автомобиля</td>\n",
       "    </tr>\n",
       "    <tr>\n",
       "      <td>2</td>\n",
       "      <td>0</td>\n",
       "      <td>-5623.422610</td>\n",
       "      <td>33</td>\n",
       "      <td>Среднее</td>\n",
       "      <td>1</td>\n",
       "      <td>женат / замужем</td>\n",
       "      <td>0</td>\n",
       "      <td>M</td>\n",
       "      <td>сотрудник</td>\n",
       "      <td>0</td>\n",
       "      <td>145885.952297</td>\n",
       "      <td>покупка жилья</td>\n",
       "    </tr>\n",
       "    <tr>\n",
       "      <td>3</td>\n",
       "      <td>3</td>\n",
       "      <td>-4124.747207</td>\n",
       "      <td>32</td>\n",
       "      <td>среднее</td>\n",
       "      <td>1</td>\n",
       "      <td>женат / замужем</td>\n",
       "      <td>0</td>\n",
       "      <td>M</td>\n",
       "      <td>сотрудник</td>\n",
       "      <td>0</td>\n",
       "      <td>267628.550329</td>\n",
       "      <td>дополнительное образование</td>\n",
       "    </tr>\n",
       "    <tr>\n",
       "      <td>4</td>\n",
       "      <td>0</td>\n",
       "      <td>340266.072047</td>\n",
       "      <td>53</td>\n",
       "      <td>среднее</td>\n",
       "      <td>1</td>\n",
       "      <td>гражданский брак</td>\n",
       "      <td>1</td>\n",
       "      <td>F</td>\n",
       "      <td>пенсионер</td>\n",
       "      <td>0</td>\n",
       "      <td>158616.077870</td>\n",
       "      <td>сыграть свадьбу</td>\n",
       "    </tr>\n",
       "    <tr>\n",
       "      <td>5</td>\n",
       "      <td>0</td>\n",
       "      <td>-926.185831</td>\n",
       "      <td>27</td>\n",
       "      <td>высшее</td>\n",
       "      <td>0</td>\n",
       "      <td>гражданский брак</td>\n",
       "      <td>1</td>\n",
       "      <td>M</td>\n",
       "      <td>компаньон</td>\n",
       "      <td>0</td>\n",
       "      <td>255763.565419</td>\n",
       "      <td>покупка жилья</td>\n",
       "    </tr>\n",
       "    <tr>\n",
       "      <td>6</td>\n",
       "      <td>0</td>\n",
       "      <td>-2879.202052</td>\n",
       "      <td>43</td>\n",
       "      <td>высшее</td>\n",
       "      <td>0</td>\n",
       "      <td>женат / замужем</td>\n",
       "      <td>0</td>\n",
       "      <td>F</td>\n",
       "      <td>компаньон</td>\n",
       "      <td>0</td>\n",
       "      <td>240525.971920</td>\n",
       "      <td>операции с жильем</td>\n",
       "    </tr>\n",
       "    <tr>\n",
       "      <td>7</td>\n",
       "      <td>0</td>\n",
       "      <td>-152.779569</td>\n",
       "      <td>50</td>\n",
       "      <td>СРЕДНЕЕ</td>\n",
       "      <td>1</td>\n",
       "      <td>женат / замужем</td>\n",
       "      <td>0</td>\n",
       "      <td>M</td>\n",
       "      <td>сотрудник</td>\n",
       "      <td>0</td>\n",
       "      <td>135823.934197</td>\n",
       "      <td>образование</td>\n",
       "    </tr>\n",
       "    <tr>\n",
       "      <td>8</td>\n",
       "      <td>2</td>\n",
       "      <td>-6929.865299</td>\n",
       "      <td>35</td>\n",
       "      <td>ВЫСШЕЕ</td>\n",
       "      <td>0</td>\n",
       "      <td>гражданский брак</td>\n",
       "      <td>1</td>\n",
       "      <td>F</td>\n",
       "      <td>сотрудник</td>\n",
       "      <td>0</td>\n",
       "      <td>95856.832424</td>\n",
       "      <td>на проведение свадьбы</td>\n",
       "    </tr>\n",
       "    <tr>\n",
       "      <td>9</td>\n",
       "      <td>0</td>\n",
       "      <td>-2188.756445</td>\n",
       "      <td>41</td>\n",
       "      <td>среднее</td>\n",
       "      <td>1</td>\n",
       "      <td>женат / замужем</td>\n",
       "      <td>0</td>\n",
       "      <td>M</td>\n",
       "      <td>сотрудник</td>\n",
       "      <td>0</td>\n",
       "      <td>144425.938277</td>\n",
       "      <td>покупка жилья для семьи</td>\n",
       "    </tr>\n",
       "  </tbody>\n",
       "</table>\n",
       "</div>"
      ],
      "text/plain": [
       "   children  days_employed  dob_years education  education_id  \\\n",
       "0         1   -8437.673028         42    высшее             0   \n",
       "1         1   -4024.803754         36   среднее             1   \n",
       "2         0   -5623.422610         33   Среднее             1   \n",
       "3         3   -4124.747207         32   среднее             1   \n",
       "4         0  340266.072047         53   среднее             1   \n",
       "5         0    -926.185831         27    высшее             0   \n",
       "6         0   -2879.202052         43    высшее             0   \n",
       "7         0    -152.779569         50   СРЕДНЕЕ             1   \n",
       "8         2   -6929.865299         35    ВЫСШЕЕ             0   \n",
       "9         0   -2188.756445         41   среднее             1   \n",
       "\n",
       "      family_status  family_status_id gender income_type  debt   total_income  \\\n",
       "0   женат / замужем                 0      F   сотрудник     0  253875.639453   \n",
       "1   женат / замужем                 0      F   сотрудник     0  112080.014102   \n",
       "2   женат / замужем                 0      M   сотрудник     0  145885.952297   \n",
       "3   женат / замужем                 0      M   сотрудник     0  267628.550329   \n",
       "4  гражданский брак                 1      F   пенсионер     0  158616.077870   \n",
       "5  гражданский брак                 1      M   компаньон     0  255763.565419   \n",
       "6   женат / замужем                 0      F   компаньон     0  240525.971920   \n",
       "7   женат / замужем                 0      M   сотрудник     0  135823.934197   \n",
       "8  гражданский брак                 1      F   сотрудник     0   95856.832424   \n",
       "9   женат / замужем                 0      M   сотрудник     0  144425.938277   \n",
       "\n",
       "                      purpose  \n",
       "0               покупка жилья  \n",
       "1     приобретение автомобиля  \n",
       "2               покупка жилья  \n",
       "3  дополнительное образование  \n",
       "4             сыграть свадьбу  \n",
       "5               покупка жилья  \n",
       "6           операции с жильем  \n",
       "7                 образование  \n",
       "8       на проведение свадьбы  \n",
       "9     покупка жилья для семьи  "
      ]
     },
     "execution_count": 1,
     "metadata": {},
     "output_type": "execute_result"
    }
   ],
   "source": [
    "import pandas as pd\n",
    "# df = pd.read_csv('Data_Scientist/Initial Data/data.csv')\n",
    "df = pd.read_csv('/datasets/data.csv') # Код ревьюера\n",
    "df.head(10)"
   ]
  },
  {
   "cell_type": "markdown",
   "metadata": {},
   "source": [
    "Выведем общую информацию о данных таблицы data."
   ]
  },
  {
   "cell_type": "code",
   "execution_count": 2,
   "metadata": {},
   "outputs": [
    {
     "name": "stdout",
     "output_type": "stream",
     "text": [
      "<class 'pandas.core.frame.DataFrame'>\n",
      "RangeIndex: 21525 entries, 0 to 21524\n",
      "Data columns (total 12 columns):\n",
      "children            21525 non-null int64\n",
      "days_employed       19351 non-null float64\n",
      "dob_years           21525 non-null int64\n",
      "education           21525 non-null object\n",
      "education_id        21525 non-null int64\n",
      "family_status       21525 non-null object\n",
      "family_status_id    21525 non-null int64\n",
      "gender              21525 non-null object\n",
      "income_type         21525 non-null object\n",
      "debt                21525 non-null int64\n",
      "total_income        19351 non-null float64\n",
      "purpose             21525 non-null object\n",
      "dtypes: float64(2), int64(5), object(5)\n",
      "memory usage: 2.0+ MB\n"
     ]
    }
   ],
   "source": [
    "df.info()"
   ]
  },
  {
   "cell_type": "markdown",
   "metadata": {},
   "source": [
    "**Проблемы в данных:**\n",
    "* Количество значений в столбцах различается. Это говорит о том, что в полях *days_employed* и *total_income* данных есть пропущенные значения.\n",
    "* Поле *days_employed* имеет тип данных float64, потребуется преобразование в int64.\n",
    "* Поле *education* содержит текст в разных регистрах.\n"
   ]
  },
  {
   "cell_type": "markdown",
   "metadata": {},
   "source": [
    "**Вывод**"
   ]
  },
  {
   "cell_type": "markdown",
   "metadata": {},
   "source": [
    "Каждая строка таблицы содержит информацию о возрасте, трудовом стаже, семейном положении, количестве детей, ежемесячном доходе и цели получения кредита. В данных есть проблемы, которые нужно устранить перед тем, как приступать к обработке."
   ]
  },
  {
   "cell_type": "markdown",
   "metadata": {},
   "source": [
    "# Этап 2. Предобработка данных"
   ]
  },
  {
   "cell_type": "markdown",
   "metadata": {},
   "source": [
    "Исключим пропуски, проверим столбцы, а также проверим данные на наличие дубликатов."
   ]
  },
  {
   "cell_type": "markdown",
   "metadata": {},
   "source": [
    "Получим перечень названий столбцов:"
   ]
  },
  {
   "cell_type": "code",
   "execution_count": 3,
   "metadata": {},
   "outputs": [
    {
     "data": {
      "text/plain": [
       "Index(['children', 'days_employed', 'dob_years', 'education', 'education_id',\n",
       "       'family_status', 'family_status_id', 'gender', 'income_type', 'debt',\n",
       "       'total_income', 'purpose'],\n",
       "      dtype='object')"
      ]
     },
     "execution_count": 3,
     "metadata": {},
     "output_type": "execute_result"
    }
   ],
   "source": [
    "df.columns"
   ]
  },
  {
   "cell_type": "markdown",
   "metadata": {},
   "source": [
    "Названия столбцов устаривают, переименовывать не будем."
   ]
  },
  {
   "cell_type": "markdown",
   "metadata": {},
   "source": [
    "Проверим данные на наличие пропусков вызовом набора методов для суммирования пропущенных значений."
   ]
  },
  {
   "cell_type": "code",
   "execution_count": 4,
   "metadata": {},
   "outputs": [
    {
     "data": {
      "text/plain": [
       "children               0\n",
       "days_employed       2174\n",
       "dob_years              0\n",
       "education              0\n",
       "education_id           0\n",
       "family_status          0\n",
       "family_status_id       0\n",
       "gender                 0\n",
       "income_type            0\n",
       "debt                   0\n",
       "total_income        2174\n",
       "purpose                0\n",
       "dtype: int64"
      ]
     },
     "execution_count": 4,
     "metadata": {},
     "output_type": "execute_result"
    }
   ],
   "source": [
    "df.isnull().sum()"
   ]
  },
  {
   "cell_type": "markdown",
   "metadata": {},
   "source": [
    "Судя по одинаковому количеству пропущенных в полях *days_employed* и *total_income* значений, видимо, пропущены они в одних и тех же строках. Проверим, так ли это."
   ]
  },
  {
   "cell_type": "code",
   "execution_count": 5,
   "metadata": {},
   "outputs": [
    {
     "name": "stdout",
     "output_type": "stream",
     "text": [
      "<class 'pandas.core.frame.DataFrame'>\n",
      "Int64Index: 2174 entries, 12 to 21510\n",
      "Data columns (total 12 columns):\n",
      "children            2174 non-null int64\n",
      "days_employed       0 non-null float64\n",
      "dob_years           2174 non-null int64\n",
      "education           2174 non-null object\n",
      "education_id        2174 non-null int64\n",
      "family_status       2174 non-null object\n",
      "family_status_id    2174 non-null int64\n",
      "gender              2174 non-null object\n",
      "income_type         2174 non-null object\n",
      "debt                2174 non-null int64\n",
      "total_income        0 non-null float64\n",
      "purpose             2174 non-null object\n",
      "dtypes: float64(2), int64(5), object(5)\n",
      "memory usage: 220.8+ KB\n"
     ]
    }
   ],
   "source": [
    "unemployed = df.loc[df.loc[:,'days_employed'].isnull() & df.loc[:,'total_income'].isnull()]\n",
    "unemployed.info()"
   ]
  },
  {
   "cell_type": "markdown",
   "metadata": {},
   "source": [
    "Наше предположение подтвердилось. Это может говорить либо о проблеме в источнике статистических данных, либо о том, что официально люди не были трудоустроены, поэтому данные о стаже и ежемесячном доходе отсутствуют. Однако, в других полях есть данные, которые пригодятся для нашего исследования. Не будем удалять эти строки из выборки, тем более что их почти 10% от всего датафрейма.\n",
    "Так как пропущены значения количественных переменных, то заменять их на строку неправильно. "
   ]
  },
  {
   "cell_type": "markdown",
   "metadata": {},
   "source": [
    "Создадим в датафрейме ещё одно поле 'employment_info', и заполним его значениями 'unknown', если инфомации нет и 'available' - если есть."
   ]
  },
  {
   "cell_type": "code",
   "execution_count": 6,
   "metadata": {
    "scrolled": true
   },
   "outputs": [
    {
     "data": {
      "text/html": [
       "<div>\n",
       "<style scoped>\n",
       "    .dataframe tbody tr th:only-of-type {\n",
       "        vertical-align: middle;\n",
       "    }\n",
       "\n",
       "    .dataframe tbody tr th {\n",
       "        vertical-align: top;\n",
       "    }\n",
       "\n",
       "    .dataframe thead th {\n",
       "        text-align: right;\n",
       "    }\n",
       "</style>\n",
       "<table border=\"1\" class=\"dataframe\">\n",
       "  <thead>\n",
       "    <tr style=\"text-align: right;\">\n",
       "      <th></th>\n",
       "      <th>children</th>\n",
       "      <th>days_employed</th>\n",
       "      <th>dob_years</th>\n",
       "      <th>education</th>\n",
       "      <th>education_id</th>\n",
       "      <th>family_status</th>\n",
       "      <th>family_status_id</th>\n",
       "      <th>gender</th>\n",
       "      <th>income_type</th>\n",
       "      <th>debt</th>\n",
       "      <th>total_income</th>\n",
       "      <th>purpose</th>\n",
       "      <th>employment_info</th>\n",
       "    </tr>\n",
       "  </thead>\n",
       "  <tbody>\n",
       "    <tr>\n",
       "      <td>0</td>\n",
       "      <td>1</td>\n",
       "      <td>-8437.673028</td>\n",
       "      <td>42</td>\n",
       "      <td>высшее</td>\n",
       "      <td>0</td>\n",
       "      <td>женат / замужем</td>\n",
       "      <td>0</td>\n",
       "      <td>F</td>\n",
       "      <td>сотрудник</td>\n",
       "      <td>0</td>\n",
       "      <td>253875.639453</td>\n",
       "      <td>покупка жилья</td>\n",
       "      <td>available</td>\n",
       "    </tr>\n",
       "    <tr>\n",
       "      <td>1</td>\n",
       "      <td>1</td>\n",
       "      <td>-4024.803754</td>\n",
       "      <td>36</td>\n",
       "      <td>среднее</td>\n",
       "      <td>1</td>\n",
       "      <td>женат / замужем</td>\n",
       "      <td>0</td>\n",
       "      <td>F</td>\n",
       "      <td>сотрудник</td>\n",
       "      <td>0</td>\n",
       "      <td>112080.014102</td>\n",
       "      <td>приобретение автомобиля</td>\n",
       "      <td>available</td>\n",
       "    </tr>\n",
       "    <tr>\n",
       "      <td>2</td>\n",
       "      <td>0</td>\n",
       "      <td>-5623.422610</td>\n",
       "      <td>33</td>\n",
       "      <td>Среднее</td>\n",
       "      <td>1</td>\n",
       "      <td>женат / замужем</td>\n",
       "      <td>0</td>\n",
       "      <td>M</td>\n",
       "      <td>сотрудник</td>\n",
       "      <td>0</td>\n",
       "      <td>145885.952297</td>\n",
       "      <td>покупка жилья</td>\n",
       "      <td>available</td>\n",
       "    </tr>\n",
       "    <tr>\n",
       "      <td>3</td>\n",
       "      <td>3</td>\n",
       "      <td>-4124.747207</td>\n",
       "      <td>32</td>\n",
       "      <td>среднее</td>\n",
       "      <td>1</td>\n",
       "      <td>женат / замужем</td>\n",
       "      <td>0</td>\n",
       "      <td>M</td>\n",
       "      <td>сотрудник</td>\n",
       "      <td>0</td>\n",
       "      <td>267628.550329</td>\n",
       "      <td>дополнительное образование</td>\n",
       "      <td>available</td>\n",
       "    </tr>\n",
       "    <tr>\n",
       "      <td>4</td>\n",
       "      <td>0</td>\n",
       "      <td>340266.072047</td>\n",
       "      <td>53</td>\n",
       "      <td>среднее</td>\n",
       "      <td>1</td>\n",
       "      <td>гражданский брак</td>\n",
       "      <td>1</td>\n",
       "      <td>F</td>\n",
       "      <td>пенсионер</td>\n",
       "      <td>0</td>\n",
       "      <td>158616.077870</td>\n",
       "      <td>сыграть свадьбу</td>\n",
       "      <td>available</td>\n",
       "    </tr>\n",
       "    <tr>\n",
       "      <td>5</td>\n",
       "      <td>0</td>\n",
       "      <td>-926.185831</td>\n",
       "      <td>27</td>\n",
       "      <td>высшее</td>\n",
       "      <td>0</td>\n",
       "      <td>гражданский брак</td>\n",
       "      <td>1</td>\n",
       "      <td>M</td>\n",
       "      <td>компаньон</td>\n",
       "      <td>0</td>\n",
       "      <td>255763.565419</td>\n",
       "      <td>покупка жилья</td>\n",
       "      <td>available</td>\n",
       "    </tr>\n",
       "    <tr>\n",
       "      <td>6</td>\n",
       "      <td>0</td>\n",
       "      <td>-2879.202052</td>\n",
       "      <td>43</td>\n",
       "      <td>высшее</td>\n",
       "      <td>0</td>\n",
       "      <td>женат / замужем</td>\n",
       "      <td>0</td>\n",
       "      <td>F</td>\n",
       "      <td>компаньон</td>\n",
       "      <td>0</td>\n",
       "      <td>240525.971920</td>\n",
       "      <td>операции с жильем</td>\n",
       "      <td>available</td>\n",
       "    </tr>\n",
       "    <tr>\n",
       "      <td>7</td>\n",
       "      <td>0</td>\n",
       "      <td>-152.779569</td>\n",
       "      <td>50</td>\n",
       "      <td>СРЕДНЕЕ</td>\n",
       "      <td>1</td>\n",
       "      <td>женат / замужем</td>\n",
       "      <td>0</td>\n",
       "      <td>M</td>\n",
       "      <td>сотрудник</td>\n",
       "      <td>0</td>\n",
       "      <td>135823.934197</td>\n",
       "      <td>образование</td>\n",
       "      <td>available</td>\n",
       "    </tr>\n",
       "    <tr>\n",
       "      <td>8</td>\n",
       "      <td>2</td>\n",
       "      <td>-6929.865299</td>\n",
       "      <td>35</td>\n",
       "      <td>ВЫСШЕЕ</td>\n",
       "      <td>0</td>\n",
       "      <td>гражданский брак</td>\n",
       "      <td>1</td>\n",
       "      <td>F</td>\n",
       "      <td>сотрудник</td>\n",
       "      <td>0</td>\n",
       "      <td>95856.832424</td>\n",
       "      <td>на проведение свадьбы</td>\n",
       "      <td>available</td>\n",
       "    </tr>\n",
       "    <tr>\n",
       "      <td>9</td>\n",
       "      <td>0</td>\n",
       "      <td>-2188.756445</td>\n",
       "      <td>41</td>\n",
       "      <td>среднее</td>\n",
       "      <td>1</td>\n",
       "      <td>женат / замужем</td>\n",
       "      <td>0</td>\n",
       "      <td>M</td>\n",
       "      <td>сотрудник</td>\n",
       "      <td>0</td>\n",
       "      <td>144425.938277</td>\n",
       "      <td>покупка жилья для семьи</td>\n",
       "      <td>available</td>\n",
       "    </tr>\n",
       "  </tbody>\n",
       "</table>\n",
       "</div>"
      ],
      "text/plain": [
       "   children  days_employed  dob_years education  education_id  \\\n",
       "0         1   -8437.673028         42    высшее             0   \n",
       "1         1   -4024.803754         36   среднее             1   \n",
       "2         0   -5623.422610         33   Среднее             1   \n",
       "3         3   -4124.747207         32   среднее             1   \n",
       "4         0  340266.072047         53   среднее             1   \n",
       "5         0    -926.185831         27    высшее             0   \n",
       "6         0   -2879.202052         43    высшее             0   \n",
       "7         0    -152.779569         50   СРЕДНЕЕ             1   \n",
       "8         2   -6929.865299         35    ВЫСШЕЕ             0   \n",
       "9         0   -2188.756445         41   среднее             1   \n",
       "\n",
       "      family_status  family_status_id gender income_type  debt   total_income  \\\n",
       "0   женат / замужем                 0      F   сотрудник     0  253875.639453   \n",
       "1   женат / замужем                 0      F   сотрудник     0  112080.014102   \n",
       "2   женат / замужем                 0      M   сотрудник     0  145885.952297   \n",
       "3   женат / замужем                 0      M   сотрудник     0  267628.550329   \n",
       "4  гражданский брак                 1      F   пенсионер     0  158616.077870   \n",
       "5  гражданский брак                 1      M   компаньон     0  255763.565419   \n",
       "6   женат / замужем                 0      F   компаньон     0  240525.971920   \n",
       "7   женат / замужем                 0      M   сотрудник     0  135823.934197   \n",
       "8  гражданский брак                 1      F   сотрудник     0   95856.832424   \n",
       "9   женат / замужем                 0      M   сотрудник     0  144425.938277   \n",
       "\n",
       "                      purpose employment_info  \n",
       "0               покупка жилья       available  \n",
       "1     приобретение автомобиля       available  \n",
       "2               покупка жилья       available  \n",
       "3  дополнительное образование       available  \n",
       "4             сыграть свадьбу       available  \n",
       "5               покупка жилья       available  \n",
       "6           операции с жильем       available  \n",
       "7                 образование       available  \n",
       "8       на проведение свадьбы       available  \n",
       "9     покупка жилья для семьи       available  "
      ]
     },
     "execution_count": 6,
     "metadata": {},
     "output_type": "execute_result"
    }
   ],
   "source": [
    "df['employment_info'] = df.loc[:,'days_employed'].isnull()\n",
    "df['employment_info'] = df['employment_info'].replace(True,'unknown')\n",
    "df['employment_info'] = df['employment_info'].replace(False,'available')\n",
    "df.head(10)"
   ]
  },
  {
   "cell_type": "markdown",
   "metadata": {},
   "source": [
    "Сгруппируем данные по полю 'employment_info', чтобы посмотреть, чем заняты люди с неизвестным стажем и ежемесячным доходом."
   ]
  },
  {
   "cell_type": "code",
   "execution_count": 7,
   "metadata": {
    "scrolled": true
   },
   "outputs": [
    {
     "data": {
      "text/plain": [
       "employment_info  income_type    \n",
       "available        сотрудник          10014\n",
       "                 компаньон           4577\n",
       "                 пенсионер           3443\n",
       "                 госслужащий         1312\n",
       "                 безработный            2\n",
       "                 в декрете              1\n",
       "                 предприниматель        1\n",
       "                 студент                1\n",
       "unknown          сотрудник           1105\n",
       "                 компаньон            508\n",
       "                 пенсионер            413\n",
       "                 госслужащий          147\n",
       "                 предприниматель        1\n",
       "Name: income_type, dtype: int64"
      ]
     },
     "execution_count": 7,
     "metadata": {},
     "output_type": "execute_result"
    }
   ],
   "source": [
    "employment_grouped=df.groupby('employment_info')['income_type']\n",
    "employment_grouped.value_counts()"
   ]
  },
  {
   "cell_type": "markdown",
   "metadata": {},
   "source": [
    "Итак, у нас есть сотрудники, пенсионеры и госслужащие с неизвестным стажем и зарплатой (пенсией). И ни одного блогера. То есть безработными их не назовешь. \n",
    "\n",
    "**Вывод:** значения в полях 'days_employed' и 'total_income' отсутствуют из-за проблемы в источнике данных."
   ]
  },
  {
   "cell_type": "markdown",
   "metadata": {},
   "source": [
    "- **Проверим столбец 'children' на наличие нереалистичных данных**"
   ]
  },
  {
   "cell_type": "code",
   "execution_count": 8,
   "metadata": {},
   "outputs": [
    {
     "data": {
      "text/plain": [
       "children\n",
       "-1        47\n",
       " 0     14149\n",
       " 1      4818\n",
       " 2      2055\n",
       " 3       330\n",
       " 4        41\n",
       " 5         9\n",
       " 20       76\n",
       "Name: children, dtype: int64"
      ]
     },
     "execution_count": 8,
     "metadata": {},
     "output_type": "execute_result"
    }
   ],
   "source": [
    "children_grouped=df.groupby('children')['children']\n",
    "children_grouped.count()"
   ]
  },
  {
   "cell_type": "markdown",
   "metadata": {},
   "source": [
    "Значения -1 и 20 - явные ошибки. Можно было бы удалить эти данные, т.к. в сумме это 0,57% от выборки. Но можно также предположить, что данные о количестве детей заполнялись вручную и были допущены опечатки. Скорее всего имелось в виду 1 и 2 ребенка соответственно. Нужно указать на эти ошибки команде разработчиков софта, и порекомендовать сделать выпадающий список для ввода количества детей.\n",
    "Заменим неверные значения на адекватные. Сделаем проверку."
   ]
  },
  {
   "cell_type": "code",
   "execution_count": 9,
   "metadata": {},
   "outputs": [],
   "source": [
    "df['children'] = df['children'].replace(-1,1)\n",
    "df['children'] = df['children'].replace(20,2)"
   ]
  },
  {
   "cell_type": "code",
   "execution_count": 10,
   "metadata": {},
   "outputs": [
    {
     "data": {
      "text/plain": [
       "children\n",
       "0    14149\n",
       "1     4865\n",
       "2     2131\n",
       "3      330\n",
       "4       41\n",
       "5        9\n",
       "Name: children, dtype: int64"
      ]
     },
     "execution_count": 10,
     "metadata": {},
     "output_type": "execute_result"
    }
   ],
   "source": [
    "children_grouped=df.groupby('children')['children']\n",
    "children_grouped.count()"
   ]
  },
  {
   "cell_type": "markdown",
   "metadata": {},
   "source": [
    "**Итог.** Аномалии в столбце 'children' устранены."
   ]
  },
  {
   "cell_type": "markdown",
   "metadata": {},
   "source": [
    "- **Проверим, есть ли аномалии в данных в столбце 'gender'**"
   ]
  },
  {
   "cell_type": "code",
   "execution_count": 11,
   "metadata": {
    "scrolled": true
   },
   "outputs": [
    {
     "data": {
      "text/plain": [
       "gender\n",
       "F      14236\n",
       "M       7288\n",
       "XNA        1\n",
       "Name: gender, dtype: int64"
      ]
     },
     "execution_count": 11,
     "metadata": {},
     "output_type": "execute_result"
    }
   ],
   "source": [
    "gender_grouped=df.groupby('gender')['gender']\n",
    "gender_grouped.count()"
   ]
  },
  {
   "cell_type": "code",
   "execution_count": 12,
   "metadata": {
    "scrolled": true
   },
   "outputs": [
    {
     "data": {
      "text/html": [
       "<div>\n",
       "<style scoped>\n",
       "    .dataframe tbody tr th:only-of-type {\n",
       "        vertical-align: middle;\n",
       "    }\n",
       "\n",
       "    .dataframe tbody tr th {\n",
       "        vertical-align: top;\n",
       "    }\n",
       "\n",
       "    .dataframe thead th {\n",
       "        text-align: right;\n",
       "    }\n",
       "</style>\n",
       "<table border=\"1\" class=\"dataframe\">\n",
       "  <thead>\n",
       "    <tr style=\"text-align: right;\">\n",
       "      <th></th>\n",
       "      <th>children</th>\n",
       "      <th>days_employed</th>\n",
       "      <th>dob_years</th>\n",
       "      <th>education</th>\n",
       "      <th>education_id</th>\n",
       "      <th>family_status</th>\n",
       "      <th>family_status_id</th>\n",
       "      <th>gender</th>\n",
       "      <th>income_type</th>\n",
       "      <th>debt</th>\n",
       "      <th>total_income</th>\n",
       "      <th>purpose</th>\n",
       "      <th>employment_info</th>\n",
       "    </tr>\n",
       "  </thead>\n",
       "  <tbody>\n",
       "    <tr>\n",
       "      <td>10701</td>\n",
       "      <td>0</td>\n",
       "      <td>-2358.600502</td>\n",
       "      <td>24</td>\n",
       "      <td>неоконченное высшее</td>\n",
       "      <td>2</td>\n",
       "      <td>гражданский брак</td>\n",
       "      <td>1</td>\n",
       "      <td>XNA</td>\n",
       "      <td>компаньон</td>\n",
       "      <td>0</td>\n",
       "      <td>203905.157261</td>\n",
       "      <td>покупка недвижимости</td>\n",
       "      <td>available</td>\n",
       "    </tr>\n",
       "  </tbody>\n",
       "</table>\n",
       "</div>"
      ],
      "text/plain": [
       "       children  days_employed  dob_years            education  education_id  \\\n",
       "10701         0   -2358.600502         24  неоконченное высшее             2   \n",
       "\n",
       "          family_status  family_status_id gender income_type  debt  \\\n",
       "10701  гражданский брак                 1    XNA   компаньон     0   \n",
       "\n",
       "        total_income               purpose employment_info  \n",
       "10701  203905.157261  покупка недвижимости       available  "
      ]
     },
     "execution_count": 12,
     "metadata": {},
     "output_type": "execute_result"
    }
   ],
   "source": [
    "df.loc[df.loc[:,'gender']=='XNA']"
   ]
  },
  {
   "cell_type": "markdown",
   "metadata": {},
   "source": [
    "Аномалия найдена. Так как пол в нашем исследовании не так важен, а запись всего одна, просто определим этого персонажа к любому полу. Сделаем проверку."
   ]
  },
  {
   "cell_type": "code",
   "execution_count": 13,
   "metadata": {},
   "outputs": [],
   "source": [
    "df['gender'] = df['gender'].replace('XNA','F')"
   ]
  },
  {
   "cell_type": "code",
   "execution_count": 14,
   "metadata": {},
   "outputs": [
    {
     "data": {
      "text/plain": [
       "gender\n",
       "F    14237\n",
       "M     7288\n",
       "Name: gender, dtype: int64"
      ]
     },
     "execution_count": 14,
     "metadata": {},
     "output_type": "execute_result"
    }
   ],
   "source": [
    "gender_grouped=df.groupby('gender')['gender']\n",
    "gender_grouped.count()"
   ]
  },
  {
   "cell_type": "markdown",
   "metadata": {},
   "source": [
    "**Итог.** Мы избавились от аномалии в данных столбца 'gender'. "
   ]
  },
  {
   "cell_type": "markdown",
   "metadata": {},
   "source": [
    "- **Проверим поле 'family_status' на наличие аномалий**"
   ]
  },
  {
   "cell_type": "code",
   "execution_count": 15,
   "metadata": {},
   "outputs": [
    {
     "data": {
      "text/plain": [
       "family_status\n",
       "Не женат / не замужем     2813\n",
       "в разводе                 1195\n",
       "вдовец / вдова             960\n",
       "гражданский брак          4177\n",
       "женат / замужем          12380\n",
       "Name: family_status, dtype: int64"
      ]
     },
     "execution_count": 15,
     "metadata": {},
     "output_type": "execute_result"
    }
   ],
   "source": [
    "family_status_grouped=df.groupby('family_status')['family_status']\n",
    "family_status_grouped.count()"
   ]
  },
  {
   "cell_type": "markdown",
   "metadata": {},
   "source": [
    "Аномалий нет, однако одна из категорий имеет символ в верхнем регистре. Для красоты приведем его к нижнему. Сделаем проверку."
   ]
  },
  {
   "cell_type": "code",
   "execution_count": 16,
   "metadata": {},
   "outputs": [
    {
     "data": {
      "text/plain": [
       "family_status\n",
       "в разводе                 1195\n",
       "вдовец / вдова             960\n",
       "гражданский брак          4177\n",
       "женат / замужем          12380\n",
       "не женат / не замужем     2813\n",
       "Name: family_status, dtype: int64"
      ]
     },
     "execution_count": 16,
     "metadata": {},
     "output_type": "execute_result"
    }
   ],
   "source": [
    "df['family_status'] = df['family_status'].str.lower()\n",
    "family_status_grouped=df.groupby('family_status')['family_status']\n",
    "family_status_grouped.count()"
   ]
  },
  {
   "cell_type": "markdown",
   "metadata": {},
   "source": [
    "**Итог.** Все строки поля 'family_status' теперь в одном регистре."
   ]
  },
  {
   "cell_type": "markdown",
   "metadata": {},
   "source": [
    "- **Проверим поле 'education' на наличие аномалий**"
   ]
  },
  {
   "cell_type": "markdown",
   "metadata": {},
   "source": [
    "В поле 'education' содержатся строки в разном регистре. Такое бывает, когда пользователь вводит значения вручную, а не выбирает из списка. Либо данные были заполнены из разных источников, в которых справочники разные. Приведем строки к нижнему регистру."
   ]
  },
  {
   "cell_type": "code",
   "execution_count": 17,
   "metadata": {},
   "outputs": [
    {
     "data": {
      "text/plain": [
       "education\n",
       "высшее                  5260\n",
       "начальное                282\n",
       "неоконченное высшее      744\n",
       "среднее                15233\n",
       "ученая степень             6\n",
       "Name: education, dtype: int64"
      ]
     },
     "execution_count": 17,
     "metadata": {},
     "output_type": "execute_result"
    }
   ],
   "source": [
    "df['education'] = df['education'].str.lower()\n",
    "education_grouped = df.groupby('education')['education']\n",
    "education_grouped.count()"
   ]
  },
  {
   "cell_type": "markdown",
   "metadata": {},
   "source": [
    "**Итог.** Категории образования нормализованы."
   ]
  },
  {
   "cell_type": "markdown",
   "metadata": {},
   "source": [
    "- **Проверим поле 'income_type' на наличие аномалий**"
   ]
  },
  {
   "cell_type": "code",
   "execution_count": 18,
   "metadata": {
    "scrolled": true
   },
   "outputs": [
    {
     "data": {
      "text/plain": [
       "income_type\n",
       "безработный            2\n",
       "в декрете              1\n",
       "госслужащий         1459\n",
       "компаньон           5085\n",
       "пенсионер           3856\n",
       "предприниматель        2\n",
       "сотрудник          11119\n",
       "студент                1\n",
       "Name: income_type, dtype: int64"
      ]
     },
     "execution_count": 18,
     "metadata": {},
     "output_type": "execute_result"
    }
   ],
   "source": [
    "income_type_grouped=df.groupby('income_type')['income_type']\n",
    "income_type_grouped.count()"
   ]
  },
  {
   "cell_type": "markdown",
   "metadata": {},
   "source": [
    "**Итог.** Аномалий в поле 'income_type' не обнаружено"
   ]
  },
  {
   "cell_type": "markdown",
   "metadata": {},
   "source": [
    "- **Удалим дубликаты**"
   ]
  },
  {
   "cell_type": "markdown",
   "metadata": {},
   "source": [
    "Найдём суммарное количество дубликатов, применив метод нахождения дубликатов к датафрейму с последующим суммированием."
   ]
  },
  {
   "cell_type": "code",
   "execution_count": 19,
   "metadata": {
    "scrolled": true
   },
   "outputs": [
    {
     "data": {
      "text/plain": [
       "71"
      ]
     },
     "execution_count": 19,
     "metadata": {},
     "output_type": "execute_result"
    }
   ],
   "source": [
    "df.duplicated().sum()"
   ]
  },
  {
   "cell_type": "markdown",
   "metadata": {},
   "source": [
    "Дубликаты могли появиться вследствие сбоя в записи данных. Стоит обратить внимание и разобраться с причинами появления такого «информационного мусора».\n",
    "Удалим дубликаты и сделаем проверку."
   ]
  },
  {
   "cell_type": "code",
   "execution_count": 20,
   "metadata": {},
   "outputs": [
    {
     "data": {
      "text/plain": [
       "0"
      ]
     },
     "execution_count": 20,
     "metadata": {},
     "output_type": "execute_result"
    }
   ],
   "source": [
    "df = df.drop_duplicates().reset_index(drop=True)\n",
    "df.duplicated().sum()"
   ]
  },
  {
   "cell_type": "markdown",
   "metadata": {},
   "source": [
    "Мы удалили все дубликаты."
   ]
  },
  {
   "cell_type": "markdown",
   "metadata": {},
   "source": [
    "- **Проверим поле 'days_employed' на наличие аномалий**"
   ]
  },
  {
   "cell_type": "markdown",
   "metadata": {},
   "source": [
    "В поле 'days_employed' есть отрицательные значения. Возможно, имеет место проблема при выгрузке данных. Так как стаж не может быть отрицательным, напишем функцию 'neg_to_pos', и применим её к отрицательным значениям в поле 'days_employed' (там, где они есть)."
   ]
  },
  {
   "cell_type": "code",
   "execution_count": 21,
   "metadata": {},
   "outputs": [],
   "source": [
    "def neg_to_pos(value):\n",
    "    if value < 0:\n",
    "        result = value*(-1)\n",
    "    else:\n",
    "        result = value\n",
    "    return result"
   ]
  },
  {
   "cell_type": "code",
   "execution_count": 22,
   "metadata": {},
   "outputs": [
    {
     "data": {
      "text/html": [
       "<div>\n",
       "<style scoped>\n",
       "    .dataframe tbody tr th:only-of-type {\n",
       "        vertical-align: middle;\n",
       "    }\n",
       "\n",
       "    .dataframe tbody tr th {\n",
       "        vertical-align: top;\n",
       "    }\n",
       "\n",
       "    .dataframe thead th {\n",
       "        text-align: right;\n",
       "    }\n",
       "</style>\n",
       "<table border=\"1\" class=\"dataframe\">\n",
       "  <thead>\n",
       "    <tr style=\"text-align: right;\">\n",
       "      <th></th>\n",
       "      <th>children</th>\n",
       "      <th>days_employed</th>\n",
       "      <th>dob_years</th>\n",
       "      <th>education</th>\n",
       "      <th>education_id</th>\n",
       "      <th>family_status</th>\n",
       "      <th>family_status_id</th>\n",
       "      <th>gender</th>\n",
       "      <th>income_type</th>\n",
       "      <th>debt</th>\n",
       "      <th>total_income</th>\n",
       "      <th>purpose</th>\n",
       "      <th>employment_info</th>\n",
       "    </tr>\n",
       "  </thead>\n",
       "  <tbody>\n",
       "    <tr>\n",
       "      <td>0</td>\n",
       "      <td>1</td>\n",
       "      <td>8437.673028</td>\n",
       "      <td>42</td>\n",
       "      <td>высшее</td>\n",
       "      <td>0</td>\n",
       "      <td>женат / замужем</td>\n",
       "      <td>0</td>\n",
       "      <td>F</td>\n",
       "      <td>сотрудник</td>\n",
       "      <td>0</td>\n",
       "      <td>253875.639453</td>\n",
       "      <td>покупка жилья</td>\n",
       "      <td>available</td>\n",
       "    </tr>\n",
       "    <tr>\n",
       "      <td>1</td>\n",
       "      <td>1</td>\n",
       "      <td>4024.803754</td>\n",
       "      <td>36</td>\n",
       "      <td>среднее</td>\n",
       "      <td>1</td>\n",
       "      <td>женат / замужем</td>\n",
       "      <td>0</td>\n",
       "      <td>F</td>\n",
       "      <td>сотрудник</td>\n",
       "      <td>0</td>\n",
       "      <td>112080.014102</td>\n",
       "      <td>приобретение автомобиля</td>\n",
       "      <td>available</td>\n",
       "    </tr>\n",
       "    <tr>\n",
       "      <td>2</td>\n",
       "      <td>0</td>\n",
       "      <td>5623.422610</td>\n",
       "      <td>33</td>\n",
       "      <td>среднее</td>\n",
       "      <td>1</td>\n",
       "      <td>женат / замужем</td>\n",
       "      <td>0</td>\n",
       "      <td>M</td>\n",
       "      <td>сотрудник</td>\n",
       "      <td>0</td>\n",
       "      <td>145885.952297</td>\n",
       "      <td>покупка жилья</td>\n",
       "      <td>available</td>\n",
       "    </tr>\n",
       "    <tr>\n",
       "      <td>3</td>\n",
       "      <td>3</td>\n",
       "      <td>4124.747207</td>\n",
       "      <td>32</td>\n",
       "      <td>среднее</td>\n",
       "      <td>1</td>\n",
       "      <td>женат / замужем</td>\n",
       "      <td>0</td>\n",
       "      <td>M</td>\n",
       "      <td>сотрудник</td>\n",
       "      <td>0</td>\n",
       "      <td>267628.550329</td>\n",
       "      <td>дополнительное образование</td>\n",
       "      <td>available</td>\n",
       "    </tr>\n",
       "    <tr>\n",
       "      <td>4</td>\n",
       "      <td>0</td>\n",
       "      <td>340266.072047</td>\n",
       "      <td>53</td>\n",
       "      <td>среднее</td>\n",
       "      <td>1</td>\n",
       "      <td>гражданский брак</td>\n",
       "      <td>1</td>\n",
       "      <td>F</td>\n",
       "      <td>пенсионер</td>\n",
       "      <td>0</td>\n",
       "      <td>158616.077870</td>\n",
       "      <td>сыграть свадьбу</td>\n",
       "      <td>available</td>\n",
       "    </tr>\n",
       "    <tr>\n",
       "      <td>5</td>\n",
       "      <td>0</td>\n",
       "      <td>926.185831</td>\n",
       "      <td>27</td>\n",
       "      <td>высшее</td>\n",
       "      <td>0</td>\n",
       "      <td>гражданский брак</td>\n",
       "      <td>1</td>\n",
       "      <td>M</td>\n",
       "      <td>компаньон</td>\n",
       "      <td>0</td>\n",
       "      <td>255763.565419</td>\n",
       "      <td>покупка жилья</td>\n",
       "      <td>available</td>\n",
       "    </tr>\n",
       "    <tr>\n",
       "      <td>6</td>\n",
       "      <td>0</td>\n",
       "      <td>2879.202052</td>\n",
       "      <td>43</td>\n",
       "      <td>высшее</td>\n",
       "      <td>0</td>\n",
       "      <td>женат / замужем</td>\n",
       "      <td>0</td>\n",
       "      <td>F</td>\n",
       "      <td>компаньон</td>\n",
       "      <td>0</td>\n",
       "      <td>240525.971920</td>\n",
       "      <td>операции с жильем</td>\n",
       "      <td>available</td>\n",
       "    </tr>\n",
       "    <tr>\n",
       "      <td>7</td>\n",
       "      <td>0</td>\n",
       "      <td>152.779569</td>\n",
       "      <td>50</td>\n",
       "      <td>среднее</td>\n",
       "      <td>1</td>\n",
       "      <td>женат / замужем</td>\n",
       "      <td>0</td>\n",
       "      <td>M</td>\n",
       "      <td>сотрудник</td>\n",
       "      <td>0</td>\n",
       "      <td>135823.934197</td>\n",
       "      <td>образование</td>\n",
       "      <td>available</td>\n",
       "    </tr>\n",
       "    <tr>\n",
       "      <td>8</td>\n",
       "      <td>2</td>\n",
       "      <td>6929.865299</td>\n",
       "      <td>35</td>\n",
       "      <td>высшее</td>\n",
       "      <td>0</td>\n",
       "      <td>гражданский брак</td>\n",
       "      <td>1</td>\n",
       "      <td>F</td>\n",
       "      <td>сотрудник</td>\n",
       "      <td>0</td>\n",
       "      <td>95856.832424</td>\n",
       "      <td>на проведение свадьбы</td>\n",
       "      <td>available</td>\n",
       "    </tr>\n",
       "    <tr>\n",
       "      <td>9</td>\n",
       "      <td>0</td>\n",
       "      <td>2188.756445</td>\n",
       "      <td>41</td>\n",
       "      <td>среднее</td>\n",
       "      <td>1</td>\n",
       "      <td>женат / замужем</td>\n",
       "      <td>0</td>\n",
       "      <td>M</td>\n",
       "      <td>сотрудник</td>\n",
       "      <td>0</td>\n",
       "      <td>144425.938277</td>\n",
       "      <td>покупка жилья для семьи</td>\n",
       "      <td>available</td>\n",
       "    </tr>\n",
       "  </tbody>\n",
       "</table>\n",
       "</div>"
      ],
      "text/plain": [
       "   children  days_employed  dob_years education  education_id  \\\n",
       "0         1    8437.673028         42    высшее             0   \n",
       "1         1    4024.803754         36   среднее             1   \n",
       "2         0    5623.422610         33   среднее             1   \n",
       "3         3    4124.747207         32   среднее             1   \n",
       "4         0  340266.072047         53   среднее             1   \n",
       "5         0     926.185831         27    высшее             0   \n",
       "6         0    2879.202052         43    высшее             0   \n",
       "7         0     152.779569         50   среднее             1   \n",
       "8         2    6929.865299         35    высшее             0   \n",
       "9         0    2188.756445         41   среднее             1   \n",
       "\n",
       "      family_status  family_status_id gender income_type  debt   total_income  \\\n",
       "0   женат / замужем                 0      F   сотрудник     0  253875.639453   \n",
       "1   женат / замужем                 0      F   сотрудник     0  112080.014102   \n",
       "2   женат / замужем                 0      M   сотрудник     0  145885.952297   \n",
       "3   женат / замужем                 0      M   сотрудник     0  267628.550329   \n",
       "4  гражданский брак                 1      F   пенсионер     0  158616.077870   \n",
       "5  гражданский брак                 1      M   компаньон     0  255763.565419   \n",
       "6   женат / замужем                 0      F   компаньон     0  240525.971920   \n",
       "7   женат / замужем                 0      M   сотрудник     0  135823.934197   \n",
       "8  гражданский брак                 1      F   сотрудник     0   95856.832424   \n",
       "9   женат / замужем                 0      M   сотрудник     0  144425.938277   \n",
       "\n",
       "                      purpose employment_info  \n",
       "0               покупка жилья       available  \n",
       "1     приобретение автомобиля       available  \n",
       "2               покупка жилья       available  \n",
       "3  дополнительное образование       available  \n",
       "4             сыграть свадьбу       available  \n",
       "5               покупка жилья       available  \n",
       "6           операции с жильем       available  \n",
       "7                 образование       available  \n",
       "8       на проведение свадьбы       available  \n",
       "9     покупка жилья для семьи       available  "
      ]
     },
     "execution_count": 22,
     "metadata": {},
     "output_type": "execute_result"
    }
   ],
   "source": [
    "df['days_employed'] = df['days_employed'].apply(neg_to_pos)\n",
    "df.head(10)"
   ]
  },
  {
   "cell_type": "markdown",
   "metadata": {},
   "source": [
    "Для удобства дальнейшей обработки заменим все NaN на 0 методом fillna(), чтобы вдальнейшем применить математические методы. Также применим метод astype() с аргументом 'int' для столбцов 'days_employed' и 'total_income', чтобы избавиться от дробной части чисел типа 'float'."
   ]
  },
  {
   "cell_type": "code",
   "execution_count": 23,
   "metadata": {},
   "outputs": [],
   "source": [
    "df=df.fillna(0)\n",
    "df['days_employed'] = df['days_employed'].astype('int')\n",
    "df['total_income'] = df['total_income'].astype('int')"
   ]
  },
  {
   "cell_type": "markdown",
   "metadata": {},
   "source": [
    "Отсортируем таблицу по возрасту в обратном порядке, чтобы узнать, каков максимальный возраст заёмщика."
   ]
  },
  {
   "cell_type": "code",
   "execution_count": 24,
   "metadata": {},
   "outputs": [
    {
     "data": {
      "text/html": [
       "<div>\n",
       "<style scoped>\n",
       "    .dataframe tbody tr th:only-of-type {\n",
       "        vertical-align: middle;\n",
       "    }\n",
       "\n",
       "    .dataframe tbody tr th {\n",
       "        vertical-align: top;\n",
       "    }\n",
       "\n",
       "    .dataframe thead th {\n",
       "        text-align: right;\n",
       "    }\n",
       "</style>\n",
       "<table border=\"1\" class=\"dataframe\">\n",
       "  <thead>\n",
       "    <tr style=\"text-align: right;\">\n",
       "      <th></th>\n",
       "      <th>children</th>\n",
       "      <th>days_employed</th>\n",
       "      <th>dob_years</th>\n",
       "      <th>education</th>\n",
       "      <th>education_id</th>\n",
       "      <th>family_status</th>\n",
       "      <th>family_status_id</th>\n",
       "      <th>gender</th>\n",
       "      <th>income_type</th>\n",
       "      <th>debt</th>\n",
       "      <th>total_income</th>\n",
       "      <th>purpose</th>\n",
       "      <th>employment_info</th>\n",
       "    </tr>\n",
       "  </thead>\n",
       "  <tbody>\n",
       "    <tr>\n",
       "      <td>8870</td>\n",
       "      <td>0</td>\n",
       "      <td>1678</td>\n",
       "      <td>75</td>\n",
       "      <td>среднее</td>\n",
       "      <td>1</td>\n",
       "      <td>вдовец / вдова</td>\n",
       "      <td>2</td>\n",
       "      <td>F</td>\n",
       "      <td>госслужащий</td>\n",
       "      <td>0</td>\n",
       "      <td>153282</td>\n",
       "      <td>заняться образованием</td>\n",
       "      <td>available</td>\n",
       "    </tr>\n",
       "    <tr>\n",
       "      <td>12297</td>\n",
       "      <td>0</td>\n",
       "      <td>1729</td>\n",
       "      <td>74</td>\n",
       "      <td>среднее</td>\n",
       "      <td>1</td>\n",
       "      <td>женат / замужем</td>\n",
       "      <td>0</td>\n",
       "      <td>M</td>\n",
       "      <td>компаньон</td>\n",
       "      <td>0</td>\n",
       "      <td>124830</td>\n",
       "      <td>покупка жилой недвижимости</td>\n",
       "      <td>available</td>\n",
       "    </tr>\n",
       "    <tr>\n",
       "      <td>19584</td>\n",
       "      <td>0</td>\n",
       "      <td>380150</td>\n",
       "      <td>74</td>\n",
       "      <td>среднее</td>\n",
       "      <td>1</td>\n",
       "      <td>вдовец / вдова</td>\n",
       "      <td>2</td>\n",
       "      <td>F</td>\n",
       "      <td>пенсионер</td>\n",
       "      <td>0</td>\n",
       "      <td>45089</td>\n",
       "      <td>приобретение автомобиля</td>\n",
       "      <td>available</td>\n",
       "    </tr>\n",
       "    <tr>\n",
       "      <td>2557</td>\n",
       "      <td>0</td>\n",
       "      <td>372861</td>\n",
       "      <td>74</td>\n",
       "      <td>среднее</td>\n",
       "      <td>1</td>\n",
       "      <td>женат / замужем</td>\n",
       "      <td>0</td>\n",
       "      <td>F</td>\n",
       "      <td>пенсионер</td>\n",
       "      <td>0</td>\n",
       "      <td>42927</td>\n",
       "      <td>автомобили</td>\n",
       "      <td>available</td>\n",
       "    </tr>\n",
       "    <tr>\n",
       "      <td>11513</td>\n",
       "      <td>0</td>\n",
       "      <td>6682</td>\n",
       "      <td>74</td>\n",
       "      <td>среднее</td>\n",
       "      <td>1</td>\n",
       "      <td>гражданский брак</td>\n",
       "      <td>1</td>\n",
       "      <td>F</td>\n",
       "      <td>сотрудник</td>\n",
       "      <td>0</td>\n",
       "      <td>98945</td>\n",
       "      <td>сыграть свадьбу</td>\n",
       "      <td>available</td>\n",
       "    </tr>\n",
       "    <tr>\n",
       "      <td>4891</td>\n",
       "      <td>0</td>\n",
       "      <td>341528</td>\n",
       "      <td>74</td>\n",
       "      <td>высшее</td>\n",
       "      <td>0</td>\n",
       "      <td>женат / замужем</td>\n",
       "      <td>0</td>\n",
       "      <td>F</td>\n",
       "      <td>пенсионер</td>\n",
       "      <td>0</td>\n",
       "      <td>134935</td>\n",
       "      <td>покупка своего жилья</td>\n",
       "      <td>available</td>\n",
       "    </tr>\n",
       "    <tr>\n",
       "      <td>3458</td>\n",
       "      <td>0</td>\n",
       "      <td>344623</td>\n",
       "      <td>74</td>\n",
       "      <td>среднее</td>\n",
       "      <td>1</td>\n",
       "      <td>женат / замужем</td>\n",
       "      <td>0</td>\n",
       "      <td>M</td>\n",
       "      <td>пенсионер</td>\n",
       "      <td>0</td>\n",
       "      <td>54754</td>\n",
       "      <td>операции со своей недвижимостью</td>\n",
       "      <td>available</td>\n",
       "    </tr>\n",
       "    <tr>\n",
       "      <td>19329</td>\n",
       "      <td>0</td>\n",
       "      <td>372290</td>\n",
       "      <td>73</td>\n",
       "      <td>начальное</td>\n",
       "      <td>3</td>\n",
       "      <td>гражданский брак</td>\n",
       "      <td>1</td>\n",
       "      <td>F</td>\n",
       "      <td>пенсионер</td>\n",
       "      <td>0</td>\n",
       "      <td>100166</td>\n",
       "      <td>на проведение свадьбы</td>\n",
       "      <td>available</td>\n",
       "    </tr>\n",
       "    <tr>\n",
       "      <td>1826</td>\n",
       "      <td>0</td>\n",
       "      <td>368375</td>\n",
       "      <td>73</td>\n",
       "      <td>среднее</td>\n",
       "      <td>1</td>\n",
       "      <td>вдовец / вдова</td>\n",
       "      <td>2</td>\n",
       "      <td>F</td>\n",
       "      <td>пенсионер</td>\n",
       "      <td>0</td>\n",
       "      <td>74284</td>\n",
       "      <td>покупка жилой недвижимости</td>\n",
       "      <td>available</td>\n",
       "    </tr>\n",
       "    <tr>\n",
       "      <td>229</td>\n",
       "      <td>0</td>\n",
       "      <td>336747</td>\n",
       "      <td>73</td>\n",
       "      <td>среднее</td>\n",
       "      <td>1</td>\n",
       "      <td>вдовец / вдова</td>\n",
       "      <td>2</td>\n",
       "      <td>F</td>\n",
       "      <td>пенсионер</td>\n",
       "      <td>0</td>\n",
       "      <td>136897</td>\n",
       "      <td>сделка с подержанным автомобилем</td>\n",
       "      <td>available</td>\n",
       "    </tr>\n",
       "    <tr>\n",
       "      <td>6400</td>\n",
       "      <td>0</td>\n",
       "      <td>352239</td>\n",
       "      <td>73</td>\n",
       "      <td>среднее</td>\n",
       "      <td>1</td>\n",
       "      <td>женат / замужем</td>\n",
       "      <td>0</td>\n",
       "      <td>F</td>\n",
       "      <td>пенсионер</td>\n",
       "      <td>0</td>\n",
       "      <td>119190</td>\n",
       "      <td>покупка жилья</td>\n",
       "      <td>available</td>\n",
       "    </tr>\n",
       "    <tr>\n",
       "      <td>20545</td>\n",
       "      <td>0</td>\n",
       "      <td>364291</td>\n",
       "      <td>73</td>\n",
       "      <td>среднее</td>\n",
       "      <td>1</td>\n",
       "      <td>вдовец / вдова</td>\n",
       "      <td>2</td>\n",
       "      <td>F</td>\n",
       "      <td>пенсионер</td>\n",
       "      <td>0</td>\n",
       "      <td>64437</td>\n",
       "      <td>покупка жилой недвижимости</td>\n",
       "      <td>available</td>\n",
       "    </tr>\n",
       "    <tr>\n",
       "      <td>18614</td>\n",
       "      <td>1</td>\n",
       "      <td>0</td>\n",
       "      <td>73</td>\n",
       "      <td>среднее</td>\n",
       "      <td>1</td>\n",
       "      <td>женат / замужем</td>\n",
       "      <td>0</td>\n",
       "      <td>F</td>\n",
       "      <td>пенсионер</td>\n",
       "      <td>0</td>\n",
       "      <td>0</td>\n",
       "      <td>дополнительное образование</td>\n",
       "      <td>unknown</td>\n",
       "    </tr>\n",
       "    <tr>\n",
       "      <td>5799</td>\n",
       "      <td>0</td>\n",
       "      <td>399563</td>\n",
       "      <td>73</td>\n",
       "      <td>среднее</td>\n",
       "      <td>1</td>\n",
       "      <td>женат / замужем</td>\n",
       "      <td>0</td>\n",
       "      <td>F</td>\n",
       "      <td>пенсионер</td>\n",
       "      <td>0</td>\n",
       "      <td>126603</td>\n",
       "      <td>покупка коммерческой недвижимости</td>\n",
       "      <td>available</td>\n",
       "    </tr>\n",
       "    <tr>\n",
       "      <td>15415</td>\n",
       "      <td>0</td>\n",
       "      <td>3429</td>\n",
       "      <td>73</td>\n",
       "      <td>среднее</td>\n",
       "      <td>1</td>\n",
       "      <td>женат / замужем</td>\n",
       "      <td>0</td>\n",
       "      <td>F</td>\n",
       "      <td>компаньон</td>\n",
       "      <td>0</td>\n",
       "      <td>183306</td>\n",
       "      <td>операции с коммерческой недвижимостью</td>\n",
       "      <td>available</td>\n",
       "    </tr>\n",
       "    <tr>\n",
       "      <td>8532</td>\n",
       "      <td>0</td>\n",
       "      <td>340928</td>\n",
       "      <td>72</td>\n",
       "      <td>среднее</td>\n",
       "      <td>1</td>\n",
       "      <td>женат / замужем</td>\n",
       "      <td>0</td>\n",
       "      <td>F</td>\n",
       "      <td>пенсионер</td>\n",
       "      <td>0</td>\n",
       "      <td>122200</td>\n",
       "      <td>дополнительное образование</td>\n",
       "      <td>available</td>\n",
       "    </tr>\n",
       "    <tr>\n",
       "      <td>2446</td>\n",
       "      <td>0</td>\n",
       "      <td>355096</td>\n",
       "      <td>72</td>\n",
       "      <td>среднее</td>\n",
       "      <td>1</td>\n",
       "      <td>не женат / не замужем</td>\n",
       "      <td>4</td>\n",
       "      <td>F</td>\n",
       "      <td>пенсионер</td>\n",
       "      <td>0</td>\n",
       "      <td>110985</td>\n",
       "      <td>покупка жилья для сдачи</td>\n",
       "      <td>available</td>\n",
       "    </tr>\n",
       "    <tr>\n",
       "      <td>16828</td>\n",
       "      <td>0</td>\n",
       "      <td>342027</td>\n",
       "      <td>72</td>\n",
       "      <td>среднее</td>\n",
       "      <td>1</td>\n",
       "      <td>гражданский брак</td>\n",
       "      <td>1</td>\n",
       "      <td>F</td>\n",
       "      <td>пенсионер</td>\n",
       "      <td>0</td>\n",
       "      <td>174825</td>\n",
       "      <td>автомобиль</td>\n",
       "      <td>available</td>\n",
       "    </tr>\n",
       "    <tr>\n",
       "      <td>11685</td>\n",
       "      <td>0</td>\n",
       "      <td>348717</td>\n",
       "      <td>72</td>\n",
       "      <td>среднее</td>\n",
       "      <td>1</td>\n",
       "      <td>женат / замужем</td>\n",
       "      <td>0</td>\n",
       "      <td>M</td>\n",
       "      <td>пенсионер</td>\n",
       "      <td>0</td>\n",
       "      <td>95132</td>\n",
       "      <td>получение образования</td>\n",
       "      <td>available</td>\n",
       "    </tr>\n",
       "    <tr>\n",
       "      <td>12488</td>\n",
       "      <td>0</td>\n",
       "      <td>369733</td>\n",
       "      <td>72</td>\n",
       "      <td>среднее</td>\n",
       "      <td>1</td>\n",
       "      <td>женат / замужем</td>\n",
       "      <td>0</td>\n",
       "      <td>F</td>\n",
       "      <td>пенсионер</td>\n",
       "      <td>0</td>\n",
       "      <td>32870</td>\n",
       "      <td>покупка жилья для сдачи</td>\n",
       "      <td>available</td>\n",
       "    </tr>\n",
       "    <tr>\n",
       "      <td>6094</td>\n",
       "      <td>0</td>\n",
       "      <td>335135</td>\n",
       "      <td>72</td>\n",
       "      <td>начальное</td>\n",
       "      <td>3</td>\n",
       "      <td>женат / замужем</td>\n",
       "      <td>0</td>\n",
       "      <td>F</td>\n",
       "      <td>пенсионер</td>\n",
       "      <td>0</td>\n",
       "      <td>93834</td>\n",
       "      <td>получение высшего образования</td>\n",
       "      <td>available</td>\n",
       "    </tr>\n",
       "    <tr>\n",
       "      <td>2454</td>\n",
       "      <td>1</td>\n",
       "      <td>391338</td>\n",
       "      <td>72</td>\n",
       "      <td>начальное</td>\n",
       "      <td>3</td>\n",
       "      <td>вдовец / вдова</td>\n",
       "      <td>2</td>\n",
       "      <td>F</td>\n",
       "      <td>пенсионер</td>\n",
       "      <td>0</td>\n",
       "      <td>201168</td>\n",
       "      <td>профильное образование</td>\n",
       "      <td>available</td>\n",
       "    </tr>\n",
       "    <tr>\n",
       "      <td>14766</td>\n",
       "      <td>0</td>\n",
       "      <td>399413</td>\n",
       "      <td>72</td>\n",
       "      <td>среднее</td>\n",
       "      <td>1</td>\n",
       "      <td>женат / замужем</td>\n",
       "      <td>0</td>\n",
       "      <td>F</td>\n",
       "      <td>пенсионер</td>\n",
       "      <td>1</td>\n",
       "      <td>42915</td>\n",
       "      <td>сделка с автомобилем</td>\n",
       "      <td>available</td>\n",
       "    </tr>\n",
       "    <tr>\n",
       "      <td>16147</td>\n",
       "      <td>0</td>\n",
       "      <td>399150</td>\n",
       "      <td>72</td>\n",
       "      <td>среднее</td>\n",
       "      <td>1</td>\n",
       "      <td>женат / замужем</td>\n",
       "      <td>0</td>\n",
       "      <td>F</td>\n",
       "      <td>пенсионер</td>\n",
       "      <td>0</td>\n",
       "      <td>157710</td>\n",
       "      <td>операции с жильем</td>\n",
       "      <td>available</td>\n",
       "    </tr>\n",
       "    <tr>\n",
       "      <td>20379</td>\n",
       "      <td>0</td>\n",
       "      <td>328728</td>\n",
       "      <td>72</td>\n",
       "      <td>среднее</td>\n",
       "      <td>1</td>\n",
       "      <td>вдовец / вдова</td>\n",
       "      <td>2</td>\n",
       "      <td>F</td>\n",
       "      <td>пенсионер</td>\n",
       "      <td>0</td>\n",
       "      <td>96519</td>\n",
       "      <td>покупка жилья для семьи</td>\n",
       "      <td>available</td>\n",
       "    </tr>\n",
       "    <tr>\n",
       "      <td>9987</td>\n",
       "      <td>0</td>\n",
       "      <td>383159</td>\n",
       "      <td>72</td>\n",
       "      <td>среднее</td>\n",
       "      <td>1</td>\n",
       "      <td>вдовец / вдова</td>\n",
       "      <td>2</td>\n",
       "      <td>F</td>\n",
       "      <td>пенсионер</td>\n",
       "      <td>0</td>\n",
       "      <td>86113</td>\n",
       "      <td>покупка жилья</td>\n",
       "      <td>available</td>\n",
       "    </tr>\n",
       "    <tr>\n",
       "      <td>10547</td>\n",
       "      <td>0</td>\n",
       "      <td>0</td>\n",
       "      <td>72</td>\n",
       "      <td>среднее</td>\n",
       "      <td>1</td>\n",
       "      <td>не женат / не замужем</td>\n",
       "      <td>4</td>\n",
       "      <td>F</td>\n",
       "      <td>пенсионер</td>\n",
       "      <td>1</td>\n",
       "      <td>0</td>\n",
       "      <td>приобретение автомобиля</td>\n",
       "      <td>unknown</td>\n",
       "    </tr>\n",
       "    <tr>\n",
       "      <td>3363</td>\n",
       "      <td>1</td>\n",
       "      <td>396057</td>\n",
       "      <td>72</td>\n",
       "      <td>среднее</td>\n",
       "      <td>1</td>\n",
       "      <td>в разводе</td>\n",
       "      <td>3</td>\n",
       "      <td>F</td>\n",
       "      <td>пенсионер</td>\n",
       "      <td>0</td>\n",
       "      <td>34241</td>\n",
       "      <td>строительство недвижимости</td>\n",
       "      <td>available</td>\n",
       "    </tr>\n",
       "    <tr>\n",
       "      <td>1239</td>\n",
       "      <td>0</td>\n",
       "      <td>374093</td>\n",
       "      <td>72</td>\n",
       "      <td>среднее</td>\n",
       "      <td>1</td>\n",
       "      <td>гражданский брак</td>\n",
       "      <td>1</td>\n",
       "      <td>M</td>\n",
       "      <td>пенсионер</td>\n",
       "      <td>0</td>\n",
       "      <td>108512</td>\n",
       "      <td>сыграть свадьбу</td>\n",
       "      <td>available</td>\n",
       "    </tr>\n",
       "    <tr>\n",
       "      <td>19454</td>\n",
       "      <td>0</td>\n",
       "      <td>382422</td>\n",
       "      <td>72</td>\n",
       "      <td>среднее</td>\n",
       "      <td>1</td>\n",
       "      <td>гражданский брак</td>\n",
       "      <td>1</td>\n",
       "      <td>F</td>\n",
       "      <td>пенсионер</td>\n",
       "      <td>0</td>\n",
       "      <td>96720</td>\n",
       "      <td>дополнительное образование</td>\n",
       "      <td>available</td>\n",
       "    </tr>\n",
       "    <tr>\n",
       "      <td>13838</td>\n",
       "      <td>0</td>\n",
       "      <td>0</td>\n",
       "      <td>72</td>\n",
       "      <td>среднее</td>\n",
       "      <td>1</td>\n",
       "      <td>женат / замужем</td>\n",
       "      <td>0</td>\n",
       "      <td>F</td>\n",
       "      <td>компаньон</td>\n",
       "      <td>0</td>\n",
       "      <td>0</td>\n",
       "      <td>сделка с автомобилем</td>\n",
       "      <td>unknown</td>\n",
       "    </tr>\n",
       "    <tr>\n",
       "      <td>5457</td>\n",
       "      <td>0</td>\n",
       "      <td>372210</td>\n",
       "      <td>72</td>\n",
       "      <td>среднее</td>\n",
       "      <td>1</td>\n",
       "      <td>женат / замужем</td>\n",
       "      <td>0</td>\n",
       "      <td>F</td>\n",
       "      <td>пенсионер</td>\n",
       "      <td>0</td>\n",
       "      <td>165682</td>\n",
       "      <td>жилье</td>\n",
       "      <td>available</td>\n",
       "    </tr>\n",
       "    <tr>\n",
       "      <td>8755</td>\n",
       "      <td>0</td>\n",
       "      <td>8615</td>\n",
       "      <td>72</td>\n",
       "      <td>высшее</td>\n",
       "      <td>0</td>\n",
       "      <td>в разводе</td>\n",
       "      <td>3</td>\n",
       "      <td>F</td>\n",
       "      <td>компаньон</td>\n",
       "      <td>0</td>\n",
       "      <td>168429</td>\n",
       "      <td>покупка своего жилья</td>\n",
       "      <td>available</td>\n",
       "    </tr>\n",
       "    <tr>\n",
       "      <td>2801</td>\n",
       "      <td>0</td>\n",
       "      <td>400008</td>\n",
       "      <td>72</td>\n",
       "      <td>среднее</td>\n",
       "      <td>1</td>\n",
       "      <td>не женат / не замужем</td>\n",
       "      <td>4</td>\n",
       "      <td>F</td>\n",
       "      <td>пенсионер</td>\n",
       "      <td>0</td>\n",
       "      <td>162972</td>\n",
       "      <td>ремонт жилью</td>\n",
       "      <td>available</td>\n",
       "    </tr>\n",
       "    <tr>\n",
       "      <td>2399</td>\n",
       "      <td>0</td>\n",
       "      <td>1102</td>\n",
       "      <td>72</td>\n",
       "      <td>среднее</td>\n",
       "      <td>1</td>\n",
       "      <td>гражданский брак</td>\n",
       "      <td>1</td>\n",
       "      <td>F</td>\n",
       "      <td>компаньон</td>\n",
       "      <td>0</td>\n",
       "      <td>151623</td>\n",
       "      <td>на проведение свадьбы</td>\n",
       "      <td>available</td>\n",
       "    </tr>\n",
       "    <tr>\n",
       "      <td>6216</td>\n",
       "      <td>0</td>\n",
       "      <td>389307</td>\n",
       "      <td>72</td>\n",
       "      <td>среднее</td>\n",
       "      <td>1</td>\n",
       "      <td>вдовец / вдова</td>\n",
       "      <td>2</td>\n",
       "      <td>F</td>\n",
       "      <td>пенсионер</td>\n",
       "      <td>0</td>\n",
       "      <td>66919</td>\n",
       "      <td>строительство недвижимости</td>\n",
       "      <td>available</td>\n",
       "    </tr>\n",
       "    <tr>\n",
       "      <td>6387</td>\n",
       "      <td>0</td>\n",
       "      <td>382730</td>\n",
       "      <td>72</td>\n",
       "      <td>среднее</td>\n",
       "      <td>1</td>\n",
       "      <td>не женат / не замужем</td>\n",
       "      <td>4</td>\n",
       "      <td>F</td>\n",
       "      <td>пенсионер</td>\n",
       "      <td>0</td>\n",
       "      <td>49805</td>\n",
       "      <td>ремонт жилью</td>\n",
       "      <td>available</td>\n",
       "    </tr>\n",
       "    <tr>\n",
       "      <td>16513</td>\n",
       "      <td>0</td>\n",
       "      <td>367378</td>\n",
       "      <td>72</td>\n",
       "      <td>среднее</td>\n",
       "      <td>1</td>\n",
       "      <td>женат / замужем</td>\n",
       "      <td>0</td>\n",
       "      <td>F</td>\n",
       "      <td>пенсионер</td>\n",
       "      <td>0</td>\n",
       "      <td>70567</td>\n",
       "      <td>на покупку своего автомобиля</td>\n",
       "      <td>available</td>\n",
       "    </tr>\n",
       "    <tr>\n",
       "      <td>21188</td>\n",
       "      <td>0</td>\n",
       "      <td>379985</td>\n",
       "      <td>72</td>\n",
       "      <td>среднее</td>\n",
       "      <td>1</td>\n",
       "      <td>женат / замужем</td>\n",
       "      <td>0</td>\n",
       "      <td>F</td>\n",
       "      <td>пенсионер</td>\n",
       "      <td>0</td>\n",
       "      <td>60867</td>\n",
       "      <td>получение дополнительного образования</td>\n",
       "      <td>available</td>\n",
       "    </tr>\n",
       "    <tr>\n",
       "      <td>19025</td>\n",
       "      <td>0</td>\n",
       "      <td>347274</td>\n",
       "      <td>72</td>\n",
       "      <td>высшее</td>\n",
       "      <td>0</td>\n",
       "      <td>женат / замужем</td>\n",
       "      <td>0</td>\n",
       "      <td>F</td>\n",
       "      <td>пенсионер</td>\n",
       "      <td>0</td>\n",
       "      <td>80903</td>\n",
       "      <td>свой автомобиль</td>\n",
       "      <td>available</td>\n",
       "    </tr>\n",
       "    <tr>\n",
       "      <td>4959</td>\n",
       "      <td>0</td>\n",
       "      <td>360639</td>\n",
       "      <td>72</td>\n",
       "      <td>начальное</td>\n",
       "      <td>3</td>\n",
       "      <td>вдовец / вдова</td>\n",
       "      <td>2</td>\n",
       "      <td>F</td>\n",
       "      <td>пенсионер</td>\n",
       "      <td>0</td>\n",
       "      <td>34024</td>\n",
       "      <td>операции со своей недвижимостью</td>\n",
       "      <td>available</td>\n",
       "    </tr>\n",
       "    <tr>\n",
       "      <td>6510</td>\n",
       "      <td>0</td>\n",
       "      <td>10093</td>\n",
       "      <td>72</td>\n",
       "      <td>высшее</td>\n",
       "      <td>0</td>\n",
       "      <td>не женат / не замужем</td>\n",
       "      <td>4</td>\n",
       "      <td>F</td>\n",
       "      <td>компаньон</td>\n",
       "      <td>0</td>\n",
       "      <td>264196</td>\n",
       "      <td>ремонт жилью</td>\n",
       "      <td>available</td>\n",
       "    </tr>\n",
       "    <tr>\n",
       "      <td>6643</td>\n",
       "      <td>0</td>\n",
       "      <td>345409</td>\n",
       "      <td>72</td>\n",
       "      <td>среднее</td>\n",
       "      <td>1</td>\n",
       "      <td>вдовец / вдова</td>\n",
       "      <td>2</td>\n",
       "      <td>F</td>\n",
       "      <td>пенсионер</td>\n",
       "      <td>0</td>\n",
       "      <td>115678</td>\n",
       "      <td>недвижимость</td>\n",
       "      <td>available</td>\n",
       "    </tr>\n",
       "    <tr>\n",
       "      <td>4610</td>\n",
       "      <td>1</td>\n",
       "      <td>353765</td>\n",
       "      <td>72</td>\n",
       "      <td>среднее</td>\n",
       "      <td>1</td>\n",
       "      <td>женат / замужем</td>\n",
       "      <td>0</td>\n",
       "      <td>M</td>\n",
       "      <td>пенсионер</td>\n",
       "      <td>0</td>\n",
       "      <td>119771</td>\n",
       "      <td>строительство жилой недвижимости</td>\n",
       "      <td>available</td>\n",
       "    </tr>\n",
       "    <tr>\n",
       "      <td>8718</td>\n",
       "      <td>0</td>\n",
       "      <td>375453</td>\n",
       "      <td>72</td>\n",
       "      <td>среднее</td>\n",
       "      <td>1</td>\n",
       "      <td>вдовец / вдова</td>\n",
       "      <td>2</td>\n",
       "      <td>F</td>\n",
       "      <td>пенсионер</td>\n",
       "      <td>0</td>\n",
       "      <td>170946</td>\n",
       "      <td>строительство недвижимости</td>\n",
       "      <td>available</td>\n",
       "    </tr>\n",
       "    <tr>\n",
       "      <td>4496</td>\n",
       "      <td>0</td>\n",
       "      <td>343510</td>\n",
       "      <td>72</td>\n",
       "      <td>высшее</td>\n",
       "      <td>0</td>\n",
       "      <td>женат / замужем</td>\n",
       "      <td>0</td>\n",
       "      <td>F</td>\n",
       "      <td>пенсионер</td>\n",
       "      <td>0</td>\n",
       "      <td>174724</td>\n",
       "      <td>покупка недвижимости</td>\n",
       "      <td>available</td>\n",
       "    </tr>\n",
       "    <tr>\n",
       "      <td>18518</td>\n",
       "      <td>0</td>\n",
       "      <td>348482</td>\n",
       "      <td>72</td>\n",
       "      <td>высшее</td>\n",
       "      <td>0</td>\n",
       "      <td>гражданский брак</td>\n",
       "      <td>1</td>\n",
       "      <td>F</td>\n",
       "      <td>пенсионер</td>\n",
       "      <td>0</td>\n",
       "      <td>213239</td>\n",
       "      <td>сыграть свадьбу</td>\n",
       "      <td>available</td>\n",
       "    </tr>\n",
       "    <tr>\n",
       "      <td>11856</td>\n",
       "      <td>0</td>\n",
       "      <td>396541</td>\n",
       "      <td>72</td>\n",
       "      <td>высшее</td>\n",
       "      <td>0</td>\n",
       "      <td>женат / замужем</td>\n",
       "      <td>0</td>\n",
       "      <td>M</td>\n",
       "      <td>пенсионер</td>\n",
       "      <td>0</td>\n",
       "      <td>159358</td>\n",
       "      <td>автомобиль</td>\n",
       "      <td>available</td>\n",
       "    </tr>\n",
       "    <tr>\n",
       "      <td>10884</td>\n",
       "      <td>0</td>\n",
       "      <td>355792</td>\n",
       "      <td>71</td>\n",
       "      <td>среднее</td>\n",
       "      <td>1</td>\n",
       "      <td>вдовец / вдова</td>\n",
       "      <td>2</td>\n",
       "      <td>F</td>\n",
       "      <td>пенсионер</td>\n",
       "      <td>0</td>\n",
       "      <td>229680</td>\n",
       "      <td>жилье</td>\n",
       "      <td>available</td>\n",
       "    </tr>\n",
       "    <tr>\n",
       "      <td>5724</td>\n",
       "      <td>0</td>\n",
       "      <td>381959</td>\n",
       "      <td>71</td>\n",
       "      <td>среднее</td>\n",
       "      <td>1</td>\n",
       "      <td>женат / замужем</td>\n",
       "      <td>0</td>\n",
       "      <td>F</td>\n",
       "      <td>пенсионер</td>\n",
       "      <td>0</td>\n",
       "      <td>157408</td>\n",
       "      <td>покупка своего жилья</td>\n",
       "      <td>available</td>\n",
       "    </tr>\n",
       "  </tbody>\n",
       "</table>\n",
       "</div>"
      ],
      "text/plain": [
       "       children  days_employed  dob_years  education  education_id  \\\n",
       "8870          0           1678         75    среднее             1   \n",
       "12297         0           1729         74    среднее             1   \n",
       "19584         0         380150         74    среднее             1   \n",
       "2557          0         372861         74    среднее             1   \n",
       "11513         0           6682         74    среднее             1   \n",
       "4891          0         341528         74     высшее             0   \n",
       "3458          0         344623         74    среднее             1   \n",
       "19329         0         372290         73  начальное             3   \n",
       "1826          0         368375         73    среднее             1   \n",
       "229           0         336747         73    среднее             1   \n",
       "6400          0         352239         73    среднее             1   \n",
       "20545         0         364291         73    среднее             1   \n",
       "18614         1              0         73    среднее             1   \n",
       "5799          0         399563         73    среднее             1   \n",
       "15415         0           3429         73    среднее             1   \n",
       "8532          0         340928         72    среднее             1   \n",
       "2446          0         355096         72    среднее             1   \n",
       "16828         0         342027         72    среднее             1   \n",
       "11685         0         348717         72    среднее             1   \n",
       "12488         0         369733         72    среднее             1   \n",
       "6094          0         335135         72  начальное             3   \n",
       "2454          1         391338         72  начальное             3   \n",
       "14766         0         399413         72    среднее             1   \n",
       "16147         0         399150         72    среднее             1   \n",
       "20379         0         328728         72    среднее             1   \n",
       "9987          0         383159         72    среднее             1   \n",
       "10547         0              0         72    среднее             1   \n",
       "3363          1         396057         72    среднее             1   \n",
       "1239          0         374093         72    среднее             1   \n",
       "19454         0         382422         72    среднее             1   \n",
       "13838         0              0         72    среднее             1   \n",
       "5457          0         372210         72    среднее             1   \n",
       "8755          0           8615         72     высшее             0   \n",
       "2801          0         400008         72    среднее             1   \n",
       "2399          0           1102         72    среднее             1   \n",
       "6216          0         389307         72    среднее             1   \n",
       "6387          0         382730         72    среднее             1   \n",
       "16513         0         367378         72    среднее             1   \n",
       "21188         0         379985         72    среднее             1   \n",
       "19025         0         347274         72     высшее             0   \n",
       "4959          0         360639         72  начальное             3   \n",
       "6510          0          10093         72     высшее             0   \n",
       "6643          0         345409         72    среднее             1   \n",
       "4610          1         353765         72    среднее             1   \n",
       "8718          0         375453         72    среднее             1   \n",
       "4496          0         343510         72     высшее             0   \n",
       "18518         0         348482         72     высшее             0   \n",
       "11856         0         396541         72     высшее             0   \n",
       "10884         0         355792         71    среднее             1   \n",
       "5724          0         381959         71    среднее             1   \n",
       "\n",
       "               family_status  family_status_id gender  income_type  debt  \\\n",
       "8870          вдовец / вдова                 2      F  госслужащий     0   \n",
       "12297        женат / замужем                 0      M    компаньон     0   \n",
       "19584         вдовец / вдова                 2      F    пенсионер     0   \n",
       "2557         женат / замужем                 0      F    пенсионер     0   \n",
       "11513       гражданский брак                 1      F    сотрудник     0   \n",
       "4891         женат / замужем                 0      F    пенсионер     0   \n",
       "3458         женат / замужем                 0      M    пенсионер     0   \n",
       "19329       гражданский брак                 1      F    пенсионер     0   \n",
       "1826          вдовец / вдова                 2      F    пенсионер     0   \n",
       "229           вдовец / вдова                 2      F    пенсионер     0   \n",
       "6400         женат / замужем                 0      F    пенсионер     0   \n",
       "20545         вдовец / вдова                 2      F    пенсионер     0   \n",
       "18614        женат / замужем                 0      F    пенсионер     0   \n",
       "5799         женат / замужем                 0      F    пенсионер     0   \n",
       "15415        женат / замужем                 0      F    компаньон     0   \n",
       "8532         женат / замужем                 0      F    пенсионер     0   \n",
       "2446   не женат / не замужем                 4      F    пенсионер     0   \n",
       "16828       гражданский брак                 1      F    пенсионер     0   \n",
       "11685        женат / замужем                 0      M    пенсионер     0   \n",
       "12488        женат / замужем                 0      F    пенсионер     0   \n",
       "6094         женат / замужем                 0      F    пенсионер     0   \n",
       "2454          вдовец / вдова                 2      F    пенсионер     0   \n",
       "14766        женат / замужем                 0      F    пенсионер     1   \n",
       "16147        женат / замужем                 0      F    пенсионер     0   \n",
       "20379         вдовец / вдова                 2      F    пенсионер     0   \n",
       "9987          вдовец / вдова                 2      F    пенсионер     0   \n",
       "10547  не женат / не замужем                 4      F    пенсионер     1   \n",
       "3363               в разводе                 3      F    пенсионер     0   \n",
       "1239        гражданский брак                 1      M    пенсионер     0   \n",
       "19454       гражданский брак                 1      F    пенсионер     0   \n",
       "13838        женат / замужем                 0      F    компаньон     0   \n",
       "5457         женат / замужем                 0      F    пенсионер     0   \n",
       "8755               в разводе                 3      F    компаньон     0   \n",
       "2801   не женат / не замужем                 4      F    пенсионер     0   \n",
       "2399        гражданский брак                 1      F    компаньон     0   \n",
       "6216          вдовец / вдова                 2      F    пенсионер     0   \n",
       "6387   не женат / не замужем                 4      F    пенсионер     0   \n",
       "16513        женат / замужем                 0      F    пенсионер     0   \n",
       "21188        женат / замужем                 0      F    пенсионер     0   \n",
       "19025        женат / замужем                 0      F    пенсионер     0   \n",
       "4959          вдовец / вдова                 2      F    пенсионер     0   \n",
       "6510   не женат / не замужем                 4      F    компаньон     0   \n",
       "6643          вдовец / вдова                 2      F    пенсионер     0   \n",
       "4610         женат / замужем                 0      M    пенсионер     0   \n",
       "8718          вдовец / вдова                 2      F    пенсионер     0   \n",
       "4496         женат / замужем                 0      F    пенсионер     0   \n",
       "18518       гражданский брак                 1      F    пенсионер     0   \n",
       "11856        женат / замужем                 0      M    пенсионер     0   \n",
       "10884         вдовец / вдова                 2      F    пенсионер     0   \n",
       "5724         женат / замужем                 0      F    пенсионер     0   \n",
       "\n",
       "       total_income                                purpose employment_info  \n",
       "8870         153282                  заняться образованием       available  \n",
       "12297        124830             покупка жилой недвижимости       available  \n",
       "19584         45089                приобретение автомобиля       available  \n",
       "2557          42927                             автомобили       available  \n",
       "11513         98945                        сыграть свадьбу       available  \n",
       "4891         134935                   покупка своего жилья       available  \n",
       "3458          54754        операции со своей недвижимостью       available  \n",
       "19329        100166                  на проведение свадьбы       available  \n",
       "1826          74284             покупка жилой недвижимости       available  \n",
       "229          136897       сделка с подержанным автомобилем       available  \n",
       "6400         119190                          покупка жилья       available  \n",
       "20545         64437             покупка жилой недвижимости       available  \n",
       "18614             0             дополнительное образование         unknown  \n",
       "5799         126603      покупка коммерческой недвижимости       available  \n",
       "15415        183306  операции с коммерческой недвижимостью       available  \n",
       "8532         122200             дополнительное образование       available  \n",
       "2446         110985                покупка жилья для сдачи       available  \n",
       "16828        174825                             автомобиль       available  \n",
       "11685         95132                  получение образования       available  \n",
       "12488         32870                покупка жилья для сдачи       available  \n",
       "6094          93834          получение высшего образования       available  \n",
       "2454         201168                 профильное образование       available  \n",
       "14766         42915                   сделка с автомобилем       available  \n",
       "16147        157710                      операции с жильем       available  \n",
       "20379         96519                покупка жилья для семьи       available  \n",
       "9987          86113                          покупка жилья       available  \n",
       "10547             0                приобретение автомобиля         unknown  \n",
       "3363          34241             строительство недвижимости       available  \n",
       "1239         108512                        сыграть свадьбу       available  \n",
       "19454         96720             дополнительное образование       available  \n",
       "13838             0                   сделка с автомобилем         unknown  \n",
       "5457         165682                                  жилье       available  \n",
       "8755         168429                   покупка своего жилья       available  \n",
       "2801         162972                           ремонт жилью       available  \n",
       "2399         151623                  на проведение свадьбы       available  \n",
       "6216          66919             строительство недвижимости       available  \n",
       "6387          49805                           ремонт жилью       available  \n",
       "16513         70567           на покупку своего автомобиля       available  \n",
       "21188         60867  получение дополнительного образования       available  \n",
       "19025         80903                        свой автомобиль       available  \n",
       "4959          34024        операции со своей недвижимостью       available  \n",
       "6510         264196                           ремонт жилью       available  \n",
       "6643         115678                           недвижимость       available  \n",
       "4610         119771       строительство жилой недвижимости       available  \n",
       "8718         170946             строительство недвижимости       available  \n",
       "4496         174724                   покупка недвижимости       available  \n",
       "18518        213239                        сыграть свадьбу       available  \n",
       "11856        159358                             автомобиль       available  \n",
       "10884        229680                                  жилье       available  \n",
       "5724         157408                   покупка своего жилья       available  "
      ]
     },
     "execution_count": 24,
     "metadata": {},
     "output_type": "execute_result"
    }
   ],
   "source": [
    "df_sorted = df.sort_values(by='dob_years', ascending=False)\n",
    "#df.info()\n",
    "df_sorted.head(50)"
   ]
  },
  {
   "cell_type": "markdown",
   "metadata": {},
   "source": [
    "Итак, если взять самого старшего заёмщика, и предположить, что он работал с 18 лет без выходных и отпуска все 57 лет, то получится 200805 дней. Однако, судя по данным, эта госслужащая проработала 4 с половиной года, при этом имея высокий ежемесячный доход. Как-то странно. Посчитаем количество больших значений в столбце 'days_employed'."
   ]
  },
  {
   "cell_type": "code",
   "execution_count": 25,
   "metadata": {},
   "outputs": [
    {
     "data": {
      "text/plain": [
       "3445"
      ]
     },
     "execution_count": 25,
     "metadata": {},
     "output_type": "execute_result"
    }
   ],
   "source": [
    "df.loc[df.loc[:,'days_employed'] >20000]['days_employed'].count()"
   ]
  },
  {
   "cell_type": "markdown",
   "metadata": {},
   "source": [
    "Итого как минимум 16% датафрейма имеют нереалистичные значения."
   ]
  },
  {
   "cell_type": "markdown",
   "metadata": {},
   "source": [
    "Посмотрим, сколько зарабатывают самые неопытные работники со стажем от 1 до 365 дней"
   ]
  },
  {
   "cell_type": "code",
   "execution_count": 26,
   "metadata": {},
   "outputs": [
    {
     "name": "stdout",
     "output_type": "stream",
     "text": [
      "1827\n",
      "142057.0\n"
     ]
    }
   ],
   "source": [
    "not_expiriensed_count = df.loc[(df.loc[:,'days_employed'] >0)&(df.loc[:,'days_employed'] <365)]['total_income'].count()\n",
    "not_expiriensed_income = df.loc[(df.loc[:,'days_employed'] >0)&(df.loc[:,'days_employed'] <365)]['total_income'].median()\n",
    "print(not_expiriensed_count)\n",
    "print(not_expiriensed_income)"
   ]
  },
  {
   "cell_type": "markdown",
   "metadata": {},
   "source": [
    "Если это значение в рублях, то новички неплохо зарабатывают. Может быть, все заёмщики достаточно высокооплачиваемы? \n",
    "Найдем среднюю зарплату всей выборки по медиане:"
   ]
  },
  {
   "cell_type": "code",
   "execution_count": 27,
   "metadata": {},
   "outputs": [
    {
     "data": {
      "text/plain": [
       "135781.0"
      ]
     },
     "execution_count": 27,
     "metadata": {},
     "output_type": "execute_result"
    }
   ],
   "source": [
    "total_income_median = df['total_income'].median()\n",
    "total_income_median"
   ]
  },
  {
   "cell_type": "markdown",
   "metadata": {},
   "source": [
    "Получается новички имеют среднюю зарплату. Таким образом, можно сделать вывод о том, что ещё как минимум 7% датафрейма имеют нереалистичные значения.\n",
    "Следовательно данные в столбце 'days_employed' не релевантные. К счастью, для решения поставленной задачи это поле не нужно.\n",
    "\n",
    "**Вывод:** в финальные таблицы мы не будем включать поле 'days_employed', и укажем команде, что необходимо разобраться в причинах появления \"плохого\" столбца."
   ]
  },
  {
   "cell_type": "markdown",
   "metadata": {},
   "source": [
    "- **Проверим поле 'purpose_names' на наличие аномалий**"
   ]
  },
  {
   "cell_type": "markdown",
   "metadata": {},
   "source": [
    "Методом value_counts() определим уникальные значения столбца 'purpose' и их количество."
   ]
  },
  {
   "cell_type": "code",
   "execution_count": 28,
   "metadata": {
    "scrolled": false
   },
   "outputs": [
    {
     "data": {
      "text/plain": [
       "свадьба                                   791\n",
       "на проведение свадьбы                     768\n",
       "сыграть свадьбу                           765\n",
       "операции с недвижимостью                  675\n",
       "покупка коммерческой недвижимости         661\n",
       "операции с жильем                         652\n",
       "покупка жилья для сдачи                   651\n",
       "операции с коммерческой недвижимостью     650\n",
       "жилье                                     646\n",
       "покупка жилья                             646\n",
       "покупка жилья для семьи                   638\n",
       "строительство собственной недвижимости    635\n",
       "недвижимость                              633\n",
       "операции со своей недвижимостью           627\n",
       "строительство жилой недвижимости          624\n",
       "покупка недвижимости                      621\n",
       "покупка своего жилья                      620\n",
       "строительство недвижимости                619\n",
       "ремонт жилью                              607\n",
       "покупка жилой недвижимости                606\n",
       "на покупку своего автомобиля              505\n",
       "заняться высшим образованием              496\n",
       "автомобиль                                494\n",
       "сделка с подержанным автомобилем          486\n",
       "на покупку подержанного автомобиля        478\n",
       "свой автомобиль                           478\n",
       "автомобили                                478\n",
       "на покупку автомобиля                     471\n",
       "приобретение автомобиля                   461\n",
       "дополнительное образование                460\n",
       "сделка с автомобилем                      455\n",
       "высшее образование                        452\n",
       "образование                               447\n",
       "получение дополнительного образования     446\n",
       "получение образования                     442\n",
       "профильное образование                    436\n",
       "получение высшего образования             426\n",
       "заняться образованием                     408\n",
       "Name: purpose, dtype: int64"
      ]
     },
     "execution_count": 28,
     "metadata": {},
     "output_type": "execute_result"
    }
   ],
   "source": [
    "#employment_grouped=df.groupby('purpose').count()\n",
    "purpose_names=df['purpose'].value_counts()\n",
    "purpose_names"
   ]
  },
  {
   "cell_type": "markdown",
   "metadata": {},
   "source": [
    "Сохраним количество строк таблицы 'purpose_names' в переменной purpose_names_len."
   ]
  },
  {
   "cell_type": "code",
   "execution_count": 29,
   "metadata": {},
   "outputs": [
    {
     "data": {
      "text/plain": [
       "38"
      ]
     },
     "execution_count": 29,
     "metadata": {},
     "output_type": "execute_result"
    }
   ],
   "source": [
    "purpose_names_len=len(purpose_names)\n",
    "purpose_names_len"
   ]
  },
  {
   "cell_type": "code",
   "execution_count": 30,
   "metadata": {},
   "outputs": [
    {
     "data": {
      "text/plain": [
       "dtype('int64')"
      ]
     },
     "execution_count": 30,
     "metadata": {},
     "output_type": "execute_result"
    }
   ],
   "source": [
    "purpose_names.dtype"
   ]
  },
  {
   "cell_type": "markdown",
   "metadata": {},
   "source": [
    "Очевидно, цель заполнялась вручную, и данные в полученном списке не пригодны для каких-то выводов.\n",
    "Нам понадобится лемматизация этого списка."
   ]
  },
  {
   "cell_type": "markdown",
   "metadata": {},
   "source": [
    "В полученном нами объекте Series индексами являются наименования целей займа, а их количество - значениями.\n",
    "Превратим purpose_names в датафрейм, сбросив индексы методом reset_index()."
   ]
  },
  {
   "cell_type": "code",
   "execution_count": 31,
   "metadata": {
    "scrolled": false
   },
   "outputs": [
    {
     "data": {
      "text/html": [
       "<div>\n",
       "<style scoped>\n",
       "    .dataframe tbody tr th:only-of-type {\n",
       "        vertical-align: middle;\n",
       "    }\n",
       "\n",
       "    .dataframe tbody tr th {\n",
       "        vertical-align: top;\n",
       "    }\n",
       "\n",
       "    .dataframe thead th {\n",
       "        text-align: right;\n",
       "    }\n",
       "</style>\n",
       "<table border=\"1\" class=\"dataframe\">\n",
       "  <thead>\n",
       "    <tr style=\"text-align: right;\">\n",
       "      <th></th>\n",
       "      <th>index</th>\n",
       "      <th>purpose</th>\n",
       "    </tr>\n",
       "  </thead>\n",
       "  <tbody>\n",
       "    <tr>\n",
       "      <td>0</td>\n",
       "      <td>свадьба</td>\n",
       "      <td>791</td>\n",
       "    </tr>\n",
       "    <tr>\n",
       "      <td>1</td>\n",
       "      <td>на проведение свадьбы</td>\n",
       "      <td>768</td>\n",
       "    </tr>\n",
       "    <tr>\n",
       "      <td>2</td>\n",
       "      <td>сыграть свадьбу</td>\n",
       "      <td>765</td>\n",
       "    </tr>\n",
       "    <tr>\n",
       "      <td>3</td>\n",
       "      <td>операции с недвижимостью</td>\n",
       "      <td>675</td>\n",
       "    </tr>\n",
       "    <tr>\n",
       "      <td>4</td>\n",
       "      <td>покупка коммерческой недвижимости</td>\n",
       "      <td>661</td>\n",
       "    </tr>\n",
       "  </tbody>\n",
       "</table>\n",
       "</div>"
      ],
      "text/plain": [
       "                               index  purpose\n",
       "0                            свадьба      791\n",
       "1              на проведение свадьбы      768\n",
       "2                    сыграть свадьбу      765\n",
       "3           операции с недвижимостью      675\n",
       "4  покупка коммерческой недвижимости      661"
      ]
     },
     "execution_count": 31,
     "metadata": {},
     "output_type": "execute_result"
    }
   ],
   "source": [
    "purpose_names = purpose_names.reset_index()\n",
    "purpose_names.head()"
   ]
  },
  {
   "cell_type": "markdown",
   "metadata": {},
   "source": [
    "Значения в полученном столбце 'index' нам нужны. А вот название колонки нужно заменить на значимое, а именно на 'purpose'. \n",
    "Значения в старом столбце 'purpose' не нужны, но имеют тип данных int, что нам на руку, потому что мы можем использовать его для присвоения в дальнейшем идентификаторов новых категорий кредита. Назовем колонку 'purpose_id'."
   ]
  },
  {
   "cell_type": "code",
   "execution_count": 32,
   "metadata": {},
   "outputs": [
    {
     "data": {
      "text/html": [
       "<div>\n",
       "<style scoped>\n",
       "    .dataframe tbody tr th:only-of-type {\n",
       "        vertical-align: middle;\n",
       "    }\n",
       "\n",
       "    .dataframe tbody tr th {\n",
       "        vertical-align: top;\n",
       "    }\n",
       "\n",
       "    .dataframe thead th {\n",
       "        text-align: right;\n",
       "    }\n",
       "</style>\n",
       "<table border=\"1\" class=\"dataframe\">\n",
       "  <thead>\n",
       "    <tr style=\"text-align: right;\">\n",
       "      <th></th>\n",
       "      <th>purpose</th>\n",
       "      <th>purpose_id</th>\n",
       "    </tr>\n",
       "  </thead>\n",
       "  <tbody>\n",
       "    <tr>\n",
       "      <td>0</td>\n",
       "      <td>свадьба</td>\n",
       "      <td>791</td>\n",
       "    </tr>\n",
       "    <tr>\n",
       "      <td>1</td>\n",
       "      <td>на проведение свадьбы</td>\n",
       "      <td>768</td>\n",
       "    </tr>\n",
       "    <tr>\n",
       "      <td>2</td>\n",
       "      <td>сыграть свадьбу</td>\n",
       "      <td>765</td>\n",
       "    </tr>\n",
       "    <tr>\n",
       "      <td>3</td>\n",
       "      <td>операции с недвижимостью</td>\n",
       "      <td>675</td>\n",
       "    </tr>\n",
       "    <tr>\n",
       "      <td>4</td>\n",
       "      <td>покупка коммерческой недвижимости</td>\n",
       "      <td>661</td>\n",
       "    </tr>\n",
       "  </tbody>\n",
       "</table>\n",
       "</div>"
      ],
      "text/plain": [
       "                             purpose  purpose_id\n",
       "0                            свадьба         791\n",
       "1              на проведение свадьбы         768\n",
       "2                    сыграть свадьбу         765\n",
       "3           операции с недвижимостью         675\n",
       "4  покупка коммерческой недвижимости         661"
      ]
     },
     "execution_count": 32,
     "metadata": {},
     "output_type": "execute_result"
    }
   ],
   "source": [
    "purpose_names.columns = ['purpose','purpose_id']\n",
    "purpose_names.head()"
   ]
  },
  {
   "cell_type": "markdown",
   "metadata": {},
   "source": [
    "Создадим список из строк столбца 'purpose' и выведем его на экран."
   ]
  },
  {
   "cell_type": "code",
   "execution_count": 33,
   "metadata": {
    "scrolled": true
   },
   "outputs": [
    {
     "data": {
      "text/plain": [
       "['свадьба',\n",
       " 'на проведение свадьбы',\n",
       " 'сыграть свадьбу',\n",
       " 'операции с недвижимостью',\n",
       " 'покупка коммерческой недвижимости',\n",
       " 'операции с жильем',\n",
       " 'покупка жилья для сдачи',\n",
       " 'операции с коммерческой недвижимостью',\n",
       " 'жилье',\n",
       " 'покупка жилья',\n",
       " 'покупка жилья для семьи',\n",
       " 'строительство собственной недвижимости',\n",
       " 'недвижимость',\n",
       " 'операции со своей недвижимостью',\n",
       " 'строительство жилой недвижимости',\n",
       " 'покупка недвижимости',\n",
       " 'покупка своего жилья',\n",
       " 'строительство недвижимости',\n",
       " 'ремонт жилью',\n",
       " 'покупка жилой недвижимости',\n",
       " 'на покупку своего автомобиля',\n",
       " 'заняться высшим образованием',\n",
       " 'автомобиль',\n",
       " 'сделка с подержанным автомобилем',\n",
       " 'на покупку подержанного автомобиля',\n",
       " 'свой автомобиль',\n",
       " 'автомобили',\n",
       " 'на покупку автомобиля',\n",
       " 'приобретение автомобиля',\n",
       " 'дополнительное образование',\n",
       " 'сделка с автомобилем',\n",
       " 'высшее образование',\n",
       " 'образование',\n",
       " 'получение дополнительного образования',\n",
       " 'получение образования',\n",
       " 'профильное образование',\n",
       " 'получение высшего образования',\n",
       " 'заняться образованием']"
      ]
     },
     "execution_count": 33,
     "metadata": {},
     "output_type": "execute_result"
    }
   ],
   "source": [
    "purpose_names_list=purpose_names['purpose'].tolist()\n",
    "purpose_names_list"
   ]
  },
  {
   "cell_type": "markdown",
   "metadata": {},
   "source": [
    "Превратим список в строку. Напишем функцию ListToString(lst), которая использует функцию .join(). \n",
    "Передадим этой функции в качестве аргумента список purpose_names_list"
   ]
  },
  {
   "cell_type": "code",
   "execution_count": 34,
   "metadata": {
    "scrolled": true
   },
   "outputs": [
    {
     "data": {
      "text/plain": [
       "'свадьба на проведение свадьбы сыграть свадьбу операции с недвижимостью покупка коммерческой недвижимости операции с жильем покупка жилья для сдачи операции с коммерческой недвижимостью жилье покупка жилья покупка жилья для семьи строительство собственной недвижимости недвижимость операции со своей недвижимостью строительство жилой недвижимости покупка недвижимости покупка своего жилья строительство недвижимости ремонт жилью покупка жилой недвижимости на покупку своего автомобиля заняться высшим образованием автомобиль сделка с подержанным автомобилем на покупку подержанного автомобиля свой автомобиль автомобили на покупку автомобиля приобретение автомобиля дополнительное образование сделка с автомобилем высшее образование образование получение дополнительного образования получение образования профильное образование получение высшего образования заняться образованием'"
      ]
     },
     "execution_count": 34,
     "metadata": {},
     "output_type": "execute_result"
    }
   ],
   "source": [
    "def ListToString(lst):  \n",
    "    \n",
    "    # Создаём пустую строку \n",
    "    str1 = \" \" \n",
    "    \n",
    "    # Возвращаем строку\n",
    "    return (str1.join(lst)) \n",
    "\n",
    "purpose_names_string = ListToString(purpose_names_list) \n",
    "purpose_names_string"
   ]
  },
  {
   "cell_type": "markdown",
   "metadata": {},
   "source": [
    "Посчитаем число упоминаний лемматизированных слов в строке purpose_names_string."
   ]
  },
  {
   "cell_type": "code",
   "execution_count": 35,
   "metadata": {
    "scrolled": true
   },
   "outputs": [
    {
     "name": "stdout",
     "output_type": "stream",
     "text": [
      "Counter({' ': 96, 'недвижимость': 10, 'покупка': 10, 'автомобиль': 9, 'образование': 9, 'жилье': 7, 'с': 5, 'на': 4, 'операция': 4, 'свой': 4, 'свадьба': 3, 'строительство': 3, 'высокий': 3, 'получение': 3, 'коммерческий': 2, 'для': 2, 'жилой': 2, 'заниматься': 2, 'сделка': 2, 'подержать': 2, 'дополнительный': 2, 'проведение': 1, 'сыграть': 1, 'сдача': 1, 'семья': 1, 'собственный': 1, 'со': 1, 'ремонт': 1, 'приобретение': 1, 'профильный': 1, '\\n': 1})\n"
     ]
    }
   ],
   "source": [
    "from pymystem3 import Mystem\n",
    "m = Mystem()\n",
    "from collections import Counter\n",
    "\n",
    "lemmas = m.lemmatize(purpose_names_string)\n",
    "\n",
    "print(Counter(lemmas))"
   ]
  },
  {
   "cell_type": "markdown",
   "metadata": {},
   "source": [
    "Чаще всего упоминаются слова: недвижимость, покупка, автомобили, образование, жильё, свадьба. \n",
    "Так как слово 'покупка' используется вместе с другими словами, не будем выделять его в категорию. Слово 'жилье' будем интерпретировать, как ту же 'недвижимость'."
   ]
  },
  {
   "cell_type": "markdown",
   "metadata": {},
   "source": [
    "Создадим словарь с категориями целей займа, который пригодится нам в дальнейшем."
   ]
  },
  {
   "cell_type": "code",
   "execution_count": 36,
   "metadata": {
    "scrolled": false
   },
   "outputs": [
    {
     "data": {
      "text/html": [
       "<div>\n",
       "<style scoped>\n",
       "    .dataframe tbody tr th:only-of-type {\n",
       "        vertical-align: middle;\n",
       "    }\n",
       "\n",
       "    .dataframe tbody tr th {\n",
       "        vertical-align: top;\n",
       "    }\n",
       "\n",
       "    .dataframe thead th {\n",
       "        text-align: right;\n",
       "    }\n",
       "</style>\n",
       "<table border=\"1\" class=\"dataframe\">\n",
       "  <thead>\n",
       "    <tr style=\"text-align: right;\">\n",
       "      <th></th>\n",
       "      <th>target</th>\n",
       "      <th>purpose_id</th>\n",
       "    </tr>\n",
       "  </thead>\n",
       "  <tbody>\n",
       "    <tr>\n",
       "      <td>0</td>\n",
       "      <td>свадьба</td>\n",
       "      <td>1</td>\n",
       "    </tr>\n",
       "    <tr>\n",
       "      <td>1</td>\n",
       "      <td>недвижимость</td>\n",
       "      <td>2</td>\n",
       "    </tr>\n",
       "    <tr>\n",
       "      <td>2</td>\n",
       "      <td>автомобиль</td>\n",
       "      <td>3</td>\n",
       "    </tr>\n",
       "    <tr>\n",
       "      <td>3</td>\n",
       "      <td>образование</td>\n",
       "      <td>4</td>\n",
       "    </tr>\n",
       "  </tbody>\n",
       "</table>\n",
       "</div>"
      ],
      "text/plain": [
       "         target  purpose_id\n",
       "0       свадьба           1\n",
       "1  недвижимость           2\n",
       "2    автомобиль           3\n",
       "3   образование           4"
      ]
     },
     "execution_count": 36,
     "metadata": {},
     "output_type": "execute_result"
    }
   ],
   "source": [
    "lst = [\n",
    "    ['свадьба',1],\n",
    "    ['недвижимость',2],\n",
    "    ['автомобиль',3],\n",
    "    ['образование',4]\n",
    "]\n",
    "\n",
    "entries = ['target','purpose_id']\n",
    "\n",
    "purpose_dict = pd.DataFrame(data = lst, columns = entries)\n",
    "purpose_dict"
   ]
  },
  {
   "cell_type": "markdown",
   "metadata": {},
   "source": [
    "Напишем функцию purpose_cat(text), которая возвращает id категории в зависимости от строки, полученной при лемматизации.\n",
    "Сделаем проверку."
   ]
  },
  {
   "cell_type": "code",
   "execution_count": 37,
   "metadata": {
    "scrolled": true
   },
   "outputs": [
    {
     "data": {
      "text/plain": [
       "1"
      ]
     },
     "execution_count": 37,
     "metadata": {},
     "output_type": "execute_result"
    }
   ],
   "source": [
    "def purpose_cat(text):\n",
    "    if 'свадьба' in text:\n",
    "        cat = 1\n",
    "    elif  'недвижимость' in text:\n",
    "        cat = 2\n",
    "    elif  'жилье' in text:\n",
    "        cat = 2 \n",
    "    elif  'автомобиль' in text:\n",
    "        cat = 3\n",
    "    elif  'образование' in text:\n",
    "        cat = 4    \n",
    "    return cat\n",
    "purpose_cat(['свадьба', '\\n'])"
   ]
  },
  {
   "cell_type": "markdown",
   "metadata": {},
   "source": [
    "Напишем функцию lemmatization(lst), которая выводит на экран cписок списков лемм и возвращает результирующую категорию.\n",
    "Сделаем проверку."
   ]
  },
  {
   "cell_type": "code",
   "execution_count": 38,
   "metadata": {
    "scrolled": true
   },
   "outputs": [
    {
     "name": "stdout",
     "output_type": "stream",
     "text": [
      "['сыграть', ' ', 'свадьба', '\\n']\n"
     ]
    },
    {
     "data": {
      "text/plain": [
       "1"
      ]
     },
     "execution_count": 38,
     "metadata": {},
     "output_type": "execute_result"
    }
   ],
   "source": [
    "from pymystem3 import Mystem\n",
    "m = Mystem()\n",
    "\n",
    "def lemmatization(lst):\n",
    "    lemmas = m.lemmatize(lst)\n",
    "    sign = purpose_cat(lemmas)\n",
    "    print(lemmas)\n",
    "    return(sign)\n",
    "lemmatization(purpose_names['purpose'][2])"
   ]
  },
  {
   "cell_type": "markdown",
   "metadata": {},
   "source": [
    "Применим функцию lemmatization(lst) к столбцу датафрейма purpose_names 'purpose'. Результат перезапишем в столбец 'purpose_id'."
   ]
  },
  {
   "cell_type": "code",
   "execution_count": 39,
   "metadata": {
    "scrolled": true
   },
   "outputs": [
    {
     "name": "stdout",
     "output_type": "stream",
     "text": [
      "['свадьба', '\\n']\n",
      "['на', ' ', 'проведение', ' ', 'свадьба', '\\n']\n",
      "['сыграть', ' ', 'свадьба', '\\n']\n",
      "['операция', ' ', 'с', ' ', 'недвижимость', '\\n']\n",
      "['покупка', ' ', 'коммерческий', ' ', 'недвижимость', '\\n']\n",
      "['операция', ' ', 'с', ' ', 'жилье', '\\n']\n",
      "['покупка', ' ', 'жилье', ' ', 'для', ' ', 'сдача', '\\n']\n",
      "['операция', ' ', 'с', ' ', 'коммерческий', ' ', 'недвижимость', '\\n']\n",
      "['жилье', '\\n']\n",
      "['покупка', ' ', 'жилье', '\\n']\n",
      "['покупка', ' ', 'жилье', ' ', 'для', ' ', 'семья', '\\n']\n",
      "['строительство', ' ', 'собственный', ' ', 'недвижимость', '\\n']\n",
      "['недвижимость', '\\n']\n",
      "['операция', ' ', 'со', ' ', 'свой', ' ', 'недвижимость', '\\n']\n",
      "['строительство', ' ', 'жилой', ' ', 'недвижимость', '\\n']\n",
      "['покупка', ' ', 'недвижимость', '\\n']\n",
      "['покупка', ' ', 'свой', ' ', 'жилье', '\\n']\n",
      "['строительство', ' ', 'недвижимость', '\\n']\n",
      "['ремонт', ' ', 'жилье', '\\n']\n",
      "['покупка', ' ', 'жилой', ' ', 'недвижимость', '\\n']\n",
      "['на', ' ', 'покупка', ' ', 'свой', ' ', 'автомобиль', '\\n']\n",
      "['заниматься', ' ', 'высокий', ' ', 'образование', '\\n']\n",
      "['автомобиль', '\\n']\n",
      "['сделка', ' ', 'с', ' ', 'подержанный', ' ', 'автомобиль', '\\n']\n",
      "['на', ' ', 'покупка', ' ', 'подержать', ' ', 'автомобиль', '\\n']\n",
      "['свой', ' ', 'автомобиль', '\\n']\n",
      "['автомобиль', '\\n']\n",
      "['на', ' ', 'покупка', ' ', 'автомобиль', '\\n']\n",
      "['приобретение', ' ', 'автомобиль', '\\n']\n",
      "['дополнительный', ' ', 'образование', '\\n']\n",
      "['сделка', ' ', 'с', ' ', 'автомобиль', '\\n']\n",
      "['высокий', ' ', 'образование', '\\n']\n",
      "['образование', '\\n']\n",
      "['получение', ' ', 'дополнительный', ' ', 'образование', '\\n']\n",
      "['получение', ' ', 'образование', '\\n']\n",
      "['профильный', ' ', 'образование', '\\n']\n",
      "['получение', ' ', 'высокий', ' ', 'образование', '\\n']\n",
      "['заниматься', ' ', 'образование', '\\n']\n"
     ]
    }
   ],
   "source": [
    "try:\n",
    "    purpose_names['purpose_id'] = purpose_names['purpose'].apply(lemmatization)\n",
    "except:\n",
    "    print()\n",
    "    print('ERROR: Дополни список в  purpose_cat(value)')"
   ]
  },
  {
   "cell_type": "markdown",
   "metadata": {},
   "source": [
    "Выведем таблицу purpose_names."
   ]
  },
  {
   "cell_type": "code",
   "execution_count": 40,
   "metadata": {},
   "outputs": [
    {
     "data": {
      "text/html": [
       "<div>\n",
       "<style scoped>\n",
       "    .dataframe tbody tr th:only-of-type {\n",
       "        vertical-align: middle;\n",
       "    }\n",
       "\n",
       "    .dataframe tbody tr th {\n",
       "        vertical-align: top;\n",
       "    }\n",
       "\n",
       "    .dataframe thead th {\n",
       "        text-align: right;\n",
       "    }\n",
       "</style>\n",
       "<table border=\"1\" class=\"dataframe\">\n",
       "  <thead>\n",
       "    <tr style=\"text-align: right;\">\n",
       "      <th></th>\n",
       "      <th>purpose</th>\n",
       "      <th>purpose_id</th>\n",
       "    </tr>\n",
       "  </thead>\n",
       "  <tbody>\n",
       "    <tr>\n",
       "      <td>0</td>\n",
       "      <td>свадьба</td>\n",
       "      <td>1</td>\n",
       "    </tr>\n",
       "    <tr>\n",
       "      <td>1</td>\n",
       "      <td>на проведение свадьбы</td>\n",
       "      <td>1</td>\n",
       "    </tr>\n",
       "    <tr>\n",
       "      <td>2</td>\n",
       "      <td>сыграть свадьбу</td>\n",
       "      <td>1</td>\n",
       "    </tr>\n",
       "    <tr>\n",
       "      <td>3</td>\n",
       "      <td>операции с недвижимостью</td>\n",
       "      <td>2</td>\n",
       "    </tr>\n",
       "    <tr>\n",
       "      <td>4</td>\n",
       "      <td>покупка коммерческой недвижимости</td>\n",
       "      <td>2</td>\n",
       "    </tr>\n",
       "    <tr>\n",
       "      <td>5</td>\n",
       "      <td>операции с жильем</td>\n",
       "      <td>2</td>\n",
       "    </tr>\n",
       "    <tr>\n",
       "      <td>6</td>\n",
       "      <td>покупка жилья для сдачи</td>\n",
       "      <td>2</td>\n",
       "    </tr>\n",
       "    <tr>\n",
       "      <td>7</td>\n",
       "      <td>операции с коммерческой недвижимостью</td>\n",
       "      <td>2</td>\n",
       "    </tr>\n",
       "    <tr>\n",
       "      <td>8</td>\n",
       "      <td>жилье</td>\n",
       "      <td>2</td>\n",
       "    </tr>\n",
       "    <tr>\n",
       "      <td>9</td>\n",
       "      <td>покупка жилья</td>\n",
       "      <td>2</td>\n",
       "    </tr>\n",
       "    <tr>\n",
       "      <td>10</td>\n",
       "      <td>покупка жилья для семьи</td>\n",
       "      <td>2</td>\n",
       "    </tr>\n",
       "    <tr>\n",
       "      <td>11</td>\n",
       "      <td>строительство собственной недвижимости</td>\n",
       "      <td>2</td>\n",
       "    </tr>\n",
       "    <tr>\n",
       "      <td>12</td>\n",
       "      <td>недвижимость</td>\n",
       "      <td>2</td>\n",
       "    </tr>\n",
       "    <tr>\n",
       "      <td>13</td>\n",
       "      <td>операции со своей недвижимостью</td>\n",
       "      <td>2</td>\n",
       "    </tr>\n",
       "    <tr>\n",
       "      <td>14</td>\n",
       "      <td>строительство жилой недвижимости</td>\n",
       "      <td>2</td>\n",
       "    </tr>\n",
       "    <tr>\n",
       "      <td>15</td>\n",
       "      <td>покупка недвижимости</td>\n",
       "      <td>2</td>\n",
       "    </tr>\n",
       "    <tr>\n",
       "      <td>16</td>\n",
       "      <td>покупка своего жилья</td>\n",
       "      <td>2</td>\n",
       "    </tr>\n",
       "    <tr>\n",
       "      <td>17</td>\n",
       "      <td>строительство недвижимости</td>\n",
       "      <td>2</td>\n",
       "    </tr>\n",
       "    <tr>\n",
       "      <td>18</td>\n",
       "      <td>ремонт жилью</td>\n",
       "      <td>2</td>\n",
       "    </tr>\n",
       "    <tr>\n",
       "      <td>19</td>\n",
       "      <td>покупка жилой недвижимости</td>\n",
       "      <td>2</td>\n",
       "    </tr>\n",
       "    <tr>\n",
       "      <td>20</td>\n",
       "      <td>на покупку своего автомобиля</td>\n",
       "      <td>3</td>\n",
       "    </tr>\n",
       "    <tr>\n",
       "      <td>21</td>\n",
       "      <td>заняться высшим образованием</td>\n",
       "      <td>4</td>\n",
       "    </tr>\n",
       "    <tr>\n",
       "      <td>22</td>\n",
       "      <td>автомобиль</td>\n",
       "      <td>3</td>\n",
       "    </tr>\n",
       "    <tr>\n",
       "      <td>23</td>\n",
       "      <td>сделка с подержанным автомобилем</td>\n",
       "      <td>3</td>\n",
       "    </tr>\n",
       "    <tr>\n",
       "      <td>24</td>\n",
       "      <td>на покупку подержанного автомобиля</td>\n",
       "      <td>3</td>\n",
       "    </tr>\n",
       "    <tr>\n",
       "      <td>25</td>\n",
       "      <td>свой автомобиль</td>\n",
       "      <td>3</td>\n",
       "    </tr>\n",
       "    <tr>\n",
       "      <td>26</td>\n",
       "      <td>автомобили</td>\n",
       "      <td>3</td>\n",
       "    </tr>\n",
       "    <tr>\n",
       "      <td>27</td>\n",
       "      <td>на покупку автомобиля</td>\n",
       "      <td>3</td>\n",
       "    </tr>\n",
       "    <tr>\n",
       "      <td>28</td>\n",
       "      <td>приобретение автомобиля</td>\n",
       "      <td>3</td>\n",
       "    </tr>\n",
       "    <tr>\n",
       "      <td>29</td>\n",
       "      <td>дополнительное образование</td>\n",
       "      <td>4</td>\n",
       "    </tr>\n",
       "    <tr>\n",
       "      <td>30</td>\n",
       "      <td>сделка с автомобилем</td>\n",
       "      <td>3</td>\n",
       "    </tr>\n",
       "    <tr>\n",
       "      <td>31</td>\n",
       "      <td>высшее образование</td>\n",
       "      <td>4</td>\n",
       "    </tr>\n",
       "    <tr>\n",
       "      <td>32</td>\n",
       "      <td>образование</td>\n",
       "      <td>4</td>\n",
       "    </tr>\n",
       "    <tr>\n",
       "      <td>33</td>\n",
       "      <td>получение дополнительного образования</td>\n",
       "      <td>4</td>\n",
       "    </tr>\n",
       "    <tr>\n",
       "      <td>34</td>\n",
       "      <td>получение образования</td>\n",
       "      <td>4</td>\n",
       "    </tr>\n",
       "    <tr>\n",
       "      <td>35</td>\n",
       "      <td>профильное образование</td>\n",
       "      <td>4</td>\n",
       "    </tr>\n",
       "    <tr>\n",
       "      <td>36</td>\n",
       "      <td>получение высшего образования</td>\n",
       "      <td>4</td>\n",
       "    </tr>\n",
       "    <tr>\n",
       "      <td>37</td>\n",
       "      <td>заняться образованием</td>\n",
       "      <td>4</td>\n",
       "    </tr>\n",
       "  </tbody>\n",
       "</table>\n",
       "</div>"
      ],
      "text/plain": [
       "                                   purpose  purpose_id\n",
       "0                                  свадьба           1\n",
       "1                    на проведение свадьбы           1\n",
       "2                          сыграть свадьбу           1\n",
       "3                 операции с недвижимостью           2\n",
       "4        покупка коммерческой недвижимости           2\n",
       "5                        операции с жильем           2\n",
       "6                  покупка жилья для сдачи           2\n",
       "7    операции с коммерческой недвижимостью           2\n",
       "8                                    жилье           2\n",
       "9                            покупка жилья           2\n",
       "10                 покупка жилья для семьи           2\n",
       "11  строительство собственной недвижимости           2\n",
       "12                            недвижимость           2\n",
       "13         операции со своей недвижимостью           2\n",
       "14        строительство жилой недвижимости           2\n",
       "15                    покупка недвижимости           2\n",
       "16                    покупка своего жилья           2\n",
       "17              строительство недвижимости           2\n",
       "18                            ремонт жилью           2\n",
       "19              покупка жилой недвижимости           2\n",
       "20            на покупку своего автомобиля           3\n",
       "21            заняться высшим образованием           4\n",
       "22                              автомобиль           3\n",
       "23        сделка с подержанным автомобилем           3\n",
       "24      на покупку подержанного автомобиля           3\n",
       "25                         свой автомобиль           3\n",
       "26                              автомобили           3\n",
       "27                   на покупку автомобиля           3\n",
       "28                 приобретение автомобиля           3\n",
       "29              дополнительное образование           4\n",
       "30                    сделка с автомобилем           3\n",
       "31                      высшее образование           4\n",
       "32                             образование           4\n",
       "33   получение дополнительного образования           4\n",
       "34                   получение образования           4\n",
       "35                  профильное образование           4\n",
       "36           получение высшего образования           4\n",
       "37                   заняться образованием           4"
      ]
     },
     "execution_count": 40,
     "metadata": {},
     "output_type": "execute_result"
    }
   ],
   "source": [
    "purpose_names"
   ]
  },
  {
   "cell_type": "markdown",
   "metadata": {},
   "source": [
    "Объединим таблицу df с таблицей purpose_names."
   ]
  },
  {
   "cell_type": "code",
   "execution_count": 41,
   "metadata": {
    "scrolled": false
   },
   "outputs": [
    {
     "data": {
      "text/html": [
       "<div>\n",
       "<style scoped>\n",
       "    .dataframe tbody tr th:only-of-type {\n",
       "        vertical-align: middle;\n",
       "    }\n",
       "\n",
       "    .dataframe tbody tr th {\n",
       "        vertical-align: top;\n",
       "    }\n",
       "\n",
       "    .dataframe thead th {\n",
       "        text-align: right;\n",
       "    }\n",
       "</style>\n",
       "<table border=\"1\" class=\"dataframe\">\n",
       "  <thead>\n",
       "    <tr style=\"text-align: right;\">\n",
       "      <th></th>\n",
       "      <th>children</th>\n",
       "      <th>days_employed</th>\n",
       "      <th>dob_years</th>\n",
       "      <th>education</th>\n",
       "      <th>education_id</th>\n",
       "      <th>family_status</th>\n",
       "      <th>family_status_id</th>\n",
       "      <th>gender</th>\n",
       "      <th>income_type</th>\n",
       "      <th>debt</th>\n",
       "      <th>total_income</th>\n",
       "      <th>purpose</th>\n",
       "      <th>employment_info</th>\n",
       "      <th>purpose_id</th>\n",
       "    </tr>\n",
       "  </thead>\n",
       "  <tbody>\n",
       "    <tr>\n",
       "      <td>0</td>\n",
       "      <td>1</td>\n",
       "      <td>8437</td>\n",
       "      <td>42</td>\n",
       "      <td>высшее</td>\n",
       "      <td>0</td>\n",
       "      <td>женат / замужем</td>\n",
       "      <td>0</td>\n",
       "      <td>F</td>\n",
       "      <td>сотрудник</td>\n",
       "      <td>0</td>\n",
       "      <td>253875</td>\n",
       "      <td>покупка жилья</td>\n",
       "      <td>available</td>\n",
       "      <td>2</td>\n",
       "    </tr>\n",
       "    <tr>\n",
       "      <td>1</td>\n",
       "      <td>1</td>\n",
       "      <td>4024</td>\n",
       "      <td>36</td>\n",
       "      <td>среднее</td>\n",
       "      <td>1</td>\n",
       "      <td>женат / замужем</td>\n",
       "      <td>0</td>\n",
       "      <td>F</td>\n",
       "      <td>сотрудник</td>\n",
       "      <td>0</td>\n",
       "      <td>112080</td>\n",
       "      <td>приобретение автомобиля</td>\n",
       "      <td>available</td>\n",
       "      <td>3</td>\n",
       "    </tr>\n",
       "    <tr>\n",
       "      <td>2</td>\n",
       "      <td>0</td>\n",
       "      <td>5623</td>\n",
       "      <td>33</td>\n",
       "      <td>среднее</td>\n",
       "      <td>1</td>\n",
       "      <td>женат / замужем</td>\n",
       "      <td>0</td>\n",
       "      <td>M</td>\n",
       "      <td>сотрудник</td>\n",
       "      <td>0</td>\n",
       "      <td>145885</td>\n",
       "      <td>покупка жилья</td>\n",
       "      <td>available</td>\n",
       "      <td>2</td>\n",
       "    </tr>\n",
       "    <tr>\n",
       "      <td>3</td>\n",
       "      <td>3</td>\n",
       "      <td>4124</td>\n",
       "      <td>32</td>\n",
       "      <td>среднее</td>\n",
       "      <td>1</td>\n",
       "      <td>женат / замужем</td>\n",
       "      <td>0</td>\n",
       "      <td>M</td>\n",
       "      <td>сотрудник</td>\n",
       "      <td>0</td>\n",
       "      <td>267628</td>\n",
       "      <td>дополнительное образование</td>\n",
       "      <td>available</td>\n",
       "      <td>4</td>\n",
       "    </tr>\n",
       "    <tr>\n",
       "      <td>4</td>\n",
       "      <td>0</td>\n",
       "      <td>340266</td>\n",
       "      <td>53</td>\n",
       "      <td>среднее</td>\n",
       "      <td>1</td>\n",
       "      <td>гражданский брак</td>\n",
       "      <td>1</td>\n",
       "      <td>F</td>\n",
       "      <td>пенсионер</td>\n",
       "      <td>0</td>\n",
       "      <td>158616</td>\n",
       "      <td>сыграть свадьбу</td>\n",
       "      <td>available</td>\n",
       "      <td>1</td>\n",
       "    </tr>\n",
       "  </tbody>\n",
       "</table>\n",
       "</div>"
      ],
      "text/plain": [
       "   children  days_employed  dob_years education  education_id  \\\n",
       "0         1           8437         42    высшее             0   \n",
       "1         1           4024         36   среднее             1   \n",
       "2         0           5623         33   среднее             1   \n",
       "3         3           4124         32   среднее             1   \n",
       "4         0         340266         53   среднее             1   \n",
       "\n",
       "      family_status  family_status_id gender income_type  debt  total_income  \\\n",
       "0   женат / замужем                 0      F   сотрудник     0        253875   \n",
       "1   женат / замужем                 0      F   сотрудник     0        112080   \n",
       "2   женат / замужем                 0      M   сотрудник     0        145885   \n",
       "3   женат / замужем                 0      M   сотрудник     0        267628   \n",
       "4  гражданский брак                 1      F   пенсионер     0        158616   \n",
       "\n",
       "                      purpose employment_info  purpose_id  \n",
       "0               покупка жилья       available           2  \n",
       "1     приобретение автомобиля       available           3  \n",
       "2               покупка жилья       available           2  \n",
       "3  дополнительное образование       available           4  \n",
       "4             сыграть свадьбу       available           1  "
      ]
     },
     "execution_count": 41,
     "metadata": {},
     "output_type": "execute_result"
    }
   ],
   "source": [
    "df = df.merge(purpose_names, on='purpose', how='left')\n",
    "df.head()"
   ]
  },
  {
   "cell_type": "markdown",
   "metadata": {},
   "source": [
    "Оценим, какого возраста заёмщиков больше всего."
   ]
  },
  {
   "cell_type": "code",
   "execution_count": 42,
   "metadata": {
    "scrolled": true
   },
   "outputs": [
    {
     "data": {
      "text/plain": [
       "35    616\n",
       "40    607\n",
       "41    605\n",
       "34    601\n",
       "38    597\n",
       "42    596\n",
       "33    581\n",
       "39    572\n",
       "31    559\n",
       "36    554\n",
       "44    545\n",
       "29    544\n",
       "30    537\n",
       "48    536\n",
       "37    536\n",
       "50    513\n",
       "43    512\n",
       "32    509\n",
       "49    508\n",
       "28    503\n",
       "45    496\n",
       "27    493\n",
       "52    484\n",
       "56    483\n",
       "47    477\n",
       "54    476\n",
       "46    472\n",
       "53    459\n",
       "57    456\n",
       "58    454\n",
       "51    446\n",
       "55    443\n",
       "59    443\n",
       "26    408\n",
       "60    374\n",
       "25    357\n",
       "61    354\n",
       "62    348\n",
       "63    269\n",
       "24    264\n",
       "64    260\n",
       "23    252\n",
       "65    193\n",
       "22    183\n",
       "66    182\n",
       "67    167\n",
       "21    111\n",
       "0     101\n",
       "68     99\n",
       "69     85\n",
       "70     65\n",
       "71     56\n",
       "20     51\n",
       "72     33\n",
       "19     14\n",
       "73      8\n",
       "74      6\n",
       "75      1\n",
       "Name: dob_years, dtype: int64"
      ]
     },
     "execution_count": 42,
     "metadata": {},
     "output_type": "execute_result"
    }
   ],
   "source": [
    "df['dob_years'].value_counts()"
   ]
  },
  {
   "cell_type": "markdown",
   "metadata": {},
   "source": [
    "Категоризируем данные о возрасте клиентов так:\n",
    "- Клиенты до 35 попадают в категорию «молодые»;\n",
    "- Клиенты от 35 до 64 лет — категория «взрослые»;\n",
    "- Клиенты старше 65 лет принадлежат к категории «пожилые»."
   ]
  },
  {
   "cell_type": "markdown",
   "metadata": {},
   "source": [
    "Напишем функцию age_group. Сделаем проверку"
   ]
  },
  {
   "cell_type": "code",
   "execution_count": 43,
   "metadata": {},
   "outputs": [
    {
     "name": "stdout",
     "output_type": "stream",
     "text": [
      "1\n",
      "2\n",
      "3\n"
     ]
    }
   ],
   "source": [
    "def age_group(age):\n",
    "        \"\"\"\n",
    "        Возвращает id возрастной группы по значению возраста age, используя правила:\n",
    "        - 'молодые' при значении age <= 35 лет\n",
    "        - 'взрослые' при значениии age более 35 и менее 64, включая 64\n",
    "        - 'пожилые' во всех остальных случаях\n",
    "        \"\"\"\n",
    "\n",
    "        if age <= 35:\n",
    "                return  1 #'молодые'\n",
    "        if age <= 64:\n",
    "                return  2 #'взрослые'\n",
    "        return 3 #'пожилые' \n",
    "print(age_group(35))\n",
    "print(age_group(36))\n",
    "print(age_group(65))"
   ]
  },
  {
   "cell_type": "code",
   "execution_count": 44,
   "metadata": {
    "scrolled": true
   },
   "outputs": [
    {
     "data": {
      "text/html": [
       "<div>\n",
       "<style scoped>\n",
       "    .dataframe tbody tr th:only-of-type {\n",
       "        vertical-align: middle;\n",
       "    }\n",
       "\n",
       "    .dataframe tbody tr th {\n",
       "        vertical-align: top;\n",
       "    }\n",
       "\n",
       "    .dataframe thead th {\n",
       "        text-align: right;\n",
       "    }\n",
       "</style>\n",
       "<table border=\"1\" class=\"dataframe\">\n",
       "  <thead>\n",
       "    <tr style=\"text-align: right;\">\n",
       "      <th></th>\n",
       "      <th>age_group</th>\n",
       "      <th>age_group_id</th>\n",
       "    </tr>\n",
       "  </thead>\n",
       "  <tbody>\n",
       "    <tr>\n",
       "      <td>0</td>\n",
       "      <td>молодые</td>\n",
       "      <td>1</td>\n",
       "    </tr>\n",
       "    <tr>\n",
       "      <td>1</td>\n",
       "      <td>взрослые</td>\n",
       "      <td>2</td>\n",
       "    </tr>\n",
       "    <tr>\n",
       "      <td>2</td>\n",
       "      <td>пожилые</td>\n",
       "      <td>3</td>\n",
       "    </tr>\n",
       "  </tbody>\n",
       "</table>\n",
       "</div>"
      ],
      "text/plain": [
       "  age_group  age_group_id\n",
       "0   молодые             1\n",
       "1  взрослые             2\n",
       "2   пожилые             3"
      ]
     },
     "execution_count": 44,
     "metadata": {},
     "output_type": "execute_result"
    }
   ],
   "source": [
    "lst = [\n",
    "    ['молодые',1],\n",
    "    ['взрослые',2],\n",
    "    ['пожилые',3]\n",
    "]\n",
    "\n",
    "entries = ['age_group','age_group_id']\n",
    "\n",
    "age_group_dict = pd.DataFrame(data = lst, columns = entries)\n",
    "age_group_dict"
   ]
  },
  {
   "cell_type": "markdown",
   "metadata": {},
   "source": [
    "Категоризируем данные о доходе клиентов так:\n",
    "- Отношение total_income/total_income_median < 0.5 попадает в категорию «низкий»;\n",
    "- Отношение total_income/total_income_median < 1.5 попадают в категорию «средний»;\n",
    "- Отношение total_income/total_income_median >= 1.5 попадают в категорию «высокий»;"
   ]
  },
  {
   "cell_type": "markdown",
   "metadata": {},
   "source": [
    "Напишем функцию income_group. Сделаем проверку"
   ]
  },
  {
   "cell_type": "code",
   "execution_count": 45,
   "metadata": {},
   "outputs": [
    {
     "name": "stdout",
     "output_type": "stream",
     "text": [
      "1\n",
      "2\n",
      "3\n"
     ]
    }
   ],
   "source": [
    "def income_group(income):\n",
    "\n",
    "        if income/total_income_median < 0.5:\n",
    "                return  1 #'низкий'\n",
    "        if income/total_income_median < 1.5:\n",
    "                return  2 #'средний'\n",
    "        return 3 #'высокий' \n",
    "print(income_group(60000))\n",
    "print(income_group(100000))\n",
    "print(income_group(300000))"
   ]
  },
  {
   "cell_type": "code",
   "execution_count": 46,
   "metadata": {},
   "outputs": [
    {
     "data": {
      "text/html": [
       "<div>\n",
       "<style scoped>\n",
       "    .dataframe tbody tr th:only-of-type {\n",
       "        vertical-align: middle;\n",
       "    }\n",
       "\n",
       "    .dataframe tbody tr th {\n",
       "        vertical-align: top;\n",
       "    }\n",
       "\n",
       "    .dataframe thead th {\n",
       "        text-align: right;\n",
       "    }\n",
       "</style>\n",
       "<table border=\"1\" class=\"dataframe\">\n",
       "  <thead>\n",
       "    <tr style=\"text-align: right;\">\n",
       "      <th></th>\n",
       "      <th>income_group</th>\n",
       "      <th>income_group_id</th>\n",
       "    </tr>\n",
       "  </thead>\n",
       "  <tbody>\n",
       "    <tr>\n",
       "      <td>0</td>\n",
       "      <td>низкий</td>\n",
       "      <td>1</td>\n",
       "    </tr>\n",
       "    <tr>\n",
       "      <td>1</td>\n",
       "      <td>средний</td>\n",
       "      <td>2</td>\n",
       "    </tr>\n",
       "    <tr>\n",
       "      <td>2</td>\n",
       "      <td>высокий</td>\n",
       "      <td>3</td>\n",
       "    </tr>\n",
       "  </tbody>\n",
       "</table>\n",
       "</div>"
      ],
      "text/plain": [
       "  income_group  income_group_id\n",
       "0       низкий                1\n",
       "1      средний                2\n",
       "2      высокий                3"
      ]
     },
     "execution_count": 46,
     "metadata": {},
     "output_type": "execute_result"
    }
   ],
   "source": [
    "lst = [\n",
    "    ['низкий',1],\n",
    "    ['средний',2],\n",
    "    ['высокий',3]\n",
    "]\n",
    "\n",
    "entries = ['income_group','income_group_id']\n",
    "\n",
    "income_group_dict = pd.DataFrame(data = lst, columns = entries)\n",
    "income_group_dict"
   ]
  },
  {
   "cell_type": "markdown",
   "metadata": {},
   "source": [
    "Создадим в таблице df колонку 'age_group'. Вызовем метод apply() для колонки 'dob_years' и применим к нему функцию age_group.\n",
    "Создадим в таблице df колонку 'income_group_id'. Вызовем метод apply() для колонки 'total_income' и применим к нему функцию income_group.\n",
    "Выведем верхние 5 строк таблицы df."
   ]
  },
  {
   "cell_type": "code",
   "execution_count": 47,
   "metadata": {
    "scrolled": false
   },
   "outputs": [
    {
     "data": {
      "text/html": [
       "<div>\n",
       "<style scoped>\n",
       "    .dataframe tbody tr th:only-of-type {\n",
       "        vertical-align: middle;\n",
       "    }\n",
       "\n",
       "    .dataframe tbody tr th {\n",
       "        vertical-align: top;\n",
       "    }\n",
       "\n",
       "    .dataframe thead th {\n",
       "        text-align: right;\n",
       "    }\n",
       "</style>\n",
       "<table border=\"1\" class=\"dataframe\">\n",
       "  <thead>\n",
       "    <tr style=\"text-align: right;\">\n",
       "      <th></th>\n",
       "      <th>children</th>\n",
       "      <th>days_employed</th>\n",
       "      <th>dob_years</th>\n",
       "      <th>education</th>\n",
       "      <th>education_id</th>\n",
       "      <th>family_status</th>\n",
       "      <th>family_status_id</th>\n",
       "      <th>gender</th>\n",
       "      <th>income_type</th>\n",
       "      <th>debt</th>\n",
       "      <th>total_income</th>\n",
       "      <th>purpose</th>\n",
       "      <th>employment_info</th>\n",
       "      <th>purpose_id</th>\n",
       "      <th>age_group_id</th>\n",
       "      <th>income_group_id</th>\n",
       "    </tr>\n",
       "  </thead>\n",
       "  <tbody>\n",
       "    <tr>\n",
       "      <td>0</td>\n",
       "      <td>1</td>\n",
       "      <td>8437</td>\n",
       "      <td>42</td>\n",
       "      <td>высшее</td>\n",
       "      <td>0</td>\n",
       "      <td>женат / замужем</td>\n",
       "      <td>0</td>\n",
       "      <td>F</td>\n",
       "      <td>сотрудник</td>\n",
       "      <td>0</td>\n",
       "      <td>253875</td>\n",
       "      <td>покупка жилья</td>\n",
       "      <td>available</td>\n",
       "      <td>2</td>\n",
       "      <td>3</td>\n",
       "      <td>3</td>\n",
       "    </tr>\n",
       "    <tr>\n",
       "      <td>1</td>\n",
       "      <td>1</td>\n",
       "      <td>4024</td>\n",
       "      <td>36</td>\n",
       "      <td>среднее</td>\n",
       "      <td>1</td>\n",
       "      <td>женат / замужем</td>\n",
       "      <td>0</td>\n",
       "      <td>F</td>\n",
       "      <td>сотрудник</td>\n",
       "      <td>0</td>\n",
       "      <td>112080</td>\n",
       "      <td>приобретение автомобиля</td>\n",
       "      <td>available</td>\n",
       "      <td>3</td>\n",
       "      <td>3</td>\n",
       "      <td>2</td>\n",
       "    </tr>\n",
       "    <tr>\n",
       "      <td>2</td>\n",
       "      <td>0</td>\n",
       "      <td>5623</td>\n",
       "      <td>33</td>\n",
       "      <td>среднее</td>\n",
       "      <td>1</td>\n",
       "      <td>женат / замужем</td>\n",
       "      <td>0</td>\n",
       "      <td>M</td>\n",
       "      <td>сотрудник</td>\n",
       "      <td>0</td>\n",
       "      <td>145885</td>\n",
       "      <td>покупка жилья</td>\n",
       "      <td>available</td>\n",
       "      <td>2</td>\n",
       "      <td>3</td>\n",
       "      <td>2</td>\n",
       "    </tr>\n",
       "    <tr>\n",
       "      <td>3</td>\n",
       "      <td>3</td>\n",
       "      <td>4124</td>\n",
       "      <td>32</td>\n",
       "      <td>среднее</td>\n",
       "      <td>1</td>\n",
       "      <td>женат / замужем</td>\n",
       "      <td>0</td>\n",
       "      <td>M</td>\n",
       "      <td>сотрудник</td>\n",
       "      <td>0</td>\n",
       "      <td>267628</td>\n",
       "      <td>дополнительное образование</td>\n",
       "      <td>available</td>\n",
       "      <td>4</td>\n",
       "      <td>3</td>\n",
       "      <td>3</td>\n",
       "    </tr>\n",
       "    <tr>\n",
       "      <td>4</td>\n",
       "      <td>0</td>\n",
       "      <td>340266</td>\n",
       "      <td>53</td>\n",
       "      <td>среднее</td>\n",
       "      <td>1</td>\n",
       "      <td>гражданский брак</td>\n",
       "      <td>1</td>\n",
       "      <td>F</td>\n",
       "      <td>пенсионер</td>\n",
       "      <td>0</td>\n",
       "      <td>158616</td>\n",
       "      <td>сыграть свадьбу</td>\n",
       "      <td>available</td>\n",
       "      <td>1</td>\n",
       "      <td>3</td>\n",
       "      <td>2</td>\n",
       "    </tr>\n",
       "  </tbody>\n",
       "</table>\n",
       "</div>"
      ],
      "text/plain": [
       "   children  days_employed  dob_years education  education_id  \\\n",
       "0         1           8437         42    высшее             0   \n",
       "1         1           4024         36   среднее             1   \n",
       "2         0           5623         33   среднее             1   \n",
       "3         3           4124         32   среднее             1   \n",
       "4         0         340266         53   среднее             1   \n",
       "\n",
       "      family_status  family_status_id gender income_type  debt  total_income  \\\n",
       "0   женат / замужем                 0      F   сотрудник     0        253875   \n",
       "1   женат / замужем                 0      F   сотрудник     0        112080   \n",
       "2   женат / замужем                 0      M   сотрудник     0        145885   \n",
       "3   женат / замужем                 0      M   сотрудник     0        267628   \n",
       "4  гражданский брак                 1      F   пенсионер     0        158616   \n",
       "\n",
       "                      purpose employment_info  purpose_id  age_group_id  \\\n",
       "0               покупка жилья       available           2             3   \n",
       "1     приобретение автомобиля       available           3             3   \n",
       "2               покупка жилья       available           2             3   \n",
       "3  дополнительное образование       available           4             3   \n",
       "4             сыграть свадьбу       available           1             3   \n",
       "\n",
       "   income_group_id  \n",
       "0                3  \n",
       "1                2  \n",
       "2                2  \n",
       "3                3  \n",
       "4                2  "
      ]
     },
     "execution_count": 47,
     "metadata": {},
     "output_type": "execute_result"
    }
   ],
   "source": [
    "df['age_group_id'] = df['total_income'].apply(age_group)\n",
    "df['income_group_id'] = df['total_income'].apply(income_group)\n",
    "df.head()"
   ]
  },
  {
   "cell_type": "markdown",
   "metadata": {},
   "source": [
    "Результирующая таблица, с которой можно работать и делать какие-то выводы, получена."
   ]
  },
  {
   "cell_type": "markdown",
   "metadata": {},
   "source": [
    "______________________"
   ]
  },
  {
   "cell_type": "markdown",
   "metadata": {},
   "source": [
    "## Категоризация данных"
   ]
  },
  {
   "cell_type": "markdown",
   "metadata": {},
   "source": [
    "Далее для удобства представления результатов выделим из таблицы основные данные и созадим несколько словарей."
   ]
  },
  {
   "cell_type": "markdown",
   "metadata": {},
   "source": [
    "- Финальную таблицу с данными назовем ***data***:"
   ]
  },
  {
   "cell_type": "code",
   "execution_count": 48,
   "metadata": {
    "scrolled": true
   },
   "outputs": [
    {
     "data": {
      "text/html": [
       "<div>\n",
       "<style scoped>\n",
       "    .dataframe tbody tr th:only-of-type {\n",
       "        vertical-align: middle;\n",
       "    }\n",
       "\n",
       "    .dataframe tbody tr th {\n",
       "        vertical-align: top;\n",
       "    }\n",
       "\n",
       "    .dataframe thead th {\n",
       "        text-align: right;\n",
       "    }\n",
       "</style>\n",
       "<table border=\"1\" class=\"dataframe\">\n",
       "  <thead>\n",
       "    <tr style=\"text-align: right;\">\n",
       "      <th></th>\n",
       "      <th>children</th>\n",
       "      <th>dob_years</th>\n",
       "      <th>education_id</th>\n",
       "      <th>family_status_id</th>\n",
       "      <th>age_group_id</th>\n",
       "      <th>gender</th>\n",
       "      <th>total_income</th>\n",
       "      <th>purpose_id</th>\n",
       "      <th>income_group_id</th>\n",
       "      <th>debt</th>\n",
       "    </tr>\n",
       "  </thead>\n",
       "  <tbody>\n",
       "    <tr>\n",
       "      <td>0</td>\n",
       "      <td>1</td>\n",
       "      <td>42</td>\n",
       "      <td>0</td>\n",
       "      <td>0</td>\n",
       "      <td>3</td>\n",
       "      <td>F</td>\n",
       "      <td>253875</td>\n",
       "      <td>2</td>\n",
       "      <td>3</td>\n",
       "      <td>0</td>\n",
       "    </tr>\n",
       "    <tr>\n",
       "      <td>1</td>\n",
       "      <td>1</td>\n",
       "      <td>36</td>\n",
       "      <td>1</td>\n",
       "      <td>0</td>\n",
       "      <td>3</td>\n",
       "      <td>F</td>\n",
       "      <td>112080</td>\n",
       "      <td>3</td>\n",
       "      <td>2</td>\n",
       "      <td>0</td>\n",
       "    </tr>\n",
       "    <tr>\n",
       "      <td>2</td>\n",
       "      <td>0</td>\n",
       "      <td>33</td>\n",
       "      <td>1</td>\n",
       "      <td>0</td>\n",
       "      <td>3</td>\n",
       "      <td>M</td>\n",
       "      <td>145885</td>\n",
       "      <td>2</td>\n",
       "      <td>2</td>\n",
       "      <td>0</td>\n",
       "    </tr>\n",
       "    <tr>\n",
       "      <td>3</td>\n",
       "      <td>3</td>\n",
       "      <td>32</td>\n",
       "      <td>1</td>\n",
       "      <td>0</td>\n",
       "      <td>3</td>\n",
       "      <td>M</td>\n",
       "      <td>267628</td>\n",
       "      <td>4</td>\n",
       "      <td>3</td>\n",
       "      <td>0</td>\n",
       "    </tr>\n",
       "    <tr>\n",
       "      <td>4</td>\n",
       "      <td>0</td>\n",
       "      <td>53</td>\n",
       "      <td>1</td>\n",
       "      <td>1</td>\n",
       "      <td>3</td>\n",
       "      <td>F</td>\n",
       "      <td>158616</td>\n",
       "      <td>1</td>\n",
       "      <td>2</td>\n",
       "      <td>0</td>\n",
       "    </tr>\n",
       "  </tbody>\n",
       "</table>\n",
       "</div>"
      ],
      "text/plain": [
       "   children  dob_years  education_id  family_status_id  age_group_id gender  \\\n",
       "0         1         42             0                 0             3      F   \n",
       "1         1         36             1                 0             3      F   \n",
       "2         0         33             1                 0             3      M   \n",
       "3         3         32             1                 0             3      M   \n",
       "4         0         53             1                 1             3      F   \n",
       "\n",
       "   total_income  purpose_id  income_group_id  debt  \n",
       "0        253875           2                3     0  \n",
       "1        112080           3                2     0  \n",
       "2        145885           2                2     0  \n",
       "3        267628           4                3     0  \n",
       "4        158616           1                2     0  "
      ]
     },
     "execution_count": 48,
     "metadata": {},
     "output_type": "execute_result"
    }
   ],
   "source": [
    "data = df[['children','dob_years','education_id','family_status_id','age_group_id','gender','total_income','purpose_id','income_group_id','debt']]\n",
    "data.head()"
   ]
  },
  {
   "cell_type": "markdown",
   "metadata": {},
   "source": [
    "Получим словарь с типами образования, который назовем education_dict и преобразуем к финальному виду, удалив дубликаты."
   ]
  },
  {
   "cell_type": "code",
   "execution_count": 49,
   "metadata": {},
   "outputs": [
    {
     "data": {
      "text/html": [
       "<div>\n",
       "<style scoped>\n",
       "    .dataframe tbody tr th:only-of-type {\n",
       "        vertical-align: middle;\n",
       "    }\n",
       "\n",
       "    .dataframe tbody tr th {\n",
       "        vertical-align: top;\n",
       "    }\n",
       "\n",
       "    .dataframe thead th {\n",
       "        text-align: right;\n",
       "    }\n",
       "</style>\n",
       "<table border=\"1\" class=\"dataframe\">\n",
       "  <thead>\n",
       "    <tr style=\"text-align: right;\">\n",
       "      <th></th>\n",
       "      <th>education</th>\n",
       "      <th>education_id</th>\n",
       "    </tr>\n",
       "  </thead>\n",
       "  <tbody>\n",
       "    <tr>\n",
       "      <td>0</td>\n",
       "      <td>высшее</td>\n",
       "      <td>0</td>\n",
       "    </tr>\n",
       "    <tr>\n",
       "      <td>1</td>\n",
       "      <td>среднее</td>\n",
       "      <td>1</td>\n",
       "    </tr>\n",
       "    <tr>\n",
       "      <td>2</td>\n",
       "      <td>среднее</td>\n",
       "      <td>1</td>\n",
       "    </tr>\n",
       "    <tr>\n",
       "      <td>3</td>\n",
       "      <td>среднее</td>\n",
       "      <td>1</td>\n",
       "    </tr>\n",
       "    <tr>\n",
       "      <td>4</td>\n",
       "      <td>среднее</td>\n",
       "      <td>1</td>\n",
       "    </tr>\n",
       "  </tbody>\n",
       "</table>\n",
       "</div>"
      ],
      "text/plain": [
       "  education  education_id\n",
       "0    высшее             0\n",
       "1   среднее             1\n",
       "2   среднее             1\n",
       "3   среднее             1\n",
       "4   среднее             1"
      ]
     },
     "execution_count": 49,
     "metadata": {},
     "output_type": "execute_result"
    }
   ],
   "source": [
    "education_dict = df[['education','education_id']]\n",
    "education_dict.head()"
   ]
  },
  {
   "cell_type": "markdown",
   "metadata": {},
   "source": [
    "- Словарь с типами образования ***education_dict***:"
   ]
  },
  {
   "cell_type": "code",
   "execution_count": 50,
   "metadata": {},
   "outputs": [
    {
     "data": {
      "text/html": [
       "<div>\n",
       "<style scoped>\n",
       "    .dataframe tbody tr th:only-of-type {\n",
       "        vertical-align: middle;\n",
       "    }\n",
       "\n",
       "    .dataframe tbody tr th {\n",
       "        vertical-align: top;\n",
       "    }\n",
       "\n",
       "    .dataframe thead th {\n",
       "        text-align: right;\n",
       "    }\n",
       "</style>\n",
       "<table border=\"1\" class=\"dataframe\">\n",
       "  <thead>\n",
       "    <tr style=\"text-align: right;\">\n",
       "      <th></th>\n",
       "      <th>education</th>\n",
       "      <th>education_id</th>\n",
       "    </tr>\n",
       "  </thead>\n",
       "  <tbody>\n",
       "    <tr>\n",
       "      <td>0</td>\n",
       "      <td>высшее</td>\n",
       "      <td>0</td>\n",
       "    </tr>\n",
       "    <tr>\n",
       "      <td>1</td>\n",
       "      <td>среднее</td>\n",
       "      <td>1</td>\n",
       "    </tr>\n",
       "    <tr>\n",
       "      <td>2</td>\n",
       "      <td>неоконченное высшее</td>\n",
       "      <td>2</td>\n",
       "    </tr>\n",
       "    <tr>\n",
       "      <td>3</td>\n",
       "      <td>начальное</td>\n",
       "      <td>3</td>\n",
       "    </tr>\n",
       "    <tr>\n",
       "      <td>4</td>\n",
       "      <td>ученая степень</td>\n",
       "      <td>4</td>\n",
       "    </tr>\n",
       "  </tbody>\n",
       "</table>\n",
       "</div>"
      ],
      "text/plain": [
       "             education  education_id\n",
       "0               высшее             0\n",
       "1              среднее             1\n",
       "2  неоконченное высшее             2\n",
       "3            начальное             3\n",
       "4       ученая степень             4"
      ]
     },
     "execution_count": 50,
     "metadata": {},
     "output_type": "execute_result"
    }
   ],
   "source": [
    "education_dict = education_dict.drop_duplicates().reset_index(drop=True)\n",
    "education_dict"
   ]
  },
  {
   "cell_type": "markdown",
   "metadata": {},
   "source": [
    "Получим словарь с типами семйного статуса, который назовем family_status_dict и преобразуем к финальному виду, удалив дубликаты."
   ]
  },
  {
   "cell_type": "code",
   "execution_count": 51,
   "metadata": {
    "scrolled": false
   },
   "outputs": [
    {
     "data": {
      "text/html": [
       "<div>\n",
       "<style scoped>\n",
       "    .dataframe tbody tr th:only-of-type {\n",
       "        vertical-align: middle;\n",
       "    }\n",
       "\n",
       "    .dataframe tbody tr th {\n",
       "        vertical-align: top;\n",
       "    }\n",
       "\n",
       "    .dataframe thead th {\n",
       "        text-align: right;\n",
       "    }\n",
       "</style>\n",
       "<table border=\"1\" class=\"dataframe\">\n",
       "  <thead>\n",
       "    <tr style=\"text-align: right;\">\n",
       "      <th></th>\n",
       "      <th>family_status</th>\n",
       "      <th>family_status_id</th>\n",
       "    </tr>\n",
       "  </thead>\n",
       "  <tbody>\n",
       "    <tr>\n",
       "      <td>0</td>\n",
       "      <td>женат / замужем</td>\n",
       "      <td>0</td>\n",
       "    </tr>\n",
       "    <tr>\n",
       "      <td>1</td>\n",
       "      <td>женат / замужем</td>\n",
       "      <td>0</td>\n",
       "    </tr>\n",
       "    <tr>\n",
       "      <td>2</td>\n",
       "      <td>женат / замужем</td>\n",
       "      <td>0</td>\n",
       "    </tr>\n",
       "    <tr>\n",
       "      <td>3</td>\n",
       "      <td>женат / замужем</td>\n",
       "      <td>0</td>\n",
       "    </tr>\n",
       "    <tr>\n",
       "      <td>4</td>\n",
       "      <td>гражданский брак</td>\n",
       "      <td>1</td>\n",
       "    </tr>\n",
       "  </tbody>\n",
       "</table>\n",
       "</div>"
      ],
      "text/plain": [
       "      family_status  family_status_id\n",
       "0   женат / замужем                 0\n",
       "1   женат / замужем                 0\n",
       "2   женат / замужем                 0\n",
       "3   женат / замужем                 0\n",
       "4  гражданский брак                 1"
      ]
     },
     "execution_count": 51,
     "metadata": {},
     "output_type": "execute_result"
    }
   ],
   "source": [
    "family_status_dict = df[['family_status','family_status_id']]\n",
    "family_status_dict.head()"
   ]
  },
  {
   "cell_type": "markdown",
   "metadata": {},
   "source": [
    "- Словарь с типами образования ***family_status_dict***:"
   ]
  },
  {
   "cell_type": "code",
   "execution_count": 52,
   "metadata": {
    "scrolled": true
   },
   "outputs": [
    {
     "data": {
      "text/html": [
       "<div>\n",
       "<style scoped>\n",
       "    .dataframe tbody tr th:only-of-type {\n",
       "        vertical-align: middle;\n",
       "    }\n",
       "\n",
       "    .dataframe tbody tr th {\n",
       "        vertical-align: top;\n",
       "    }\n",
       "\n",
       "    .dataframe thead th {\n",
       "        text-align: right;\n",
       "    }\n",
       "</style>\n",
       "<table border=\"1\" class=\"dataframe\">\n",
       "  <thead>\n",
       "    <tr style=\"text-align: right;\">\n",
       "      <th></th>\n",
       "      <th>family_status</th>\n",
       "      <th>family_status_id</th>\n",
       "    </tr>\n",
       "  </thead>\n",
       "  <tbody>\n",
       "    <tr>\n",
       "      <td>0</td>\n",
       "      <td>женат / замужем</td>\n",
       "      <td>0</td>\n",
       "    </tr>\n",
       "    <tr>\n",
       "      <td>1</td>\n",
       "      <td>гражданский брак</td>\n",
       "      <td>1</td>\n",
       "    </tr>\n",
       "    <tr>\n",
       "      <td>2</td>\n",
       "      <td>вдовец / вдова</td>\n",
       "      <td>2</td>\n",
       "    </tr>\n",
       "    <tr>\n",
       "      <td>3</td>\n",
       "      <td>в разводе</td>\n",
       "      <td>3</td>\n",
       "    </tr>\n",
       "    <tr>\n",
       "      <td>4</td>\n",
       "      <td>не женат / не замужем</td>\n",
       "      <td>4</td>\n",
       "    </tr>\n",
       "  </tbody>\n",
       "</table>\n",
       "</div>"
      ],
      "text/plain": [
       "           family_status  family_status_id\n",
       "0        женат / замужем                 0\n",
       "1       гражданский брак                 1\n",
       "2         вдовец / вдова                 2\n",
       "3              в разводе                 3\n",
       "4  не женат / не замужем                 4"
      ]
     },
     "execution_count": 52,
     "metadata": {},
     "output_type": "execute_result"
    }
   ],
   "source": [
    "family_status_dict = family_status_dict.drop_duplicates().reset_index(drop=True)\n",
    "family_status_dict"
   ]
  },
  {
   "cell_type": "markdown",
   "metadata": {},
   "source": [
    "- Словарь с возрастными группами ***age_group_dict*** был получен ранее: "
   ]
  },
  {
   "cell_type": "code",
   "execution_count": 53,
   "metadata": {},
   "outputs": [
    {
     "data": {
      "text/html": [
       "<div>\n",
       "<style scoped>\n",
       "    .dataframe tbody tr th:only-of-type {\n",
       "        vertical-align: middle;\n",
       "    }\n",
       "\n",
       "    .dataframe tbody tr th {\n",
       "        vertical-align: top;\n",
       "    }\n",
       "\n",
       "    .dataframe thead th {\n",
       "        text-align: right;\n",
       "    }\n",
       "</style>\n",
       "<table border=\"1\" class=\"dataframe\">\n",
       "  <thead>\n",
       "    <tr style=\"text-align: right;\">\n",
       "      <th></th>\n",
       "      <th>age_group</th>\n",
       "      <th>age_group_id</th>\n",
       "    </tr>\n",
       "  </thead>\n",
       "  <tbody>\n",
       "    <tr>\n",
       "      <td>0</td>\n",
       "      <td>молодые</td>\n",
       "      <td>1</td>\n",
       "    </tr>\n",
       "    <tr>\n",
       "      <td>1</td>\n",
       "      <td>взрослые</td>\n",
       "      <td>2</td>\n",
       "    </tr>\n",
       "    <tr>\n",
       "      <td>2</td>\n",
       "      <td>пожилые</td>\n",
       "      <td>3</td>\n",
       "    </tr>\n",
       "  </tbody>\n",
       "</table>\n",
       "</div>"
      ],
      "text/plain": [
       "  age_group  age_group_id\n",
       "0   молодые             1\n",
       "1  взрослые             2\n",
       "2   пожилые             3"
      ]
     },
     "execution_count": 53,
     "metadata": {},
     "output_type": "execute_result"
    }
   ],
   "source": [
    "age_group_dict"
   ]
  },
  {
   "cell_type": "markdown",
   "metadata": {},
   "source": [
    "- Словарь с целями займа ***purpose_dict*** был получен ранее: "
   ]
  },
  {
   "cell_type": "code",
   "execution_count": 54,
   "metadata": {
    "scrolled": true
   },
   "outputs": [
    {
     "data": {
      "text/html": [
       "<div>\n",
       "<style scoped>\n",
       "    .dataframe tbody tr th:only-of-type {\n",
       "        vertical-align: middle;\n",
       "    }\n",
       "\n",
       "    .dataframe tbody tr th {\n",
       "        vertical-align: top;\n",
       "    }\n",
       "\n",
       "    .dataframe thead th {\n",
       "        text-align: right;\n",
       "    }\n",
       "</style>\n",
       "<table border=\"1\" class=\"dataframe\">\n",
       "  <thead>\n",
       "    <tr style=\"text-align: right;\">\n",
       "      <th></th>\n",
       "      <th>target</th>\n",
       "      <th>purpose_id</th>\n",
       "    </tr>\n",
       "  </thead>\n",
       "  <tbody>\n",
       "    <tr>\n",
       "      <td>0</td>\n",
       "      <td>свадьба</td>\n",
       "      <td>1</td>\n",
       "    </tr>\n",
       "    <tr>\n",
       "      <td>1</td>\n",
       "      <td>недвижимость</td>\n",
       "      <td>2</td>\n",
       "    </tr>\n",
       "    <tr>\n",
       "      <td>2</td>\n",
       "      <td>автомобиль</td>\n",
       "      <td>3</td>\n",
       "    </tr>\n",
       "    <tr>\n",
       "      <td>3</td>\n",
       "      <td>образование</td>\n",
       "      <td>4</td>\n",
       "    </tr>\n",
       "  </tbody>\n",
       "</table>\n",
       "</div>"
      ],
      "text/plain": [
       "         target  purpose_id\n",
       "0       свадьба           1\n",
       "1  недвижимость           2\n",
       "2    автомобиль           3\n",
       "3   образование           4"
      ]
     },
     "execution_count": 54,
     "metadata": {},
     "output_type": "execute_result"
    }
   ],
   "source": [
    "purpose_dict"
   ]
  },
  {
   "cell_type": "markdown",
   "metadata": {},
   "source": [
    "- Словарь с уровнем дохода ***income_group_dict*** был получен ранее: "
   ]
  },
  {
   "cell_type": "code",
   "execution_count": 55,
   "metadata": {},
   "outputs": [
    {
     "data": {
      "text/html": [
       "<div>\n",
       "<style scoped>\n",
       "    .dataframe tbody tr th:only-of-type {\n",
       "        vertical-align: middle;\n",
       "    }\n",
       "\n",
       "    .dataframe tbody tr th {\n",
       "        vertical-align: top;\n",
       "    }\n",
       "\n",
       "    .dataframe thead th {\n",
       "        text-align: right;\n",
       "    }\n",
       "</style>\n",
       "<table border=\"1\" class=\"dataframe\">\n",
       "  <thead>\n",
       "    <tr style=\"text-align: right;\">\n",
       "      <th></th>\n",
       "      <th>income_group</th>\n",
       "      <th>income_group_id</th>\n",
       "    </tr>\n",
       "  </thead>\n",
       "  <tbody>\n",
       "    <tr>\n",
       "      <td>0</td>\n",
       "      <td>низкий</td>\n",
       "      <td>1</td>\n",
       "    </tr>\n",
       "    <tr>\n",
       "      <td>1</td>\n",
       "      <td>средний</td>\n",
       "      <td>2</td>\n",
       "    </tr>\n",
       "    <tr>\n",
       "      <td>2</td>\n",
       "      <td>высокий</td>\n",
       "      <td>3</td>\n",
       "    </tr>\n",
       "  </tbody>\n",
       "</table>\n",
       "</div>"
      ],
      "text/plain": [
       "  income_group  income_group_id\n",
       "0       низкий                1\n",
       "1      средний                2\n",
       "2      высокий                3"
      ]
     },
     "execution_count": 55,
     "metadata": {},
     "output_type": "execute_result"
    }
   ],
   "source": [
    "income_group_dict"
   ]
  },
  {
   "cell_type": "markdown",
   "metadata": {},
   "source": [
    "# Этап 3. Ответы на вопросы"
   ]
  },
  {
   "cell_type": "markdown",
   "metadata": {},
   "source": [
    "### 1. Ответим на вопрос \"Есть ли зависимость между наличием детей и возвратом кредита в срок?\""
   ]
  },
  {
   "cell_type": "markdown",
   "metadata": {},
   "source": [
    "Чтобы ответить на этот вопрос, нам понадобится сводная таблица. В ней расчитаем суммарное количество должников ('sum','debt') среди общего количества людей ('len','debt') в каждой группе. Вычислим долю должников в группе в процентах ('debters_percentage','')."
   ]
  },
  {
   "cell_type": "code",
   "execution_count": 56,
   "metadata": {},
   "outputs": [
    {
     "data": {
      "text/html": [
       "<div>\n",
       "<style scoped>\n",
       "    .dataframe tbody tr th:only-of-type {\n",
       "        vertical-align: middle;\n",
       "    }\n",
       "\n",
       "    .dataframe tbody tr th {\n",
       "        vertical-align: top;\n",
       "    }\n",
       "\n",
       "    .dataframe thead tr th {\n",
       "        text-align: left;\n",
       "    }\n",
       "\n",
       "    .dataframe thead tr:last-of-type th {\n",
       "        text-align: right;\n",
       "    }\n",
       "</style>\n",
       "<table border=\"1\" class=\"dataframe\">\n",
       "  <thead>\n",
       "    <tr>\n",
       "      <th></th>\n",
       "      <th>sum</th>\n",
       "      <th>len</th>\n",
       "      <th>debters_percentage</th>\n",
       "    </tr>\n",
       "    <tr>\n",
       "      <th></th>\n",
       "      <th>debt</th>\n",
       "      <th>debt</th>\n",
       "      <th></th>\n",
       "    </tr>\n",
       "    <tr>\n",
       "      <th>children</th>\n",
       "      <th></th>\n",
       "      <th></th>\n",
       "      <th></th>\n",
       "    </tr>\n",
       "  </thead>\n",
       "  <tbody>\n",
       "    <tr>\n",
       "      <td>4</td>\n",
       "      <td>4</td>\n",
       "      <td>41</td>\n",
       "      <td>9.8</td>\n",
       "    </tr>\n",
       "    <tr>\n",
       "      <td>2</td>\n",
       "      <td>202</td>\n",
       "      <td>2128</td>\n",
       "      <td>9.5</td>\n",
       "    </tr>\n",
       "    <tr>\n",
       "      <td>1</td>\n",
       "      <td>445</td>\n",
       "      <td>4855</td>\n",
       "      <td>9.2</td>\n",
       "    </tr>\n",
       "    <tr>\n",
       "      <td>3</td>\n",
       "      <td>27</td>\n",
       "      <td>330</td>\n",
       "      <td>8.2</td>\n",
       "    </tr>\n",
       "    <tr>\n",
       "      <td>0</td>\n",
       "      <td>1063</td>\n",
       "      <td>14091</td>\n",
       "      <td>7.5</td>\n",
       "    </tr>\n",
       "    <tr>\n",
       "      <td>5</td>\n",
       "      <td>0</td>\n",
       "      <td>9</td>\n",
       "      <td>0.0</td>\n",
       "    </tr>\n",
       "  </tbody>\n",
       "</table>\n",
       "</div>"
      ],
      "text/plain": [
       "           sum    len debters_percentage\n",
       "          debt   debt                   \n",
       "children                                \n",
       "4            4     41                9.8\n",
       "2          202   2128                9.5\n",
       "1          445   4855                9.2\n",
       "3           27    330                8.2\n",
       "0         1063  14091                7.5\n",
       "5            0      9                0.0"
      ]
     },
     "execution_count": 56,
     "metadata": {},
     "output_type": "execute_result"
    }
   ],
   "source": [
    "debt_from_children = data.pivot_table(index=['children'], values='debt', aggfunc=[sum,len])\n",
    "debt_from_children['debters_percentage'] = (debt_from_children[('sum','debt')] / debt_from_children[('len','debt')]).round(3)*100\n",
    "debt_from_children.sort_values(by='debters_percentage', ascending=False)"
   ]
  },
  {
   "cell_type": "markdown",
   "metadata": {},
   "source": [
    "### Вывод 1."
   ]
  },
  {
   "cell_type": "markdown",
   "metadata": {},
   "source": [
    "Мы выяснили, что чем больше у заёмщика детей, тем больше среди них доля должников. Хотя выборка среди людей, имеющих по 3 и более детей не слишком невелика, можно сделать вывод о том, что чем меньше у заёмщика детей, тем меньше риск, что он не вернёт кредит в срок. Разница в доле должников заёмщиков без детей и заёмщиков, имеющим 1-2 ребенка - примерно 2%.  "
   ]
  },
  {
   "cell_type": "markdown",
   "metadata": {},
   "source": [
    "### 2. Ответим на вопрос \"Есть ли зависимость между семейным положением и возвратом кредита в срок?\""
   ]
  },
  {
   "cell_type": "markdown",
   "metadata": {},
   "source": [
    "Аналогично ответу на 1-й вопрос, найдем процент должников среди людей с разным семейным положением."
   ]
  },
  {
   "cell_type": "code",
   "execution_count": 57,
   "metadata": {},
   "outputs": [
    {
     "data": {
      "text/html": [
       "<div>\n",
       "<style scoped>\n",
       "    .dataframe tbody tr th:only-of-type {\n",
       "        vertical-align: middle;\n",
       "    }\n",
       "\n",
       "    .dataframe tbody tr th {\n",
       "        vertical-align: top;\n",
       "    }\n",
       "\n",
       "    .dataframe thead tr th {\n",
       "        text-align: left;\n",
       "    }\n",
       "\n",
       "    .dataframe thead tr:last-of-type th {\n",
       "        text-align: right;\n",
       "    }\n",
       "</style>\n",
       "<table border=\"1\" class=\"dataframe\">\n",
       "  <thead>\n",
       "    <tr>\n",
       "      <th></th>\n",
       "      <th>sum</th>\n",
       "      <th>len</th>\n",
       "      <th>debters_percentage</th>\n",
       "    </tr>\n",
       "    <tr>\n",
       "      <th></th>\n",
       "      <th>debt</th>\n",
       "      <th>debt</th>\n",
       "      <th></th>\n",
       "    </tr>\n",
       "    <tr>\n",
       "      <th>family_status_id</th>\n",
       "      <th></th>\n",
       "      <th></th>\n",
       "      <th></th>\n",
       "    </tr>\n",
       "  </thead>\n",
       "  <tbody>\n",
       "    <tr>\n",
       "      <td>4</td>\n",
       "      <td>274</td>\n",
       "      <td>2810</td>\n",
       "      <td>9.8</td>\n",
       "    </tr>\n",
       "    <tr>\n",
       "      <td>1</td>\n",
       "      <td>388</td>\n",
       "      <td>4151</td>\n",
       "      <td>9.3</td>\n",
       "    </tr>\n",
       "    <tr>\n",
       "      <td>0</td>\n",
       "      <td>931</td>\n",
       "      <td>12339</td>\n",
       "      <td>7.5</td>\n",
       "    </tr>\n",
       "    <tr>\n",
       "      <td>3</td>\n",
       "      <td>85</td>\n",
       "      <td>1195</td>\n",
       "      <td>7.1</td>\n",
       "    </tr>\n",
       "    <tr>\n",
       "      <td>2</td>\n",
       "      <td>63</td>\n",
       "      <td>959</td>\n",
       "      <td>6.6</td>\n",
       "    </tr>\n",
       "  </tbody>\n",
       "</table>\n",
       "</div>"
      ],
      "text/plain": [
       "                  sum    len debters_percentage\n",
       "                 debt   debt                   \n",
       "family_status_id                               \n",
       "4                 274   2810                9.8\n",
       "1                 388   4151                9.3\n",
       "0                 931  12339                7.5\n",
       "3                  85   1195                7.1\n",
       "2                  63    959                6.6"
      ]
     },
     "execution_count": 57,
     "metadata": {},
     "output_type": "execute_result"
    }
   ],
   "source": [
    "debt_from_status = data.pivot_table(index=['family_status_id'], values='debt', aggfunc=[sum,len])\n",
    "debt_from_status[('debters_percentage','')] = (debt_from_status[('sum','debt')] / debt_from_status[('len','debt')]).round(3)*100\n",
    "debt_from_status=debt_from_status.sort_values(by='debters_percentage', ascending=False)\n",
    "debt_from_status"
   ]
  },
  {
   "cell_type": "markdown",
   "metadata": {},
   "source": [
    "Применим merge() чтобы объединенить полученную таблицу со словарём для большей наглядности. Несмотря на предупреждение о том, что при объединении таблиц с разным количеством уровней могут возникнуть непредвиденные результаты, выведем таблицу. Получекнный результат вполне нагляден и годится для анализа."
   ]
  },
  {
   "cell_type": "code",
   "execution_count": 58,
   "metadata": {},
   "outputs": [],
   "source": [
    "#debt_from_status.columns"
   ]
  },
  {
   "cell_type": "code",
   "execution_count": 59,
   "metadata": {
    "scrolled": false
   },
   "outputs": [
    {
     "name": "stderr",
     "output_type": "stream",
     "text": [
      "/opt/conda/lib/python3.7/site-packages/pandas/core/reshape/merge.py:617: UserWarning: merging between different levels can give an unintended result (2 levels on the left, 1 on the right)\n",
      "  warnings.warn(msg, UserWarning)\n"
     ]
    },
    {
     "data": {
      "text/html": [
       "<div>\n",
       "<style scoped>\n",
       "    .dataframe tbody tr th:only-of-type {\n",
       "        vertical-align: middle;\n",
       "    }\n",
       "\n",
       "    .dataframe tbody tr th {\n",
       "        vertical-align: top;\n",
       "    }\n",
       "\n",
       "    .dataframe thead th {\n",
       "        text-align: right;\n",
       "    }\n",
       "</style>\n",
       "<table border=\"1\" class=\"dataframe\">\n",
       "  <thead>\n",
       "    <tr style=\"text-align: right;\">\n",
       "      <th></th>\n",
       "      <th>family_status_id</th>\n",
       "      <th>(sum, debt)</th>\n",
       "      <th>(len, debt)</th>\n",
       "      <th>(debters_percentage, )</th>\n",
       "      <th>family_status</th>\n",
       "    </tr>\n",
       "  </thead>\n",
       "  <tbody>\n",
       "    <tr>\n",
       "      <td>0</td>\n",
       "      <td>4</td>\n",
       "      <td>274</td>\n",
       "      <td>2810</td>\n",
       "      <td>9.8</td>\n",
       "      <td>не женат / не замужем</td>\n",
       "    </tr>\n",
       "    <tr>\n",
       "      <td>1</td>\n",
       "      <td>1</td>\n",
       "      <td>388</td>\n",
       "      <td>4151</td>\n",
       "      <td>9.3</td>\n",
       "      <td>гражданский брак</td>\n",
       "    </tr>\n",
       "    <tr>\n",
       "      <td>2</td>\n",
       "      <td>0</td>\n",
       "      <td>931</td>\n",
       "      <td>12339</td>\n",
       "      <td>7.5</td>\n",
       "      <td>женат / замужем</td>\n",
       "    </tr>\n",
       "    <tr>\n",
       "      <td>3</td>\n",
       "      <td>3</td>\n",
       "      <td>85</td>\n",
       "      <td>1195</td>\n",
       "      <td>7.1</td>\n",
       "      <td>в разводе</td>\n",
       "    </tr>\n",
       "    <tr>\n",
       "      <td>4</td>\n",
       "      <td>2</td>\n",
       "      <td>63</td>\n",
       "      <td>959</td>\n",
       "      <td>6.6</td>\n",
       "      <td>вдовец / вдова</td>\n",
       "    </tr>\n",
       "  </tbody>\n",
       "</table>\n",
       "</div>"
      ],
      "text/plain": [
       "   family_status_id  (sum, debt)  (len, debt)  (debters_percentage, )  \\\n",
       "0                 4          274         2810                     9.8   \n",
       "1                 1          388         4151                     9.3   \n",
       "2                 0          931        12339                     7.5   \n",
       "3                 3           85         1195                     7.1   \n",
       "4                 2           63          959                     6.6   \n",
       "\n",
       "           family_status  \n",
       "0  не женат / не замужем  \n",
       "1       гражданский брак  \n",
       "2        женат / замужем  \n",
       "3              в разводе  \n",
       "4         вдовец / вдова  "
      ]
     },
     "execution_count": 59,
     "metadata": {},
     "output_type": "execute_result"
    }
   ],
   "source": [
    "debt_from_status=debt_from_status.merge(family_status_dict, on='family_status_id', how='right')\n",
    "debt_from_status"
   ]
  },
  {
   "cell_type": "markdown",
   "metadata": {},
   "source": [
    "### Вывод 2."
   ]
  },
  {
   "cell_type": "markdown",
   "metadata": {},
   "source": [
    "Мы выяснили, что среди людей, не состоящих в браке, процент должников выше, чем среди женатых пар, примерно на 2%. В то же время пары, состоящие в браке опережают разведенных и вдовцов."
   ]
  },
  {
   "cell_type": "markdown",
   "metadata": {},
   "source": [
    "### 3. Ответим на вопрос \"Есть ли зависимость между уровнем дохода и возвратом кредита в срок?\""
   ]
  },
  {
   "cell_type": "markdown",
   "metadata": {},
   "source": [
    "Выясним, есть ли зависимость между уровнем дохода и возвратом кредита в срок среди людей, ежемесячный доход которых известен (не равен нулю)."
   ]
  },
  {
   "cell_type": "code",
   "execution_count": 60,
   "metadata": {},
   "outputs": [
    {
     "data": {
      "text/html": [
       "<div>\n",
       "<style scoped>\n",
       "    .dataframe tbody tr th:only-of-type {\n",
       "        vertical-align: middle;\n",
       "    }\n",
       "\n",
       "    .dataframe tbody tr th {\n",
       "        vertical-align: top;\n",
       "    }\n",
       "\n",
       "    .dataframe thead tr th {\n",
       "        text-align: left;\n",
       "    }\n",
       "\n",
       "    .dataframe thead tr:last-of-type th {\n",
       "        text-align: right;\n",
       "    }\n",
       "</style>\n",
       "<table border=\"1\" class=\"dataframe\">\n",
       "  <thead>\n",
       "    <tr>\n",
       "      <th></th>\n",
       "      <th>sum</th>\n",
       "      <th>len</th>\n",
       "      <th>debters_percentage</th>\n",
       "    </tr>\n",
       "    <tr>\n",
       "      <th></th>\n",
       "      <th>debt</th>\n",
       "      <th>debt</th>\n",
       "      <th></th>\n",
       "    </tr>\n",
       "    <tr>\n",
       "      <th>income_group_id</th>\n",
       "      <th></th>\n",
       "      <th></th>\n",
       "      <th></th>\n",
       "    </tr>\n",
       "  </thead>\n",
       "  <tbody>\n",
       "    <tr>\n",
       "      <td>2</td>\n",
       "      <td>1137</td>\n",
       "      <td>13198</td>\n",
       "      <td>8.6</td>\n",
       "    </tr>\n",
       "    <tr>\n",
       "      <td>3</td>\n",
       "      <td>341</td>\n",
       "      <td>4824</td>\n",
       "      <td>7.1</td>\n",
       "    </tr>\n",
       "    <tr>\n",
       "      <td>1</td>\n",
       "      <td>93</td>\n",
       "      <td>1329</td>\n",
       "      <td>7.0</td>\n",
       "    </tr>\n",
       "  </tbody>\n",
       "</table>\n",
       "</div>"
      ],
      "text/plain": [
       "                  sum    len debters_percentage\n",
       "                 debt   debt                   \n",
       "income_group_id                                \n",
       "2                1137  13198                8.6\n",
       "3                 341   4824                7.1\n",
       "1                  93   1329                7.0"
      ]
     },
     "execution_count": 60,
     "metadata": {},
     "output_type": "execute_result"
    }
   ],
   "source": [
    "#data_available = (data.loc[data.loc[:,'employment_info'] == 'available']).copy()\n",
    "#data_available.head()\n",
    "debt_from_income = data.loc[data.loc[:,'total_income'] !=0].pivot_table(index=['income_group_id'], values='debt', aggfunc=[sum,len])\n",
    "debt_from_income[('debters_percentage','')] = (debt_from_income[('sum','debt')] / debt_from_income[('len','debt')]).round(3)*100\n",
    "debt_from_income=debt_from_income.sort_values(by='debters_percentage', ascending=False)\n",
    "debt_from_income"
   ]
  },
  {
   "cell_type": "code",
   "execution_count": 61,
   "metadata": {
    "scrolled": true
   },
   "outputs": [
    {
     "data": {
      "text/html": [
       "<div>\n",
       "<style scoped>\n",
       "    .dataframe tbody tr th:only-of-type {\n",
       "        vertical-align: middle;\n",
       "    }\n",
       "\n",
       "    .dataframe tbody tr th {\n",
       "        vertical-align: top;\n",
       "    }\n",
       "\n",
       "    .dataframe thead th {\n",
       "        text-align: right;\n",
       "    }\n",
       "</style>\n",
       "<table border=\"1\" class=\"dataframe\">\n",
       "  <thead>\n",
       "    <tr style=\"text-align: right;\">\n",
       "      <th></th>\n",
       "      <th>income_group_id</th>\n",
       "      <th>(sum, debt)</th>\n",
       "      <th>(len, debt)</th>\n",
       "      <th>(debters_percentage, )</th>\n",
       "      <th>income_group</th>\n",
       "    </tr>\n",
       "  </thead>\n",
       "  <tbody>\n",
       "    <tr>\n",
       "      <td>0</td>\n",
       "      <td>2</td>\n",
       "      <td>1137</td>\n",
       "      <td>13198</td>\n",
       "      <td>8.6</td>\n",
       "      <td>средний</td>\n",
       "    </tr>\n",
       "    <tr>\n",
       "      <td>1</td>\n",
       "      <td>3</td>\n",
       "      <td>341</td>\n",
       "      <td>4824</td>\n",
       "      <td>7.1</td>\n",
       "      <td>высокий</td>\n",
       "    </tr>\n",
       "    <tr>\n",
       "      <td>2</td>\n",
       "      <td>1</td>\n",
       "      <td>93</td>\n",
       "      <td>1329</td>\n",
       "      <td>7.0</td>\n",
       "      <td>низкий</td>\n",
       "    </tr>\n",
       "  </tbody>\n",
       "</table>\n",
       "</div>"
      ],
      "text/plain": [
       "   income_group_id  (sum, debt)  (len, debt)  (debters_percentage, )  \\\n",
       "0                2         1137        13198                     8.6   \n",
       "1                3          341         4824                     7.1   \n",
       "2                1           93         1329                     7.0   \n",
       "\n",
       "  income_group  \n",
       "0      средний  \n",
       "1      высокий  \n",
       "2       низкий  "
      ]
     },
     "execution_count": 61,
     "metadata": {},
     "output_type": "execute_result"
    }
   ],
   "source": [
    "debt_from_income=debt_from_income.merge(income_group_dict, on='income_group_id', how='right')\n",
    "debt_from_income"
   ]
  },
  {
   "cell_type": "markdown",
   "metadata": {},
   "source": [
    "### Вывод 3."
   ]
  },
  {
   "cell_type": "markdown",
   "metadata": {},
   "source": [
    "Мы выяснили, что среди людей с низкой зарплатой должников меньше, чем со средней и высокой. "
   ]
  },
  {
   "cell_type": "markdown",
   "metadata": {},
   "source": [
    "### 4. Ответим на вопрос \"Как разные цели кредита влияют на его возврат в срок?\""
   ]
  },
  {
   "cell_type": "markdown",
   "metadata": {},
   "source": [
    "Выясним, есть ли зависимость между целью и возвратом кредита в срок."
   ]
  },
  {
   "cell_type": "code",
   "execution_count": 62,
   "metadata": {},
   "outputs": [
    {
     "data": {
      "text/html": [
       "<div>\n",
       "<style scoped>\n",
       "    .dataframe tbody tr th:only-of-type {\n",
       "        vertical-align: middle;\n",
       "    }\n",
       "\n",
       "    .dataframe tbody tr th {\n",
       "        vertical-align: top;\n",
       "    }\n",
       "\n",
       "    .dataframe thead tr th {\n",
       "        text-align: left;\n",
       "    }\n",
       "\n",
       "    .dataframe thead tr:last-of-type th {\n",
       "        text-align: right;\n",
       "    }\n",
       "</style>\n",
       "<table border=\"1\" class=\"dataframe\">\n",
       "  <thead>\n",
       "    <tr>\n",
       "      <th></th>\n",
       "      <th>sum</th>\n",
       "      <th>len</th>\n",
       "      <th>debters_percentage</th>\n",
       "    </tr>\n",
       "    <tr>\n",
       "      <th></th>\n",
       "      <th>debt</th>\n",
       "      <th>debt</th>\n",
       "      <th></th>\n",
       "    </tr>\n",
       "    <tr>\n",
       "      <th>purpose_id</th>\n",
       "      <th></th>\n",
       "      <th></th>\n",
       "      <th></th>\n",
       "    </tr>\n",
       "  </thead>\n",
       "  <tbody>\n",
       "    <tr>\n",
       "      <td>3</td>\n",
       "      <td>403</td>\n",
       "      <td>4306</td>\n",
       "      <td>9.4</td>\n",
       "    </tr>\n",
       "    <tr>\n",
       "      <td>4</td>\n",
       "      <td>370</td>\n",
       "      <td>4013</td>\n",
       "      <td>9.2</td>\n",
       "    </tr>\n",
       "    <tr>\n",
       "      <td>1</td>\n",
       "      <td>186</td>\n",
       "      <td>2324</td>\n",
       "      <td>8.0</td>\n",
       "    </tr>\n",
       "    <tr>\n",
       "      <td>2</td>\n",
       "      <td>782</td>\n",
       "      <td>10811</td>\n",
       "      <td>7.2</td>\n",
       "    </tr>\n",
       "  </tbody>\n",
       "</table>\n",
       "</div>"
      ],
      "text/plain": [
       "            sum    len debters_percentage\n",
       "           debt   debt                   \n",
       "purpose_id                               \n",
       "3           403   4306                9.4\n",
       "4           370   4013                9.2\n",
       "1           186   2324                8.0\n",
       "2           782  10811                7.2"
      ]
     },
     "execution_count": 62,
     "metadata": {},
     "output_type": "execute_result"
    }
   ],
   "source": [
    "debt_from_purpose = data.pivot_table(index=['purpose_id'], values='debt', aggfunc=[sum,len])\n",
    "debt_from_purpose[('debters_percentage','')] = (debt_from_purpose[('sum','debt')] / debt_from_purpose[('len','debt')]).round(3)*100\n",
    "debt_from_purpose=debt_from_purpose.sort_values(by='debters_percentage', ascending=False)\n",
    "debt_from_purpose"
   ]
  },
  {
   "cell_type": "code",
   "execution_count": 63,
   "metadata": {
    "scrolled": true
   },
   "outputs": [
    {
     "data": {
      "text/html": [
       "<div>\n",
       "<style scoped>\n",
       "    .dataframe tbody tr th:only-of-type {\n",
       "        vertical-align: middle;\n",
       "    }\n",
       "\n",
       "    .dataframe tbody tr th {\n",
       "        vertical-align: top;\n",
       "    }\n",
       "\n",
       "    .dataframe thead th {\n",
       "        text-align: right;\n",
       "    }\n",
       "</style>\n",
       "<table border=\"1\" class=\"dataframe\">\n",
       "  <thead>\n",
       "    <tr style=\"text-align: right;\">\n",
       "      <th></th>\n",
       "      <th>purpose_id</th>\n",
       "      <th>(sum, debt)</th>\n",
       "      <th>(len, debt)</th>\n",
       "      <th>(debters_percentage, )</th>\n",
       "      <th>target</th>\n",
       "    </tr>\n",
       "  </thead>\n",
       "  <tbody>\n",
       "    <tr>\n",
       "      <td>0</td>\n",
       "      <td>3</td>\n",
       "      <td>403</td>\n",
       "      <td>4306</td>\n",
       "      <td>9.4</td>\n",
       "      <td>автомобиль</td>\n",
       "    </tr>\n",
       "    <tr>\n",
       "      <td>1</td>\n",
       "      <td>4</td>\n",
       "      <td>370</td>\n",
       "      <td>4013</td>\n",
       "      <td>9.2</td>\n",
       "      <td>образование</td>\n",
       "    </tr>\n",
       "    <tr>\n",
       "      <td>2</td>\n",
       "      <td>1</td>\n",
       "      <td>186</td>\n",
       "      <td>2324</td>\n",
       "      <td>8.0</td>\n",
       "      <td>свадьба</td>\n",
       "    </tr>\n",
       "    <tr>\n",
       "      <td>3</td>\n",
       "      <td>2</td>\n",
       "      <td>782</td>\n",
       "      <td>10811</td>\n",
       "      <td>7.2</td>\n",
       "      <td>недвижимость</td>\n",
       "    </tr>\n",
       "  </tbody>\n",
       "</table>\n",
       "</div>"
      ],
      "text/plain": [
       "   purpose_id  (sum, debt)  (len, debt)  (debters_percentage, )        target\n",
       "0           3          403         4306                     9.4    автомобиль\n",
       "1           4          370         4013                     9.2   образование\n",
       "2           1          186         2324                     8.0       свадьба\n",
       "3           2          782        10811                     7.2  недвижимость"
      ]
     },
     "execution_count": 63,
     "metadata": {},
     "output_type": "execute_result"
    }
   ],
   "source": [
    "debt_from_purpose=debt_from_purpose.merge(purpose_dict, on='purpose_id', how='right')\n",
    "debt_from_purpose"
   ]
  },
  {
   "cell_type": "markdown",
   "metadata": {},
   "source": [
    "### Вывод 4."
   ]
  },
  {
   "cell_type": "markdown",
   "metadata": {},
   "source": [
    "Мы выяснили, что больше всего должников среди тех, кто берет кредит на автомобиль или образование. Среди тех, кто берет кредит на свадьбу, должников меньше. А меньше всего должников, не уложившихся в срок, среди тех, кто берет кредит на недвижимость. Это логично, т.к. цель долгосрочная, а деньги со временем обесцениваются, при том, что доход в валюте страны растет. Долгосрочные кредиты люди успевают гасить лучше, чем краткосрочные и среднесрочные."
   ]
  },
  {
   "cell_type": "markdown",
   "metadata": {},
   "source": [
    "# Этап 4. Общий вывод"
   ]
  },
  {
   "cell_type": "markdown",
   "metadata": {},
   "source": [
    "Рабочие гипотезы:\n",
    "- Наличие детей клиента влияет на факт погашения кредита в срок.\n",
    "- Семейное положение клиента влияет на факт погашения кредита в срок.\n",
    "- Уровень дохода влияет на факт погашения кредита в срок.\n",
    "- Разные цели кредита влияют на его возврат в срок.\n"
   ]
  },
  {
   "cell_type": "markdown",
   "metadata": {},
   "source": [
    "Результаты проверки гипотез:\n",
    "- [x] Наличие детей клиента действительно влияет на факт погашения кредита в срок. Разница в доле должников заёмщиков без детей на 2% меньше доли заёмщиков, имеющих 1-2 детей.\n",
    "- [x] Семейное положение клиента действительно влияет на факт погашения кредита в срок. Мы выяснили, что среди людей, не состоящих в браке, процент должников выше, чем среди женатых пар, примерно на 2%. В то же время пары, состоящие в браке опережают разведенных и вдовцов. Вероятно, это связано с тем, что не женатые/не замужние клиенты и состоящие в гражданском браке менее обремены обязательствами. Те, кто состоит в браке занимают золотую середину, вероятно потому, что у них есть поддержка партнёра по браку, и вдвоём выплачивать кредит проще. Меньше всего должников среди разведённых и вдовцов, вероятно потому, что разводятся и становятся вдовцами как правило становятся тогда, когда какие-то материальные потребности уже удовлетворены. Впрочем, не исключено, что при большей выборке все результаты больше стремились бы к среднему.\n",
    "- [x] Уровень дохода действительно влияет на факт погашения кредита в срок. Мы выяснили, что среди людей со средним доходом самый высокий проценд должников. Вероятно потому, что их в принципе больше (есть потребность в ускорении достижения целей за счет кредита). Среди людей с высоким доходом процент должников меньше, видимо потому, что они могут позволить себе выплачивать кредит в срок, да и менее нуждаются в кредите. Среди людей с низким доходом доля должников почти такая же, что и с высоким доходом. Возможно, это объясняется тем, что у них каждая копейка на счету. При этом клиентов с низкой зарплатой меньше всего, возможно из-за низкого процента одобренных кредитов или нежелания влезать в долги.\n",
    "- [x] Разные цели кредита действительно влияют на его возврат в срок. Среди заёмщиков, которые берут кредиты под долгосрочные цели, к которым, как правило, относится недвижимость, должников меньше всего. В то же время цель кредита на недвижимость преследует самая большая часть заёмщиков. Вероятно, это связано со сроками, на которые даётся кредит, и с высокой планкой для  одобрения кредита. Должников среди тех, кто берет кредит на автомобиль или образование, больше всего. Вероятно, потому, что они относятся относятся к категориям незамужних и со средним доходом.\n"
   ]
  }
 ],
 "metadata": {
  "kernelspec": {
   "display_name": "Python 3",
   "language": "python",
   "name": "python3"
  },
  "language_info": {
   "codemirror_mode": {
    "name": "ipython",
    "version": 3
   },
   "file_extension": ".py",
   "mimetype": "text/x-python",
   "name": "python",
   "nbconvert_exporter": "python",
   "pygments_lexer": "ipython3",
   "version": "3.8.5"
  }
 },
 "nbformat": 4,
 "nbformat_minor": 4
}
