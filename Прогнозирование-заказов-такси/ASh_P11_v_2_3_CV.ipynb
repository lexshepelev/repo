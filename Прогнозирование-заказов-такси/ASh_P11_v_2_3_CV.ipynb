{
 "cells": [
  {
   "cell_type": "markdown",
   "metadata": {},
   "source": [
    "#  Прогнозирование заказов такси"
   ]
  },
  {
   "cell_type": "markdown",
   "metadata": {},
   "source": [
    "Имеются исторические данные о заказах такси в аэропортах. Чтобы привлекать больше водителей в период пиковой нагрузки, нужно спрогнозировать количество заказов такси на следующий час. Нужно построить модель для такого предсказания.\n",
    "\n",
    "Значение метрики *RMSE* на тестовой выборке должно быть не больше 48.\n",
    "\n",
    "Нам нужно:\n",
    "\n",
    "1. Загрузить данные и выполнить их ресемплирование по одному часу.\n",
    "2. Проанализировать данные.\n",
    "3. Обучить разные модели с различными гиперпараметрами. Сделать тестовую выборку размером 10% от исходных данных.\n",
    "4. Проверить данные на тестовой выборке и сделать выводы."
   ]
  },
  {
   "cell_type": "markdown",
   "metadata": {
    "toc": true
   },
   "source": [
    "<h1>Содержание<span class=\"tocSkip\"></span></h1>\n",
    "<div class=\"toc\"><ul class=\"toc-item\"><li><span><a href=\"#Подготовка\" data-toc-modified-id=\"Подготовка-1\"><span class=\"toc-item-num\">1&nbsp;&nbsp;</span>Подготовка</a></span></li><li><span><a href=\"#Анализ\" data-toc-modified-id=\"Анализ-2\"><span class=\"toc-item-num\">2&nbsp;&nbsp;</span>Анализ</a></span></li><li><span><a href=\"#Обучение\" data-toc-modified-id=\"Обучение-3\"><span class=\"toc-item-num\">3&nbsp;&nbsp;</span>Обучение</a></span></li><li><span><a href=\"#Тестирование\" data-toc-modified-id=\"Тестирование-4\"><span class=\"toc-item-num\">4&nbsp;&nbsp;</span>Тестирование</a></span></li><li><span><a href=\"#Чек-лист-проверки\" data-toc-modified-id=\"Чек-лист-проверки-5\"><span class=\"toc-item-num\">5&nbsp;&nbsp;</span>Чек-лист проверки</a></span></li></ul></div>"
   ]
  },
  {
   "cell_type": "markdown",
   "metadata": {},
   "source": [
    "## Подготовка"
   ]
  },
  {
   "cell_type": "code",
   "execution_count": 1,
   "metadata": {},
   "outputs": [],
   "source": [
    "import pandas as pd\n",
    "import numpy as np\n",
    "from sklearn.model_selection import train_test_split\n",
    "from sklearn.metrics import make_scorer, mean_squared_error\n",
    "from sklearn.model_selection import GridSearchCV\n",
    "from sklearn.linear_model import LinearRegression\n",
    "from sklearn.tree import DecisionTreeRegressor\n",
    "from sklearn.ensemble import RandomForestRegressor\n",
    "from sklearn.experimental import enable_hist_gradient_boosting\n",
    "from sklearn.ensemble import HistGradientBoostingRegressor\n",
    "from sklearn.datasets import load_diabetes\n",
    "import matplotlib.pyplot as plt\n",
    "from statsmodels.tsa.seasonal import seasonal_decompose\n",
    "from sklearn.model_selection import TimeSeriesSplit"
   ]
  },
  {
   "cell_type": "code",
   "execution_count": 2,
   "metadata": {},
   "outputs": [],
   "source": [
    "data = pd.read_csv('datasets/taxi.csv', index_col=[0], parse_dates=[0])"
   ]
  },
  {
   "cell_type": "code",
   "execution_count": 3,
   "metadata": {},
   "outputs": [
    {
     "name": "stdout",
     "output_type": "stream",
     "text": [
      "<class 'pandas.core.frame.DataFrame'>\n",
      "DatetimeIndex: 26496 entries, 2018-03-01 00:00:00 to 2018-08-31 23:50:00\n",
      "Data columns (total 1 columns):\n",
      "num_orders    26496 non-null int64\n",
      "dtypes: int64(1)\n",
      "memory usage: 414.0 KB\n"
     ]
    }
   ],
   "source": [
    "data.info()"
   ]
  },
  {
   "cell_type": "code",
   "execution_count": 4,
   "metadata": {},
   "outputs": [
    {
     "data": {
      "text/html": [
       "<div>\n",
       "<style scoped>\n",
       "    .dataframe tbody tr th:only-of-type {\n",
       "        vertical-align: middle;\n",
       "    }\n",
       "\n",
       "    .dataframe tbody tr th {\n",
       "        vertical-align: top;\n",
       "    }\n",
       "\n",
       "    .dataframe thead th {\n",
       "        text-align: right;\n",
       "    }\n",
       "</style>\n",
       "<table border=\"1\" class=\"dataframe\">\n",
       "  <thead>\n",
       "    <tr style=\"text-align: right;\">\n",
       "      <th></th>\n",
       "      <th>num_orders</th>\n",
       "    </tr>\n",
       "    <tr>\n",
       "      <th>datetime</th>\n",
       "      <th></th>\n",
       "    </tr>\n",
       "  </thead>\n",
       "  <tbody>\n",
       "    <tr>\n",
       "      <td>2018-03-01 00:00:00</td>\n",
       "      <td>9</td>\n",
       "    </tr>\n",
       "    <tr>\n",
       "      <td>2018-03-01 00:10:00</td>\n",
       "      <td>14</td>\n",
       "    </tr>\n",
       "    <tr>\n",
       "      <td>2018-03-01 00:20:00</td>\n",
       "      <td>28</td>\n",
       "    </tr>\n",
       "    <tr>\n",
       "      <td>2018-03-01 00:30:00</td>\n",
       "      <td>20</td>\n",
       "    </tr>\n",
       "    <tr>\n",
       "      <td>2018-03-01 00:40:00</td>\n",
       "      <td>32</td>\n",
       "    </tr>\n",
       "  </tbody>\n",
       "</table>\n",
       "</div>"
      ],
      "text/plain": [
       "                     num_orders\n",
       "datetime                       \n",
       "2018-03-01 00:00:00           9\n",
       "2018-03-01 00:10:00          14\n",
       "2018-03-01 00:20:00          28\n",
       "2018-03-01 00:30:00          20\n",
       "2018-03-01 00:40:00          32"
      ]
     },
     "execution_count": 4,
     "metadata": {},
     "output_type": "execute_result"
    }
   ],
   "source": [
    "data.head()"
   ]
  },
  {
   "cell_type": "markdown",
   "metadata": {},
   "source": [
    "Количество заказов находится в столбце 'num_orders' (от англ. number of orders, «число заказов»)."
   ]
  },
  {
   "cell_type": "markdown",
   "metadata": {},
   "source": [
    "Отсортируем датафрейм по индексам."
   ]
  },
  {
   "cell_type": "code",
   "execution_count": 5,
   "metadata": {},
   "outputs": [],
   "source": [
    "data.sort_index(inplace=True)"
   ]
  },
  {
   "cell_type": "code",
   "execution_count": 6,
   "metadata": {
    "scrolled": false
   },
   "outputs": [
    {
     "data": {
      "text/html": [
       "<div>\n",
       "<style scoped>\n",
       "    .dataframe tbody tr th:only-of-type {\n",
       "        vertical-align: middle;\n",
       "    }\n",
       "\n",
       "    .dataframe tbody tr th {\n",
       "        vertical-align: top;\n",
       "    }\n",
       "\n",
       "    .dataframe thead th {\n",
       "        text-align: right;\n",
       "    }\n",
       "</style>\n",
       "<table border=\"1\" class=\"dataframe\">\n",
       "  <thead>\n",
       "    <tr style=\"text-align: right;\">\n",
       "      <th></th>\n",
       "      <th>num_orders</th>\n",
       "    </tr>\n",
       "    <tr>\n",
       "      <th>datetime</th>\n",
       "      <th></th>\n",
       "    </tr>\n",
       "  </thead>\n",
       "  <tbody>\n",
       "    <tr>\n",
       "      <td>2018-03-01 00:00:00</td>\n",
       "      <td>9</td>\n",
       "    </tr>\n",
       "    <tr>\n",
       "      <td>2018-03-01 00:10:00</td>\n",
       "      <td>14</td>\n",
       "    </tr>\n",
       "    <tr>\n",
       "      <td>2018-03-01 00:20:00</td>\n",
       "      <td>28</td>\n",
       "    </tr>\n",
       "    <tr>\n",
       "      <td>2018-03-01 00:30:00</td>\n",
       "      <td>20</td>\n",
       "    </tr>\n",
       "    <tr>\n",
       "      <td>2018-03-01 00:40:00</td>\n",
       "      <td>32</td>\n",
       "    </tr>\n",
       "    <tr>\n",
       "      <td>...</td>\n",
       "      <td>...</td>\n",
       "    </tr>\n",
       "    <tr>\n",
       "      <td>2018-08-31 23:10:00</td>\n",
       "      <td>32</td>\n",
       "    </tr>\n",
       "    <tr>\n",
       "      <td>2018-08-31 23:20:00</td>\n",
       "      <td>24</td>\n",
       "    </tr>\n",
       "    <tr>\n",
       "      <td>2018-08-31 23:30:00</td>\n",
       "      <td>27</td>\n",
       "    </tr>\n",
       "    <tr>\n",
       "      <td>2018-08-31 23:40:00</td>\n",
       "      <td>39</td>\n",
       "    </tr>\n",
       "    <tr>\n",
       "      <td>2018-08-31 23:50:00</td>\n",
       "      <td>53</td>\n",
       "    </tr>\n",
       "  </tbody>\n",
       "</table>\n",
       "<p>26496 rows × 1 columns</p>\n",
       "</div>"
      ],
      "text/plain": [
       "                     num_orders\n",
       "datetime                       \n",
       "2018-03-01 00:00:00           9\n",
       "2018-03-01 00:10:00          14\n",
       "2018-03-01 00:20:00          28\n",
       "2018-03-01 00:30:00          20\n",
       "2018-03-01 00:40:00          32\n",
       "...                         ...\n",
       "2018-08-31 23:10:00          32\n",
       "2018-08-31 23:20:00          24\n",
       "2018-08-31 23:30:00          27\n",
       "2018-08-31 23:40:00          39\n",
       "2018-08-31 23:50:00          53\n",
       "\n",
       "[26496 rows x 1 columns]"
      ]
     },
     "execution_count": 6,
     "metadata": {},
     "output_type": "execute_result"
    }
   ],
   "source": [
    "data"
   ]
  },
  {
   "cell_type": "markdown",
   "metadata": {},
   "source": [
    "Применим ресемплирование по часам."
   ]
  },
  {
   "cell_type": "code",
   "execution_count": 7,
   "metadata": {},
   "outputs": [],
   "source": [
    "data = data.resample('1H').sum()"
   ]
  },
  {
   "cell_type": "code",
   "execution_count": 8,
   "metadata": {},
   "outputs": [
    {
     "name": "stderr",
     "output_type": "stream",
     "text": [
      "/opt/conda/lib/python3.7/site-packages/pandas/plotting/_matplotlib/converter.py:103: FutureWarning: Using an implicitly registered datetime converter for a matplotlib plotting method. The converter was registered by pandas on import. Future versions of pandas will require you to explicitly register matplotlib converters.\n",
      "\n",
      "To register the converters:\n",
      "\t>>> from pandas.plotting import register_matplotlib_converters\n",
      "\t>>> register_matplotlib_converters()\n",
      "  warnings.warn(msg, FutureWarning)\n"
     ]
    },
    {
     "data": {
      "image/png": "[encoded data removed]",
      "text/plain": [
       "<Figure size 864x360 with 1 Axes>"
      ]
     },
     "metadata": {
      "needs_background": "light"
     },
     "output_type": "display_data"
    }
   ],
   "source": [
    "plt.figure(figsize=(12,5))\n",
    "plt.plot(data);"
   ]
  },
  {
   "cell_type": "markdown",
   "metadata": {},
   "source": [
    "## Анализ"
   ]
  },
  {
   "cell_type": "markdown",
   "metadata": {},
   "source": [
    "Сделаем декомпозицию по целевому признаку и рассмотрим все три составляющие отдельно:\n",
    "\n",
    "- тренд;\n",
    "- сезонная составляющая;\n",
    "- остаток декомпозиции."
   ]
  },
  {
   "cell_type": "code",
   "execution_count": 9,
   "metadata": {},
   "outputs": [],
   "source": [
    "decomposed = seasonal_decompose(data['num_orders'])"
   ]
  },
  {
   "cell_type": "markdown",
   "metadata": {},
   "source": [
    "Применим скользящее среднее, чтобы оценить тренд."
   ]
  },
  {
   "cell_type": "markdown",
   "metadata": {},
   "source": [
    "- Тренд:"
   ]
  },
  {
   "cell_type": "code",
   "execution_count": 11,
   "metadata": {},
   "outputs": [
    {
     "data": {
      "image/png": "[encoded data removed]",
      "text/plain": [
       "<Figure size 432x288 with 1 Axes>"
      ]
     },
     "metadata": {
      "needs_background": "light"
     },
     "output_type": "display_data"
    }
   ],
   "source": [
    "decomposed.trend.plot();"
   ]
  },
  {
   "cell_type": "markdown",
   "metadata": {},
   "source": [
    "С марта по сентябрь число заказов увеличивается. Видимо сервис становится популярнее."
   ]
  },
  {
   "cell_type": "markdown",
   "metadata": {},
   "source": [
    "- Сезонность:"
   ]
  },
  {
   "cell_type": "code",
   "execution_count": 12,
   "metadata": {},
   "outputs": [
    {
     "data": {
      "image/png": "[encoded data removed]",
      "text/plain": [
       "<Figure size 432x288 with 1 Axes>"
      ]
     },
     "metadata": {
      "needs_background": "light"
     },
     "output_type": "display_data"
    }
   ],
   "source": [
    "decomposed.seasonal['2018-06-15':'2018-06-21'].plot();"
   ]
  },
  {
   "cell_type": "markdown",
   "metadata": {},
   "source": [
    "Мы видим, что количество заказов зависит от времени суток. "
   ]
  },
  {
   "cell_type": "code",
   "execution_count": 13,
   "metadata": {
    "scrolled": true
   },
   "outputs": [],
   "source": [
    "#plt.figure(figsize=(12,5))\n",
    "#plt.title('Скользящее среднее')\n",
    "#plt.plot(data)\n",
    "#plt.show()"
   ]
  },
  {
   "cell_type": "markdown",
   "metadata": {},
   "source": [
    "Оценим сезонность в разные недели имеющегося временного промежутка."
   ]
  },
  {
   "cell_type": "code",
   "execution_count": 14,
   "metadata": {
    "scrolled": false
   },
   "outputs": [],
   "source": [
    "\"\"\"\n",
    "fig, (ax1, ax2, ax3) = plt.subplots(3, 1, sharex=False)\n",
    "fig.suptitle('Сезонность в заказах в разные недели')\n",
    "plt.subplots_adjust(left=None, bottom=None, right=None, top=None, wspace=None, hspace=0.5)\n",
    "week1 = decomposed.seasonal['2018-03-15':'2018-03-21']\n",
    "week1.plot(kind='line',figsize=(15, 15), ax=ax1, grid=True)\n",
    "week2 = decomposed.seasonal['2018-06-15':'2018-06-21']\n",
    "week2.plot(kind='line',figsize=(15, 15), ax=ax2, grid=True)\n",
    "week3 = decomposed.seasonal['2018-08-15':'2018-08-21']\n",
    "week3.plot(kind='line',figsize=(15, 15), ax=ax3, grid=True)\n",
    "\n",
    "ax1.set_title(\"['2018-03-15':'2018-03-21']\")\n",
    "ax1.set(xlabel='Время', ylabel='Заказы')\n",
    "ax2.set_title(\"['2018-06-15':'2018-06-21']\")\n",
    "ax2.set(xlabel='Время', ylabel='Заказы')\n",
    "ax3.set_title(\"['2018-08-15':'2018-08-21']\")\n",
    "ax3.set(xlabel='Время', ylabel='Заказы')\n",
    "\n",
    "plt.show()\n",
    "\"\"\";"
   ]
  },
  {
   "cell_type": "markdown",
   "metadata": {},
   "source": [
    "- Остатки (шум):"
   ]
  },
  {
   "cell_type": "code",
   "execution_count": 15,
   "metadata": {},
   "outputs": [
    {
     "data": {
      "image/png": "[encoded data removed]",
      "text/plain": [
       "<Figure size 432x288 with 1 Axes>"
      ]
     },
     "metadata": {
      "needs_background": "light"
     },
     "output_type": "display_data"
    }
   ],
   "source": [
    "decomposed.resid.plot();"
   ]
  },
  {
   "cell_type": "markdown",
   "metadata": {},
   "source": [
    "Чтобы получить из исходного ряда стационарный, найдём разности его значений."
   ]
  },
  {
   "cell_type": "code",
   "execution_count": 16,
   "metadata": {},
   "outputs": [
    {
     "data": {
      "image/png": "[encoded data removed]",
      "text/plain": [
       "<Figure size 432x288 with 1 Axes>"
      ]
     },
     "metadata": {
      "needs_background": "light"
     },
     "output_type": "display_data"
    }
   ],
   "source": [
    "data['num_orders_diff'] = data['num_orders'] - data['num_orders'].shift(fill_value=0)\n",
    "data['diff_std'] = data['num_orders_diff'].rolling(72).std()\n",
    "data['diff_mean'] = data['num_orders_diff'].rolling(72).mean()\n",
    "data['2018-06-15':'2018-06-21'][['num_orders_diff','diff_mean','diff_std']].plot();\n"
   ]
  },
  {
   "cell_type": "markdown",
   "metadata": {},
   "source": [
    "Ряд стал более стационарным, а значит, данные можно прогнозировать. Если мы будем предсказывать разницу между текущим значением количества заказов и следующим, то должны получить более лучшие показатели метрики."
   ]
  },
  {
   "cell_type": "markdown",
   "metadata": {},
   "source": [
    "## Обучение"
   ]
  },
  {
   "cell_type": "markdown",
   "metadata": {},
   "source": [
    "Избавимся от лишних признаков, которые требовались для анализа данных."
   ]
  },
  {
   "cell_type": "code",
   "execution_count": 17,
   "metadata": {},
   "outputs": [],
   "source": [
    "data = data.drop(columns=['num_orders', 'diff_std', 'diff_mean'])"
   ]
  },
  {
   "cell_type": "code",
   "execution_count": 18,
   "metadata": {
    "scrolled": true
   },
   "outputs": [
    {
     "data": {
      "text/html": [
       "<div>\n",
       "<style scoped>\n",
       "    .dataframe tbody tr th:only-of-type {\n",
       "        vertical-align: middle;\n",
       "    }\n",
       "\n",
       "    .dataframe tbody tr th {\n",
       "        vertical-align: top;\n",
       "    }\n",
       "\n",
       "    .dataframe thead th {\n",
       "        text-align: right;\n",
       "    }\n",
       "</style>\n",
       "<table border=\"1\" class=\"dataframe\">\n",
       "  <thead>\n",
       "    <tr style=\"text-align: right;\">\n",
       "      <th></th>\n",
       "      <th>num_orders_diff</th>\n",
       "    </tr>\n",
       "    <tr>\n",
       "      <th>datetime</th>\n",
       "      <th></th>\n",
       "    </tr>\n",
       "  </thead>\n",
       "  <tbody>\n",
       "    <tr>\n",
       "      <td>2018-03-01 00:00:00</td>\n",
       "      <td>124</td>\n",
       "    </tr>\n",
       "    <tr>\n",
       "      <td>2018-03-01 01:00:00</td>\n",
       "      <td>-39</td>\n",
       "    </tr>\n",
       "    <tr>\n",
       "      <td>2018-03-01 02:00:00</td>\n",
       "      <td>-14</td>\n",
       "    </tr>\n",
       "    <tr>\n",
       "      <td>2018-03-01 03:00:00</td>\n",
       "      <td>-5</td>\n",
       "    </tr>\n",
       "    <tr>\n",
       "      <td>2018-03-01 04:00:00</td>\n",
       "      <td>-23</td>\n",
       "    </tr>\n",
       "  </tbody>\n",
       "</table>\n",
       "</div>"
      ],
      "text/plain": [
       "                     num_orders_diff\n",
       "datetime                            \n",
       "2018-03-01 00:00:00              124\n",
       "2018-03-01 01:00:00              -39\n",
       "2018-03-01 02:00:00              -14\n",
       "2018-03-01 03:00:00               -5\n",
       "2018-03-01 04:00:00              -23"
      ]
     },
     "execution_count": 18,
     "metadata": {},
     "output_type": "execute_result"
    }
   ],
   "source": [
    "data.head()"
   ]
  },
  {
   "cell_type": "markdown",
   "metadata": {},
   "source": [
    "Так как у нас прослеживается сезонность внутри суток, добавим признак `hour`. Также добавим заданое количество признаков `lag` и скользящее среднее, вычисленное с учётом заданного размера скользящего окна."
   ]
  },
  {
   "cell_type": "code",
   "execution_count": 19,
   "metadata": {},
   "outputs": [],
   "source": [
    "def make_features(data, column, max_lag, rolling_mean_size):\n",
    "    \"\"\"\n",
    "    Функция создаёт признаки\n",
    "    \"\"\"\n",
    "    #data['year'] = data.index.year\n",
    "    #data['month'] = data.index.month\n",
    "    #data['day'] = data.index.day\n",
    "    #data['dayofweek'] = data.index.dayofweek\n",
    "    data['hour'] = data.index.hour\n",
    "    \n",
    "    for lag in range(1, max_lag + 1):\n",
    "        data['lag_{}'.format(lag)] = data[column].shift(lag)\n",
    "\n",
    "    data['rolling_mean'] = data[column].shift().rolling(rolling_mean_size).mean()\n",
    "    "
   ]
  },
  {
   "cell_type": "code",
   "execution_count": 20,
   "metadata": {},
   "outputs": [],
   "source": [
    "#Проверим работу функции, возьмем max_lag = 4 и rolling_mean_size = 4."
   ]
  },
  {
   "cell_type": "code",
   "execution_count": 21,
   "metadata": {},
   "outputs": [],
   "source": [
    "#make_features(data, 'num_orders_diff', 4, 4)"
   ]
  },
  {
   "cell_type": "code",
   "execution_count": 22,
   "metadata": {},
   "outputs": [],
   "source": [
    "#data.head()"
   ]
  },
  {
   "cell_type": "markdown",
   "metadata": {},
   "source": [
    "Напишем функцию для разбивки временного ряда на train и test."
   ]
  },
  {
   "cell_type": "code",
   "execution_count": 23,
   "metadata": {},
   "outputs": [],
   "source": [
    "def timeline_train_test_split(data, test_size, printing=False):\n",
    "    \"\"\"\n",
    "    Функция разбивает временной ряд на train и test\n",
    "    \"\"\"\n",
    "    train, test = train_test_split(data, shuffle=False, test_size=test_size)\n",
    "    if printing == True:\n",
    "        print('train:', train.index.min(), train.index.max())\n",
    "        print('test: ',test.index.min(), test.index.max())\n",
    "    return train, test"
   ]
  },
  {
   "cell_type": "code",
   "execution_count": 24,
   "metadata": {},
   "outputs": [],
   "source": [
    "#train, test = timeline_train_test_split(data,0.1,True)"
   ]
  },
  {
   "cell_type": "code",
   "execution_count": 25,
   "metadata": {},
   "outputs": [],
   "source": [
    "#test"
   ]
  },
  {
   "cell_type": "markdown",
   "metadata": {},
   "source": [
    "Напишем функцию для создания переменных features_train, features_test, target_train, target_test."
   ]
  },
  {
   "cell_type": "code",
   "execution_count": 26,
   "metadata": {},
   "outputs": [],
   "source": [
    "def train_test_f_t(train, test, target):\n",
    "    \"\"\"\n",
    "    Функция создает переменные признаков и целей\n",
    "    \"\"\"\n",
    "    features_train = train.drop(columns=[target])\n",
    "    features_test = test.drop(columns=[target])\n",
    "    target_train = train[target]\n",
    "    target_test = test[target]\n",
    "    return features_train, features_test, target_train, target_test"
   ]
  },
  {
   "cell_type": "markdown",
   "metadata": {},
   "source": [
    "Будем использовать RMSE как метритку качества."
   ]
  },
  {
   "cell_type": "code",
   "execution_count": 27,
   "metadata": {},
   "outputs": [],
   "source": [
    "def RMSE(y_true,y_pred):\n",
    "    #rmse = mean_squared_error(y_true, y_pred, squared=False)\n",
    "    rmse = mean_squared_error(y_true, y_pred)**(0.5)\n",
    "    #print 'MSE: %2.3f' % mse\n",
    "    return rmse"
   ]
  },
  {
   "cell_type": "code",
   "execution_count": 28,
   "metadata": {},
   "outputs": [],
   "source": [
    "def find_columns(df, column_name):\n",
    "    lag_column = [column for column in data.columns if column_name in column]\n",
    "    return lag_column"
   ]
  },
  {
   "cell_type": "markdown",
   "metadata": {},
   "source": [
    "Обучим различные модели при помощи GridSearchCV() с различными гиперпараметрами при помощи следующей функции:"
   ]
  },
  {
   "cell_type": "code",
   "execution_count": 29,
   "metadata": {},
   "outputs": [],
   "source": [
    "# Функция возвращает предсказания лучшей модели и target_valid\n",
    "def best_model(features_train, \n",
    "                  target_train,\n",
    "                  model,\n",
    "                  param_grid, \n",
    "                  cv, \n",
    "                  refit,\n",
    "                  printing=False):\n",
    "    \n",
    "    my_scorer = {'RMSE': make_scorer(RMSE, greater_is_better=False)\n",
    "                #,'MAE': make_scorer(mean_absolute_error)\n",
    "                }\n",
    "    \n",
    "    model = model\n",
    "    grid = GridSearchCV(model, \n",
    "                        param_grid, \n",
    "                        cv=cv, \n",
    "                        refit=refit, \n",
    "                        scoring=my_scorer) \n",
    "    grid_result = grid.fit(features_train, target_train)\n",
    "    best_model = grid_result.best_estimator_\n",
    "    best_score = grid_result.best_score_\n",
    "    best_params = grid.best_params_\n",
    "    if printing == True:\n",
    "        print(best_params)\n",
    "        print(refit,\":\", best_score)\n",
    "    return(best_model, best_score)"
   ]
  },
  {
   "cell_type": "markdown",
   "metadata": {},
   "source": [
    "Для кросс-валидации на временном ряду воспользуемся методом TimeSeriesSplit(), чтобы определить количество фолдов (по умолчанию их 5)."
   ]
  },
  {
   "cell_type": "code",
   "execution_count": 30,
   "metadata": {},
   "outputs": [
    {
     "data": {
      "text/plain": [
       "TimeSeriesSplit(max_train_size=None, n_splits=5)"
      ]
     },
     "execution_count": 30,
     "metadata": {},
     "output_type": "execute_result"
    }
   ],
   "source": [
    "tscv = TimeSeriesSplit(n_splits=5)\n",
    "tscv"
   ]
  },
  {
   "cell_type": "markdown",
   "metadata": {},
   "source": [
    "Будем перебирать max_lag и rolling_mean_size для нахождения наилучшего сочетания."
   ]
  },
  {
   "cell_type": "code",
   "execution_count": 31,
   "metadata": {},
   "outputs": [],
   "source": [
    "def best_features_model(df,\n",
    "                        column,\n",
    "                        max_lag, \n",
    "                        rolling_mean_size,\n",
    "                        model,\n",
    "                        param_grid,\n",
    "                        cv,\n",
    "                        refit):\n",
    "    \"\"\"\n",
    "    Функция: - перебирает max_lag и rolling_mean_size,\n",
    "             - создает признаки в исходном датафрейме df,\n",
    "             - делит на train и test датафрейм,\n",
    "             - применяет best_model() для features_train, target_train,\n",
    "             - возвращает best_train, best_test, thebest_model, best_metric\n",
    "               для лучшей метрики.\n",
    "    \"\"\"\n",
    "    best_metric = -100\n",
    "    \n",
    "    lag_column = find_columns(df, 'lag')\n",
    "    df = df.drop(columns = lag_column)\n",
    "        \n",
    "    for lag in range(1, max_lag + 1):\n",
    "        for size in range(1, rolling_mean_size + 1):\n",
    "            make_features(df, column, lag, size) #Создаём признаки\n",
    "            train, test = timeline_train_test_split(df, 0.1) #Разбиваем на train и test\n",
    "            \"\"\"\n",
    "            Получить признаки для первых значений обучающей выборки нельзя:\n",
    "            исторических данных по ним нет. \n",
    "            Поэтому строки с NaN нужно удалить:\n",
    "            \"\"\"\n",
    "            train = train.dropna()\n",
    "            features_train, features_test, target_train, target_test = \\\n",
    "                            train_test_f_t(train, test, column)\n",
    "\n",
    "            model, metric = best_model(features_train,\n",
    "                            target_train,\n",
    "                            model,\n",
    "                            param_grid,\n",
    "                            cv,\n",
    "                            refit, True)\n",
    "            print('lag:', lag, \",\", 'window size:', size)\n",
    "            if metric > best_metric:\n",
    "                best_metric = metric\n",
    "                best_train = train\n",
    "                best_test = test\n",
    "                thebest_model = model\n",
    "                best_lag = lag\n",
    "                best_rolling_mean_size = rolling_mean_size\n",
    "    print('-------------------------')\n",
    "    print('best_lag:',best_lag)\n",
    "    print('best_rolling_mean_size:',best_rolling_mean_size)\n",
    "    print('best_metric:',best_metric)\n",
    "    return best_train, best_test, thebest_model, best_metric\n",
    "            "
   ]
  },
  {
   "cell_type": "code",
   "execution_count": 32,
   "metadata": {},
   "outputs": [],
   "source": [
    "# Сетка параметров для линейной регрессии\n",
    "PARAM_GRID_LR = {'fit_intercept': [False, True],\n",
    "              'normalize': [False, True],\n",
    "             'n_jobs': [-1, None]}  \n",
    "PARAM_GRID_LR;"
   ]
  },
  {
   "cell_type": "code",
   "execution_count": 33,
   "metadata": {},
   "outputs": [
    {
     "name": "stdout",
     "output_type": "stream",
     "text": [
      "{'fit_intercept': True, 'n_jobs': -1, 'normalize': True}\n",
      "RMSE : -35.09669867260263\n",
      "lag: 1 , window size: 1\n",
      "{'fit_intercept': True, 'n_jobs': -1, 'normalize': False}\n",
      "RMSE : -34.77512940644467\n",
      "lag: 1 , window size: 2\n",
      "{'fit_intercept': True, 'n_jobs': -1, 'normalize': False}\n",
      "RMSE : -34.44155745550453\n",
      "lag: 1 , window size: 3\n",
      "{'fit_intercept': True, 'n_jobs': -1, 'normalize': False}\n",
      "RMSE : -33.92477175732516\n",
      "lag: 1 , window size: 4\n",
      "{'fit_intercept': True, 'n_jobs': -1, 'normalize': False}\n",
      "RMSE : -33.83548920426108\n",
      "lag: 1 , window size: 5\n",
      "{'fit_intercept': True, 'n_jobs': -1, 'normalize': True}\n",
      "RMSE : -34.77773069100655\n",
      "lag: 2 , window size: 1\n",
      "{'fit_intercept': True, 'n_jobs': -1, 'normalize': False}\n",
      "RMSE : -34.77512940644467\n",
      "lag: 2 , window size: 2\n",
      "{'fit_intercept': True, 'n_jobs': -1, 'normalize': True}\n",
      "RMSE : -34.454136698768714\n",
      "lag: 2 , window size: 3\n",
      "{'fit_intercept': True, 'n_jobs': -1, 'normalize': False}\n",
      "RMSE : -33.950224261458864\n",
      "lag: 2 , window size: 4\n",
      "{'fit_intercept': True, 'n_jobs': -1, 'normalize': False}\n",
      "RMSE : -33.808528026885384\n",
      "lag: 2 , window size: 5\n",
      "{'fit_intercept': True, 'n_jobs': -1, 'normalize': False}\n",
      "RMSE : -34.50052361323896\n",
      "lag: 3 , window size: 1\n",
      "{'fit_intercept': True, 'n_jobs': -1, 'normalize': False}\n",
      "RMSE : -34.49326880751896\n",
      "lag: 3 , window size: 2\n",
      "{'fit_intercept': True, 'n_jobs': -1, 'normalize': True}\n",
      "RMSE : -34.465016928140585\n",
      "lag: 3 , window size: 3\n",
      "{'fit_intercept': True, 'n_jobs': -1, 'normalize': False}\n",
      "RMSE : -34.00043667921604\n",
      "lag: 3 , window size: 4\n",
      "{'fit_intercept': True, 'n_jobs': -1, 'normalize': False}\n",
      "RMSE : -33.81261438122961\n",
      "lag: 3 , window size: 5\n",
      "{'fit_intercept': True, 'n_jobs': -1, 'normalize': False}\n",
      "RMSE : -34.00043667921604\n",
      "lag: 4 , window size: 1\n",
      "{'fit_intercept': True, 'n_jobs': -1, 'normalize': False}\n",
      "RMSE : -33.994412556601205\n",
      "lag: 4 , window size: 2\n",
      "{'fit_intercept': True, 'n_jobs': -1, 'normalize': False}\n",
      "RMSE : -33.98637679832308\n",
      "lag: 4 , window size: 3\n",
      "{'fit_intercept': True, 'n_jobs': -1, 'normalize': False}\n",
      "RMSE : -34.005623347984546\n",
      "lag: 4 , window size: 4\n",
      "{'fit_intercept': True, 'n_jobs': -1, 'normalize': False}\n",
      "RMSE : -33.77870981254876\n",
      "lag: 4 , window size: 5\n",
      "{'fit_intercept': True, 'n_jobs': -1, 'normalize': True}\n",
      "RMSE : -33.77870981254876\n",
      "lag: 5 , window size: 1\n",
      "{'fit_intercept': True, 'n_jobs': -1, 'normalize': True}\n",
      "RMSE : -33.77870981254876\n",
      "lag: 5 , window size: 2\n",
      "{'fit_intercept': True, 'n_jobs': -1, 'normalize': False}\n",
      "RMSE : -33.79184121787874\n",
      "lag: 5 , window size: 3\n",
      "{'fit_intercept': True, 'n_jobs': -1, 'normalize': True}\n",
      "RMSE : -33.764218162010316\n",
      "lag: 5 , window size: 4\n",
      "{'fit_intercept': True, 'n_jobs': -1, 'normalize': True}\n",
      "RMSE : -33.7621518994793\n",
      "lag: 5 , window size: 5\n",
      "-------------------------\n",
      "best_lag: 5\n",
      "best_rolling_mean_size: 5\n",
      "best_metric: -33.7621518994793\n",
      "CPU times: user 6.66 s, sys: 1.19 s, total: 7.85 s\n",
      "Wall time: 7.91 s\n"
     ]
    }
   ],
   "source": [
    "%%time\n",
    "train_LR, test_LR, model_LR, RMSE_LR = best_features_model(data,\n",
    "                        column='num_orders_diff',\n",
    "                        max_lag=5, \n",
    "                        rolling_mean_size=5,\n",
    "                        model=LinearRegression(),\n",
    "                        param_grid=PARAM_GRID_LR,\n",
    "                        cv=tscv,\n",
    "                        refit='RMSE')"
   ]
  },
  {
   "cell_type": "code",
   "execution_count": 34,
   "metadata": {},
   "outputs": [
    {
     "data": {
      "text/html": [
       "<div>\n",
       "<style scoped>\n",
       "    .dataframe tbody tr th:only-of-type {\n",
       "        vertical-align: middle;\n",
       "    }\n",
       "\n",
       "    .dataframe tbody tr th {\n",
       "        vertical-align: top;\n",
       "    }\n",
       "\n",
       "    .dataframe thead th {\n",
       "        text-align: right;\n",
       "    }\n",
       "</style>\n",
       "<table border=\"1\" class=\"dataframe\">\n",
       "  <thead>\n",
       "    <tr style=\"text-align: right;\">\n",
       "      <th></th>\n",
       "      <th>num_orders_diff</th>\n",
       "      <th>hour</th>\n",
       "      <th>lag_1</th>\n",
       "      <th>rolling_mean</th>\n",
       "      <th>lag_2</th>\n",
       "      <th>lag_3</th>\n",
       "      <th>lag_4</th>\n",
       "      <th>lag_5</th>\n",
       "    </tr>\n",
       "    <tr>\n",
       "      <th>datetime</th>\n",
       "      <th></th>\n",
       "      <th></th>\n",
       "      <th></th>\n",
       "      <th></th>\n",
       "      <th></th>\n",
       "      <th></th>\n",
       "      <th></th>\n",
       "      <th></th>\n",
       "    </tr>\n",
       "  </thead>\n",
       "  <tbody>\n",
       "    <tr>\n",
       "      <td>2018-08-13 14:00:00</td>\n",
       "      <td>-17</td>\n",
       "      <td>14</td>\n",
       "      <td>27.0</td>\n",
       "      <td>5.6</td>\n",
       "      <td>-52.0</td>\n",
       "      <td>-12.0</td>\n",
       "      <td>19.0</td>\n",
       "      <td>46.0</td>\n",
       "    </tr>\n",
       "    <tr>\n",
       "      <td>2018-08-13 15:00:00</td>\n",
       "      <td>73</td>\n",
       "      <td>15</td>\n",
       "      <td>-17.0</td>\n",
       "      <td>-7.0</td>\n",
       "      <td>27.0</td>\n",
       "      <td>-52.0</td>\n",
       "      <td>-12.0</td>\n",
       "      <td>19.0</td>\n",
       "    </tr>\n",
       "    <tr>\n",
       "      <td>2018-08-13 16:00:00</td>\n",
       "      <td>-31</td>\n",
       "      <td>16</td>\n",
       "      <td>73.0</td>\n",
       "      <td>3.8</td>\n",
       "      <td>-17.0</td>\n",
       "      <td>27.0</td>\n",
       "      <td>-52.0</td>\n",
       "      <td>-12.0</td>\n",
       "    </tr>\n",
       "    <tr>\n",
       "      <td>2018-08-13 17:00:00</td>\n",
       "      <td>8</td>\n",
       "      <td>17</td>\n",
       "      <td>-31.0</td>\n",
       "      <td>0.0</td>\n",
       "      <td>73.0</td>\n",
       "      <td>-17.0</td>\n",
       "      <td>27.0</td>\n",
       "      <td>-52.0</td>\n",
       "    </tr>\n",
       "    <tr>\n",
       "      <td>2018-08-13 18:00:00</td>\n",
       "      <td>-48</td>\n",
       "      <td>18</td>\n",
       "      <td>8.0</td>\n",
       "      <td>12.0</td>\n",
       "      <td>-31.0</td>\n",
       "      <td>73.0</td>\n",
       "      <td>-17.0</td>\n",
       "      <td>27.0</td>\n",
       "    </tr>\n",
       "  </tbody>\n",
       "</table>\n",
       "</div>"
      ],
      "text/plain": [
       "                     num_orders_diff  hour  lag_1  rolling_mean  lag_2  lag_3  \\\n",
       "datetime                                                                        \n",
       "2018-08-13 14:00:00              -17    14   27.0           5.6  -52.0  -12.0   \n",
       "2018-08-13 15:00:00               73    15  -17.0          -7.0   27.0  -52.0   \n",
       "2018-08-13 16:00:00              -31    16   73.0           3.8  -17.0   27.0   \n",
       "2018-08-13 17:00:00                8    17  -31.0           0.0   73.0  -17.0   \n",
       "2018-08-13 18:00:00              -48    18    8.0          12.0  -31.0   73.0   \n",
       "\n",
       "                     lag_4  lag_5  \n",
       "datetime                           \n",
       "2018-08-13 14:00:00   19.0   46.0  \n",
       "2018-08-13 15:00:00  -12.0   19.0  \n",
       "2018-08-13 16:00:00  -52.0  -12.0  \n",
       "2018-08-13 17:00:00   27.0  -52.0  \n",
       "2018-08-13 18:00:00  -17.0   27.0  "
      ]
     },
     "execution_count": 34,
     "metadata": {},
     "output_type": "execute_result"
    }
   ],
   "source": [
    "test_LR.head()"
   ]
  },
  {
   "cell_type": "code",
   "execution_count": 35,
   "metadata": {},
   "outputs": [
    {
     "data": {
      "text/html": [
       "<div>\n",
       "<style scoped>\n",
       "    .dataframe tbody tr th:only-of-type {\n",
       "        vertical-align: middle;\n",
       "    }\n",
       "\n",
       "    .dataframe tbody tr th {\n",
       "        vertical-align: top;\n",
       "    }\n",
       "\n",
       "    .dataframe thead th {\n",
       "        text-align: right;\n",
       "    }\n",
       "</style>\n",
       "<table border=\"1\" class=\"dataframe\">\n",
       "  <thead>\n",
       "    <tr style=\"text-align: right;\">\n",
       "      <th></th>\n",
       "      <th>num_orders_diff</th>\n",
       "    </tr>\n",
       "    <tr>\n",
       "      <th>datetime</th>\n",
       "      <th></th>\n",
       "    </tr>\n",
       "  </thead>\n",
       "  <tbody>\n",
       "    <tr>\n",
       "      <td>2018-03-01 00:00:00</td>\n",
       "      <td>124</td>\n",
       "    </tr>\n",
       "    <tr>\n",
       "      <td>2018-03-01 01:00:00</td>\n",
       "      <td>-39</td>\n",
       "    </tr>\n",
       "    <tr>\n",
       "      <td>2018-03-01 02:00:00</td>\n",
       "      <td>-14</td>\n",
       "    </tr>\n",
       "    <tr>\n",
       "      <td>2018-03-01 03:00:00</td>\n",
       "      <td>-5</td>\n",
       "    </tr>\n",
       "    <tr>\n",
       "      <td>2018-03-01 04:00:00</td>\n",
       "      <td>-23</td>\n",
       "    </tr>\n",
       "  </tbody>\n",
       "</table>\n",
       "</div>"
      ],
      "text/plain": [
       "                     num_orders_diff\n",
       "datetime                            \n",
       "2018-03-01 00:00:00              124\n",
       "2018-03-01 01:00:00              -39\n",
       "2018-03-01 02:00:00              -14\n",
       "2018-03-01 03:00:00               -5\n",
       "2018-03-01 04:00:00              -23"
      ]
     },
     "execution_count": 35,
     "metadata": {},
     "output_type": "execute_result"
    }
   ],
   "source": [
    "data.head()"
   ]
  },
  {
   "cell_type": "code",
   "execution_count": 36,
   "metadata": {},
   "outputs": [],
   "source": [
    "# Сетка параметров для DecisionTreeRegressor()\n",
    "PARAM_GRID_DTR = {'splitter': ['best', 'random'],\n",
    "                  'max_depth': range(1,10),\n",
    "                  'min_samples_leaf': range(1,5),\n",
    "                 'random_state': [12345]}  \n",
    "PARAM_GRID_DTR;"
   ]
  },
  {
   "cell_type": "code",
   "execution_count": 37,
   "metadata": {},
   "outputs": [
    {
     "name": "stdout",
     "output_type": "stream",
     "text": [
      "{'max_depth': 7, 'min_samples_leaf': 4, 'random_state': 12345, 'splitter': 'best'}\n",
      "RMSE : -30.871695363789893\n",
      "lag: 1 , window size: 1\n",
      "{'max_depth': 7, 'min_samples_leaf': 3, 'random_state': 12345, 'splitter': 'best'}\n",
      "RMSE : -30.116851237442958\n",
      "lag: 1 , window size: 2\n",
      "{'max_depth': 7, 'min_samples_leaf': 4, 'random_state': 12345, 'splitter': 'best'}\n",
      "RMSE : -30.320570401568013\n",
      "lag: 1 , window size: 3\n",
      "{'max_depth': 8, 'min_samples_leaf': 3, 'random_state': 12345, 'splitter': 'best'}\n",
      "RMSE : -29.93934962347336\n",
      "lag: 1 , window size: 4\n",
      "{'max_depth': 6, 'min_samples_leaf': 2, 'random_state': 12345, 'splitter': 'best'}\n",
      "RMSE : -30.448203945425025\n",
      "lag: 1 , window size: 5\n",
      "{'max_depth': 7, 'min_samples_leaf': 3, 'random_state': 12345, 'splitter': 'best'}\n",
      "RMSE : -30.61869391723761\n",
      "lag: 2 , window size: 1\n",
      "{'max_depth': 7, 'min_samples_leaf': 4, 'random_state': 12345, 'splitter': 'best'}\n",
      "RMSE : -30.228595900375698\n",
      "lag: 2 , window size: 2\n",
      "{'max_depth': 6, 'min_samples_leaf': 4, 'random_state': 12345, 'splitter': 'best'}\n",
      "RMSE : -30.39087249665826\n",
      "lag: 2 , window size: 3\n",
      "{'max_depth': 9, 'min_samples_leaf': 4, 'random_state': 12345, 'splitter': 'random'}\n",
      "RMSE : -29.92252470059589\n",
      "lag: 2 , window size: 4\n",
      "{'max_depth': 8, 'min_samples_leaf': 4, 'random_state': 12345, 'splitter': 'random'}\n",
      "RMSE : -30.620383335388684\n",
      "lag: 2 , window size: 5\n",
      "{'max_depth': 6, 'min_samples_leaf': 4, 'random_state': 12345, 'splitter': 'best'}\n",
      "RMSE : -31.07666729318298\n",
      "lag: 3 , window size: 1\n",
      "{'max_depth': 9, 'min_samples_leaf': 4, 'random_state': 12345, 'splitter': 'random'}\n",
      "RMSE : -30.51276224236439\n",
      "lag: 3 , window size: 2\n",
      "{'max_depth': 7, 'min_samples_leaf': 4, 'random_state': 12345, 'splitter': 'best'}\n",
      "RMSE : -30.645767764726326\n",
      "lag: 3 , window size: 3\n",
      "{'max_depth': 6, 'min_samples_leaf': 2, 'random_state': 12345, 'splitter': 'best'}\n",
      "RMSE : -30.710924227987366\n",
      "lag: 3 , window size: 4\n",
      "{'max_depth': 6, 'min_samples_leaf': 3, 'random_state': 12345, 'splitter': 'best'}\n",
      "RMSE : -30.97022889484672\n",
      "lag: 3 , window size: 5\n",
      "{'max_depth': 6, 'min_samples_leaf': 4, 'random_state': 12345, 'splitter': 'best'}\n",
      "RMSE : -31.454170135656966\n",
      "lag: 4 , window size: 1\n",
      "{'max_depth': 9, 'min_samples_leaf': 4, 'random_state': 12345, 'splitter': 'best'}\n",
      "RMSE : -31.06750774237446\n",
      "lag: 4 , window size: 2\n",
      "{'max_depth': 7, 'min_samples_leaf': 4, 'random_state': 12345, 'splitter': 'best'}\n",
      "RMSE : -30.590847339388997\n",
      "lag: 4 , window size: 3\n",
      "{'max_depth': 5, 'min_samples_leaf': 1, 'random_state': 12345, 'splitter': 'best'}\n",
      "RMSE : -30.826395156157286\n",
      "lag: 4 , window size: 4\n",
      "{'max_depth': 6, 'min_samples_leaf': 3, 'random_state': 12345, 'splitter': 'best'}\n",
      "RMSE : -30.942026373150235\n",
      "lag: 4 , window size: 5\n",
      "{'max_depth': 6, 'min_samples_leaf': 4, 'random_state': 12345, 'splitter': 'best'}\n",
      "RMSE : -31.433508062333352\n",
      "lag: 5 , window size: 1\n",
      "{'max_depth': 9, 'min_samples_leaf': 4, 'random_state': 12345, 'splitter': 'best'}\n",
      "RMSE : -31.297233761218447\n",
      "lag: 5 , window size: 2\n",
      "{'max_depth': 6, 'min_samples_leaf': 4, 'random_state': 12345, 'splitter': 'best'}\n",
      "RMSE : -30.830957363607148\n",
      "lag: 5 , window size: 3\n",
      "{'max_depth': 6, 'min_samples_leaf': 4, 'random_state': 12345, 'splitter': 'best'}\n",
      "RMSE : -30.793888491504543\n",
      "lag: 5 , window size: 4\n",
      "{'max_depth': 6, 'min_samples_leaf': 3, 'random_state': 12345, 'splitter': 'best'}\n",
      "RMSE : -30.836958625110203\n",
      "lag: 5 , window size: 5\n",
      "-------------------------\n",
      "best_lag: 2\n",
      "best_rolling_mean_size: 5\n",
      "best_metric: -29.92252470059589\n",
      "CPU times: user 1min, sys: 106 ms, total: 1min\n",
      "Wall time: 1min 1s\n"
     ]
    }
   ],
   "source": [
    "%%time\n",
    "train_DTR, test_DTR, model_DTR, RMSE_DTR = best_features_model(data,\n",
    "                        column='num_orders_diff',\n",
    "                        max_lag=5, \n",
    "                        rolling_mean_size=5,\n",
    "                        model=DecisionTreeRegressor(),\n",
    "                        param_grid=PARAM_GRID_DTR,\n",
    "                        cv=tscv,\n",
    "                        refit='RMSE');"
   ]
  },
  {
   "cell_type": "code",
   "execution_count": 38,
   "metadata": {},
   "outputs": [
    {
     "data": {
      "text/html": [
       "<div>\n",
       "<style scoped>\n",
       "    .dataframe tbody tr th:only-of-type {\n",
       "        vertical-align: middle;\n",
       "    }\n",
       "\n",
       "    .dataframe tbody tr th {\n",
       "        vertical-align: top;\n",
       "    }\n",
       "\n",
       "    .dataframe thead th {\n",
       "        text-align: right;\n",
       "    }\n",
       "</style>\n",
       "<table border=\"1\" class=\"dataframe\">\n",
       "  <thead>\n",
       "    <tr style=\"text-align: right;\">\n",
       "      <th></th>\n",
       "      <th>num_orders_diff</th>\n",
       "      <th>hour</th>\n",
       "      <th>lag_1</th>\n",
       "      <th>rolling_mean</th>\n",
       "      <th>lag_2</th>\n",
       "    </tr>\n",
       "    <tr>\n",
       "      <th>datetime</th>\n",
       "      <th></th>\n",
       "      <th></th>\n",
       "      <th></th>\n",
       "      <th></th>\n",
       "      <th></th>\n",
       "    </tr>\n",
       "  </thead>\n",
       "  <tbody>\n",
       "    <tr>\n",
       "      <td>2018-08-13 14:00:00</td>\n",
       "      <td>-17</td>\n",
       "      <td>14</td>\n",
       "      <td>27.0</td>\n",
       "      <td>-4.50</td>\n",
       "      <td>-52.0</td>\n",
       "    </tr>\n",
       "    <tr>\n",
       "      <td>2018-08-13 15:00:00</td>\n",
       "      <td>73</td>\n",
       "      <td>15</td>\n",
       "      <td>-17.0</td>\n",
       "      <td>-13.50</td>\n",
       "      <td>27.0</td>\n",
       "    </tr>\n",
       "    <tr>\n",
       "      <td>2018-08-13 16:00:00</td>\n",
       "      <td>-31</td>\n",
       "      <td>16</td>\n",
       "      <td>73.0</td>\n",
       "      <td>7.75</td>\n",
       "      <td>-17.0</td>\n",
       "    </tr>\n",
       "    <tr>\n",
       "      <td>2018-08-13 17:00:00</td>\n",
       "      <td>8</td>\n",
       "      <td>17</td>\n",
       "      <td>-31.0</td>\n",
       "      <td>13.00</td>\n",
       "      <td>73.0</td>\n",
       "    </tr>\n",
       "    <tr>\n",
       "      <td>2018-08-13 18:00:00</td>\n",
       "      <td>-48</td>\n",
       "      <td>18</td>\n",
       "      <td>8.0</td>\n",
       "      <td>8.25</td>\n",
       "      <td>-31.0</td>\n",
       "    </tr>\n",
       "  </tbody>\n",
       "</table>\n",
       "</div>"
      ],
      "text/plain": [
       "                     num_orders_diff  hour  lag_1  rolling_mean  lag_2\n",
       "datetime                                                              \n",
       "2018-08-13 14:00:00              -17    14   27.0         -4.50  -52.0\n",
       "2018-08-13 15:00:00               73    15  -17.0        -13.50   27.0\n",
       "2018-08-13 16:00:00              -31    16   73.0          7.75  -17.0\n",
       "2018-08-13 17:00:00                8    17  -31.0         13.00   73.0\n",
       "2018-08-13 18:00:00              -48    18    8.0          8.25  -31.0"
      ]
     },
     "execution_count": 38,
     "metadata": {},
     "output_type": "execute_result"
    }
   ],
   "source": [
    "test_DTR.head()"
   ]
  },
  {
   "cell_type": "code",
   "execution_count": 39,
   "metadata": {},
   "outputs": [],
   "source": [
    "# Сетка параметров для RandomForestRegressor()\n",
    "PARAM_GRID_RFR = {'n_estimators': [3,  10,  31, 100], #np.logspace(0, 2, 5, endpoint=True, dtype = 'int')\n",
    "                  'max_depth': range(1,5),\n",
    "                  #'min_samples_leaf': range(1,5),\n",
    "                 'random_state': [12345]\n",
    "                 }  \n",
    "PARAM_GRID_RFR;"
   ]
  },
  {
   "cell_type": "code",
   "execution_count": 40,
   "metadata": {
    "scrolled": false
   },
   "outputs": [
    {
     "name": "stdout",
     "output_type": "stream",
     "text": [
      "{'max_depth': 4, 'n_estimators': 10, 'random_state': 12345}\n",
      "RMSE : -30.917829474286716\n",
      "lag: 1 , window size: 1\n",
      "{'max_depth': 4, 'n_estimators': 100, 'random_state': 12345}\n",
      "RMSE : -30.483811767318933\n",
      "lag: 1 , window size: 2\n",
      "{'max_depth': 4, 'n_estimators': 100, 'random_state': 12345}\n",
      "RMSE : -30.582950474531085\n",
      "lag: 1 , window size: 3\n",
      "{'max_depth': 4, 'n_estimators': 100, 'random_state': 12345}\n",
      "RMSE : -29.675164500528794\n",
      "lag: 1 , window size: 4\n",
      "{'max_depth': 4, 'n_estimators': 100, 'random_state': 12345}\n",
      "RMSE : -30.03521552317892\n",
      "lag: 1 , window size: 5\n",
      "{'max_depth': 4, 'n_estimators': 100, 'random_state': 12345}\n",
      "RMSE : -30.91710709067155\n",
      "lag: 2 , window size: 1\n",
      "{'max_depth': 4, 'n_estimators': 100, 'random_state': 12345}\n",
      "RMSE : -30.51648325025193\n",
      "lag: 2 , window size: 2\n",
      "{'max_depth': 4, 'n_estimators': 100, 'random_state': 12345}\n",
      "RMSE : -30.615553577176538\n",
      "lag: 2 , window size: 3\n",
      "{'max_depth': 4, 'n_estimators': 100, 'random_state': 12345}\n",
      "RMSE : -29.735398929338082\n",
      "lag: 2 , window size: 4\n",
      "{'max_depth': 4, 'n_estimators': 100, 'random_state': 12345}\n",
      "RMSE : -30.080517667078826\n",
      "lag: 2 , window size: 5\n",
      "{'max_depth': 4, 'n_estimators': 100, 'random_state': 12345}\n",
      "RMSE : -31.064164289719884\n",
      "lag: 3 , window size: 1\n",
      "{'max_depth': 4, 'n_estimators': 100, 'random_state': 12345}\n",
      "RMSE : -30.607148897744946\n",
      "lag: 3 , window size: 2\n",
      "{'max_depth': 4, 'n_estimators': 100, 'random_state': 12345}\n",
      "RMSE : -30.6523308468298\n",
      "lag: 3 , window size: 3\n",
      "{'max_depth': 4, 'n_estimators': 100, 'random_state': 12345}\n",
      "RMSE : -29.781885322433492\n",
      "lag: 3 , window size: 4\n",
      "{'max_depth': 4, 'n_estimators': 100, 'random_state': 12345}\n",
      "RMSE : -30.12572181130018\n",
      "lag: 3 , window size: 5\n",
      "{'max_depth': 4, 'n_estimators': 31, 'random_state': 12345}\n",
      "RMSE : -31.018755975247675\n",
      "lag: 4 , window size: 1\n",
      "{'max_depth': 4, 'n_estimators': 100, 'random_state': 12345}\n",
      "RMSE : -30.66280574942084\n",
      "lag: 4 , window size: 2\n",
      "{'max_depth': 4, 'n_estimators': 31, 'random_state': 12345}\n",
      "RMSE : -30.295784265919544\n",
      "lag: 4 , window size: 3\n",
      "{'max_depth': 4, 'n_estimators': 100, 'random_state': 12345}\n",
      "RMSE : -29.85520938355654\n",
      "lag: 4 , window size: 4\n",
      "{'max_depth': 4, 'n_estimators': 100, 'random_state': 12345}\n",
      "RMSE : -30.120886858120453\n",
      "lag: 4 , window size: 5\n",
      "{'max_depth': 4, 'n_estimators': 100, 'random_state': 12345}\n",
      "RMSE : -31.119399987383467\n",
      "lag: 5 , window size: 1\n",
      "{'max_depth': 4, 'n_estimators': 100, 'random_state': 12345}\n",
      "RMSE : -30.753007228489427\n",
      "lag: 5 , window size: 2\n",
      "{'max_depth': 4, 'n_estimators': 100, 'random_state': 12345}\n",
      "RMSE : -30.399585192235502\n",
      "lag: 5 , window size: 3\n",
      "{'max_depth': 4, 'n_estimators': 100, 'random_state': 12345}\n",
      "RMSE : -29.85813899620859\n",
      "lag: 5 , window size: 4\n",
      "{'max_depth': 4, 'n_estimators': 100, 'random_state': 12345}\n",
      "RMSE : -30.041611838704245\n",
      "lag: 5 , window size: 5\n",
      "-------------------------\n",
      "best_lag: 1\n",
      "best_rolling_mean_size: 5\n",
      "best_metric: -29.675164500528794\n",
      "CPU times: user 3min 8s, sys: 1.1 s, total: 3min 9s\n",
      "Wall time: 3min 10s\n"
     ]
    }
   ],
   "source": [
    "%%time\n",
    "train_RFR, test_RFR, model_RFR, RMSE_RFR = best_features_model(data,\n",
    "                        column='num_orders_diff',\n",
    "                        max_lag=5, \n",
    "                        rolling_mean_size=5,\n",
    "                        model=RandomForestRegressor(),\n",
    "                        param_grid=PARAM_GRID_RFR,\n",
    "                        cv=tscv,\n",
    "                        refit='RMSE');"
   ]
  },
  {
   "cell_type": "code",
   "execution_count": 41,
   "metadata": {},
   "outputs": [
    {
     "data": {
      "text/html": [
       "<div>\n",
       "<style scoped>\n",
       "    .dataframe tbody tr th:only-of-type {\n",
       "        vertical-align: middle;\n",
       "    }\n",
       "\n",
       "    .dataframe tbody tr th {\n",
       "        vertical-align: top;\n",
       "    }\n",
       "\n",
       "    .dataframe thead th {\n",
       "        text-align: right;\n",
       "    }\n",
       "</style>\n",
       "<table border=\"1\" class=\"dataframe\">\n",
       "  <thead>\n",
       "    <tr style=\"text-align: right;\">\n",
       "      <th></th>\n",
       "      <th>num_orders_diff</th>\n",
       "      <th>hour</th>\n",
       "      <th>lag_1</th>\n",
       "      <th>rolling_mean</th>\n",
       "    </tr>\n",
       "    <tr>\n",
       "      <th>datetime</th>\n",
       "      <th></th>\n",
       "      <th></th>\n",
       "      <th></th>\n",
       "      <th></th>\n",
       "    </tr>\n",
       "  </thead>\n",
       "  <tbody>\n",
       "    <tr>\n",
       "      <td>2018-08-13 14:00:00</td>\n",
       "      <td>-17</td>\n",
       "      <td>14</td>\n",
       "      <td>27.0</td>\n",
       "      <td>-4.50</td>\n",
       "    </tr>\n",
       "    <tr>\n",
       "      <td>2018-08-13 15:00:00</td>\n",
       "      <td>73</td>\n",
       "      <td>15</td>\n",
       "      <td>-17.0</td>\n",
       "      <td>-13.50</td>\n",
       "    </tr>\n",
       "    <tr>\n",
       "      <td>2018-08-13 16:00:00</td>\n",
       "      <td>-31</td>\n",
       "      <td>16</td>\n",
       "      <td>73.0</td>\n",
       "      <td>7.75</td>\n",
       "    </tr>\n",
       "    <tr>\n",
       "      <td>2018-08-13 17:00:00</td>\n",
       "      <td>8</td>\n",
       "      <td>17</td>\n",
       "      <td>-31.0</td>\n",
       "      <td>13.00</td>\n",
       "    </tr>\n",
       "    <tr>\n",
       "      <td>2018-08-13 18:00:00</td>\n",
       "      <td>-48</td>\n",
       "      <td>18</td>\n",
       "      <td>8.0</td>\n",
       "      <td>8.25</td>\n",
       "    </tr>\n",
       "  </tbody>\n",
       "</table>\n",
       "</div>"
      ],
      "text/plain": [
       "                     num_orders_diff  hour  lag_1  rolling_mean\n",
       "datetime                                                       \n",
       "2018-08-13 14:00:00              -17    14   27.0         -4.50\n",
       "2018-08-13 15:00:00               73    15  -17.0        -13.50\n",
       "2018-08-13 16:00:00              -31    16   73.0          7.75\n",
       "2018-08-13 17:00:00                8    17  -31.0         13.00\n",
       "2018-08-13 18:00:00              -48    18    8.0          8.25"
      ]
     },
     "execution_count": 41,
     "metadata": {},
     "output_type": "execute_result"
    }
   ],
   "source": [
    "test_RFR.head()"
   ]
  },
  {
   "cell_type": "code",
   "execution_count": 42,
   "metadata": {},
   "outputs": [],
   "source": [
    "# Сетка параметров для HistGradientBoostingRegressor()\n",
    "PARAM_GRID_HGBR = {'learning_rate': [0.05, 0.1], #, 0.2 ,0.5, 0.7],\n",
    "                  'max_iter': [1, 10, 100, 200, 300], #np.logspace(0, 2, 5, endpoint=True, dtype = 'int'),\n",
    "                  'max_depth': range(2,5),\n",
    "                  #'random_state': [12345],\n",
    "                  #'verbose': [1]\n",
    "                  }  \n",
    "PARAM_GRID_HGBR;"
   ]
  },
  {
   "cell_type": "code",
   "execution_count": 48,
   "metadata": {},
   "outputs": [
    {
     "name": "stdout",
     "output_type": "stream",
     "text": [
      "{'learning_rate': 0.1, 'max_depth': 2, 'max_iter': 300}\n",
      "RMSE : -29.16388255616915\n",
      "lag: 1 , window size: 1\n",
      "{'learning_rate': 0.05, 'max_depth': 4, 'max_iter': 200}\n",
      "RMSE : -27.70974830632728\n",
      "lag: 1 , window size: 2\n",
      "{'learning_rate': 0.1, 'max_depth': 3, 'max_iter': 200}\n",
      "RMSE : -27.821971785117114\n",
      "lag: 1 , window size: 3\n",
      "{'learning_rate': 0.05, 'max_depth': 3, 'max_iter': 300}\n",
      "RMSE : -27.83964399171015\n",
      "lag: 1 , window size: 4\n",
      "{'learning_rate': 0.1, 'max_depth': 4, 'max_iter': 100}\n",
      "RMSE : -28.278539463042314\n",
      "lag: 1 , window size: 5\n",
      "{'learning_rate': 0.1, 'max_depth': 3, 'max_iter': 200}\n",
      "RMSE : -27.82528331717465\n",
      "lag: 2 , window size: 1\n",
      "{'learning_rate': 0.05, 'max_depth': 3, 'max_iter': 300}\n",
      "RMSE : -27.80995871868418\n",
      "lag: 2 , window size: 2\n",
      "{'learning_rate': 0.05, 'max_depth': 3, 'max_iter': 300}\n",
      "RMSE : -27.43319181059956\n",
      "lag: 2 , window size: 3\n",
      "{'learning_rate': 0.1, 'max_depth': 3, 'max_iter': 300}\n",
      "RMSE : -27.490756305441963\n",
      "lag: 2 , window size: 4\n",
      "{'learning_rate': 0.05, 'max_depth': 4, 'max_iter': 200}\n",
      "RMSE : -27.824836462473638\n",
      "lag: 2 , window size: 5\n",
      "{'learning_rate': 0.05, 'max_depth': 3, 'max_iter': 300}\n",
      "RMSE : -27.731870099205416\n",
      "lag: 3 , window size: 1\n",
      "{'learning_rate': 0.1, 'max_depth': 3, 'max_iter': 200}\n",
      "RMSE : -27.530531203466943\n",
      "lag: 3 , window size: 2\n",
      "{'learning_rate': 0.1, 'max_depth': 3, 'max_iter': 200}\n",
      "RMSE : -27.553858070753705\n",
      "lag: 3 , window size: 3\n",
      "{'learning_rate': 0.05, 'max_depth': 4, 'max_iter': 300}\n",
      "RMSE : -27.485255724636534\n",
      "lag: 3 , window size: 4\n",
      "{'learning_rate': 0.05, 'max_depth': 4, 'max_iter': 300}\n",
      "RMSE : -27.72443018127081\n",
      "lag: 3 , window size: 5\n",
      "{'learning_rate': 0.1, 'max_depth': 3, 'max_iter': 200}\n",
      "RMSE : -27.761475832633806\n",
      "lag: 4 , window size: 1\n",
      "{'learning_rate': 0.05, 'max_depth': 4, 'max_iter': 300}\n",
      "RMSE : -27.53796040124391\n",
      "lag: 4 , window size: 2\n",
      "{'learning_rate': 0.05, 'max_depth': 4, 'max_iter': 300}\n",
      "RMSE : -27.407831489422662\n",
      "lag: 4 , window size: 3\n",
      "{'learning_rate': 0.1, 'max_depth': 3, 'max_iter': 200}\n",
      "RMSE : -27.46929825923227\n",
      "lag: 4 , window size: 4\n",
      "{'learning_rate': 0.05, 'max_depth': 4, 'max_iter': 300}\n",
      "RMSE : -27.724619533606745\n",
      "lag: 4 , window size: 5\n",
      "{'learning_rate': 0.1, 'max_depth': 3, 'max_iter': 300}\n",
      "RMSE : -27.745319463818092\n",
      "lag: 5 , window size: 1\n",
      "{'learning_rate': 0.1, 'max_depth': 4, 'max_iter': 200}\n",
      "RMSE : -27.655011824622406\n",
      "lag: 5 , window size: 2\n",
      "{'learning_rate': 0.1, 'max_depth': 4, 'max_iter': 200}\n",
      "RMSE : -27.441610610726233\n",
      "lag: 5 , window size: 3\n",
      "{'learning_rate': 0.1, 'max_depth': 3, 'max_iter': 200}\n",
      "RMSE : -27.421404894414987\n",
      "lag: 5 , window size: 4\n",
      "{'learning_rate': 0.05, 'max_depth': 4, 'max_iter': 300}\n",
      "RMSE : -27.589623624107745\n",
      "lag: 5 , window size: 5\n",
      "-------------------------\n",
      "best_lag: 4\n",
      "best_rolling_mean_size: 5\n",
      "best_metric: -27.407831489422662\n",
      "CPU times: user 3h 7min 55s, sys: 58.9 s, total: 3h 8min 54s\n",
      "Wall time: 3h 9min\n"
     ]
    }
   ],
   "source": [
    "%%time\n",
    "train_HGBR, test_HGBR, model_HGBR, RMSE_HGBR = best_features_model(data,\n",
    "                        column='num_orders_diff',\n",
    "                        max_lag=5, \n",
    "                        rolling_mean_size=5,\n",
    "                        model=HistGradientBoostingRegressor(),\n",
    "                        param_grid=PARAM_GRID_HGBR,\n",
    "                        cv=tscv,\n",
    "                        refit='RMSE');"
   ]
  },
  {
   "cell_type": "markdown",
   "metadata": {},
   "source": [
    "Разумеется, в задаче регрессии лучше всех оказалась модель градиентного бустинга."
   ]
  },
  {
   "cell_type": "markdown",
   "metadata": {},
   "source": [
    "## Тестирование"
   ]
  },
  {
   "cell_type": "markdown",
   "metadata": {},
   "source": [
    "Посмотрим, какие результаты получим на тестовой выборке для модели градиентного бустинга."
   ]
  },
  {
   "cell_type": "code",
   "execution_count": 49,
   "metadata": {},
   "outputs": [],
   "source": [
    "features_train, features_test, target_train, target_test = \\\n",
    "    train_test_f_t(train_HGBR, test_HGBR, 'num_orders_diff')"
   ]
  },
  {
   "cell_type": "code",
   "execution_count": 50,
   "metadata": {},
   "outputs": [],
   "source": [
    "predictions_test = model_HGBR.predict(features_test)"
   ]
  },
  {
   "cell_type": "code",
   "execution_count": 51,
   "metadata": {},
   "outputs": [
    {
     "name": "stdout",
     "output_type": "stream",
     "text": [
      "RMSE на тестовой выборке: 46.620371719289665\n"
     ]
    }
   ],
   "source": [
    "print(\"RMSE на тестовой выборке:\", RMSE(target_test, predictions_test))"
   ]
  },
  {
   "cell_type": "markdown",
   "metadata": {},
   "source": [
    "Мы получили RMSE меньше 48."
   ]
  }
 ],
 "metadata": {
  "kernelspec": {
   "display_name": "Python 3",
   "language": "python",
   "name": "python3"
  },
  "language_info": {
   "codemirror_mode": {
    "name": "ipython",
    "version": 3
   },
   "file_extension": ".py",
   "mimetype": "text/x-python",
   "name": "python",
   "nbconvert_exporter": "python",
   "pygments_lexer": "ipython3",
   "version": "3.8.5"
  },
  "toc": {
   "base_numbering": 1,
   "nav_menu": {},
   "number_sections": true,
   "sideBar": true,
   "skip_h1_title": true,
   "title_cell": "Содержание",
   "title_sidebar": "Contents",
   "toc_cell": true,
   "toc_position": {},
   "toc_section_display": true,
   "toc_window_display": false
  }
 },
 "nbformat": 4,
 "nbformat_minor": 2
}
